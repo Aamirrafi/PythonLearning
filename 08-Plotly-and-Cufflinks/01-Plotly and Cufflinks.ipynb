{
 "cells": [
  {
   "cell_type": "markdown",
   "metadata": {},
   "source": [
    "___\n",
    "\n",
    "<a href='http://www.pieriandata.com'> <img src='../Pierian_Data_Logo.png' /></a>\n",
    "___\n",
    "# Plotly and Cufflinks"
   ]
  },
  {
   "cell_type": "markdown",
   "metadata": {},
   "source": [
    "Plotly is a library that allows you to create interactive plots that you can use in dashboards or websites (you can save them as html files or static images).\n",
    "\n",
    "## Installation\n",
    "\n",
    "In order for this all to work, you'll need to install plotly and cufflinks to call plots directly off of a pandas dataframe. These libraries are not currently available through **conda** but are available through **pip**. Install the libraries at your command line/terminal using:\n",
    "\n",
    "    pip install plotly\n",
    "    pip install cufflinks\n",
    "\n",
    "** NOTE: Make sure you only have one installation of Python on your computer when you do this, otherwise the installation may not work. **\n",
    "\n",
    "## Imports and Set-up"
   ]
  },
  {
   "cell_type": "code",
   "execution_count": 1,
   "metadata": {},
   "outputs": [],
   "source": [
    "import pandas as pd\n",
    "import numpy as np\n",
    "%matplotlib inline"
   ]
  },
  {
   "cell_type": "code",
   "execution_count": 2,
   "metadata": {},
   "outputs": [
    {
     "name": "stdout",
     "output_type": "stream",
     "text": [
      "5.6.0\n"
     ]
    }
   ],
   "source": [
    "from plotly import __version__\n",
    "from plotly.offline import download_plotlyjs, init_notebook_mode, plot, iplot\n",
    "\n",
    "print(__version__) # requires version >= 1.9.0"
   ]
  },
  {
   "cell_type": "code",
   "execution_count": 4,
   "metadata": {},
   "outputs": [
    {
     "name": "stdout",
     "output_type": "stream",
     "text": [
      "Collecting cufflinksNote: you may need to restart the kernel to use updated packages.\n",
      "  Downloading cufflinks-0.17.3.tar.gz (81 kB)\n",
      "Requirement already satisfied: numpy>=1.9.2 in c:\\users\\aamir.rafi\\anaconda3\\lib\\site-packages (from cufflinks) (1.23.1)\n",
      "Requirement already satisfied: pandas>=0.19.2 in c:\\users\\aamir.rafi\\anaconda3\\lib\\site-packages (from cufflinks) (1.4.2)\n",
      "Requirement already satisfied: plotly>=4.1.1 in c:\\users\\aamir.rafi\\anaconda3\\lib\\site-packages (from cufflinks) (5.6.0)\n",
      "Requirement already satisfied: six>=1.9.0 in c:\\users\\aamir.rafi\\anaconda3\\lib\\site-packages (from cufflinks) (1.16.0)\n",
      "Collecting colorlover>=0.2.1\n",
      "  Downloading colorlover-0.3.0-py3-none-any.whl (8.9 kB)\n",
      "Requirement already satisfied: setuptools>=34.4.1 in c:\\users\\aamir.rafi\\anaconda3\\lib\\site-packages (from cufflinks) (61.2.0)\n",
      "Requirement already satisfied: ipython>=5.3.0 in c:\\users\\aamir.rafi\\anaconda3\\lib\\site-packages (from cufflinks) (8.2.0)\n",
      "Requirement already satisfied: ipywidgets>=7.0.0 in c:\\users\\aamir.rafi\\anaconda3\\lib\\site-packages (from cufflinks) (7.6.5)\n",
      "Requirement already satisfied: matplotlib-inline in c:\\users\\aamir.rafi\\anaconda3\\lib\\site-packages (from ipython>=5.3.0->cufflinks) (0.1.2)\n",
      "Requirement already satisfied: jedi>=0.16 in c:\\users\\aamir.rafi\\anaconda3\\lib\\site-packages (from ipython>=5.3.0->cufflinks) (0.18.1)\n",
      "Requirement already satisfied: pickleshare in c:\\users\\aamir.rafi\\anaconda3\\lib\\site-packages (from ipython>=5.3.0->cufflinks) (0.7.5)\n",
      "Requirement already satisfied: backcall in c:\\users\\aamir.rafi\\anaconda3\\lib\\site-packages (from ipython>=5.3.0->cufflinks) (0.2.0)\n",
      "Requirement already satisfied: traitlets>=5 in c:\\users\\aamir.rafi\\anaconda3\\lib\\site-packages (from ipython>=5.3.0->cufflinks) (5.1.1)\n",
      "Requirement already satisfied: stack-data in c:\\users\\aamir.rafi\\anaconda3\\lib\\site-packages (from ipython>=5.3.0->cufflinks) (0.2.0)\n",
      "Requirement already satisfied: pygments>=2.4.0 in c:\\users\\aamir.rafi\\anaconda3\\lib\\site-packages (from ipython>=5.3.0->cufflinks) (2.11.2)\n",
      "\n"
     ]
    },
    {
     "name": "stderr",
     "output_type": "stream",
     "text": [
      "WARNING: Ignoring invalid distribution -illow (c:\\users\\aamir.rafi\\anaconda3\\lib\\site-packages)\n",
      "WARNING: Ignoring invalid distribution -illow (c:\\users\\aamir.rafi\\anaconda3\\lib\\site-packages)\n",
      "WARNING: Ignoring invalid distribution -illow (c:\\users\\aamir.rafi\\anaconda3\\lib\\site-packages)\n",
      "WARNING: Ignoring invalid distribution -illow (c:\\users\\aamir.rafi\\anaconda3\\lib\\site-packages)\n",
      "WARNING: Ignoring invalid distribution -illow (c:\\users\\aamir.rafi\\anaconda3\\lib\\site-packages)\n",
      "WARNING: Ignoring invalid distribution -illow (c:\\users\\aamir.rafi\\anaconda3\\lib\\site-packages)\n",
      "WARNING: Ignoring invalid distribution -illow (c:\\users\\aamir.rafi\\anaconda3\\lib\\site-packages)\n",
      "WARNING: Ignoring invalid distribution -illow (c:\\users\\aamir.rafi\\anaconda3\\lib\\site-packages)\n"
     ]
    },
    {
     "name": "stdout",
     "output_type": "stream",
     "text": [
      "Requirement already satisfied: colorama in c:\\users\\aamir.rafi\\anaconda3\\lib\\site-packages (from ipython>=5.3.0->cufflinks) (0.4.4)\n",
      "Requirement already satisfied: prompt-toolkit!=3.0.0,!=3.0.1,<3.1.0,>=2.0.0 in c:\\users\\aamir.rafi\\anaconda3\\lib\\site-packages (from ipython>=5.3.0->cufflinks) (3.0.20)\n",
      "Requirement already satisfied: decorator in c:\\users\\aamir.rafi\\anaconda3\\lib\\site-packages (from ipython>=5.3.0->cufflinks) (5.1.1)\n",
      "Requirement already satisfied: ipykernel>=4.5.1 in c:\\users\\aamir.rafi\\anaconda3\\lib\\site-packages (from ipywidgets>=7.0.0->cufflinks) (6.9.1)\n",
      "Requirement already satisfied: nbformat>=4.2.0 in c:\\users\\aamir.rafi\\anaconda3\\lib\\site-packages (from ipywidgets>=7.0.0->cufflinks) (5.3.0)\n",
      "Requirement already satisfied: widgetsnbextension~=3.5.0 in c:\\users\\aamir.rafi\\anaconda3\\lib\\site-packages (from ipywidgets>=7.0.0->cufflinks) (3.5.2)\n",
      "Requirement already satisfied: ipython-genutils~=0.2.0 in c:\\users\\aamir.rafi\\anaconda3\\lib\\site-packages (from ipywidgets>=7.0.0->cufflinks) (0.2.0)\n",
      "Requirement already satisfied: jupyterlab-widgets>=1.0.0 in c:\\users\\aamir.rafi\\anaconda3\\lib\\site-packages (from ipywidgets>=7.0.0->cufflinks) (1.0.0)\n",
      "Requirement already satisfied: jupyter-client<8.0 in c:\\users\\aamir.rafi\\anaconda3\\lib\\site-packages (from ipykernel>=4.5.1->ipywidgets>=7.0.0->cufflinks) (6.1.12)\n",
      "Requirement already satisfied: nest-asyncio in c:\\users\\aamir.rafi\\anaconda3\\lib\\site-packages (from ipykernel>=4.5.1->ipywidgets>=7.0.0->cufflinks) (1.5.5)\n",
      "Requirement already satisfied: debugpy<2.0,>=1.0.0 in c:\\users\\aamir.rafi\\anaconda3\\lib\\site-packages (from ipykernel>=4.5.1->ipywidgets>=7.0.0->cufflinks) (1.5.1)\n",
      "Requirement already satisfied: tornado<7.0,>=4.2 in c:\\users\\aamir.rafi\\anaconda3\\lib\\site-packages (from ipykernel>=4.5.1->ipywidgets>=7.0.0->cufflinks) (6.1)\n",
      "Requirement already satisfied: parso<0.9.0,>=0.8.0 in c:\\users\\aamir.rafi\\anaconda3\\lib\\site-packages (from jedi>=0.16->ipython>=5.3.0->cufflinks) (0.8.3)\n",
      "Requirement already satisfied: python-dateutil>=2.1 in c:\\users\\aamir.rafi\\anaconda3\\lib\\site-packages (from jupyter-client<8.0->ipykernel>=4.5.1->ipywidgets>=7.0.0->cufflinks) (2.8.2)\n",
      "Requirement already satisfied: jupyter-core>=4.6.0 in c:\\users\\aamir.rafi\\anaconda3\\lib\\site-packages (from jupyter-client<8.0->ipykernel>=4.5.1->ipywidgets>=7.0.0->cufflinks) (4.9.2)\n",
      "Requirement already satisfied: pyzmq>=13 in c:\\users\\aamir.rafi\\anaconda3\\lib\\site-packages (from jupyter-client<8.0->ipykernel>=4.5.1->ipywidgets>=7.0.0->cufflinks) (22.3.0)\n",
      "Requirement already satisfied: pywin32>=1.0 in c:\\users\\aamir.rafi\\anaconda3\\lib\\site-packages (from jupyter-core>=4.6.0->jupyter-client<8.0->ipykernel>=4.5.1->ipywidgets>=7.0.0->cufflinks) (302)\n",
      "Requirement already satisfied: fastjsonschema in c:\\users\\aamir.rafi\\anaconda3\\lib\\site-packages (from nbformat>=4.2.0->ipywidgets>=7.0.0->cufflinks) (2.15.1)\n",
      "Requirement already satisfied: jsonschema>=2.6 in c:\\users\\aamir.rafi\\anaconda3\\lib\\site-packages (from nbformat>=4.2.0->ipywidgets>=7.0.0->cufflinks) (4.4.0)\n",
      "Requirement already satisfied: attrs>=17.4.0 in c:\\users\\aamir.rafi\\anaconda3\\lib\\site-packages (from jsonschema>=2.6->nbformat>=4.2.0->ipywidgets>=7.0.0->cufflinks) (21.4.0)\n",
      "Requirement already satisfied: pyrsistent!=0.17.0,!=0.17.1,!=0.17.2,>=0.14.0 in c:\\users\\aamir.rafi\\anaconda3\\lib\\site-packages (from jsonschema>=2.6->nbformat>=4.2.0->ipywidgets>=7.0.0->cufflinks) (0.18.0)\n",
      "Requirement already satisfied: pytz>=2020.1 in c:\\users\\aamir.rafi\\anaconda3\\lib\\site-packages (from pandas>=0.19.2->cufflinks) (2021.3)\n",
      "Requirement already satisfied: tenacity>=6.2.0 in c:\\users\\aamir.rafi\\anaconda3\\lib\\site-packages (from plotly>=4.1.1->cufflinks) (8.0.1)\n",
      "Requirement already satisfied: wcwidth in c:\\users\\aamir.rafi\\anaconda3\\lib\\site-packages (from prompt-toolkit!=3.0.0,!=3.0.1,<3.1.0,>=2.0.0->ipython>=5.3.0->cufflinks) (0.2.5)\n",
      "Requirement already satisfied: notebook>=4.4.1 in c:\\users\\aamir.rafi\\anaconda3\\lib\\site-packages (from widgetsnbextension~=3.5.0->ipywidgets>=7.0.0->cufflinks) (6.4.8)\n",
      "Requirement already satisfied: terminado>=0.8.3 in c:\\users\\aamir.rafi\\anaconda3\\lib\\site-packages (from notebook>=4.4.1->widgetsnbextension~=3.5.0->ipywidgets>=7.0.0->cufflinks) (0.13.1)\n",
      "Requirement already satisfied: jinja2 in c:\\users\\aamir.rafi\\anaconda3\\lib\\site-packages (from notebook>=4.4.1->widgetsnbextension~=3.5.0->ipywidgets>=7.0.0->cufflinks) (2.11.3)\n",
      "Requirement already satisfied: argon2-cffi in c:\\users\\aamir.rafi\\anaconda3\\lib\\site-packages (from notebook>=4.4.1->widgetsnbextension~=3.5.0->ipywidgets>=7.0.0->cufflinks) (21.3.0)\n",
      "Requirement already satisfied: prometheus-client in c:\\users\\aamir.rafi\\anaconda3\\lib\\site-packages (from notebook>=4.4.1->widgetsnbextension~=3.5.0->ipywidgets>=7.0.0->cufflinks) (0.13.1)\n",
      "Requirement already satisfied: nbconvert in c:\\users\\aamir.rafi\\anaconda3\\lib\\site-packages (from notebook>=4.4.1->widgetsnbextension~=3.5.0->ipywidgets>=7.0.0->cufflinks) (6.4.4)\n",
      "Requirement already satisfied: Send2Trash>=1.8.0 in c:\\users\\aamir.rafi\\anaconda3\\lib\\site-packages (from notebook>=4.4.1->widgetsnbextension~=3.5.0->ipywidgets>=7.0.0->cufflinks) (1.8.0)\n",
      "Requirement already satisfied: pywinpty>=1.1.0 in c:\\users\\aamir.rafi\\anaconda3\\lib\\site-packages (from terminado>=0.8.3->notebook>=4.4.1->widgetsnbextension~=3.5.0->ipywidgets>=7.0.0->cufflinks) (2.0.2)\n",
      "Requirement already satisfied: argon2-cffi-bindings in c:\\users\\aamir.rafi\\anaconda3\\lib\\site-packages (from argon2-cffi->notebook>=4.4.1->widgetsnbextension~=3.5.0->ipywidgets>=7.0.0->cufflinks) (21.2.0)\n",
      "Requirement already satisfied: cffi>=1.0.1 in c:\\users\\aamir.rafi\\anaconda3\\lib\\site-packages (from argon2-cffi-bindings->argon2-cffi->notebook>=4.4.1->widgetsnbextension~=3.5.0->ipywidgets>=7.0.0->cufflinks) (1.15.0)\n",
      "Requirement already satisfied: pycparser in c:\\users\\aamir.rafi\\anaconda3\\lib\\site-packages (from cffi>=1.0.1->argon2-cffi-bindings->argon2-cffi->notebook>=4.4.1->widgetsnbextension~=3.5.0->ipywidgets>=7.0.0->cufflinks) (2.21)\n",
      "Requirement already satisfied: MarkupSafe>=0.23 in c:\\users\\aamir.rafi\\anaconda3\\lib\\site-packages (from jinja2->notebook>=4.4.1->widgetsnbextension~=3.5.0->ipywidgets>=7.0.0->cufflinks) (2.0.1)\n",
      "Requirement already satisfied: mistune<2,>=0.8.1 in c:\\users\\aamir.rafi\\anaconda3\\lib\\site-packages (from nbconvert->notebook>=4.4.1->widgetsnbextension~=3.5.0->ipywidgets>=7.0.0->cufflinks) (0.8.4)\n",
      "Requirement already satisfied: pandocfilters>=1.4.1 in c:\\users\\aamir.rafi\\anaconda3\\lib\\site-packages (from nbconvert->notebook>=4.4.1->widgetsnbextension~=3.5.0->ipywidgets>=7.0.0->cufflinks) (1.5.0)\n",
      "Requirement already satisfied: jupyterlab-pygments in c:\\users\\aamir.rafi\\anaconda3\\lib\\site-packages (from nbconvert->notebook>=4.4.1->widgetsnbextension~=3.5.0->ipywidgets>=7.0.0->cufflinks) (0.1.2)\n",
      "Requirement already satisfied: defusedxml in c:\\users\\aamir.rafi\\anaconda3\\lib\\site-packages (from nbconvert->notebook>=4.4.1->widgetsnbextension~=3.5.0->ipywidgets>=7.0.0->cufflinks) (0.7.1)\n",
      "Requirement already satisfied: nbclient<0.6.0,>=0.5.0 in c:\\users\\aamir.rafi\\anaconda3\\lib\\site-packages (from nbconvert->notebook>=4.4.1->widgetsnbextension~=3.5.0->ipywidgets>=7.0.0->cufflinks) (0.5.13)\n",
      "Requirement already satisfied: entrypoints>=0.2.2 in c:\\users\\aamir.rafi\\anaconda3\\lib\\site-packages (from nbconvert->notebook>=4.4.1->widgetsnbextension~=3.5.0->ipywidgets>=7.0.0->cufflinks) (0.4)\n",
      "Requirement already satisfied: beautifulsoup4 in c:\\users\\aamir.rafi\\anaconda3\\lib\\site-packages (from nbconvert->notebook>=4.4.1->widgetsnbextension~=3.5.0->ipywidgets>=7.0.0->cufflinks) (4.11.1)\n",
      "Requirement already satisfied: testpath in c:\\users\\aamir.rafi\\anaconda3\\lib\\site-packages (from nbconvert->notebook>=4.4.1->widgetsnbextension~=3.5.0->ipywidgets>=7.0.0->cufflinks) (0.5.0)\n",
      "Requirement already satisfied: bleach in c:\\users\\aamir.rafi\\anaconda3\\lib\\site-packages (from nbconvert->notebook>=4.4.1->widgetsnbextension~=3.5.0->ipywidgets>=7.0.0->cufflinks) (4.1.0)\n",
      "Requirement already satisfied: soupsieve>1.2 in c:\\users\\aamir.rafi\\anaconda3\\lib\\site-packages (from beautifulsoup4->nbconvert->notebook>=4.4.1->widgetsnbextension~=3.5.0->ipywidgets>=7.0.0->cufflinks) (2.3.1)\n",
      "Requirement already satisfied: webencodings in c:\\users\\aamir.rafi\\anaconda3\\lib\\site-packages (from bleach->nbconvert->notebook>=4.4.1->widgetsnbextension~=3.5.0->ipywidgets>=7.0.0->cufflinks) (0.5.1)\n",
      "Requirement already satisfied: packaging in c:\\users\\aamir.rafi\\anaconda3\\lib\\site-packages (from bleach->nbconvert->notebook>=4.4.1->widgetsnbextension~=3.5.0->ipywidgets>=7.0.0->cufflinks) (21.3)\n",
      "Requirement already satisfied: pyparsing!=3.0.5,>=2.0.2 in c:\\users\\aamir.rafi\\anaconda3\\lib\\site-packages (from packaging->bleach->nbconvert->notebook>=4.4.1->widgetsnbextension~=3.5.0->ipywidgets>=7.0.0->cufflinks) (3.0.4)\n",
      "Requirement already satisfied: asttokens in c:\\users\\aamir.rafi\\anaconda3\\lib\\site-packages (from stack-data->ipython>=5.3.0->cufflinks) (2.0.5)\n",
      "Requirement already satisfied: executing in c:\\users\\aamir.rafi\\anaconda3\\lib\\site-packages (from stack-data->ipython>=5.3.0->cufflinks) (0.8.3)\n",
      "Requirement already satisfied: pure-eval in c:\\users\\aamir.rafi\\anaconda3\\lib\\site-packages (from stack-data->ipython>=5.3.0->cufflinks) (0.2.2)\n",
      "Building wheels for collected packages: cufflinks\n",
      "  Building wheel for cufflinks (setup.py): started\n",
      "  Building wheel for cufflinks (setup.py): finished with status 'done'\n",
      "  Created wheel for cufflinks: filename=cufflinks-0.17.3-py3-none-any.whl size=68736 sha256=bc311e8f4a7d74420537ac03703686a81d7b5717472cefdf101be1f906bfd8e7\n",
      "  Stored in directory: c:\\users\\aamir.rafi\\appdata\\local\\pip\\cache\\wheels\\29\\b4\\f8\\2fd2206eeeba6ccad8167e4e8894b8c4ec27bf1342037fd136\n",
      "Successfully built cufflinks\n",
      "Installing collected packages: colorlover, cufflinks\n",
      "Successfully installed colorlover-0.3.0 cufflinks-0.17.3\n"
     ]
    }
   ],
   "source": [
    "pip install cufflinks"
   ]
  },
  {
   "cell_type": "code",
   "execution_count": 5,
   "metadata": {},
   "outputs": [
    {
     "name": "stderr",
     "output_type": "stream",
     "text": [
      "C:\\Users\\aamir.rafi\\Anaconda3\\lib\\site-packages\\scipy\\__init__.py:146: UserWarning:\n",
      "\n",
      "A NumPy version >=1.16.5 and <1.23.0 is required for this version of SciPy (detected version 1.23.1\n",
      "\n"
     ]
    }
   ],
   "source": [
    "import cufflinks as cf"
   ]
  },
  {
   "cell_type": "code",
   "execution_count": 6,
   "metadata": {},
   "outputs": [
    {
     "data": {
      "text/html": [
       "        <script type=\"text/javascript\">\n",
       "        window.PlotlyConfig = {MathJaxConfig: 'local'};\n",
       "        if (window.MathJax) {MathJax.Hub.Config({SVG: {font: \"STIX-Web\"}});}\n",
       "        if (typeof require !== 'undefined') {\n",
       "        require.undef(\"plotly\");\n",
       "        requirejs.config({\n",
       "            paths: {\n",
       "                'plotly': ['https://cdn.plot.ly/plotly-2.9.0.min']\n",
       "            }\n",
       "        });\n",
       "        require(['plotly'], function(Plotly) {\n",
       "            window._Plotly = Plotly;\n",
       "        });\n",
       "        }\n",
       "        </script>\n",
       "        "
      ]
     },
     "metadata": {},
     "output_type": "display_data"
    }
   ],
   "source": [
    "# For Notebooks\n",
    "init_notebook_mode(connected=True)"
   ]
  },
  {
   "cell_type": "code",
   "execution_count": 7,
   "metadata": {},
   "outputs": [
    {
     "data": {
      "text/html": [
       "        <script type=\"text/javascript\">\n",
       "        window.PlotlyConfig = {MathJaxConfig: 'local'};\n",
       "        if (window.MathJax) {MathJax.Hub.Config({SVG: {font: \"STIX-Web\"}});}\n",
       "        if (typeof require !== 'undefined') {\n",
       "        require.undef(\"plotly\");\n",
       "        requirejs.config({\n",
       "            paths: {\n",
       "                'plotly': ['https://cdn.plot.ly/plotly-2.9.0.min']\n",
       "            }\n",
       "        });\n",
       "        require(['plotly'], function(Plotly) {\n",
       "            window._Plotly = Plotly;\n",
       "        });\n",
       "        }\n",
       "        </script>\n",
       "        "
      ]
     },
     "metadata": {},
     "output_type": "display_data"
    }
   ],
   "source": [
    "# For offline use\n",
    "cf.go_offline()"
   ]
  },
  {
   "cell_type": "markdown",
   "metadata": {},
   "source": [
    "### Fake Data"
   ]
  },
  {
   "cell_type": "code",
   "execution_count": 8,
   "metadata": {},
   "outputs": [],
   "source": [
    "df = pd.DataFrame(np.random.randn(100,4),columns='A B C D'.split())"
   ]
  },
  {
   "cell_type": "code",
   "execution_count": 9,
   "metadata": {},
   "outputs": [
    {
     "data": {
      "text/html": [
       "<div>\n",
       "<style scoped>\n",
       "    .dataframe tbody tr th:only-of-type {\n",
       "        vertical-align: middle;\n",
       "    }\n",
       "\n",
       "    .dataframe tbody tr th {\n",
       "        vertical-align: top;\n",
       "    }\n",
       "\n",
       "    .dataframe thead th {\n",
       "        text-align: right;\n",
       "    }\n",
       "</style>\n",
       "<table border=\"1\" class=\"dataframe\">\n",
       "  <thead>\n",
       "    <tr style=\"text-align: right;\">\n",
       "      <th></th>\n",
       "      <th>A</th>\n",
       "      <th>B</th>\n",
       "      <th>C</th>\n",
       "      <th>D</th>\n",
       "    </tr>\n",
       "  </thead>\n",
       "  <tbody>\n",
       "    <tr>\n",
       "      <th>0</th>\n",
       "      <td>-1.498890</td>\n",
       "      <td>0.235266</td>\n",
       "      <td>-0.672105</td>\n",
       "      <td>0.619228</td>\n",
       "    </tr>\n",
       "    <tr>\n",
       "      <th>1</th>\n",
       "      <td>-0.001423</td>\n",
       "      <td>1.168164</td>\n",
       "      <td>0.041551</td>\n",
       "      <td>0.751663</td>\n",
       "    </tr>\n",
       "    <tr>\n",
       "      <th>2</th>\n",
       "      <td>-0.230468</td>\n",
       "      <td>0.260325</td>\n",
       "      <td>0.769223</td>\n",
       "      <td>2.629112</td>\n",
       "    </tr>\n",
       "    <tr>\n",
       "      <th>3</th>\n",
       "      <td>0.239975</td>\n",
       "      <td>-1.709469</td>\n",
       "      <td>1.201854</td>\n",
       "      <td>-1.112229</td>\n",
       "    </tr>\n",
       "    <tr>\n",
       "      <th>4</th>\n",
       "      <td>0.181927</td>\n",
       "      <td>1.231456</td>\n",
       "      <td>-1.389580</td>\n",
       "      <td>-1.218471</td>\n",
       "    </tr>\n",
       "  </tbody>\n",
       "</table>\n",
       "</div>"
      ],
      "text/plain": [
       "          A         B         C         D\n",
       "0 -1.498890  0.235266 -0.672105  0.619228\n",
       "1 -0.001423  1.168164  0.041551  0.751663\n",
       "2 -0.230468  0.260325  0.769223  2.629112\n",
       "3  0.239975 -1.709469  1.201854 -1.112229\n",
       "4  0.181927  1.231456 -1.389580 -1.218471"
      ]
     },
     "execution_count": 9,
     "metadata": {},
     "output_type": "execute_result"
    }
   ],
   "source": [
    "df.head()"
   ]
  },
  {
   "cell_type": "code",
   "execution_count": 10,
   "metadata": {},
   "outputs": [],
   "source": [
    "df2 = pd.DataFrame({'Category':['A','B','C'],'Values':[32,43,50]})"
   ]
  },
  {
   "cell_type": "code",
   "execution_count": 11,
   "metadata": {},
   "outputs": [
    {
     "data": {
      "text/html": [
       "<div>\n",
       "<style scoped>\n",
       "    .dataframe tbody tr th:only-of-type {\n",
       "        vertical-align: middle;\n",
       "    }\n",
       "\n",
       "    .dataframe tbody tr th {\n",
       "        vertical-align: top;\n",
       "    }\n",
       "\n",
       "    .dataframe thead th {\n",
       "        text-align: right;\n",
       "    }\n",
       "</style>\n",
       "<table border=\"1\" class=\"dataframe\">\n",
       "  <thead>\n",
       "    <tr style=\"text-align: right;\">\n",
       "      <th></th>\n",
       "      <th>Category</th>\n",
       "      <th>Values</th>\n",
       "    </tr>\n",
       "  </thead>\n",
       "  <tbody>\n",
       "    <tr>\n",
       "      <th>0</th>\n",
       "      <td>A</td>\n",
       "      <td>32</td>\n",
       "    </tr>\n",
       "    <tr>\n",
       "      <th>1</th>\n",
       "      <td>B</td>\n",
       "      <td>43</td>\n",
       "    </tr>\n",
       "    <tr>\n",
       "      <th>2</th>\n",
       "      <td>C</td>\n",
       "      <td>50</td>\n",
       "    </tr>\n",
       "  </tbody>\n",
       "</table>\n",
       "</div>"
      ],
      "text/plain": [
       "  Category  Values\n",
       "0        A      32\n",
       "1        B      43\n",
       "2        C      50"
      ]
     },
     "execution_count": 11,
     "metadata": {},
     "output_type": "execute_result"
    }
   ],
   "source": [
    "df2.head()"
   ]
  },
  {
   "cell_type": "markdown",
   "metadata": {},
   "source": [
    "## Using Cufflinks and iplot()\n",
    "\n",
    "* scatter\n",
    "* bar\n",
    "* box\n",
    "* spread\n",
    "* ratio\n",
    "* heatmap\n",
    "* surface\n",
    "* histogram\n",
    "* bubble"
   ]
  },
  {
   "cell_type": "markdown",
   "metadata": {},
   "source": [
    "## Scatter"
   ]
  },
  {
   "cell_type": "code",
   "execution_count": 12,
   "metadata": {},
   "outputs": [
    {
     "data": {
      "application/vnd.plotly.v1+json": {
       "config": {
        "linkText": "Export to plot.ly",
        "plotlyServerURL": "https://plot.ly",
        "showLink": true
       },
       "data": [
        {
         "line": {
          "color": "rgba(255, 153, 51, 1.0)",
          "dash": "solid",
          "shape": "linear",
          "width": 1.3
         },
         "marker": {
          "size": 10,
          "symbol": "circle"
         },
         "mode": "markers",
         "name": "B",
         "text": "",
         "type": "scatter",
         "x": [
          -1.4988901786541045,
          -0.001422821726739044,
          -0.2304684055770329,
          0.23997464714259756,
          0.18192721535380907,
          0.19164720456797463,
          0.8934074803005699,
          -0.16678903578641818,
          -1.0084349560508432,
          -0.03497746442877197,
          -0.29407807175981265,
          -0.6006039772725303,
          -1.9183720589496456,
          1.1614531567992483,
          0.7099754557782095,
          0.0597482684433398,
          -0.7208573651997514,
          0.3855346391785886,
          -0.6452196773049834,
          -0.976381166476433,
          0.6594618598235175,
          1.5365704381442875,
          -0.8503296300579475,
          -0.6817453467007452,
          -0.9463322508133754,
          -0.19411061226880635,
          0.7592740048310302,
          -1.1926747622253955,
          1.400547023742745,
          -0.01495067745602767,
          -1.7115247300904346,
          -0.36124821109843847,
          -0.9945764316187472,
          -0.02174742702343883,
          0.4271204474826363,
          2.0458262738449973,
          0.38003902187660327,
          0.12799810814049276,
          -1.114003422680656,
          -0.06648643302860642,
          -0.9862118908244232,
          0.2492347168731393,
          0.17820277695620237,
          -0.7387340723009684,
          -0.31798405254195145,
          0.9524360693241468,
          0.9861659791518401,
          0.7148700640697296,
          -0.22592732878489613,
          2.3080279320676045,
          0.787929315365375,
          -0.48486969233250055,
          0.4027834014210285,
          1.4822702738530436,
          1.3038659671232047,
          -0.6523787149594126,
          -0.020653413306827302,
          1.27795507641576,
          0.9017516859560875,
          0.3656487115665125,
          -0.17128934489835104,
          0.6007005503795194,
          0.3206977385185198,
          -1.6303945368009163,
          0.6030078809689943,
          -0.6207387600421282,
          0.9288566443524915,
          1.003041834488083,
          0.6555148863499219,
          1.8369810188217182,
          -1.1342616020404406,
          -0.03959247097223943,
          0.27889716160290184,
          0.5964316283866732,
          -0.36252227062175946,
          -0.34907991775801606,
          -0.7457953929282686,
          -0.025432745061922953,
          -1.9507489350848062,
          -1.041117167054891,
          0.22955684614254096,
          -0.7594240891624068,
          -0.26728306802932256,
          -0.5574003405662921,
          -0.5552647869514891,
          -0.27986732142818244,
          -0.3176914326608163,
          1.1045692759785846,
          -1.1308518489324335,
          -0.3919640656418023,
          -1.0287786375678944,
          -0.5389389032984023,
          1.5990545052027803,
          -0.9840034230949485,
          0.9466879685336848,
          -0.2562696339386158,
          -0.4170640840563133,
          -0.7355380779682636,
          0.7659323423522455,
          -0.2871147614324862
         ],
         "y": [
          0.23526574448227672,
          1.168163947055222,
          0.2603253096157711,
          -1.7094688244238117,
          1.2314559187199188,
          1.6726392784566257,
          1.110882751972855,
          2.4989591704588947,
          -0.21090740427651708,
          0.6710299469446712,
          0.5112763692090437,
          -0.3007727133257675,
          -0.44789669873124577,
          -0.683971266219679,
          -0.035603974521086434,
          0.9453888391325656,
          -0.3642535594012888,
          -0.7333466976832804,
          1.2214417366538486,
          -0.41663209241617577,
          0.6251585915454666,
          0.7118831843227998,
          -0.7328897597367783,
          0.41557603199328913,
          0.09317786774577878,
          0.1935706418538896,
          0.7567493246413372,
          -0.7890825203287073,
          0.470082990361827,
          0.2988970555631342,
          0.5477894960342421,
          -0.839905415734585,
          -2.285938793357377,
          1.1672269099760322,
          0.15066291368605914,
          0.691394580518865,
          1.550852584290744,
          0.2356201953546311,
          -0.5119547775416198,
          -0.17958271427017333,
          2.4751023612296494,
          0.8485209816138845,
          -1.6716169800928415,
          1.4212479055478549,
          1.373356337287798,
          1.1561028656871015,
          -0.1419436980968088,
          0.7187691549260182,
          3.0364205633719425,
          0.734284800443334,
          -0.9813275386456558,
          0.28835595613774406,
          0.2177289571851628,
          -1.5979716350858764,
          1.7533737527925104,
          2.455263171182504,
          -0.998996487354798,
          1.6647065302884583,
          0.13487899639228673,
          -0.9204221983040389,
          -0.5260204719325334,
          0.3729631855801561,
          -1.7881349756837503,
          -0.06024704765386666,
          -0.35343347656634894,
          -0.32862076542402474,
          -0.3296552300795083,
          0.7959402796708153,
          -0.2591835000266135,
          0.9291618039459419,
          2.526294058316706,
          -0.4158483633854793,
          -2.114171050587124,
          -1.5980731814780682,
          3.060158018044401,
          0.8864017834192536,
          -0.7888369809411898,
          -0.22207270455452055,
          0.2919727650947669,
          1.7298690787747741,
          -1.1907371521158825,
          -0.7481014500130333,
          -1.3126581161022361,
          0.556183164685591,
          1.3643829245990822,
          0.23609289097665742,
          -0.783866036842399,
          0.21681356368855853,
          0.5960968696295027,
          -0.04396548150781571,
          -0.8883792916898136,
          -0.2869425360225565,
          0.663551053787133,
          0.7616302112157503,
          0.2615442593539925,
          1.6195140569719841,
          0.04943547707619654,
          0.762492090412884,
          -3.0235275989995,
          -0.6972617199851123
         ]
        }
       ],
       "layout": {
        "legend": {
         "bgcolor": "#F5F6F9",
         "font": {
          "color": "#4D5663"
         }
        },
        "paper_bgcolor": "#F5F6F9",
        "plot_bgcolor": "#F5F6F9",
        "template": {
         "data": {
          "bar": [
           {
            "error_x": {
             "color": "#2a3f5f"
            },
            "error_y": {
             "color": "#2a3f5f"
            },
            "marker": {
             "line": {
              "color": "#E5ECF6",
              "width": 0.5
             },
             "pattern": {
              "fillmode": "overlay",
              "size": 10,
              "solidity": 0.2
             }
            },
            "type": "bar"
           }
          ],
          "barpolar": [
           {
            "marker": {
             "line": {
              "color": "#E5ECF6",
              "width": 0.5
             },
             "pattern": {
              "fillmode": "overlay",
              "size": 10,
              "solidity": 0.2
             }
            },
            "type": "barpolar"
           }
          ],
          "carpet": [
           {
            "aaxis": {
             "endlinecolor": "#2a3f5f",
             "gridcolor": "white",
             "linecolor": "white",
             "minorgridcolor": "white",
             "startlinecolor": "#2a3f5f"
            },
            "baxis": {
             "endlinecolor": "#2a3f5f",
             "gridcolor": "white",
             "linecolor": "white",
             "minorgridcolor": "white",
             "startlinecolor": "#2a3f5f"
            },
            "type": "carpet"
           }
          ],
          "choropleth": [
           {
            "colorbar": {
             "outlinewidth": 0,
             "ticks": ""
            },
            "type": "choropleth"
           }
          ],
          "contour": [
           {
            "colorbar": {
             "outlinewidth": 0,
             "ticks": ""
            },
            "colorscale": [
             [
              0,
              "#0d0887"
             ],
             [
              0.1111111111111111,
              "#46039f"
             ],
             [
              0.2222222222222222,
              "#7201a8"
             ],
             [
              0.3333333333333333,
              "#9c179e"
             ],
             [
              0.4444444444444444,
              "#bd3786"
             ],
             [
              0.5555555555555556,
              "#d8576b"
             ],
             [
              0.6666666666666666,
              "#ed7953"
             ],
             [
              0.7777777777777778,
              "#fb9f3a"
             ],
             [
              0.8888888888888888,
              "#fdca26"
             ],
             [
              1,
              "#f0f921"
             ]
            ],
            "type": "contour"
           }
          ],
          "contourcarpet": [
           {
            "colorbar": {
             "outlinewidth": 0,
             "ticks": ""
            },
            "type": "contourcarpet"
           }
          ],
          "heatmap": [
           {
            "colorbar": {
             "outlinewidth": 0,
             "ticks": ""
            },
            "colorscale": [
             [
              0,
              "#0d0887"
             ],
             [
              0.1111111111111111,
              "#46039f"
             ],
             [
              0.2222222222222222,
              "#7201a8"
             ],
             [
              0.3333333333333333,
              "#9c179e"
             ],
             [
              0.4444444444444444,
              "#bd3786"
             ],
             [
              0.5555555555555556,
              "#d8576b"
             ],
             [
              0.6666666666666666,
              "#ed7953"
             ],
             [
              0.7777777777777778,
              "#fb9f3a"
             ],
             [
              0.8888888888888888,
              "#fdca26"
             ],
             [
              1,
              "#f0f921"
             ]
            ],
            "type": "heatmap"
           }
          ],
          "heatmapgl": [
           {
            "colorbar": {
             "outlinewidth": 0,
             "ticks": ""
            },
            "colorscale": [
             [
              0,
              "#0d0887"
             ],
             [
              0.1111111111111111,
              "#46039f"
             ],
             [
              0.2222222222222222,
              "#7201a8"
             ],
             [
              0.3333333333333333,
              "#9c179e"
             ],
             [
              0.4444444444444444,
              "#bd3786"
             ],
             [
              0.5555555555555556,
              "#d8576b"
             ],
             [
              0.6666666666666666,
              "#ed7953"
             ],
             [
              0.7777777777777778,
              "#fb9f3a"
             ],
             [
              0.8888888888888888,
              "#fdca26"
             ],
             [
              1,
              "#f0f921"
             ]
            ],
            "type": "heatmapgl"
           }
          ],
          "histogram": [
           {
            "marker": {
             "pattern": {
              "fillmode": "overlay",
              "size": 10,
              "solidity": 0.2
             }
            },
            "type": "histogram"
           }
          ],
          "histogram2d": [
           {
            "colorbar": {
             "outlinewidth": 0,
             "ticks": ""
            },
            "colorscale": [
             [
              0,
              "#0d0887"
             ],
             [
              0.1111111111111111,
              "#46039f"
             ],
             [
              0.2222222222222222,
              "#7201a8"
             ],
             [
              0.3333333333333333,
              "#9c179e"
             ],
             [
              0.4444444444444444,
              "#bd3786"
             ],
             [
              0.5555555555555556,
              "#d8576b"
             ],
             [
              0.6666666666666666,
              "#ed7953"
             ],
             [
              0.7777777777777778,
              "#fb9f3a"
             ],
             [
              0.8888888888888888,
              "#fdca26"
             ],
             [
              1,
              "#f0f921"
             ]
            ],
            "type": "histogram2d"
           }
          ],
          "histogram2dcontour": [
           {
            "colorbar": {
             "outlinewidth": 0,
             "ticks": ""
            },
            "colorscale": [
             [
              0,
              "#0d0887"
             ],
             [
              0.1111111111111111,
              "#46039f"
             ],
             [
              0.2222222222222222,
              "#7201a8"
             ],
             [
              0.3333333333333333,
              "#9c179e"
             ],
             [
              0.4444444444444444,
              "#bd3786"
             ],
             [
              0.5555555555555556,
              "#d8576b"
             ],
             [
              0.6666666666666666,
              "#ed7953"
             ],
             [
              0.7777777777777778,
              "#fb9f3a"
             ],
             [
              0.8888888888888888,
              "#fdca26"
             ],
             [
              1,
              "#f0f921"
             ]
            ],
            "type": "histogram2dcontour"
           }
          ],
          "mesh3d": [
           {
            "colorbar": {
             "outlinewidth": 0,
             "ticks": ""
            },
            "type": "mesh3d"
           }
          ],
          "parcoords": [
           {
            "line": {
             "colorbar": {
              "outlinewidth": 0,
              "ticks": ""
             }
            },
            "type": "parcoords"
           }
          ],
          "pie": [
           {
            "automargin": true,
            "type": "pie"
           }
          ],
          "scatter": [
           {
            "marker": {
             "colorbar": {
              "outlinewidth": 0,
              "ticks": ""
             }
            },
            "type": "scatter"
           }
          ],
          "scatter3d": [
           {
            "line": {
             "colorbar": {
              "outlinewidth": 0,
              "ticks": ""
             }
            },
            "marker": {
             "colorbar": {
              "outlinewidth": 0,
              "ticks": ""
             }
            },
            "type": "scatter3d"
           }
          ],
          "scattercarpet": [
           {
            "marker": {
             "colorbar": {
              "outlinewidth": 0,
              "ticks": ""
             }
            },
            "type": "scattercarpet"
           }
          ],
          "scattergeo": [
           {
            "marker": {
             "colorbar": {
              "outlinewidth": 0,
              "ticks": ""
             }
            },
            "type": "scattergeo"
           }
          ],
          "scattergl": [
           {
            "marker": {
             "colorbar": {
              "outlinewidth": 0,
              "ticks": ""
             }
            },
            "type": "scattergl"
           }
          ],
          "scattermapbox": [
           {
            "marker": {
             "colorbar": {
              "outlinewidth": 0,
              "ticks": ""
             }
            },
            "type": "scattermapbox"
           }
          ],
          "scatterpolar": [
           {
            "marker": {
             "colorbar": {
              "outlinewidth": 0,
              "ticks": ""
             }
            },
            "type": "scatterpolar"
           }
          ],
          "scatterpolargl": [
           {
            "marker": {
             "colorbar": {
              "outlinewidth": 0,
              "ticks": ""
             }
            },
            "type": "scatterpolargl"
           }
          ],
          "scatterternary": [
           {
            "marker": {
             "colorbar": {
              "outlinewidth": 0,
              "ticks": ""
             }
            },
            "type": "scatterternary"
           }
          ],
          "surface": [
           {
            "colorbar": {
             "outlinewidth": 0,
             "ticks": ""
            },
            "colorscale": [
             [
              0,
              "#0d0887"
             ],
             [
              0.1111111111111111,
              "#46039f"
             ],
             [
              0.2222222222222222,
              "#7201a8"
             ],
             [
              0.3333333333333333,
              "#9c179e"
             ],
             [
              0.4444444444444444,
              "#bd3786"
             ],
             [
              0.5555555555555556,
              "#d8576b"
             ],
             [
              0.6666666666666666,
              "#ed7953"
             ],
             [
              0.7777777777777778,
              "#fb9f3a"
             ],
             [
              0.8888888888888888,
              "#fdca26"
             ],
             [
              1,
              "#f0f921"
             ]
            ],
            "type": "surface"
           }
          ],
          "table": [
           {
            "cells": {
             "fill": {
              "color": "#EBF0F8"
             },
             "line": {
              "color": "white"
             }
            },
            "header": {
             "fill": {
              "color": "#C8D4E3"
             },
             "line": {
              "color": "white"
             }
            },
            "type": "table"
           }
          ]
         },
         "layout": {
          "annotationdefaults": {
           "arrowcolor": "#2a3f5f",
           "arrowhead": 0,
           "arrowwidth": 1
          },
          "autotypenumbers": "strict",
          "coloraxis": {
           "colorbar": {
            "outlinewidth": 0,
            "ticks": ""
           }
          },
          "colorscale": {
           "diverging": [
            [
             0,
             "#8e0152"
            ],
            [
             0.1,
             "#c51b7d"
            ],
            [
             0.2,
             "#de77ae"
            ],
            [
             0.3,
             "#f1b6da"
            ],
            [
             0.4,
             "#fde0ef"
            ],
            [
             0.5,
             "#f7f7f7"
            ],
            [
             0.6,
             "#e6f5d0"
            ],
            [
             0.7,
             "#b8e186"
            ],
            [
             0.8,
             "#7fbc41"
            ],
            [
             0.9,
             "#4d9221"
            ],
            [
             1,
             "#276419"
            ]
           ],
           "sequential": [
            [
             0,
             "#0d0887"
            ],
            [
             0.1111111111111111,
             "#46039f"
            ],
            [
             0.2222222222222222,
             "#7201a8"
            ],
            [
             0.3333333333333333,
             "#9c179e"
            ],
            [
             0.4444444444444444,
             "#bd3786"
            ],
            [
             0.5555555555555556,
             "#d8576b"
            ],
            [
             0.6666666666666666,
             "#ed7953"
            ],
            [
             0.7777777777777778,
             "#fb9f3a"
            ],
            [
             0.8888888888888888,
             "#fdca26"
            ],
            [
             1,
             "#f0f921"
            ]
           ],
           "sequentialminus": [
            [
             0,
             "#0d0887"
            ],
            [
             0.1111111111111111,
             "#46039f"
            ],
            [
             0.2222222222222222,
             "#7201a8"
            ],
            [
             0.3333333333333333,
             "#9c179e"
            ],
            [
             0.4444444444444444,
             "#bd3786"
            ],
            [
             0.5555555555555556,
             "#d8576b"
            ],
            [
             0.6666666666666666,
             "#ed7953"
            ],
            [
             0.7777777777777778,
             "#fb9f3a"
            ],
            [
             0.8888888888888888,
             "#fdca26"
            ],
            [
             1,
             "#f0f921"
            ]
           ]
          },
          "colorway": [
           "#636efa",
           "#EF553B",
           "#00cc96",
           "#ab63fa",
           "#FFA15A",
           "#19d3f3",
           "#FF6692",
           "#B6E880",
           "#FF97FF",
           "#FECB52"
          ],
          "font": {
           "color": "#2a3f5f"
          },
          "geo": {
           "bgcolor": "white",
           "lakecolor": "white",
           "landcolor": "#E5ECF6",
           "showlakes": true,
           "showland": true,
           "subunitcolor": "white"
          },
          "hoverlabel": {
           "align": "left"
          },
          "hovermode": "closest",
          "mapbox": {
           "style": "light"
          },
          "paper_bgcolor": "white",
          "plot_bgcolor": "#E5ECF6",
          "polar": {
           "angularaxis": {
            "gridcolor": "white",
            "linecolor": "white",
            "ticks": ""
           },
           "bgcolor": "#E5ECF6",
           "radialaxis": {
            "gridcolor": "white",
            "linecolor": "white",
            "ticks": ""
           }
          },
          "scene": {
           "xaxis": {
            "backgroundcolor": "#E5ECF6",
            "gridcolor": "white",
            "gridwidth": 2,
            "linecolor": "white",
            "showbackground": true,
            "ticks": "",
            "zerolinecolor": "white"
           },
           "yaxis": {
            "backgroundcolor": "#E5ECF6",
            "gridcolor": "white",
            "gridwidth": 2,
            "linecolor": "white",
            "showbackground": true,
            "ticks": "",
            "zerolinecolor": "white"
           },
           "zaxis": {
            "backgroundcolor": "#E5ECF6",
            "gridcolor": "white",
            "gridwidth": 2,
            "linecolor": "white",
            "showbackground": true,
            "ticks": "",
            "zerolinecolor": "white"
           }
          },
          "shapedefaults": {
           "line": {
            "color": "#2a3f5f"
           }
          },
          "ternary": {
           "aaxis": {
            "gridcolor": "white",
            "linecolor": "white",
            "ticks": ""
           },
           "baxis": {
            "gridcolor": "white",
            "linecolor": "white",
            "ticks": ""
           },
           "bgcolor": "#E5ECF6",
           "caxis": {
            "gridcolor": "white",
            "linecolor": "white",
            "ticks": ""
           }
          },
          "title": {
           "x": 0.05
          },
          "xaxis": {
           "automargin": true,
           "gridcolor": "white",
           "linecolor": "white",
           "ticks": "",
           "title": {
            "standoff": 15
           },
           "zerolinecolor": "white",
           "zerolinewidth": 2
          },
          "yaxis": {
           "automargin": true,
           "gridcolor": "white",
           "linecolor": "white",
           "ticks": "",
           "title": {
            "standoff": 15
           },
           "zerolinecolor": "white",
           "zerolinewidth": 2
          }
         }
        },
        "title": {
         "font": {
          "color": "#4D5663"
         }
        },
        "xaxis": {
         "gridcolor": "#E1E5ED",
         "showgrid": true,
         "tickfont": {
          "color": "#4D5663"
         },
         "title": {
          "font": {
           "color": "#4D5663"
          },
          "text": ""
         },
         "zerolinecolor": "#E1E5ED"
        },
        "yaxis": {
         "gridcolor": "#E1E5ED",
         "showgrid": true,
         "tickfont": {
          "color": "#4D5663"
         },
         "title": {
          "font": {
           "color": "#4D5663"
          },
          "text": ""
         },
         "zerolinecolor": "#E1E5ED"
        }
       }
      },
      "text/html": [
       "<div>                            <div id=\"3f72f543-b109-44c5-99db-052a6fffb293\" class=\"plotly-graph-div\" style=\"height:525px; width:100%;\"></div>            <script type=\"text/javascript\">                require([\"plotly\"], function(Plotly) {                    window.PLOTLYENV=window.PLOTLYENV || {};\n",
       "                    window.PLOTLYENV.BASE_URL='https://plot.ly';                                    if (document.getElementById(\"3f72f543-b109-44c5-99db-052a6fffb293\")) {                    Plotly.newPlot(                        \"3f72f543-b109-44c5-99db-052a6fffb293\",                        [{\"line\":{\"color\":\"rgba(255, 153, 51, 1.0)\",\"dash\":\"solid\",\"shape\":\"linear\",\"width\":1.3},\"marker\":{\"size\":10,\"symbol\":\"circle\"},\"mode\":\"markers\",\"name\":\"B\",\"text\":\"\",\"x\":[-1.4988901786541045,-0.001422821726739044,-0.2304684055770329,0.23997464714259756,0.18192721535380907,0.19164720456797463,0.8934074803005699,-0.16678903578641818,-1.0084349560508432,-0.03497746442877197,-0.29407807175981265,-0.6006039772725303,-1.9183720589496456,1.1614531567992483,0.7099754557782095,0.0597482684433398,-0.7208573651997514,0.3855346391785886,-0.6452196773049834,-0.976381166476433,0.6594618598235175,1.5365704381442875,-0.8503296300579475,-0.6817453467007452,-0.9463322508133754,-0.19411061226880635,0.7592740048310302,-1.1926747622253955,1.400547023742745,-0.01495067745602767,-1.7115247300904346,-0.36124821109843847,-0.9945764316187472,-0.02174742702343883,0.4271204474826363,2.0458262738449973,0.38003902187660327,0.12799810814049276,-1.114003422680656,-0.06648643302860642,-0.9862118908244232,0.2492347168731393,0.17820277695620237,-0.7387340723009684,-0.31798405254195145,0.9524360693241468,0.9861659791518401,0.7148700640697296,-0.22592732878489613,2.3080279320676045,0.787929315365375,-0.48486969233250055,0.4027834014210285,1.4822702738530436,1.3038659671232047,-0.6523787149594126,-0.020653413306827302,1.27795507641576,0.9017516859560875,0.3656487115665125,-0.17128934489835104,0.6007005503795194,0.3206977385185198,-1.6303945368009163,0.6030078809689943,-0.6207387600421282,0.9288566443524915,1.003041834488083,0.6555148863499219,1.8369810188217182,-1.1342616020404406,-0.03959247097223943,0.27889716160290184,0.5964316283866732,-0.36252227062175946,-0.34907991775801606,-0.7457953929282686,-0.025432745061922953,-1.9507489350848062,-1.041117167054891,0.22955684614254096,-0.7594240891624068,-0.26728306802932256,-0.5574003405662921,-0.5552647869514891,-0.27986732142818244,-0.3176914326608163,1.1045692759785846,-1.1308518489324335,-0.3919640656418023,-1.0287786375678944,-0.5389389032984023,1.5990545052027803,-0.9840034230949485,0.9466879685336848,-0.2562696339386158,-0.4170640840563133,-0.7355380779682636,0.7659323423522455,-0.2871147614324862],\"y\":[0.23526574448227672,1.168163947055222,0.2603253096157711,-1.7094688244238117,1.2314559187199188,1.6726392784566257,1.110882751972855,2.4989591704588947,-0.21090740427651708,0.6710299469446712,0.5112763692090437,-0.3007727133257675,-0.44789669873124577,-0.683971266219679,-0.035603974521086434,0.9453888391325656,-0.3642535594012888,-0.7333466976832804,1.2214417366538486,-0.41663209241617577,0.6251585915454666,0.7118831843227998,-0.7328897597367783,0.41557603199328913,0.09317786774577878,0.1935706418538896,0.7567493246413372,-0.7890825203287073,0.470082990361827,0.2988970555631342,0.5477894960342421,-0.839905415734585,-2.285938793357377,1.1672269099760322,0.15066291368605914,0.691394580518865,1.550852584290744,0.2356201953546311,-0.5119547775416198,-0.17958271427017333,2.4751023612296494,0.8485209816138845,-1.6716169800928415,1.4212479055478549,1.373356337287798,1.1561028656871015,-0.1419436980968088,0.7187691549260182,3.0364205633719425,0.734284800443334,-0.9813275386456558,0.28835595613774406,0.2177289571851628,-1.5979716350858764,1.7533737527925104,2.455263171182504,-0.998996487354798,1.6647065302884583,0.13487899639228673,-0.9204221983040389,-0.5260204719325334,0.3729631855801561,-1.7881349756837503,-0.06024704765386666,-0.35343347656634894,-0.32862076542402474,-0.3296552300795083,0.7959402796708153,-0.2591835000266135,0.9291618039459419,2.526294058316706,-0.4158483633854793,-2.114171050587124,-1.5980731814780682,3.060158018044401,0.8864017834192536,-0.7888369809411898,-0.22207270455452055,0.2919727650947669,1.7298690787747741,-1.1907371521158825,-0.7481014500130333,-1.3126581161022361,0.556183164685591,1.3643829245990822,0.23609289097665742,-0.783866036842399,0.21681356368855853,0.5960968696295027,-0.04396548150781571,-0.8883792916898136,-0.2869425360225565,0.663551053787133,0.7616302112157503,0.2615442593539925,1.6195140569719841,0.04943547707619654,0.762492090412884,-3.0235275989995,-0.6972617199851123],\"type\":\"scatter\"}],                        {\"legend\":{\"bgcolor\":\"#F5F6F9\",\"font\":{\"color\":\"#4D5663\"}},\"paper_bgcolor\":\"#F5F6F9\",\"plot_bgcolor\":\"#F5F6F9\",\"template\":{\"data\":{\"barpolar\":[{\"marker\":{\"line\":{\"color\":\"#E5ECF6\",\"width\":0.5},\"pattern\":{\"fillmode\":\"overlay\",\"size\":10,\"solidity\":0.2}},\"type\":\"barpolar\"}],\"bar\":[{\"error_x\":{\"color\":\"#2a3f5f\"},\"error_y\":{\"color\":\"#2a3f5f\"},\"marker\":{\"line\":{\"color\":\"#E5ECF6\",\"width\":0.5},\"pattern\":{\"fillmode\":\"overlay\",\"size\":10,\"solidity\":0.2}},\"type\":\"bar\"}],\"carpet\":[{\"aaxis\":{\"endlinecolor\":\"#2a3f5f\",\"gridcolor\":\"white\",\"linecolor\":\"white\",\"minorgridcolor\":\"white\",\"startlinecolor\":\"#2a3f5f\"},\"baxis\":{\"endlinecolor\":\"#2a3f5f\",\"gridcolor\":\"white\",\"linecolor\":\"white\",\"minorgridcolor\":\"white\",\"startlinecolor\":\"#2a3f5f\"},\"type\":\"carpet\"}],\"choropleth\":[{\"colorbar\":{\"outlinewidth\":0,\"ticks\":\"\"},\"type\":\"choropleth\"}],\"contourcarpet\":[{\"colorbar\":{\"outlinewidth\":0,\"ticks\":\"\"},\"type\":\"contourcarpet\"}],\"contour\":[{\"colorbar\":{\"outlinewidth\":0,\"ticks\":\"\"},\"colorscale\":[[0.0,\"#0d0887\"],[0.1111111111111111,\"#46039f\"],[0.2222222222222222,\"#7201a8\"],[0.3333333333333333,\"#9c179e\"],[0.4444444444444444,\"#bd3786\"],[0.5555555555555556,\"#d8576b\"],[0.6666666666666666,\"#ed7953\"],[0.7777777777777778,\"#fb9f3a\"],[0.8888888888888888,\"#fdca26\"],[1.0,\"#f0f921\"]],\"type\":\"contour\"}],\"heatmapgl\":[{\"colorbar\":{\"outlinewidth\":0,\"ticks\":\"\"},\"colorscale\":[[0.0,\"#0d0887\"],[0.1111111111111111,\"#46039f\"],[0.2222222222222222,\"#7201a8\"],[0.3333333333333333,\"#9c179e\"],[0.4444444444444444,\"#bd3786\"],[0.5555555555555556,\"#d8576b\"],[0.6666666666666666,\"#ed7953\"],[0.7777777777777778,\"#fb9f3a\"],[0.8888888888888888,\"#fdca26\"],[1.0,\"#f0f921\"]],\"type\":\"heatmapgl\"}],\"heatmap\":[{\"colorbar\":{\"outlinewidth\":0,\"ticks\":\"\"},\"colorscale\":[[0.0,\"#0d0887\"],[0.1111111111111111,\"#46039f\"],[0.2222222222222222,\"#7201a8\"],[0.3333333333333333,\"#9c179e\"],[0.4444444444444444,\"#bd3786\"],[0.5555555555555556,\"#d8576b\"],[0.6666666666666666,\"#ed7953\"],[0.7777777777777778,\"#fb9f3a\"],[0.8888888888888888,\"#fdca26\"],[1.0,\"#f0f921\"]],\"type\":\"heatmap\"}],\"histogram2dcontour\":[{\"colorbar\":{\"outlinewidth\":0,\"ticks\":\"\"},\"colorscale\":[[0.0,\"#0d0887\"],[0.1111111111111111,\"#46039f\"],[0.2222222222222222,\"#7201a8\"],[0.3333333333333333,\"#9c179e\"],[0.4444444444444444,\"#bd3786\"],[0.5555555555555556,\"#d8576b\"],[0.6666666666666666,\"#ed7953\"],[0.7777777777777778,\"#fb9f3a\"],[0.8888888888888888,\"#fdca26\"],[1.0,\"#f0f921\"]],\"type\":\"histogram2dcontour\"}],\"histogram2d\":[{\"colorbar\":{\"outlinewidth\":0,\"ticks\":\"\"},\"colorscale\":[[0.0,\"#0d0887\"],[0.1111111111111111,\"#46039f\"],[0.2222222222222222,\"#7201a8\"],[0.3333333333333333,\"#9c179e\"],[0.4444444444444444,\"#bd3786\"],[0.5555555555555556,\"#d8576b\"],[0.6666666666666666,\"#ed7953\"],[0.7777777777777778,\"#fb9f3a\"],[0.8888888888888888,\"#fdca26\"],[1.0,\"#f0f921\"]],\"type\":\"histogram2d\"}],\"histogram\":[{\"marker\":{\"pattern\":{\"fillmode\":\"overlay\",\"size\":10,\"solidity\":0.2}},\"type\":\"histogram\"}],\"mesh3d\":[{\"colorbar\":{\"outlinewidth\":0,\"ticks\":\"\"},\"type\":\"mesh3d\"}],\"parcoords\":[{\"line\":{\"colorbar\":{\"outlinewidth\":0,\"ticks\":\"\"}},\"type\":\"parcoords\"}],\"pie\":[{\"automargin\":true,\"type\":\"pie\"}],\"scatter3d\":[{\"line\":{\"colorbar\":{\"outlinewidth\":0,\"ticks\":\"\"}},\"marker\":{\"colorbar\":{\"outlinewidth\":0,\"ticks\":\"\"}},\"type\":\"scatter3d\"}],\"scattercarpet\":[{\"marker\":{\"colorbar\":{\"outlinewidth\":0,\"ticks\":\"\"}},\"type\":\"scattercarpet\"}],\"scattergeo\":[{\"marker\":{\"colorbar\":{\"outlinewidth\":0,\"ticks\":\"\"}},\"type\":\"scattergeo\"}],\"scattergl\":[{\"marker\":{\"colorbar\":{\"outlinewidth\":0,\"ticks\":\"\"}},\"type\":\"scattergl\"}],\"scattermapbox\":[{\"marker\":{\"colorbar\":{\"outlinewidth\":0,\"ticks\":\"\"}},\"type\":\"scattermapbox\"}],\"scatterpolargl\":[{\"marker\":{\"colorbar\":{\"outlinewidth\":0,\"ticks\":\"\"}},\"type\":\"scatterpolargl\"}],\"scatterpolar\":[{\"marker\":{\"colorbar\":{\"outlinewidth\":0,\"ticks\":\"\"}},\"type\":\"scatterpolar\"}],\"scatter\":[{\"marker\":{\"colorbar\":{\"outlinewidth\":0,\"ticks\":\"\"}},\"type\":\"scatter\"}],\"scatterternary\":[{\"marker\":{\"colorbar\":{\"outlinewidth\":0,\"ticks\":\"\"}},\"type\":\"scatterternary\"}],\"surface\":[{\"colorbar\":{\"outlinewidth\":0,\"ticks\":\"\"},\"colorscale\":[[0.0,\"#0d0887\"],[0.1111111111111111,\"#46039f\"],[0.2222222222222222,\"#7201a8\"],[0.3333333333333333,\"#9c179e\"],[0.4444444444444444,\"#bd3786\"],[0.5555555555555556,\"#d8576b\"],[0.6666666666666666,\"#ed7953\"],[0.7777777777777778,\"#fb9f3a\"],[0.8888888888888888,\"#fdca26\"],[1.0,\"#f0f921\"]],\"type\":\"surface\"}],\"table\":[{\"cells\":{\"fill\":{\"color\":\"#EBF0F8\"},\"line\":{\"color\":\"white\"}},\"header\":{\"fill\":{\"color\":\"#C8D4E3\"},\"line\":{\"color\":\"white\"}},\"type\":\"table\"}]},\"layout\":{\"annotationdefaults\":{\"arrowcolor\":\"#2a3f5f\",\"arrowhead\":0,\"arrowwidth\":1},\"autotypenumbers\":\"strict\",\"coloraxis\":{\"colorbar\":{\"outlinewidth\":0,\"ticks\":\"\"}},\"colorscale\":{\"diverging\":[[0,\"#8e0152\"],[0.1,\"#c51b7d\"],[0.2,\"#de77ae\"],[0.3,\"#f1b6da\"],[0.4,\"#fde0ef\"],[0.5,\"#f7f7f7\"],[0.6,\"#e6f5d0\"],[0.7,\"#b8e186\"],[0.8,\"#7fbc41\"],[0.9,\"#4d9221\"],[1,\"#276419\"]],\"sequential\":[[0.0,\"#0d0887\"],[0.1111111111111111,\"#46039f\"],[0.2222222222222222,\"#7201a8\"],[0.3333333333333333,\"#9c179e\"],[0.4444444444444444,\"#bd3786\"],[0.5555555555555556,\"#d8576b\"],[0.6666666666666666,\"#ed7953\"],[0.7777777777777778,\"#fb9f3a\"],[0.8888888888888888,\"#fdca26\"],[1.0,\"#f0f921\"]],\"sequentialminus\":[[0.0,\"#0d0887\"],[0.1111111111111111,\"#46039f\"],[0.2222222222222222,\"#7201a8\"],[0.3333333333333333,\"#9c179e\"],[0.4444444444444444,\"#bd3786\"],[0.5555555555555556,\"#d8576b\"],[0.6666666666666666,\"#ed7953\"],[0.7777777777777778,\"#fb9f3a\"],[0.8888888888888888,\"#fdca26\"],[1.0,\"#f0f921\"]]},\"colorway\":[\"#636efa\",\"#EF553B\",\"#00cc96\",\"#ab63fa\",\"#FFA15A\",\"#19d3f3\",\"#FF6692\",\"#B6E880\",\"#FF97FF\",\"#FECB52\"],\"font\":{\"color\":\"#2a3f5f\"},\"geo\":{\"bgcolor\":\"white\",\"lakecolor\":\"white\",\"landcolor\":\"#E5ECF6\",\"showlakes\":true,\"showland\":true,\"subunitcolor\":\"white\"},\"hoverlabel\":{\"align\":\"left\"},\"hovermode\":\"closest\",\"mapbox\":{\"style\":\"light\"},\"paper_bgcolor\":\"white\",\"plot_bgcolor\":\"#E5ECF6\",\"polar\":{\"angularaxis\":{\"gridcolor\":\"white\",\"linecolor\":\"white\",\"ticks\":\"\"},\"bgcolor\":\"#E5ECF6\",\"radialaxis\":{\"gridcolor\":\"white\",\"linecolor\":\"white\",\"ticks\":\"\"}},\"scene\":{\"xaxis\":{\"backgroundcolor\":\"#E5ECF6\",\"gridcolor\":\"white\",\"gridwidth\":2,\"linecolor\":\"white\",\"showbackground\":true,\"ticks\":\"\",\"zerolinecolor\":\"white\"},\"yaxis\":{\"backgroundcolor\":\"#E5ECF6\",\"gridcolor\":\"white\",\"gridwidth\":2,\"linecolor\":\"white\",\"showbackground\":true,\"ticks\":\"\",\"zerolinecolor\":\"white\"},\"zaxis\":{\"backgroundcolor\":\"#E5ECF6\",\"gridcolor\":\"white\",\"gridwidth\":2,\"linecolor\":\"white\",\"showbackground\":true,\"ticks\":\"\",\"zerolinecolor\":\"white\"}},\"shapedefaults\":{\"line\":{\"color\":\"#2a3f5f\"}},\"ternary\":{\"aaxis\":{\"gridcolor\":\"white\",\"linecolor\":\"white\",\"ticks\":\"\"},\"baxis\":{\"gridcolor\":\"white\",\"linecolor\":\"white\",\"ticks\":\"\"},\"bgcolor\":\"#E5ECF6\",\"caxis\":{\"gridcolor\":\"white\",\"linecolor\":\"white\",\"ticks\":\"\"}},\"title\":{\"x\":0.05},\"xaxis\":{\"automargin\":true,\"gridcolor\":\"white\",\"linecolor\":\"white\",\"ticks\":\"\",\"title\":{\"standoff\":15},\"zerolinecolor\":\"white\",\"zerolinewidth\":2},\"yaxis\":{\"automargin\":true,\"gridcolor\":\"white\",\"linecolor\":\"white\",\"ticks\":\"\",\"title\":{\"standoff\":15},\"zerolinecolor\":\"white\",\"zerolinewidth\":2}}},\"title\":{\"font\":{\"color\":\"#4D5663\"}},\"xaxis\":{\"gridcolor\":\"#E1E5ED\",\"showgrid\":true,\"tickfont\":{\"color\":\"#4D5663\"},\"title\":{\"font\":{\"color\":\"#4D5663\"},\"text\":\"\"},\"zerolinecolor\":\"#E1E5ED\"},\"yaxis\":{\"gridcolor\":\"#E1E5ED\",\"showgrid\":true,\"tickfont\":{\"color\":\"#4D5663\"},\"title\":{\"font\":{\"color\":\"#4D5663\"},\"text\":\"\"},\"zerolinecolor\":\"#E1E5ED\"}},                        {\"showLink\": true, \"linkText\": \"Export to plot.ly\", \"plotlyServerURL\": \"https://plot.ly\", \"responsive\": true}                    ).then(function(){\n",
       "                            \n",
       "var gd = document.getElementById('3f72f543-b109-44c5-99db-052a6fffb293');\n",
       "var x = new MutationObserver(function (mutations, observer) {{\n",
       "        var display = window.getComputedStyle(gd).display;\n",
       "        if (!display || display === 'none') {{\n",
       "            console.log([gd, 'removed!']);\n",
       "            Plotly.purge(gd);\n",
       "            observer.disconnect();\n",
       "        }}\n",
       "}});\n",
       "\n",
       "// Listen for the removal of the full notebook cells\n",
       "var notebookContainer = gd.closest('#notebook-container');\n",
       "if (notebookContainer) {{\n",
       "    x.observe(notebookContainer, {childList: true});\n",
       "}}\n",
       "\n",
       "// Listen for the clearing of the current output cell\n",
       "var outputEl = gd.closest('.output');\n",
       "if (outputEl) {{\n",
       "    x.observe(outputEl, {childList: true});\n",
       "}}\n",
       "\n",
       "                        })                };                });            </script>        </div>"
      ]
     },
     "metadata": {},
     "output_type": "display_data"
    }
   ],
   "source": [
    "df.iplot(kind='scatter',x='A',y='B',mode='markers',size=10)"
   ]
  },
  {
   "cell_type": "markdown",
   "metadata": {},
   "source": [
    "## Bar Plots"
   ]
  },
  {
   "cell_type": "code",
   "execution_count": 13,
   "metadata": {},
   "outputs": [
    {
     "data": {
      "application/vnd.plotly.v1+json": {
       "config": {
        "linkText": "Export to plot.ly",
        "plotlyServerURL": "https://plot.ly",
        "showLink": true
       },
       "data": [
        {
         "marker": {
          "color": "rgba(255, 153, 51, 0.6)",
          "line": {
           "color": "rgba(255, 153, 51, 1.0)",
           "width": 1
          }
         },
         "name": "Values",
         "orientation": "v",
         "text": "",
         "type": "bar",
         "x": [
          "A",
          "B",
          "C"
         ],
         "y": [
          32,
          43,
          50
         ]
        }
       ],
       "layout": {
        "legend": {
         "bgcolor": "#F5F6F9",
         "font": {
          "color": "#4D5663"
         }
        },
        "paper_bgcolor": "#F5F6F9",
        "plot_bgcolor": "#F5F6F9",
        "template": {
         "data": {
          "bar": [
           {
            "error_x": {
             "color": "#2a3f5f"
            },
            "error_y": {
             "color": "#2a3f5f"
            },
            "marker": {
             "line": {
              "color": "#E5ECF6",
              "width": 0.5
             },
             "pattern": {
              "fillmode": "overlay",
              "size": 10,
              "solidity": 0.2
             }
            },
            "type": "bar"
           }
          ],
          "barpolar": [
           {
            "marker": {
             "line": {
              "color": "#E5ECF6",
              "width": 0.5
             },
             "pattern": {
              "fillmode": "overlay",
              "size": 10,
              "solidity": 0.2
             }
            },
            "type": "barpolar"
           }
          ],
          "carpet": [
           {
            "aaxis": {
             "endlinecolor": "#2a3f5f",
             "gridcolor": "white",
             "linecolor": "white",
             "minorgridcolor": "white",
             "startlinecolor": "#2a3f5f"
            },
            "baxis": {
             "endlinecolor": "#2a3f5f",
             "gridcolor": "white",
             "linecolor": "white",
             "minorgridcolor": "white",
             "startlinecolor": "#2a3f5f"
            },
            "type": "carpet"
           }
          ],
          "choropleth": [
           {
            "colorbar": {
             "outlinewidth": 0,
             "ticks": ""
            },
            "type": "choropleth"
           }
          ],
          "contour": [
           {
            "colorbar": {
             "outlinewidth": 0,
             "ticks": ""
            },
            "colorscale": [
             [
              0,
              "#0d0887"
             ],
             [
              0.1111111111111111,
              "#46039f"
             ],
             [
              0.2222222222222222,
              "#7201a8"
             ],
             [
              0.3333333333333333,
              "#9c179e"
             ],
             [
              0.4444444444444444,
              "#bd3786"
             ],
             [
              0.5555555555555556,
              "#d8576b"
             ],
             [
              0.6666666666666666,
              "#ed7953"
             ],
             [
              0.7777777777777778,
              "#fb9f3a"
             ],
             [
              0.8888888888888888,
              "#fdca26"
             ],
             [
              1,
              "#f0f921"
             ]
            ],
            "type": "contour"
           }
          ],
          "contourcarpet": [
           {
            "colorbar": {
             "outlinewidth": 0,
             "ticks": ""
            },
            "type": "contourcarpet"
           }
          ],
          "heatmap": [
           {
            "colorbar": {
             "outlinewidth": 0,
             "ticks": ""
            },
            "colorscale": [
             [
              0,
              "#0d0887"
             ],
             [
              0.1111111111111111,
              "#46039f"
             ],
             [
              0.2222222222222222,
              "#7201a8"
             ],
             [
              0.3333333333333333,
              "#9c179e"
             ],
             [
              0.4444444444444444,
              "#bd3786"
             ],
             [
              0.5555555555555556,
              "#d8576b"
             ],
             [
              0.6666666666666666,
              "#ed7953"
             ],
             [
              0.7777777777777778,
              "#fb9f3a"
             ],
             [
              0.8888888888888888,
              "#fdca26"
             ],
             [
              1,
              "#f0f921"
             ]
            ],
            "type": "heatmap"
           }
          ],
          "heatmapgl": [
           {
            "colorbar": {
             "outlinewidth": 0,
             "ticks": ""
            },
            "colorscale": [
             [
              0,
              "#0d0887"
             ],
             [
              0.1111111111111111,
              "#46039f"
             ],
             [
              0.2222222222222222,
              "#7201a8"
             ],
             [
              0.3333333333333333,
              "#9c179e"
             ],
             [
              0.4444444444444444,
              "#bd3786"
             ],
             [
              0.5555555555555556,
              "#d8576b"
             ],
             [
              0.6666666666666666,
              "#ed7953"
             ],
             [
              0.7777777777777778,
              "#fb9f3a"
             ],
             [
              0.8888888888888888,
              "#fdca26"
             ],
             [
              1,
              "#f0f921"
             ]
            ],
            "type": "heatmapgl"
           }
          ],
          "histogram": [
           {
            "marker": {
             "pattern": {
              "fillmode": "overlay",
              "size": 10,
              "solidity": 0.2
             }
            },
            "type": "histogram"
           }
          ],
          "histogram2d": [
           {
            "colorbar": {
             "outlinewidth": 0,
             "ticks": ""
            },
            "colorscale": [
             [
              0,
              "#0d0887"
             ],
             [
              0.1111111111111111,
              "#46039f"
             ],
             [
              0.2222222222222222,
              "#7201a8"
             ],
             [
              0.3333333333333333,
              "#9c179e"
             ],
             [
              0.4444444444444444,
              "#bd3786"
             ],
             [
              0.5555555555555556,
              "#d8576b"
             ],
             [
              0.6666666666666666,
              "#ed7953"
             ],
             [
              0.7777777777777778,
              "#fb9f3a"
             ],
             [
              0.8888888888888888,
              "#fdca26"
             ],
             [
              1,
              "#f0f921"
             ]
            ],
            "type": "histogram2d"
           }
          ],
          "histogram2dcontour": [
           {
            "colorbar": {
             "outlinewidth": 0,
             "ticks": ""
            },
            "colorscale": [
             [
              0,
              "#0d0887"
             ],
             [
              0.1111111111111111,
              "#46039f"
             ],
             [
              0.2222222222222222,
              "#7201a8"
             ],
             [
              0.3333333333333333,
              "#9c179e"
             ],
             [
              0.4444444444444444,
              "#bd3786"
             ],
             [
              0.5555555555555556,
              "#d8576b"
             ],
             [
              0.6666666666666666,
              "#ed7953"
             ],
             [
              0.7777777777777778,
              "#fb9f3a"
             ],
             [
              0.8888888888888888,
              "#fdca26"
             ],
             [
              1,
              "#f0f921"
             ]
            ],
            "type": "histogram2dcontour"
           }
          ],
          "mesh3d": [
           {
            "colorbar": {
             "outlinewidth": 0,
             "ticks": ""
            },
            "type": "mesh3d"
           }
          ],
          "parcoords": [
           {
            "line": {
             "colorbar": {
              "outlinewidth": 0,
              "ticks": ""
             }
            },
            "type": "parcoords"
           }
          ],
          "pie": [
           {
            "automargin": true,
            "type": "pie"
           }
          ],
          "scatter": [
           {
            "marker": {
             "colorbar": {
              "outlinewidth": 0,
              "ticks": ""
             }
            },
            "type": "scatter"
           }
          ],
          "scatter3d": [
           {
            "line": {
             "colorbar": {
              "outlinewidth": 0,
              "ticks": ""
             }
            },
            "marker": {
             "colorbar": {
              "outlinewidth": 0,
              "ticks": ""
             }
            },
            "type": "scatter3d"
           }
          ],
          "scattercarpet": [
           {
            "marker": {
             "colorbar": {
              "outlinewidth": 0,
              "ticks": ""
             }
            },
            "type": "scattercarpet"
           }
          ],
          "scattergeo": [
           {
            "marker": {
             "colorbar": {
              "outlinewidth": 0,
              "ticks": ""
             }
            },
            "type": "scattergeo"
           }
          ],
          "scattergl": [
           {
            "marker": {
             "colorbar": {
              "outlinewidth": 0,
              "ticks": ""
             }
            },
            "type": "scattergl"
           }
          ],
          "scattermapbox": [
           {
            "marker": {
             "colorbar": {
              "outlinewidth": 0,
              "ticks": ""
             }
            },
            "type": "scattermapbox"
           }
          ],
          "scatterpolar": [
           {
            "marker": {
             "colorbar": {
              "outlinewidth": 0,
              "ticks": ""
             }
            },
            "type": "scatterpolar"
           }
          ],
          "scatterpolargl": [
           {
            "marker": {
             "colorbar": {
              "outlinewidth": 0,
              "ticks": ""
             }
            },
            "type": "scatterpolargl"
           }
          ],
          "scatterternary": [
           {
            "marker": {
             "colorbar": {
              "outlinewidth": 0,
              "ticks": ""
             }
            },
            "type": "scatterternary"
           }
          ],
          "surface": [
           {
            "colorbar": {
             "outlinewidth": 0,
             "ticks": ""
            },
            "colorscale": [
             [
              0,
              "#0d0887"
             ],
             [
              0.1111111111111111,
              "#46039f"
             ],
             [
              0.2222222222222222,
              "#7201a8"
             ],
             [
              0.3333333333333333,
              "#9c179e"
             ],
             [
              0.4444444444444444,
              "#bd3786"
             ],
             [
              0.5555555555555556,
              "#d8576b"
             ],
             [
              0.6666666666666666,
              "#ed7953"
             ],
             [
              0.7777777777777778,
              "#fb9f3a"
             ],
             [
              0.8888888888888888,
              "#fdca26"
             ],
             [
              1,
              "#f0f921"
             ]
            ],
            "type": "surface"
           }
          ],
          "table": [
           {
            "cells": {
             "fill": {
              "color": "#EBF0F8"
             },
             "line": {
              "color": "white"
             }
            },
            "header": {
             "fill": {
              "color": "#C8D4E3"
             },
             "line": {
              "color": "white"
             }
            },
            "type": "table"
           }
          ]
         },
         "layout": {
          "annotationdefaults": {
           "arrowcolor": "#2a3f5f",
           "arrowhead": 0,
           "arrowwidth": 1
          },
          "autotypenumbers": "strict",
          "coloraxis": {
           "colorbar": {
            "outlinewidth": 0,
            "ticks": ""
           }
          },
          "colorscale": {
           "diverging": [
            [
             0,
             "#8e0152"
            ],
            [
             0.1,
             "#c51b7d"
            ],
            [
             0.2,
             "#de77ae"
            ],
            [
             0.3,
             "#f1b6da"
            ],
            [
             0.4,
             "#fde0ef"
            ],
            [
             0.5,
             "#f7f7f7"
            ],
            [
             0.6,
             "#e6f5d0"
            ],
            [
             0.7,
             "#b8e186"
            ],
            [
             0.8,
             "#7fbc41"
            ],
            [
             0.9,
             "#4d9221"
            ],
            [
             1,
             "#276419"
            ]
           ],
           "sequential": [
            [
             0,
             "#0d0887"
            ],
            [
             0.1111111111111111,
             "#46039f"
            ],
            [
             0.2222222222222222,
             "#7201a8"
            ],
            [
             0.3333333333333333,
             "#9c179e"
            ],
            [
             0.4444444444444444,
             "#bd3786"
            ],
            [
             0.5555555555555556,
             "#d8576b"
            ],
            [
             0.6666666666666666,
             "#ed7953"
            ],
            [
             0.7777777777777778,
             "#fb9f3a"
            ],
            [
             0.8888888888888888,
             "#fdca26"
            ],
            [
             1,
             "#f0f921"
            ]
           ],
           "sequentialminus": [
            [
             0,
             "#0d0887"
            ],
            [
             0.1111111111111111,
             "#46039f"
            ],
            [
             0.2222222222222222,
             "#7201a8"
            ],
            [
             0.3333333333333333,
             "#9c179e"
            ],
            [
             0.4444444444444444,
             "#bd3786"
            ],
            [
             0.5555555555555556,
             "#d8576b"
            ],
            [
             0.6666666666666666,
             "#ed7953"
            ],
            [
             0.7777777777777778,
             "#fb9f3a"
            ],
            [
             0.8888888888888888,
             "#fdca26"
            ],
            [
             1,
             "#f0f921"
            ]
           ]
          },
          "colorway": [
           "#636efa",
           "#EF553B",
           "#00cc96",
           "#ab63fa",
           "#FFA15A",
           "#19d3f3",
           "#FF6692",
           "#B6E880",
           "#FF97FF",
           "#FECB52"
          ],
          "font": {
           "color": "#2a3f5f"
          },
          "geo": {
           "bgcolor": "white",
           "lakecolor": "white",
           "landcolor": "#E5ECF6",
           "showlakes": true,
           "showland": true,
           "subunitcolor": "white"
          },
          "hoverlabel": {
           "align": "left"
          },
          "hovermode": "closest",
          "mapbox": {
           "style": "light"
          },
          "paper_bgcolor": "white",
          "plot_bgcolor": "#E5ECF6",
          "polar": {
           "angularaxis": {
            "gridcolor": "white",
            "linecolor": "white",
            "ticks": ""
           },
           "bgcolor": "#E5ECF6",
           "radialaxis": {
            "gridcolor": "white",
            "linecolor": "white",
            "ticks": ""
           }
          },
          "scene": {
           "xaxis": {
            "backgroundcolor": "#E5ECF6",
            "gridcolor": "white",
            "gridwidth": 2,
            "linecolor": "white",
            "showbackground": true,
            "ticks": "",
            "zerolinecolor": "white"
           },
           "yaxis": {
            "backgroundcolor": "#E5ECF6",
            "gridcolor": "white",
            "gridwidth": 2,
            "linecolor": "white",
            "showbackground": true,
            "ticks": "",
            "zerolinecolor": "white"
           },
           "zaxis": {
            "backgroundcolor": "#E5ECF6",
            "gridcolor": "white",
            "gridwidth": 2,
            "linecolor": "white",
            "showbackground": true,
            "ticks": "",
            "zerolinecolor": "white"
           }
          },
          "shapedefaults": {
           "line": {
            "color": "#2a3f5f"
           }
          },
          "ternary": {
           "aaxis": {
            "gridcolor": "white",
            "linecolor": "white",
            "ticks": ""
           },
           "baxis": {
            "gridcolor": "white",
            "linecolor": "white",
            "ticks": ""
           },
           "bgcolor": "#E5ECF6",
           "caxis": {
            "gridcolor": "white",
            "linecolor": "white",
            "ticks": ""
           }
          },
          "title": {
           "x": 0.05
          },
          "xaxis": {
           "automargin": true,
           "gridcolor": "white",
           "linecolor": "white",
           "ticks": "",
           "title": {
            "standoff": 15
           },
           "zerolinecolor": "white",
           "zerolinewidth": 2
          },
          "yaxis": {
           "automargin": true,
           "gridcolor": "white",
           "linecolor": "white",
           "ticks": "",
           "title": {
            "standoff": 15
           },
           "zerolinecolor": "white",
           "zerolinewidth": 2
          }
         }
        },
        "title": {
         "font": {
          "color": "#4D5663"
         }
        },
        "xaxis": {
         "gridcolor": "#E1E5ED",
         "showgrid": true,
         "tickfont": {
          "color": "#4D5663"
         },
         "title": {
          "font": {
           "color": "#4D5663"
          },
          "text": ""
         },
         "zerolinecolor": "#E1E5ED"
        },
        "yaxis": {
         "gridcolor": "#E1E5ED",
         "showgrid": true,
         "tickfont": {
          "color": "#4D5663"
         },
         "title": {
          "font": {
           "color": "#4D5663"
          },
          "text": ""
         },
         "zerolinecolor": "#E1E5ED"
        }
       }
      },
      "text/html": [
       "<div>                            <div id=\"c5618add-4b6e-478c-b016-16f9a1fc2ec9\" class=\"plotly-graph-div\" style=\"height:525px; width:100%;\"></div>            <script type=\"text/javascript\">                require([\"plotly\"], function(Plotly) {                    window.PLOTLYENV=window.PLOTLYENV || {};\n",
       "                    window.PLOTLYENV.BASE_URL='https://plot.ly';                                    if (document.getElementById(\"c5618add-4b6e-478c-b016-16f9a1fc2ec9\")) {                    Plotly.newPlot(                        \"c5618add-4b6e-478c-b016-16f9a1fc2ec9\",                        [{\"marker\":{\"color\":\"rgba(255, 153, 51, 0.6)\",\"line\":{\"color\":\"rgba(255, 153, 51, 1.0)\",\"width\":1}},\"name\":\"Values\",\"orientation\":\"v\",\"text\":\"\",\"x\":[\"A\",\"B\",\"C\"],\"y\":[32,43,50],\"type\":\"bar\"}],                        {\"legend\":{\"bgcolor\":\"#F5F6F9\",\"font\":{\"color\":\"#4D5663\"}},\"paper_bgcolor\":\"#F5F6F9\",\"plot_bgcolor\":\"#F5F6F9\",\"template\":{\"data\":{\"barpolar\":[{\"marker\":{\"line\":{\"color\":\"#E5ECF6\",\"width\":0.5},\"pattern\":{\"fillmode\":\"overlay\",\"size\":10,\"solidity\":0.2}},\"type\":\"barpolar\"}],\"bar\":[{\"error_x\":{\"color\":\"#2a3f5f\"},\"error_y\":{\"color\":\"#2a3f5f\"},\"marker\":{\"line\":{\"color\":\"#E5ECF6\",\"width\":0.5},\"pattern\":{\"fillmode\":\"overlay\",\"size\":10,\"solidity\":0.2}},\"type\":\"bar\"}],\"carpet\":[{\"aaxis\":{\"endlinecolor\":\"#2a3f5f\",\"gridcolor\":\"white\",\"linecolor\":\"white\",\"minorgridcolor\":\"white\",\"startlinecolor\":\"#2a3f5f\"},\"baxis\":{\"endlinecolor\":\"#2a3f5f\",\"gridcolor\":\"white\",\"linecolor\":\"white\",\"minorgridcolor\":\"white\",\"startlinecolor\":\"#2a3f5f\"},\"type\":\"carpet\"}],\"choropleth\":[{\"colorbar\":{\"outlinewidth\":0,\"ticks\":\"\"},\"type\":\"choropleth\"}],\"contourcarpet\":[{\"colorbar\":{\"outlinewidth\":0,\"ticks\":\"\"},\"type\":\"contourcarpet\"}],\"contour\":[{\"colorbar\":{\"outlinewidth\":0,\"ticks\":\"\"},\"colorscale\":[[0.0,\"#0d0887\"],[0.1111111111111111,\"#46039f\"],[0.2222222222222222,\"#7201a8\"],[0.3333333333333333,\"#9c179e\"],[0.4444444444444444,\"#bd3786\"],[0.5555555555555556,\"#d8576b\"],[0.6666666666666666,\"#ed7953\"],[0.7777777777777778,\"#fb9f3a\"],[0.8888888888888888,\"#fdca26\"],[1.0,\"#f0f921\"]],\"type\":\"contour\"}],\"heatmapgl\":[{\"colorbar\":{\"outlinewidth\":0,\"ticks\":\"\"},\"colorscale\":[[0.0,\"#0d0887\"],[0.1111111111111111,\"#46039f\"],[0.2222222222222222,\"#7201a8\"],[0.3333333333333333,\"#9c179e\"],[0.4444444444444444,\"#bd3786\"],[0.5555555555555556,\"#d8576b\"],[0.6666666666666666,\"#ed7953\"],[0.7777777777777778,\"#fb9f3a\"],[0.8888888888888888,\"#fdca26\"],[1.0,\"#f0f921\"]],\"type\":\"heatmapgl\"}],\"heatmap\":[{\"colorbar\":{\"outlinewidth\":0,\"ticks\":\"\"},\"colorscale\":[[0.0,\"#0d0887\"],[0.1111111111111111,\"#46039f\"],[0.2222222222222222,\"#7201a8\"],[0.3333333333333333,\"#9c179e\"],[0.4444444444444444,\"#bd3786\"],[0.5555555555555556,\"#d8576b\"],[0.6666666666666666,\"#ed7953\"],[0.7777777777777778,\"#fb9f3a\"],[0.8888888888888888,\"#fdca26\"],[1.0,\"#f0f921\"]],\"type\":\"heatmap\"}],\"histogram2dcontour\":[{\"colorbar\":{\"outlinewidth\":0,\"ticks\":\"\"},\"colorscale\":[[0.0,\"#0d0887\"],[0.1111111111111111,\"#46039f\"],[0.2222222222222222,\"#7201a8\"],[0.3333333333333333,\"#9c179e\"],[0.4444444444444444,\"#bd3786\"],[0.5555555555555556,\"#d8576b\"],[0.6666666666666666,\"#ed7953\"],[0.7777777777777778,\"#fb9f3a\"],[0.8888888888888888,\"#fdca26\"],[1.0,\"#f0f921\"]],\"type\":\"histogram2dcontour\"}],\"histogram2d\":[{\"colorbar\":{\"outlinewidth\":0,\"ticks\":\"\"},\"colorscale\":[[0.0,\"#0d0887\"],[0.1111111111111111,\"#46039f\"],[0.2222222222222222,\"#7201a8\"],[0.3333333333333333,\"#9c179e\"],[0.4444444444444444,\"#bd3786\"],[0.5555555555555556,\"#d8576b\"],[0.6666666666666666,\"#ed7953\"],[0.7777777777777778,\"#fb9f3a\"],[0.8888888888888888,\"#fdca26\"],[1.0,\"#f0f921\"]],\"type\":\"histogram2d\"}],\"histogram\":[{\"marker\":{\"pattern\":{\"fillmode\":\"overlay\",\"size\":10,\"solidity\":0.2}},\"type\":\"histogram\"}],\"mesh3d\":[{\"colorbar\":{\"outlinewidth\":0,\"ticks\":\"\"},\"type\":\"mesh3d\"}],\"parcoords\":[{\"line\":{\"colorbar\":{\"outlinewidth\":0,\"ticks\":\"\"}},\"type\":\"parcoords\"}],\"pie\":[{\"automargin\":true,\"type\":\"pie\"}],\"scatter3d\":[{\"line\":{\"colorbar\":{\"outlinewidth\":0,\"ticks\":\"\"}},\"marker\":{\"colorbar\":{\"outlinewidth\":0,\"ticks\":\"\"}},\"type\":\"scatter3d\"}],\"scattercarpet\":[{\"marker\":{\"colorbar\":{\"outlinewidth\":0,\"ticks\":\"\"}},\"type\":\"scattercarpet\"}],\"scattergeo\":[{\"marker\":{\"colorbar\":{\"outlinewidth\":0,\"ticks\":\"\"}},\"type\":\"scattergeo\"}],\"scattergl\":[{\"marker\":{\"colorbar\":{\"outlinewidth\":0,\"ticks\":\"\"}},\"type\":\"scattergl\"}],\"scattermapbox\":[{\"marker\":{\"colorbar\":{\"outlinewidth\":0,\"ticks\":\"\"}},\"type\":\"scattermapbox\"}],\"scatterpolargl\":[{\"marker\":{\"colorbar\":{\"outlinewidth\":0,\"ticks\":\"\"}},\"type\":\"scatterpolargl\"}],\"scatterpolar\":[{\"marker\":{\"colorbar\":{\"outlinewidth\":0,\"ticks\":\"\"}},\"type\":\"scatterpolar\"}],\"scatter\":[{\"marker\":{\"colorbar\":{\"outlinewidth\":0,\"ticks\":\"\"}},\"type\":\"scatter\"}],\"scatterternary\":[{\"marker\":{\"colorbar\":{\"outlinewidth\":0,\"ticks\":\"\"}},\"type\":\"scatterternary\"}],\"surface\":[{\"colorbar\":{\"outlinewidth\":0,\"ticks\":\"\"},\"colorscale\":[[0.0,\"#0d0887\"],[0.1111111111111111,\"#46039f\"],[0.2222222222222222,\"#7201a8\"],[0.3333333333333333,\"#9c179e\"],[0.4444444444444444,\"#bd3786\"],[0.5555555555555556,\"#d8576b\"],[0.6666666666666666,\"#ed7953\"],[0.7777777777777778,\"#fb9f3a\"],[0.8888888888888888,\"#fdca26\"],[1.0,\"#f0f921\"]],\"type\":\"surface\"}],\"table\":[{\"cells\":{\"fill\":{\"color\":\"#EBF0F8\"},\"line\":{\"color\":\"white\"}},\"header\":{\"fill\":{\"color\":\"#C8D4E3\"},\"line\":{\"color\":\"white\"}},\"type\":\"table\"}]},\"layout\":{\"annotationdefaults\":{\"arrowcolor\":\"#2a3f5f\",\"arrowhead\":0,\"arrowwidth\":1},\"autotypenumbers\":\"strict\",\"coloraxis\":{\"colorbar\":{\"outlinewidth\":0,\"ticks\":\"\"}},\"colorscale\":{\"diverging\":[[0,\"#8e0152\"],[0.1,\"#c51b7d\"],[0.2,\"#de77ae\"],[0.3,\"#f1b6da\"],[0.4,\"#fde0ef\"],[0.5,\"#f7f7f7\"],[0.6,\"#e6f5d0\"],[0.7,\"#b8e186\"],[0.8,\"#7fbc41\"],[0.9,\"#4d9221\"],[1,\"#276419\"]],\"sequential\":[[0.0,\"#0d0887\"],[0.1111111111111111,\"#46039f\"],[0.2222222222222222,\"#7201a8\"],[0.3333333333333333,\"#9c179e\"],[0.4444444444444444,\"#bd3786\"],[0.5555555555555556,\"#d8576b\"],[0.6666666666666666,\"#ed7953\"],[0.7777777777777778,\"#fb9f3a\"],[0.8888888888888888,\"#fdca26\"],[1.0,\"#f0f921\"]],\"sequentialminus\":[[0.0,\"#0d0887\"],[0.1111111111111111,\"#46039f\"],[0.2222222222222222,\"#7201a8\"],[0.3333333333333333,\"#9c179e\"],[0.4444444444444444,\"#bd3786\"],[0.5555555555555556,\"#d8576b\"],[0.6666666666666666,\"#ed7953\"],[0.7777777777777778,\"#fb9f3a\"],[0.8888888888888888,\"#fdca26\"],[1.0,\"#f0f921\"]]},\"colorway\":[\"#636efa\",\"#EF553B\",\"#00cc96\",\"#ab63fa\",\"#FFA15A\",\"#19d3f3\",\"#FF6692\",\"#B6E880\",\"#FF97FF\",\"#FECB52\"],\"font\":{\"color\":\"#2a3f5f\"},\"geo\":{\"bgcolor\":\"white\",\"lakecolor\":\"white\",\"landcolor\":\"#E5ECF6\",\"showlakes\":true,\"showland\":true,\"subunitcolor\":\"white\"},\"hoverlabel\":{\"align\":\"left\"},\"hovermode\":\"closest\",\"mapbox\":{\"style\":\"light\"},\"paper_bgcolor\":\"white\",\"plot_bgcolor\":\"#E5ECF6\",\"polar\":{\"angularaxis\":{\"gridcolor\":\"white\",\"linecolor\":\"white\",\"ticks\":\"\"},\"bgcolor\":\"#E5ECF6\",\"radialaxis\":{\"gridcolor\":\"white\",\"linecolor\":\"white\",\"ticks\":\"\"}},\"scene\":{\"xaxis\":{\"backgroundcolor\":\"#E5ECF6\",\"gridcolor\":\"white\",\"gridwidth\":2,\"linecolor\":\"white\",\"showbackground\":true,\"ticks\":\"\",\"zerolinecolor\":\"white\"},\"yaxis\":{\"backgroundcolor\":\"#E5ECF6\",\"gridcolor\":\"white\",\"gridwidth\":2,\"linecolor\":\"white\",\"showbackground\":true,\"ticks\":\"\",\"zerolinecolor\":\"white\"},\"zaxis\":{\"backgroundcolor\":\"#E5ECF6\",\"gridcolor\":\"white\",\"gridwidth\":2,\"linecolor\":\"white\",\"showbackground\":true,\"ticks\":\"\",\"zerolinecolor\":\"white\"}},\"shapedefaults\":{\"line\":{\"color\":\"#2a3f5f\"}},\"ternary\":{\"aaxis\":{\"gridcolor\":\"white\",\"linecolor\":\"white\",\"ticks\":\"\"},\"baxis\":{\"gridcolor\":\"white\",\"linecolor\":\"white\",\"ticks\":\"\"},\"bgcolor\":\"#E5ECF6\",\"caxis\":{\"gridcolor\":\"white\",\"linecolor\":\"white\",\"ticks\":\"\"}},\"title\":{\"x\":0.05},\"xaxis\":{\"automargin\":true,\"gridcolor\":\"white\",\"linecolor\":\"white\",\"ticks\":\"\",\"title\":{\"standoff\":15},\"zerolinecolor\":\"white\",\"zerolinewidth\":2},\"yaxis\":{\"automargin\":true,\"gridcolor\":\"white\",\"linecolor\":\"white\",\"ticks\":\"\",\"title\":{\"standoff\":15},\"zerolinecolor\":\"white\",\"zerolinewidth\":2}}},\"title\":{\"font\":{\"color\":\"#4D5663\"}},\"xaxis\":{\"gridcolor\":\"#E1E5ED\",\"showgrid\":true,\"tickfont\":{\"color\":\"#4D5663\"},\"title\":{\"font\":{\"color\":\"#4D5663\"},\"text\":\"\"},\"zerolinecolor\":\"#E1E5ED\"},\"yaxis\":{\"gridcolor\":\"#E1E5ED\",\"showgrid\":true,\"tickfont\":{\"color\":\"#4D5663\"},\"title\":{\"font\":{\"color\":\"#4D5663\"},\"text\":\"\"},\"zerolinecolor\":\"#E1E5ED\"}},                        {\"showLink\": true, \"linkText\": \"Export to plot.ly\", \"plotlyServerURL\": \"https://plot.ly\", \"responsive\": true}                    ).then(function(){\n",
       "                            \n",
       "var gd = document.getElementById('c5618add-4b6e-478c-b016-16f9a1fc2ec9');\n",
       "var x = new MutationObserver(function (mutations, observer) {{\n",
       "        var display = window.getComputedStyle(gd).display;\n",
       "        if (!display || display === 'none') {{\n",
       "            console.log([gd, 'removed!']);\n",
       "            Plotly.purge(gd);\n",
       "            observer.disconnect();\n",
       "        }}\n",
       "}});\n",
       "\n",
       "// Listen for the removal of the full notebook cells\n",
       "var notebookContainer = gd.closest('#notebook-container');\n",
       "if (notebookContainer) {{\n",
       "    x.observe(notebookContainer, {childList: true});\n",
       "}}\n",
       "\n",
       "// Listen for the clearing of the current output cell\n",
       "var outputEl = gd.closest('.output');\n",
       "if (outputEl) {{\n",
       "    x.observe(outputEl, {childList: true});\n",
       "}}\n",
       "\n",
       "                        })                };                });            </script>        </div>"
      ]
     },
     "metadata": {},
     "output_type": "display_data"
    }
   ],
   "source": [
    "df2.iplot(kind='bar',x='Category',y='Values')"
   ]
  },
  {
   "cell_type": "code",
   "execution_count": 14,
   "metadata": {},
   "outputs": [
    {
     "data": {
      "application/vnd.plotly.v1+json": {
       "config": {
        "linkText": "Export to plot.ly",
        "plotlyServerURL": "https://plot.ly",
        "showLink": true
       },
       "data": [
        {
         "marker": {
          "color": "rgba(255, 153, 51, 0.6)",
          "line": {
           "color": "rgba(255, 153, 51, 1.0)",
           "width": 1
          }
         },
         "name": "None",
         "orientation": "v",
         "text": "",
         "type": "bar",
         "x": [
          "A",
          "B",
          "C",
          "D"
         ],
         "y": [
          100,
          100,
          100,
          100
         ]
        }
       ],
       "layout": {
        "legend": {
         "bgcolor": "#F5F6F9",
         "font": {
          "color": "#4D5663"
         }
        },
        "paper_bgcolor": "#F5F6F9",
        "plot_bgcolor": "#F5F6F9",
        "template": {
         "data": {
          "bar": [
           {
            "error_x": {
             "color": "#2a3f5f"
            },
            "error_y": {
             "color": "#2a3f5f"
            },
            "marker": {
             "line": {
              "color": "#E5ECF6",
              "width": 0.5
             },
             "pattern": {
              "fillmode": "overlay",
              "size": 10,
              "solidity": 0.2
             }
            },
            "type": "bar"
           }
          ],
          "barpolar": [
           {
            "marker": {
             "line": {
              "color": "#E5ECF6",
              "width": 0.5
             },
             "pattern": {
              "fillmode": "overlay",
              "size": 10,
              "solidity": 0.2
             }
            },
            "type": "barpolar"
           }
          ],
          "carpet": [
           {
            "aaxis": {
             "endlinecolor": "#2a3f5f",
             "gridcolor": "white",
             "linecolor": "white",
             "minorgridcolor": "white",
             "startlinecolor": "#2a3f5f"
            },
            "baxis": {
             "endlinecolor": "#2a3f5f",
             "gridcolor": "white",
             "linecolor": "white",
             "minorgridcolor": "white",
             "startlinecolor": "#2a3f5f"
            },
            "type": "carpet"
           }
          ],
          "choropleth": [
           {
            "colorbar": {
             "outlinewidth": 0,
             "ticks": ""
            },
            "type": "choropleth"
           }
          ],
          "contour": [
           {
            "colorbar": {
             "outlinewidth": 0,
             "ticks": ""
            },
            "colorscale": [
             [
              0,
              "#0d0887"
             ],
             [
              0.1111111111111111,
              "#46039f"
             ],
             [
              0.2222222222222222,
              "#7201a8"
             ],
             [
              0.3333333333333333,
              "#9c179e"
             ],
             [
              0.4444444444444444,
              "#bd3786"
             ],
             [
              0.5555555555555556,
              "#d8576b"
             ],
             [
              0.6666666666666666,
              "#ed7953"
             ],
             [
              0.7777777777777778,
              "#fb9f3a"
             ],
             [
              0.8888888888888888,
              "#fdca26"
             ],
             [
              1,
              "#f0f921"
             ]
            ],
            "type": "contour"
           }
          ],
          "contourcarpet": [
           {
            "colorbar": {
             "outlinewidth": 0,
             "ticks": ""
            },
            "type": "contourcarpet"
           }
          ],
          "heatmap": [
           {
            "colorbar": {
             "outlinewidth": 0,
             "ticks": ""
            },
            "colorscale": [
             [
              0,
              "#0d0887"
             ],
             [
              0.1111111111111111,
              "#46039f"
             ],
             [
              0.2222222222222222,
              "#7201a8"
             ],
             [
              0.3333333333333333,
              "#9c179e"
             ],
             [
              0.4444444444444444,
              "#bd3786"
             ],
             [
              0.5555555555555556,
              "#d8576b"
             ],
             [
              0.6666666666666666,
              "#ed7953"
             ],
             [
              0.7777777777777778,
              "#fb9f3a"
             ],
             [
              0.8888888888888888,
              "#fdca26"
             ],
             [
              1,
              "#f0f921"
             ]
            ],
            "type": "heatmap"
           }
          ],
          "heatmapgl": [
           {
            "colorbar": {
             "outlinewidth": 0,
             "ticks": ""
            },
            "colorscale": [
             [
              0,
              "#0d0887"
             ],
             [
              0.1111111111111111,
              "#46039f"
             ],
             [
              0.2222222222222222,
              "#7201a8"
             ],
             [
              0.3333333333333333,
              "#9c179e"
             ],
             [
              0.4444444444444444,
              "#bd3786"
             ],
             [
              0.5555555555555556,
              "#d8576b"
             ],
             [
              0.6666666666666666,
              "#ed7953"
             ],
             [
              0.7777777777777778,
              "#fb9f3a"
             ],
             [
              0.8888888888888888,
              "#fdca26"
             ],
             [
              1,
              "#f0f921"
             ]
            ],
            "type": "heatmapgl"
           }
          ],
          "histogram": [
           {
            "marker": {
             "pattern": {
              "fillmode": "overlay",
              "size": 10,
              "solidity": 0.2
             }
            },
            "type": "histogram"
           }
          ],
          "histogram2d": [
           {
            "colorbar": {
             "outlinewidth": 0,
             "ticks": ""
            },
            "colorscale": [
             [
              0,
              "#0d0887"
             ],
             [
              0.1111111111111111,
              "#46039f"
             ],
             [
              0.2222222222222222,
              "#7201a8"
             ],
             [
              0.3333333333333333,
              "#9c179e"
             ],
             [
              0.4444444444444444,
              "#bd3786"
             ],
             [
              0.5555555555555556,
              "#d8576b"
             ],
             [
              0.6666666666666666,
              "#ed7953"
             ],
             [
              0.7777777777777778,
              "#fb9f3a"
             ],
             [
              0.8888888888888888,
              "#fdca26"
             ],
             [
              1,
              "#f0f921"
             ]
            ],
            "type": "histogram2d"
           }
          ],
          "histogram2dcontour": [
           {
            "colorbar": {
             "outlinewidth": 0,
             "ticks": ""
            },
            "colorscale": [
             [
              0,
              "#0d0887"
             ],
             [
              0.1111111111111111,
              "#46039f"
             ],
             [
              0.2222222222222222,
              "#7201a8"
             ],
             [
              0.3333333333333333,
              "#9c179e"
             ],
             [
              0.4444444444444444,
              "#bd3786"
             ],
             [
              0.5555555555555556,
              "#d8576b"
             ],
             [
              0.6666666666666666,
              "#ed7953"
             ],
             [
              0.7777777777777778,
              "#fb9f3a"
             ],
             [
              0.8888888888888888,
              "#fdca26"
             ],
             [
              1,
              "#f0f921"
             ]
            ],
            "type": "histogram2dcontour"
           }
          ],
          "mesh3d": [
           {
            "colorbar": {
             "outlinewidth": 0,
             "ticks": ""
            },
            "type": "mesh3d"
           }
          ],
          "parcoords": [
           {
            "line": {
             "colorbar": {
              "outlinewidth": 0,
              "ticks": ""
             }
            },
            "type": "parcoords"
           }
          ],
          "pie": [
           {
            "automargin": true,
            "type": "pie"
           }
          ],
          "scatter": [
           {
            "marker": {
             "colorbar": {
              "outlinewidth": 0,
              "ticks": ""
             }
            },
            "type": "scatter"
           }
          ],
          "scatter3d": [
           {
            "line": {
             "colorbar": {
              "outlinewidth": 0,
              "ticks": ""
             }
            },
            "marker": {
             "colorbar": {
              "outlinewidth": 0,
              "ticks": ""
             }
            },
            "type": "scatter3d"
           }
          ],
          "scattercarpet": [
           {
            "marker": {
             "colorbar": {
              "outlinewidth": 0,
              "ticks": ""
             }
            },
            "type": "scattercarpet"
           }
          ],
          "scattergeo": [
           {
            "marker": {
             "colorbar": {
              "outlinewidth": 0,
              "ticks": ""
             }
            },
            "type": "scattergeo"
           }
          ],
          "scattergl": [
           {
            "marker": {
             "colorbar": {
              "outlinewidth": 0,
              "ticks": ""
             }
            },
            "type": "scattergl"
           }
          ],
          "scattermapbox": [
           {
            "marker": {
             "colorbar": {
              "outlinewidth": 0,
              "ticks": ""
             }
            },
            "type": "scattermapbox"
           }
          ],
          "scatterpolar": [
           {
            "marker": {
             "colorbar": {
              "outlinewidth": 0,
              "ticks": ""
             }
            },
            "type": "scatterpolar"
           }
          ],
          "scatterpolargl": [
           {
            "marker": {
             "colorbar": {
              "outlinewidth": 0,
              "ticks": ""
             }
            },
            "type": "scatterpolargl"
           }
          ],
          "scatterternary": [
           {
            "marker": {
             "colorbar": {
              "outlinewidth": 0,
              "ticks": ""
             }
            },
            "type": "scatterternary"
           }
          ],
          "surface": [
           {
            "colorbar": {
             "outlinewidth": 0,
             "ticks": ""
            },
            "colorscale": [
             [
              0,
              "#0d0887"
             ],
             [
              0.1111111111111111,
              "#46039f"
             ],
             [
              0.2222222222222222,
              "#7201a8"
             ],
             [
              0.3333333333333333,
              "#9c179e"
             ],
             [
              0.4444444444444444,
              "#bd3786"
             ],
             [
              0.5555555555555556,
              "#d8576b"
             ],
             [
              0.6666666666666666,
              "#ed7953"
             ],
             [
              0.7777777777777778,
              "#fb9f3a"
             ],
             [
              0.8888888888888888,
              "#fdca26"
             ],
             [
              1,
              "#f0f921"
             ]
            ],
            "type": "surface"
           }
          ],
          "table": [
           {
            "cells": {
             "fill": {
              "color": "#EBF0F8"
             },
             "line": {
              "color": "white"
             }
            },
            "header": {
             "fill": {
              "color": "#C8D4E3"
             },
             "line": {
              "color": "white"
             }
            },
            "type": "table"
           }
          ]
         },
         "layout": {
          "annotationdefaults": {
           "arrowcolor": "#2a3f5f",
           "arrowhead": 0,
           "arrowwidth": 1
          },
          "autotypenumbers": "strict",
          "coloraxis": {
           "colorbar": {
            "outlinewidth": 0,
            "ticks": ""
           }
          },
          "colorscale": {
           "diverging": [
            [
             0,
             "#8e0152"
            ],
            [
             0.1,
             "#c51b7d"
            ],
            [
             0.2,
             "#de77ae"
            ],
            [
             0.3,
             "#f1b6da"
            ],
            [
             0.4,
             "#fde0ef"
            ],
            [
             0.5,
             "#f7f7f7"
            ],
            [
             0.6,
             "#e6f5d0"
            ],
            [
             0.7,
             "#b8e186"
            ],
            [
             0.8,
             "#7fbc41"
            ],
            [
             0.9,
             "#4d9221"
            ],
            [
             1,
             "#276419"
            ]
           ],
           "sequential": [
            [
             0,
             "#0d0887"
            ],
            [
             0.1111111111111111,
             "#46039f"
            ],
            [
             0.2222222222222222,
             "#7201a8"
            ],
            [
             0.3333333333333333,
             "#9c179e"
            ],
            [
             0.4444444444444444,
             "#bd3786"
            ],
            [
             0.5555555555555556,
             "#d8576b"
            ],
            [
             0.6666666666666666,
             "#ed7953"
            ],
            [
             0.7777777777777778,
             "#fb9f3a"
            ],
            [
             0.8888888888888888,
             "#fdca26"
            ],
            [
             1,
             "#f0f921"
            ]
           ],
           "sequentialminus": [
            [
             0,
             "#0d0887"
            ],
            [
             0.1111111111111111,
             "#46039f"
            ],
            [
             0.2222222222222222,
             "#7201a8"
            ],
            [
             0.3333333333333333,
             "#9c179e"
            ],
            [
             0.4444444444444444,
             "#bd3786"
            ],
            [
             0.5555555555555556,
             "#d8576b"
            ],
            [
             0.6666666666666666,
             "#ed7953"
            ],
            [
             0.7777777777777778,
             "#fb9f3a"
            ],
            [
             0.8888888888888888,
             "#fdca26"
            ],
            [
             1,
             "#f0f921"
            ]
           ]
          },
          "colorway": [
           "#636efa",
           "#EF553B",
           "#00cc96",
           "#ab63fa",
           "#FFA15A",
           "#19d3f3",
           "#FF6692",
           "#B6E880",
           "#FF97FF",
           "#FECB52"
          ],
          "font": {
           "color": "#2a3f5f"
          },
          "geo": {
           "bgcolor": "white",
           "lakecolor": "white",
           "landcolor": "#E5ECF6",
           "showlakes": true,
           "showland": true,
           "subunitcolor": "white"
          },
          "hoverlabel": {
           "align": "left"
          },
          "hovermode": "closest",
          "mapbox": {
           "style": "light"
          },
          "paper_bgcolor": "white",
          "plot_bgcolor": "#E5ECF6",
          "polar": {
           "angularaxis": {
            "gridcolor": "white",
            "linecolor": "white",
            "ticks": ""
           },
           "bgcolor": "#E5ECF6",
           "radialaxis": {
            "gridcolor": "white",
            "linecolor": "white",
            "ticks": ""
           }
          },
          "scene": {
           "xaxis": {
            "backgroundcolor": "#E5ECF6",
            "gridcolor": "white",
            "gridwidth": 2,
            "linecolor": "white",
            "showbackground": true,
            "ticks": "",
            "zerolinecolor": "white"
           },
           "yaxis": {
            "backgroundcolor": "#E5ECF6",
            "gridcolor": "white",
            "gridwidth": 2,
            "linecolor": "white",
            "showbackground": true,
            "ticks": "",
            "zerolinecolor": "white"
           },
           "zaxis": {
            "backgroundcolor": "#E5ECF6",
            "gridcolor": "white",
            "gridwidth": 2,
            "linecolor": "white",
            "showbackground": true,
            "ticks": "",
            "zerolinecolor": "white"
           }
          },
          "shapedefaults": {
           "line": {
            "color": "#2a3f5f"
           }
          },
          "ternary": {
           "aaxis": {
            "gridcolor": "white",
            "linecolor": "white",
            "ticks": ""
           },
           "baxis": {
            "gridcolor": "white",
            "linecolor": "white",
            "ticks": ""
           },
           "bgcolor": "#E5ECF6",
           "caxis": {
            "gridcolor": "white",
            "linecolor": "white",
            "ticks": ""
           }
          },
          "title": {
           "x": 0.05
          },
          "xaxis": {
           "automargin": true,
           "gridcolor": "white",
           "linecolor": "white",
           "ticks": "",
           "title": {
            "standoff": 15
           },
           "zerolinecolor": "white",
           "zerolinewidth": 2
          },
          "yaxis": {
           "automargin": true,
           "gridcolor": "white",
           "linecolor": "white",
           "ticks": "",
           "title": {
            "standoff": 15
           },
           "zerolinecolor": "white",
           "zerolinewidth": 2
          }
         }
        },
        "title": {
         "font": {
          "color": "#4D5663"
         }
        },
        "xaxis": {
         "gridcolor": "#E1E5ED",
         "showgrid": true,
         "tickfont": {
          "color": "#4D5663"
         },
         "title": {
          "font": {
           "color": "#4D5663"
          },
          "text": ""
         },
         "zerolinecolor": "#E1E5ED"
        },
        "yaxis": {
         "gridcolor": "#E1E5ED",
         "showgrid": true,
         "tickfont": {
          "color": "#4D5663"
         },
         "title": {
          "font": {
           "color": "#4D5663"
          },
          "text": ""
         },
         "zerolinecolor": "#E1E5ED"
        }
       }
      },
      "text/html": [
       "<div>                            <div id=\"97030645-901a-401c-a6ca-0faf4dd1ee70\" class=\"plotly-graph-div\" style=\"height:525px; width:100%;\"></div>            <script type=\"text/javascript\">                require([\"plotly\"], function(Plotly) {                    window.PLOTLYENV=window.PLOTLYENV || {};\n",
       "                    window.PLOTLYENV.BASE_URL='https://plot.ly';                                    if (document.getElementById(\"97030645-901a-401c-a6ca-0faf4dd1ee70\")) {                    Plotly.newPlot(                        \"97030645-901a-401c-a6ca-0faf4dd1ee70\",                        [{\"marker\":{\"color\":\"rgba(255, 153, 51, 0.6)\",\"line\":{\"color\":\"rgba(255, 153, 51, 1.0)\",\"width\":1}},\"name\":\"None\",\"orientation\":\"v\",\"text\":\"\",\"x\":[\"A\",\"B\",\"C\",\"D\"],\"y\":[100,100,100,100],\"type\":\"bar\"}],                        {\"legend\":{\"bgcolor\":\"#F5F6F9\",\"font\":{\"color\":\"#4D5663\"}},\"paper_bgcolor\":\"#F5F6F9\",\"plot_bgcolor\":\"#F5F6F9\",\"template\":{\"data\":{\"barpolar\":[{\"marker\":{\"line\":{\"color\":\"#E5ECF6\",\"width\":0.5},\"pattern\":{\"fillmode\":\"overlay\",\"size\":10,\"solidity\":0.2}},\"type\":\"barpolar\"}],\"bar\":[{\"error_x\":{\"color\":\"#2a3f5f\"},\"error_y\":{\"color\":\"#2a3f5f\"},\"marker\":{\"line\":{\"color\":\"#E5ECF6\",\"width\":0.5},\"pattern\":{\"fillmode\":\"overlay\",\"size\":10,\"solidity\":0.2}},\"type\":\"bar\"}],\"carpet\":[{\"aaxis\":{\"endlinecolor\":\"#2a3f5f\",\"gridcolor\":\"white\",\"linecolor\":\"white\",\"minorgridcolor\":\"white\",\"startlinecolor\":\"#2a3f5f\"},\"baxis\":{\"endlinecolor\":\"#2a3f5f\",\"gridcolor\":\"white\",\"linecolor\":\"white\",\"minorgridcolor\":\"white\",\"startlinecolor\":\"#2a3f5f\"},\"type\":\"carpet\"}],\"choropleth\":[{\"colorbar\":{\"outlinewidth\":0,\"ticks\":\"\"},\"type\":\"choropleth\"}],\"contourcarpet\":[{\"colorbar\":{\"outlinewidth\":0,\"ticks\":\"\"},\"type\":\"contourcarpet\"}],\"contour\":[{\"colorbar\":{\"outlinewidth\":0,\"ticks\":\"\"},\"colorscale\":[[0.0,\"#0d0887\"],[0.1111111111111111,\"#46039f\"],[0.2222222222222222,\"#7201a8\"],[0.3333333333333333,\"#9c179e\"],[0.4444444444444444,\"#bd3786\"],[0.5555555555555556,\"#d8576b\"],[0.6666666666666666,\"#ed7953\"],[0.7777777777777778,\"#fb9f3a\"],[0.8888888888888888,\"#fdca26\"],[1.0,\"#f0f921\"]],\"type\":\"contour\"}],\"heatmapgl\":[{\"colorbar\":{\"outlinewidth\":0,\"ticks\":\"\"},\"colorscale\":[[0.0,\"#0d0887\"],[0.1111111111111111,\"#46039f\"],[0.2222222222222222,\"#7201a8\"],[0.3333333333333333,\"#9c179e\"],[0.4444444444444444,\"#bd3786\"],[0.5555555555555556,\"#d8576b\"],[0.6666666666666666,\"#ed7953\"],[0.7777777777777778,\"#fb9f3a\"],[0.8888888888888888,\"#fdca26\"],[1.0,\"#f0f921\"]],\"type\":\"heatmapgl\"}],\"heatmap\":[{\"colorbar\":{\"outlinewidth\":0,\"ticks\":\"\"},\"colorscale\":[[0.0,\"#0d0887\"],[0.1111111111111111,\"#46039f\"],[0.2222222222222222,\"#7201a8\"],[0.3333333333333333,\"#9c179e\"],[0.4444444444444444,\"#bd3786\"],[0.5555555555555556,\"#d8576b\"],[0.6666666666666666,\"#ed7953\"],[0.7777777777777778,\"#fb9f3a\"],[0.8888888888888888,\"#fdca26\"],[1.0,\"#f0f921\"]],\"type\":\"heatmap\"}],\"histogram2dcontour\":[{\"colorbar\":{\"outlinewidth\":0,\"ticks\":\"\"},\"colorscale\":[[0.0,\"#0d0887\"],[0.1111111111111111,\"#46039f\"],[0.2222222222222222,\"#7201a8\"],[0.3333333333333333,\"#9c179e\"],[0.4444444444444444,\"#bd3786\"],[0.5555555555555556,\"#d8576b\"],[0.6666666666666666,\"#ed7953\"],[0.7777777777777778,\"#fb9f3a\"],[0.8888888888888888,\"#fdca26\"],[1.0,\"#f0f921\"]],\"type\":\"histogram2dcontour\"}],\"histogram2d\":[{\"colorbar\":{\"outlinewidth\":0,\"ticks\":\"\"},\"colorscale\":[[0.0,\"#0d0887\"],[0.1111111111111111,\"#46039f\"],[0.2222222222222222,\"#7201a8\"],[0.3333333333333333,\"#9c179e\"],[0.4444444444444444,\"#bd3786\"],[0.5555555555555556,\"#d8576b\"],[0.6666666666666666,\"#ed7953\"],[0.7777777777777778,\"#fb9f3a\"],[0.8888888888888888,\"#fdca26\"],[1.0,\"#f0f921\"]],\"type\":\"histogram2d\"}],\"histogram\":[{\"marker\":{\"pattern\":{\"fillmode\":\"overlay\",\"size\":10,\"solidity\":0.2}},\"type\":\"histogram\"}],\"mesh3d\":[{\"colorbar\":{\"outlinewidth\":0,\"ticks\":\"\"},\"type\":\"mesh3d\"}],\"parcoords\":[{\"line\":{\"colorbar\":{\"outlinewidth\":0,\"ticks\":\"\"}},\"type\":\"parcoords\"}],\"pie\":[{\"automargin\":true,\"type\":\"pie\"}],\"scatter3d\":[{\"line\":{\"colorbar\":{\"outlinewidth\":0,\"ticks\":\"\"}},\"marker\":{\"colorbar\":{\"outlinewidth\":0,\"ticks\":\"\"}},\"type\":\"scatter3d\"}],\"scattercarpet\":[{\"marker\":{\"colorbar\":{\"outlinewidth\":0,\"ticks\":\"\"}},\"type\":\"scattercarpet\"}],\"scattergeo\":[{\"marker\":{\"colorbar\":{\"outlinewidth\":0,\"ticks\":\"\"}},\"type\":\"scattergeo\"}],\"scattergl\":[{\"marker\":{\"colorbar\":{\"outlinewidth\":0,\"ticks\":\"\"}},\"type\":\"scattergl\"}],\"scattermapbox\":[{\"marker\":{\"colorbar\":{\"outlinewidth\":0,\"ticks\":\"\"}},\"type\":\"scattermapbox\"}],\"scatterpolargl\":[{\"marker\":{\"colorbar\":{\"outlinewidth\":0,\"ticks\":\"\"}},\"type\":\"scatterpolargl\"}],\"scatterpolar\":[{\"marker\":{\"colorbar\":{\"outlinewidth\":0,\"ticks\":\"\"}},\"type\":\"scatterpolar\"}],\"scatter\":[{\"marker\":{\"colorbar\":{\"outlinewidth\":0,\"ticks\":\"\"}},\"type\":\"scatter\"}],\"scatterternary\":[{\"marker\":{\"colorbar\":{\"outlinewidth\":0,\"ticks\":\"\"}},\"type\":\"scatterternary\"}],\"surface\":[{\"colorbar\":{\"outlinewidth\":0,\"ticks\":\"\"},\"colorscale\":[[0.0,\"#0d0887\"],[0.1111111111111111,\"#46039f\"],[0.2222222222222222,\"#7201a8\"],[0.3333333333333333,\"#9c179e\"],[0.4444444444444444,\"#bd3786\"],[0.5555555555555556,\"#d8576b\"],[0.6666666666666666,\"#ed7953\"],[0.7777777777777778,\"#fb9f3a\"],[0.8888888888888888,\"#fdca26\"],[1.0,\"#f0f921\"]],\"type\":\"surface\"}],\"table\":[{\"cells\":{\"fill\":{\"color\":\"#EBF0F8\"},\"line\":{\"color\":\"white\"}},\"header\":{\"fill\":{\"color\":\"#C8D4E3\"},\"line\":{\"color\":\"white\"}},\"type\":\"table\"}]},\"layout\":{\"annotationdefaults\":{\"arrowcolor\":\"#2a3f5f\",\"arrowhead\":0,\"arrowwidth\":1},\"autotypenumbers\":\"strict\",\"coloraxis\":{\"colorbar\":{\"outlinewidth\":0,\"ticks\":\"\"}},\"colorscale\":{\"diverging\":[[0,\"#8e0152\"],[0.1,\"#c51b7d\"],[0.2,\"#de77ae\"],[0.3,\"#f1b6da\"],[0.4,\"#fde0ef\"],[0.5,\"#f7f7f7\"],[0.6,\"#e6f5d0\"],[0.7,\"#b8e186\"],[0.8,\"#7fbc41\"],[0.9,\"#4d9221\"],[1,\"#276419\"]],\"sequential\":[[0.0,\"#0d0887\"],[0.1111111111111111,\"#46039f\"],[0.2222222222222222,\"#7201a8\"],[0.3333333333333333,\"#9c179e\"],[0.4444444444444444,\"#bd3786\"],[0.5555555555555556,\"#d8576b\"],[0.6666666666666666,\"#ed7953\"],[0.7777777777777778,\"#fb9f3a\"],[0.8888888888888888,\"#fdca26\"],[1.0,\"#f0f921\"]],\"sequentialminus\":[[0.0,\"#0d0887\"],[0.1111111111111111,\"#46039f\"],[0.2222222222222222,\"#7201a8\"],[0.3333333333333333,\"#9c179e\"],[0.4444444444444444,\"#bd3786\"],[0.5555555555555556,\"#d8576b\"],[0.6666666666666666,\"#ed7953\"],[0.7777777777777778,\"#fb9f3a\"],[0.8888888888888888,\"#fdca26\"],[1.0,\"#f0f921\"]]},\"colorway\":[\"#636efa\",\"#EF553B\",\"#00cc96\",\"#ab63fa\",\"#FFA15A\",\"#19d3f3\",\"#FF6692\",\"#B6E880\",\"#FF97FF\",\"#FECB52\"],\"font\":{\"color\":\"#2a3f5f\"},\"geo\":{\"bgcolor\":\"white\",\"lakecolor\":\"white\",\"landcolor\":\"#E5ECF6\",\"showlakes\":true,\"showland\":true,\"subunitcolor\":\"white\"},\"hoverlabel\":{\"align\":\"left\"},\"hovermode\":\"closest\",\"mapbox\":{\"style\":\"light\"},\"paper_bgcolor\":\"white\",\"plot_bgcolor\":\"#E5ECF6\",\"polar\":{\"angularaxis\":{\"gridcolor\":\"white\",\"linecolor\":\"white\",\"ticks\":\"\"},\"bgcolor\":\"#E5ECF6\",\"radialaxis\":{\"gridcolor\":\"white\",\"linecolor\":\"white\",\"ticks\":\"\"}},\"scene\":{\"xaxis\":{\"backgroundcolor\":\"#E5ECF6\",\"gridcolor\":\"white\",\"gridwidth\":2,\"linecolor\":\"white\",\"showbackground\":true,\"ticks\":\"\",\"zerolinecolor\":\"white\"},\"yaxis\":{\"backgroundcolor\":\"#E5ECF6\",\"gridcolor\":\"white\",\"gridwidth\":2,\"linecolor\":\"white\",\"showbackground\":true,\"ticks\":\"\",\"zerolinecolor\":\"white\"},\"zaxis\":{\"backgroundcolor\":\"#E5ECF6\",\"gridcolor\":\"white\",\"gridwidth\":2,\"linecolor\":\"white\",\"showbackground\":true,\"ticks\":\"\",\"zerolinecolor\":\"white\"}},\"shapedefaults\":{\"line\":{\"color\":\"#2a3f5f\"}},\"ternary\":{\"aaxis\":{\"gridcolor\":\"white\",\"linecolor\":\"white\",\"ticks\":\"\"},\"baxis\":{\"gridcolor\":\"white\",\"linecolor\":\"white\",\"ticks\":\"\"},\"bgcolor\":\"#E5ECF6\",\"caxis\":{\"gridcolor\":\"white\",\"linecolor\":\"white\",\"ticks\":\"\"}},\"title\":{\"x\":0.05},\"xaxis\":{\"automargin\":true,\"gridcolor\":\"white\",\"linecolor\":\"white\",\"ticks\":\"\",\"title\":{\"standoff\":15},\"zerolinecolor\":\"white\",\"zerolinewidth\":2},\"yaxis\":{\"automargin\":true,\"gridcolor\":\"white\",\"linecolor\":\"white\",\"ticks\":\"\",\"title\":{\"standoff\":15},\"zerolinecolor\":\"white\",\"zerolinewidth\":2}}},\"title\":{\"font\":{\"color\":\"#4D5663\"}},\"xaxis\":{\"gridcolor\":\"#E1E5ED\",\"showgrid\":true,\"tickfont\":{\"color\":\"#4D5663\"},\"title\":{\"font\":{\"color\":\"#4D5663\"},\"text\":\"\"},\"zerolinecolor\":\"#E1E5ED\"},\"yaxis\":{\"gridcolor\":\"#E1E5ED\",\"showgrid\":true,\"tickfont\":{\"color\":\"#4D5663\"},\"title\":{\"font\":{\"color\":\"#4D5663\"},\"text\":\"\"},\"zerolinecolor\":\"#E1E5ED\"}},                        {\"showLink\": true, \"linkText\": \"Export to plot.ly\", \"plotlyServerURL\": \"https://plot.ly\", \"responsive\": true}                    ).then(function(){\n",
       "                            \n",
       "var gd = document.getElementById('97030645-901a-401c-a6ca-0faf4dd1ee70');\n",
       "var x = new MutationObserver(function (mutations, observer) {{\n",
       "        var display = window.getComputedStyle(gd).display;\n",
       "        if (!display || display === 'none') {{\n",
       "            console.log([gd, 'removed!']);\n",
       "            Plotly.purge(gd);\n",
       "            observer.disconnect();\n",
       "        }}\n",
       "}});\n",
       "\n",
       "// Listen for the removal of the full notebook cells\n",
       "var notebookContainer = gd.closest('#notebook-container');\n",
       "if (notebookContainer) {{\n",
       "    x.observe(notebookContainer, {childList: true});\n",
       "}}\n",
       "\n",
       "// Listen for the clearing of the current output cell\n",
       "var outputEl = gd.closest('.output');\n",
       "if (outputEl) {{\n",
       "    x.observe(outputEl, {childList: true});\n",
       "}}\n",
       "\n",
       "                        })                };                });            </script>        </div>"
      ]
     },
     "metadata": {},
     "output_type": "display_data"
    }
   ],
   "source": [
    "df.count().iplot(kind='bar')"
   ]
  },
  {
   "cell_type": "markdown",
   "metadata": {},
   "source": [
    "## Boxplots"
   ]
  },
  {
   "cell_type": "code",
   "execution_count": 15,
   "metadata": {},
   "outputs": [
    {
     "data": {
      "application/vnd.plotly.v1+json": {
       "config": {
        "linkText": "Export to plot.ly",
        "plotlyServerURL": "https://plot.ly",
        "showLink": true
       },
       "data": [
        {
         "boxpoints": false,
         "line": {
          "width": 1.3
         },
         "marker": {
          "color": "rgba(255, 153, 51, 1.0)"
         },
         "name": "A",
         "orientation": "v",
         "type": "box",
         "y": [
          -1.4988901786541045,
          -0.001422821726739044,
          -0.2304684055770329,
          0.23997464714259756,
          0.18192721535380907,
          0.19164720456797463,
          0.8934074803005699,
          -0.16678903578641818,
          -1.0084349560508432,
          -0.03497746442877197,
          -0.29407807175981265,
          -0.6006039772725303,
          -1.9183720589496456,
          1.1614531567992483,
          0.7099754557782095,
          0.0597482684433398,
          -0.7208573651997514,
          0.3855346391785886,
          -0.6452196773049834,
          -0.976381166476433,
          0.6594618598235175,
          1.5365704381442875,
          -0.8503296300579475,
          -0.6817453467007452,
          -0.9463322508133754,
          -0.19411061226880635,
          0.7592740048310302,
          -1.1926747622253955,
          1.400547023742745,
          -0.01495067745602767,
          -1.7115247300904346,
          -0.36124821109843847,
          -0.9945764316187472,
          -0.02174742702343883,
          0.4271204474826363,
          2.0458262738449973,
          0.38003902187660327,
          0.12799810814049276,
          -1.114003422680656,
          -0.06648643302860642,
          -0.9862118908244232,
          0.2492347168731393,
          0.17820277695620237,
          -0.7387340723009684,
          -0.31798405254195145,
          0.9524360693241468,
          0.9861659791518401,
          0.7148700640697296,
          -0.22592732878489613,
          2.3080279320676045,
          0.787929315365375,
          -0.48486969233250055,
          0.4027834014210285,
          1.4822702738530436,
          1.3038659671232047,
          -0.6523787149594126,
          -0.020653413306827302,
          1.27795507641576,
          0.9017516859560875,
          0.3656487115665125,
          -0.17128934489835104,
          0.6007005503795194,
          0.3206977385185198,
          -1.6303945368009163,
          0.6030078809689943,
          -0.6207387600421282,
          0.9288566443524915,
          1.003041834488083,
          0.6555148863499219,
          1.8369810188217182,
          -1.1342616020404406,
          -0.03959247097223943,
          0.27889716160290184,
          0.5964316283866732,
          -0.36252227062175946,
          -0.34907991775801606,
          -0.7457953929282686,
          -0.025432745061922953,
          -1.9507489350848062,
          -1.041117167054891,
          0.22955684614254096,
          -0.7594240891624068,
          -0.26728306802932256,
          -0.5574003405662921,
          -0.5552647869514891,
          -0.27986732142818244,
          -0.3176914326608163,
          1.1045692759785846,
          -1.1308518489324335,
          -0.3919640656418023,
          -1.0287786375678944,
          -0.5389389032984023,
          1.5990545052027803,
          -0.9840034230949485,
          0.9466879685336848,
          -0.2562696339386158,
          -0.4170640840563133,
          -0.7355380779682636,
          0.7659323423522455,
          -0.2871147614324862
         ]
        },
        {
         "boxpoints": false,
         "line": {
          "width": 1.3
         },
         "marker": {
          "color": "rgba(55, 128, 191, 1.0)"
         },
         "name": "B",
         "orientation": "v",
         "type": "box",
         "y": [
          0.23526574448227672,
          1.168163947055222,
          0.2603253096157711,
          -1.7094688244238117,
          1.2314559187199188,
          1.6726392784566257,
          1.110882751972855,
          2.4989591704588947,
          -0.21090740427651708,
          0.6710299469446712,
          0.5112763692090437,
          -0.3007727133257675,
          -0.44789669873124577,
          -0.683971266219679,
          -0.035603974521086434,
          0.9453888391325656,
          -0.3642535594012888,
          -0.7333466976832804,
          1.2214417366538486,
          -0.41663209241617577,
          0.6251585915454666,
          0.7118831843227998,
          -0.7328897597367783,
          0.41557603199328913,
          0.09317786774577878,
          0.1935706418538896,
          0.7567493246413372,
          -0.7890825203287073,
          0.470082990361827,
          0.2988970555631342,
          0.5477894960342421,
          -0.839905415734585,
          -2.285938793357377,
          1.1672269099760322,
          0.15066291368605914,
          0.691394580518865,
          1.550852584290744,
          0.2356201953546311,
          -0.5119547775416198,
          -0.17958271427017333,
          2.4751023612296494,
          0.8485209816138845,
          -1.6716169800928415,
          1.4212479055478549,
          1.373356337287798,
          1.1561028656871015,
          -0.1419436980968088,
          0.7187691549260182,
          3.0364205633719425,
          0.734284800443334,
          -0.9813275386456558,
          0.28835595613774406,
          0.2177289571851628,
          -1.5979716350858764,
          1.7533737527925104,
          2.455263171182504,
          -0.998996487354798,
          1.6647065302884583,
          0.13487899639228673,
          -0.9204221983040389,
          -0.5260204719325334,
          0.3729631855801561,
          -1.7881349756837503,
          -0.06024704765386666,
          -0.35343347656634894,
          -0.32862076542402474,
          -0.3296552300795083,
          0.7959402796708153,
          -0.2591835000266135,
          0.9291618039459419,
          2.526294058316706,
          -0.4158483633854793,
          -2.114171050587124,
          -1.5980731814780682,
          3.060158018044401,
          0.8864017834192536,
          -0.7888369809411898,
          -0.22207270455452055,
          0.2919727650947669,
          1.7298690787747741,
          -1.1907371521158825,
          -0.7481014500130333,
          -1.3126581161022361,
          0.556183164685591,
          1.3643829245990822,
          0.23609289097665742,
          -0.783866036842399,
          0.21681356368855853,
          0.5960968696295027,
          -0.04396548150781571,
          -0.8883792916898136,
          -0.2869425360225565,
          0.663551053787133,
          0.7616302112157503,
          0.2615442593539925,
          1.6195140569719841,
          0.04943547707619654,
          0.762492090412884,
          -3.0235275989995,
          -0.6972617199851123
         ]
        },
        {
         "boxpoints": false,
         "line": {
          "width": 1.3
         },
         "marker": {
          "color": "rgba(50, 171, 96, 1.0)"
         },
         "name": "C",
         "orientation": "v",
         "type": "box",
         "y": [
          -0.6721054830618163,
          0.04155124736259395,
          0.7692227448681659,
          1.2018543046190742,
          -1.3895799534825057,
          -0.13986742515460016,
          0.20680584971717506,
          -1.2375755209975055,
          0.2748276280206249,
          -0.9321398412097541,
          0.13094629693961418,
          0.5486985863756676,
          -1.9886073067653744,
          0.1377455666610931,
          1.453981498965094,
          -1.1636735569946803,
          -0.6381256018220831,
          0.24016156194284022,
          -0.10703017970101508,
          0.16433225410440552,
          0.8531079898217108,
          1.6121552354073403,
          0.6752632364620416,
          0.42470164228165075,
          0.8419872410410988,
          0.2027351375903432,
          -1.3398091831197878,
          0.6980975776663457,
          -1.5977507860270195,
          2.0156066648331064,
          0.1894203169898418,
          -1.262191998452755,
          0.2421426433968026,
          0.8894250373970279,
          -1.2747913284971648,
          -1.2214202094176518,
          0.492344745944777,
          -0.0005811540557410889,
          0.2651774197952579,
          -1.7138206058548793,
          0.9358135995670254,
          0.13575129717698095,
          -0.766123378667851,
          -1.3900404553640864,
          1.0520155069593347,
          0.8881391602820637,
          0.3228724111252909,
          1.2640701130622274,
          1.0123932381650467,
          -0.48498439499425805,
          -0.3695252941463228,
          -0.4177107301373769,
          -0.3632625423585063,
          -2.0473737075168965,
          -0.969514659884145,
          -1.009087218129252,
          0.5557092264085043,
          0.04324906215682579,
          0.1580912743653798,
          -1.2735162466467338,
          -3.2427099683814293,
          -0.7940960806105345,
          1.8485957694095079,
          1.240587131176431,
          1.607574353631272,
          0.9673253953080366,
          0.6194483749879988,
          -0.3326426058262767,
          0.06435808504729362,
          -1.9251762616167312,
          1.3987969071993855,
          -0.25397463387421776,
          1.1682073059162448,
          -1.7644476573328416,
          0.7327323173813448,
          0.9947355849774328,
          0.5453518341795917,
          1.19080558599387,
          1.2093897545788723,
          0.6706625192394372,
          -1.6457577450899186,
          0.7985572506119272,
          0.844699713555325,
          3.1313601284169064,
          -1.8121698719347574,
          0.8210069022416058,
          -0.6197824971970205,
          -0.26608675431992823,
          1.0968910955996245,
          -0.15649991655276047,
          -1.1543940361329577,
          -2.041746319215282,
          1.004924176818934,
          -0.5377172116680294,
          0.6024246724870307,
          1.2352666198746274,
          -0.6105721742972088,
          -0.11960291524138328,
          -0.14565417326896715,
          1.5968344449979148
         ]
        },
        {
         "boxpoints": false,
         "line": {
          "width": 1.3
         },
         "marker": {
          "color": "rgba(128, 0, 128, 1.0)"
         },
         "name": "D",
         "orientation": "v",
         "type": "box",
         "y": [
          0.6192282002215885,
          0.7516634413897418,
          2.6291119930596283,
          -1.112229452178899,
          -1.218471223876959,
          0.3898577417045848,
          0.5050744413729968,
          1.5311029453343552,
          -1.7920281996444196,
          -0.8445128044351861,
          -0.6744958296736583,
          -2.228362195462207,
          0.37372523500853666,
          1.7887856543417633,
          0.2587332442071377,
          -1.2169599946828844,
          0.5892027747522933,
          -0.6410020739161971,
          0.2885432402606802,
          -0.03454125696368498,
          1.392047624735117,
          1.6330404342582534,
          -0.36982777062599115,
          -1.1044943935988925,
          0.17707233168320471,
          -0.7673975208664824,
          0.7308513958474311,
          1.2882129613239683,
          1.9276937238391547,
          -2.1845092910608113,
          0.6444536924263001,
          0.6665937444037361,
          -0.8377732695050673,
          1.0422617474084055,
          -1.2045521445781036,
          1.2678720943236752,
          -1.013087924793577,
          -0.1728395528302726,
          -0.3944252398071723,
          0.7193352674390059,
          -1.2321564012964976,
          -0.1986564692551516,
          0.6545959593733198,
          -2.1588463704159886,
          -0.7596719367631934,
          -0.4400423221706656,
          0.7065313829415042,
          -1.4504908223014932,
          -0.6561349387559162,
          1.22579257684457,
          -1.1368222351264505,
          0.7709081448107813,
          -0.05352141996538078,
          0.39204665978888587,
          -0.46811805709216725,
          -1.6616082378127675,
          1.1070200754640982,
          -0.6430701883327777,
          -0.5891948682777047,
          -0.23926298071788035,
          -0.4132449764707921,
          0.15139128080495068,
          -0.37366953005573944,
          -1.1574430045537683,
          -1.509218582881698,
          -1.2383335260629713,
          -1.2045140221112487,
          -0.538679102868873,
          0.40991392914883973,
          -0.7420839755730767,
          0.21513021517206274,
          -0.8661508144937152,
          -1.1112533780479816,
          0.8730759371895707,
          -3.3593262177645866,
          -1.4132467106977238,
          -1.944666953122912,
          0.6337870945293379,
          0.6940810642203904,
          1.3580794427153289,
          0.5497729622602447,
          -1.9994087343690035,
          -0.40559548223827147,
          -0.47692207719097135,
          0.14200909497017727,
          0.31571664112410847,
          -0.028135427586822446,
          0.0075806977970474705,
          0.08098974764692758,
          1.1506250505901732,
          -0.3415571987660383,
          -0.5079535580892626,
          0.15588531275565187,
          0.7861985971095445,
          -0.12056561649644168,
          0.7944933671890922,
          -0.956726236656994,
          1.6326065998840578,
          -0.8866144337378922,
          1.3755041411436952
         ]
        }
       ],
       "layout": {
        "legend": {
         "bgcolor": "#F5F6F9",
         "font": {
          "color": "#4D5663"
         }
        },
        "paper_bgcolor": "#F5F6F9",
        "plot_bgcolor": "#F5F6F9",
        "template": {
         "data": {
          "bar": [
           {
            "error_x": {
             "color": "#2a3f5f"
            },
            "error_y": {
             "color": "#2a3f5f"
            },
            "marker": {
             "line": {
              "color": "#E5ECF6",
              "width": 0.5
             },
             "pattern": {
              "fillmode": "overlay",
              "size": 10,
              "solidity": 0.2
             }
            },
            "type": "bar"
           }
          ],
          "barpolar": [
           {
            "marker": {
             "line": {
              "color": "#E5ECF6",
              "width": 0.5
             },
             "pattern": {
              "fillmode": "overlay",
              "size": 10,
              "solidity": 0.2
             }
            },
            "type": "barpolar"
           }
          ],
          "carpet": [
           {
            "aaxis": {
             "endlinecolor": "#2a3f5f",
             "gridcolor": "white",
             "linecolor": "white",
             "minorgridcolor": "white",
             "startlinecolor": "#2a3f5f"
            },
            "baxis": {
             "endlinecolor": "#2a3f5f",
             "gridcolor": "white",
             "linecolor": "white",
             "minorgridcolor": "white",
             "startlinecolor": "#2a3f5f"
            },
            "type": "carpet"
           }
          ],
          "choropleth": [
           {
            "colorbar": {
             "outlinewidth": 0,
             "ticks": ""
            },
            "type": "choropleth"
           }
          ],
          "contour": [
           {
            "colorbar": {
             "outlinewidth": 0,
             "ticks": ""
            },
            "colorscale": [
             [
              0,
              "#0d0887"
             ],
             [
              0.1111111111111111,
              "#46039f"
             ],
             [
              0.2222222222222222,
              "#7201a8"
             ],
             [
              0.3333333333333333,
              "#9c179e"
             ],
             [
              0.4444444444444444,
              "#bd3786"
             ],
             [
              0.5555555555555556,
              "#d8576b"
             ],
             [
              0.6666666666666666,
              "#ed7953"
             ],
             [
              0.7777777777777778,
              "#fb9f3a"
             ],
             [
              0.8888888888888888,
              "#fdca26"
             ],
             [
              1,
              "#f0f921"
             ]
            ],
            "type": "contour"
           }
          ],
          "contourcarpet": [
           {
            "colorbar": {
             "outlinewidth": 0,
             "ticks": ""
            },
            "type": "contourcarpet"
           }
          ],
          "heatmap": [
           {
            "colorbar": {
             "outlinewidth": 0,
             "ticks": ""
            },
            "colorscale": [
             [
              0,
              "#0d0887"
             ],
             [
              0.1111111111111111,
              "#46039f"
             ],
             [
              0.2222222222222222,
              "#7201a8"
             ],
             [
              0.3333333333333333,
              "#9c179e"
             ],
             [
              0.4444444444444444,
              "#bd3786"
             ],
             [
              0.5555555555555556,
              "#d8576b"
             ],
             [
              0.6666666666666666,
              "#ed7953"
             ],
             [
              0.7777777777777778,
              "#fb9f3a"
             ],
             [
              0.8888888888888888,
              "#fdca26"
             ],
             [
              1,
              "#f0f921"
             ]
            ],
            "type": "heatmap"
           }
          ],
          "heatmapgl": [
           {
            "colorbar": {
             "outlinewidth": 0,
             "ticks": ""
            },
            "colorscale": [
             [
              0,
              "#0d0887"
             ],
             [
              0.1111111111111111,
              "#46039f"
             ],
             [
              0.2222222222222222,
              "#7201a8"
             ],
             [
              0.3333333333333333,
              "#9c179e"
             ],
             [
              0.4444444444444444,
              "#bd3786"
             ],
             [
              0.5555555555555556,
              "#d8576b"
             ],
             [
              0.6666666666666666,
              "#ed7953"
             ],
             [
              0.7777777777777778,
              "#fb9f3a"
             ],
             [
              0.8888888888888888,
              "#fdca26"
             ],
             [
              1,
              "#f0f921"
             ]
            ],
            "type": "heatmapgl"
           }
          ],
          "histogram": [
           {
            "marker": {
             "pattern": {
              "fillmode": "overlay",
              "size": 10,
              "solidity": 0.2
             }
            },
            "type": "histogram"
           }
          ],
          "histogram2d": [
           {
            "colorbar": {
             "outlinewidth": 0,
             "ticks": ""
            },
            "colorscale": [
             [
              0,
              "#0d0887"
             ],
             [
              0.1111111111111111,
              "#46039f"
             ],
             [
              0.2222222222222222,
              "#7201a8"
             ],
             [
              0.3333333333333333,
              "#9c179e"
             ],
             [
              0.4444444444444444,
              "#bd3786"
             ],
             [
              0.5555555555555556,
              "#d8576b"
             ],
             [
              0.6666666666666666,
              "#ed7953"
             ],
             [
              0.7777777777777778,
              "#fb9f3a"
             ],
             [
              0.8888888888888888,
              "#fdca26"
             ],
             [
              1,
              "#f0f921"
             ]
            ],
            "type": "histogram2d"
           }
          ],
          "histogram2dcontour": [
           {
            "colorbar": {
             "outlinewidth": 0,
             "ticks": ""
            },
            "colorscale": [
             [
              0,
              "#0d0887"
             ],
             [
              0.1111111111111111,
              "#46039f"
             ],
             [
              0.2222222222222222,
              "#7201a8"
             ],
             [
              0.3333333333333333,
              "#9c179e"
             ],
             [
              0.4444444444444444,
              "#bd3786"
             ],
             [
              0.5555555555555556,
              "#d8576b"
             ],
             [
              0.6666666666666666,
              "#ed7953"
             ],
             [
              0.7777777777777778,
              "#fb9f3a"
             ],
             [
              0.8888888888888888,
              "#fdca26"
             ],
             [
              1,
              "#f0f921"
             ]
            ],
            "type": "histogram2dcontour"
           }
          ],
          "mesh3d": [
           {
            "colorbar": {
             "outlinewidth": 0,
             "ticks": ""
            },
            "type": "mesh3d"
           }
          ],
          "parcoords": [
           {
            "line": {
             "colorbar": {
              "outlinewidth": 0,
              "ticks": ""
             }
            },
            "type": "parcoords"
           }
          ],
          "pie": [
           {
            "automargin": true,
            "type": "pie"
           }
          ],
          "scatter": [
           {
            "marker": {
             "colorbar": {
              "outlinewidth": 0,
              "ticks": ""
             }
            },
            "type": "scatter"
           }
          ],
          "scatter3d": [
           {
            "line": {
             "colorbar": {
              "outlinewidth": 0,
              "ticks": ""
             }
            },
            "marker": {
             "colorbar": {
              "outlinewidth": 0,
              "ticks": ""
             }
            },
            "type": "scatter3d"
           }
          ],
          "scattercarpet": [
           {
            "marker": {
             "colorbar": {
              "outlinewidth": 0,
              "ticks": ""
             }
            },
            "type": "scattercarpet"
           }
          ],
          "scattergeo": [
           {
            "marker": {
             "colorbar": {
              "outlinewidth": 0,
              "ticks": ""
             }
            },
            "type": "scattergeo"
           }
          ],
          "scattergl": [
           {
            "marker": {
             "colorbar": {
              "outlinewidth": 0,
              "ticks": ""
             }
            },
            "type": "scattergl"
           }
          ],
          "scattermapbox": [
           {
            "marker": {
             "colorbar": {
              "outlinewidth": 0,
              "ticks": ""
             }
            },
            "type": "scattermapbox"
           }
          ],
          "scatterpolar": [
           {
            "marker": {
             "colorbar": {
              "outlinewidth": 0,
              "ticks": ""
             }
            },
            "type": "scatterpolar"
           }
          ],
          "scatterpolargl": [
           {
            "marker": {
             "colorbar": {
              "outlinewidth": 0,
              "ticks": ""
             }
            },
            "type": "scatterpolargl"
           }
          ],
          "scatterternary": [
           {
            "marker": {
             "colorbar": {
              "outlinewidth": 0,
              "ticks": ""
             }
            },
            "type": "scatterternary"
           }
          ],
          "surface": [
           {
            "colorbar": {
             "outlinewidth": 0,
             "ticks": ""
            },
            "colorscale": [
             [
              0,
              "#0d0887"
             ],
             [
              0.1111111111111111,
              "#46039f"
             ],
             [
              0.2222222222222222,
              "#7201a8"
             ],
             [
              0.3333333333333333,
              "#9c179e"
             ],
             [
              0.4444444444444444,
              "#bd3786"
             ],
             [
              0.5555555555555556,
              "#d8576b"
             ],
             [
              0.6666666666666666,
              "#ed7953"
             ],
             [
              0.7777777777777778,
              "#fb9f3a"
             ],
             [
              0.8888888888888888,
              "#fdca26"
             ],
             [
              1,
              "#f0f921"
             ]
            ],
            "type": "surface"
           }
          ],
          "table": [
           {
            "cells": {
             "fill": {
              "color": "#EBF0F8"
             },
             "line": {
              "color": "white"
             }
            },
            "header": {
             "fill": {
              "color": "#C8D4E3"
             },
             "line": {
              "color": "white"
             }
            },
            "type": "table"
           }
          ]
         },
         "layout": {
          "annotationdefaults": {
           "arrowcolor": "#2a3f5f",
           "arrowhead": 0,
           "arrowwidth": 1
          },
          "autotypenumbers": "strict",
          "coloraxis": {
           "colorbar": {
            "outlinewidth": 0,
            "ticks": ""
           }
          },
          "colorscale": {
           "diverging": [
            [
             0,
             "#8e0152"
            ],
            [
             0.1,
             "#c51b7d"
            ],
            [
             0.2,
             "#de77ae"
            ],
            [
             0.3,
             "#f1b6da"
            ],
            [
             0.4,
             "#fde0ef"
            ],
            [
             0.5,
             "#f7f7f7"
            ],
            [
             0.6,
             "#e6f5d0"
            ],
            [
             0.7,
             "#b8e186"
            ],
            [
             0.8,
             "#7fbc41"
            ],
            [
             0.9,
             "#4d9221"
            ],
            [
             1,
             "#276419"
            ]
           ],
           "sequential": [
            [
             0,
             "#0d0887"
            ],
            [
             0.1111111111111111,
             "#46039f"
            ],
            [
             0.2222222222222222,
             "#7201a8"
            ],
            [
             0.3333333333333333,
             "#9c179e"
            ],
            [
             0.4444444444444444,
             "#bd3786"
            ],
            [
             0.5555555555555556,
             "#d8576b"
            ],
            [
             0.6666666666666666,
             "#ed7953"
            ],
            [
             0.7777777777777778,
             "#fb9f3a"
            ],
            [
             0.8888888888888888,
             "#fdca26"
            ],
            [
             1,
             "#f0f921"
            ]
           ],
           "sequentialminus": [
            [
             0,
             "#0d0887"
            ],
            [
             0.1111111111111111,
             "#46039f"
            ],
            [
             0.2222222222222222,
             "#7201a8"
            ],
            [
             0.3333333333333333,
             "#9c179e"
            ],
            [
             0.4444444444444444,
             "#bd3786"
            ],
            [
             0.5555555555555556,
             "#d8576b"
            ],
            [
             0.6666666666666666,
             "#ed7953"
            ],
            [
             0.7777777777777778,
             "#fb9f3a"
            ],
            [
             0.8888888888888888,
             "#fdca26"
            ],
            [
             1,
             "#f0f921"
            ]
           ]
          },
          "colorway": [
           "#636efa",
           "#EF553B",
           "#00cc96",
           "#ab63fa",
           "#FFA15A",
           "#19d3f3",
           "#FF6692",
           "#B6E880",
           "#FF97FF",
           "#FECB52"
          ],
          "font": {
           "color": "#2a3f5f"
          },
          "geo": {
           "bgcolor": "white",
           "lakecolor": "white",
           "landcolor": "#E5ECF6",
           "showlakes": true,
           "showland": true,
           "subunitcolor": "white"
          },
          "hoverlabel": {
           "align": "left"
          },
          "hovermode": "closest",
          "mapbox": {
           "style": "light"
          },
          "paper_bgcolor": "white",
          "plot_bgcolor": "#E5ECF6",
          "polar": {
           "angularaxis": {
            "gridcolor": "white",
            "linecolor": "white",
            "ticks": ""
           },
           "bgcolor": "#E5ECF6",
           "radialaxis": {
            "gridcolor": "white",
            "linecolor": "white",
            "ticks": ""
           }
          },
          "scene": {
           "xaxis": {
            "backgroundcolor": "#E5ECF6",
            "gridcolor": "white",
            "gridwidth": 2,
            "linecolor": "white",
            "showbackground": true,
            "ticks": "",
            "zerolinecolor": "white"
           },
           "yaxis": {
            "backgroundcolor": "#E5ECF6",
            "gridcolor": "white",
            "gridwidth": 2,
            "linecolor": "white",
            "showbackground": true,
            "ticks": "",
            "zerolinecolor": "white"
           },
           "zaxis": {
            "backgroundcolor": "#E5ECF6",
            "gridcolor": "white",
            "gridwidth": 2,
            "linecolor": "white",
            "showbackground": true,
            "ticks": "",
            "zerolinecolor": "white"
           }
          },
          "shapedefaults": {
           "line": {
            "color": "#2a3f5f"
           }
          },
          "ternary": {
           "aaxis": {
            "gridcolor": "white",
            "linecolor": "white",
            "ticks": ""
           },
           "baxis": {
            "gridcolor": "white",
            "linecolor": "white",
            "ticks": ""
           },
           "bgcolor": "#E5ECF6",
           "caxis": {
            "gridcolor": "white",
            "linecolor": "white",
            "ticks": ""
           }
          },
          "title": {
           "x": 0.05
          },
          "xaxis": {
           "automargin": true,
           "gridcolor": "white",
           "linecolor": "white",
           "ticks": "",
           "title": {
            "standoff": 15
           },
           "zerolinecolor": "white",
           "zerolinewidth": 2
          },
          "yaxis": {
           "automargin": true,
           "gridcolor": "white",
           "linecolor": "white",
           "ticks": "",
           "title": {
            "standoff": 15
           },
           "zerolinecolor": "white",
           "zerolinewidth": 2
          }
         }
        },
        "title": {
         "font": {
          "color": "#4D5663"
         }
        },
        "xaxis": {
         "gridcolor": "#E1E5ED",
         "showgrid": true,
         "tickfont": {
          "color": "#4D5663"
         },
         "title": {
          "font": {
           "color": "#4D5663"
          },
          "text": ""
         },
         "zerolinecolor": "#E1E5ED"
        },
        "yaxis": {
         "gridcolor": "#E1E5ED",
         "showgrid": true,
         "tickfont": {
          "color": "#4D5663"
         },
         "title": {
          "font": {
           "color": "#4D5663"
          },
          "text": ""
         },
         "zerolinecolor": "#E1E5ED"
        }
       }
      },
      "text/html": [
       "<div>                            <div id=\"2b92ec91-ee14-425a-89a9-62b5f96ae6d4\" class=\"plotly-graph-div\" style=\"height:525px; width:100%;\"></div>            <script type=\"text/javascript\">                require([\"plotly\"], function(Plotly) {                    window.PLOTLYENV=window.PLOTLYENV || {};\n",
       "                    window.PLOTLYENV.BASE_URL='https://plot.ly';                                    if (document.getElementById(\"2b92ec91-ee14-425a-89a9-62b5f96ae6d4\")) {                    Plotly.newPlot(                        \"2b92ec91-ee14-425a-89a9-62b5f96ae6d4\",                        [{\"boxpoints\":false,\"line\":{\"width\":1.3},\"marker\":{\"color\":\"rgba(255, 153, 51, 1.0)\"},\"name\":\"A\",\"orientation\":\"v\",\"y\":[-1.4988901786541045,-0.001422821726739044,-0.2304684055770329,0.23997464714259756,0.18192721535380907,0.19164720456797463,0.8934074803005699,-0.16678903578641818,-1.0084349560508432,-0.03497746442877197,-0.29407807175981265,-0.6006039772725303,-1.9183720589496456,1.1614531567992483,0.7099754557782095,0.0597482684433398,-0.7208573651997514,0.3855346391785886,-0.6452196773049834,-0.976381166476433,0.6594618598235175,1.5365704381442875,-0.8503296300579475,-0.6817453467007452,-0.9463322508133754,-0.19411061226880635,0.7592740048310302,-1.1926747622253955,1.400547023742745,-0.01495067745602767,-1.7115247300904346,-0.36124821109843847,-0.9945764316187472,-0.02174742702343883,0.4271204474826363,2.0458262738449973,0.38003902187660327,0.12799810814049276,-1.114003422680656,-0.06648643302860642,-0.9862118908244232,0.2492347168731393,0.17820277695620237,-0.7387340723009684,-0.31798405254195145,0.9524360693241468,0.9861659791518401,0.7148700640697296,-0.22592732878489613,2.3080279320676045,0.787929315365375,-0.48486969233250055,0.4027834014210285,1.4822702738530436,1.3038659671232047,-0.6523787149594126,-0.020653413306827302,1.27795507641576,0.9017516859560875,0.3656487115665125,-0.17128934489835104,0.6007005503795194,0.3206977385185198,-1.6303945368009163,0.6030078809689943,-0.6207387600421282,0.9288566443524915,1.003041834488083,0.6555148863499219,1.8369810188217182,-1.1342616020404406,-0.03959247097223943,0.27889716160290184,0.5964316283866732,-0.36252227062175946,-0.34907991775801606,-0.7457953929282686,-0.025432745061922953,-1.9507489350848062,-1.041117167054891,0.22955684614254096,-0.7594240891624068,-0.26728306802932256,-0.5574003405662921,-0.5552647869514891,-0.27986732142818244,-0.3176914326608163,1.1045692759785846,-1.1308518489324335,-0.3919640656418023,-1.0287786375678944,-0.5389389032984023,1.5990545052027803,-0.9840034230949485,0.9466879685336848,-0.2562696339386158,-0.4170640840563133,-0.7355380779682636,0.7659323423522455,-0.2871147614324862],\"type\":\"box\"},{\"boxpoints\":false,\"line\":{\"width\":1.3},\"marker\":{\"color\":\"rgba(55, 128, 191, 1.0)\"},\"name\":\"B\",\"orientation\":\"v\",\"y\":[0.23526574448227672,1.168163947055222,0.2603253096157711,-1.7094688244238117,1.2314559187199188,1.6726392784566257,1.110882751972855,2.4989591704588947,-0.21090740427651708,0.6710299469446712,0.5112763692090437,-0.3007727133257675,-0.44789669873124577,-0.683971266219679,-0.035603974521086434,0.9453888391325656,-0.3642535594012888,-0.7333466976832804,1.2214417366538486,-0.41663209241617577,0.6251585915454666,0.7118831843227998,-0.7328897597367783,0.41557603199328913,0.09317786774577878,0.1935706418538896,0.7567493246413372,-0.7890825203287073,0.470082990361827,0.2988970555631342,0.5477894960342421,-0.839905415734585,-2.285938793357377,1.1672269099760322,0.15066291368605914,0.691394580518865,1.550852584290744,0.2356201953546311,-0.5119547775416198,-0.17958271427017333,2.4751023612296494,0.8485209816138845,-1.6716169800928415,1.4212479055478549,1.373356337287798,1.1561028656871015,-0.1419436980968088,0.7187691549260182,3.0364205633719425,0.734284800443334,-0.9813275386456558,0.28835595613774406,0.2177289571851628,-1.5979716350858764,1.7533737527925104,2.455263171182504,-0.998996487354798,1.6647065302884583,0.13487899639228673,-0.9204221983040389,-0.5260204719325334,0.3729631855801561,-1.7881349756837503,-0.06024704765386666,-0.35343347656634894,-0.32862076542402474,-0.3296552300795083,0.7959402796708153,-0.2591835000266135,0.9291618039459419,2.526294058316706,-0.4158483633854793,-2.114171050587124,-1.5980731814780682,3.060158018044401,0.8864017834192536,-0.7888369809411898,-0.22207270455452055,0.2919727650947669,1.7298690787747741,-1.1907371521158825,-0.7481014500130333,-1.3126581161022361,0.556183164685591,1.3643829245990822,0.23609289097665742,-0.783866036842399,0.21681356368855853,0.5960968696295027,-0.04396548150781571,-0.8883792916898136,-0.2869425360225565,0.663551053787133,0.7616302112157503,0.2615442593539925,1.6195140569719841,0.04943547707619654,0.762492090412884,-3.0235275989995,-0.6972617199851123],\"type\":\"box\"},{\"boxpoints\":false,\"line\":{\"width\":1.3},\"marker\":{\"color\":\"rgba(50, 171, 96, 1.0)\"},\"name\":\"C\",\"orientation\":\"v\",\"y\":[-0.6721054830618163,0.04155124736259395,0.7692227448681659,1.2018543046190742,-1.3895799534825057,-0.13986742515460016,0.20680584971717506,-1.2375755209975055,0.2748276280206249,-0.9321398412097541,0.13094629693961418,0.5486985863756676,-1.9886073067653744,0.1377455666610931,1.453981498965094,-1.1636735569946803,-0.6381256018220831,0.24016156194284022,-0.10703017970101508,0.16433225410440552,0.8531079898217108,1.6121552354073403,0.6752632364620416,0.42470164228165075,0.8419872410410988,0.2027351375903432,-1.3398091831197878,0.6980975776663457,-1.5977507860270195,2.0156066648331064,0.1894203169898418,-1.262191998452755,0.2421426433968026,0.8894250373970279,-1.2747913284971648,-1.2214202094176518,0.492344745944777,-0.0005811540557410889,0.2651774197952579,-1.7138206058548793,0.9358135995670254,0.13575129717698095,-0.766123378667851,-1.3900404553640864,1.0520155069593347,0.8881391602820637,0.3228724111252909,1.2640701130622274,1.0123932381650467,-0.48498439499425805,-0.3695252941463228,-0.4177107301373769,-0.3632625423585063,-2.0473737075168965,-0.969514659884145,-1.009087218129252,0.5557092264085043,0.04324906215682579,0.1580912743653798,-1.2735162466467338,-3.2427099683814293,-0.7940960806105345,1.8485957694095079,1.240587131176431,1.607574353631272,0.9673253953080366,0.6194483749879988,-0.3326426058262767,0.06435808504729362,-1.9251762616167312,1.3987969071993855,-0.25397463387421776,1.1682073059162448,-1.7644476573328416,0.7327323173813448,0.9947355849774328,0.5453518341795917,1.19080558599387,1.2093897545788723,0.6706625192394372,-1.6457577450899186,0.7985572506119272,0.844699713555325,3.1313601284169064,-1.8121698719347574,0.8210069022416058,-0.6197824971970205,-0.26608675431992823,1.0968910955996245,-0.15649991655276047,-1.1543940361329577,-2.041746319215282,1.004924176818934,-0.5377172116680294,0.6024246724870307,1.2352666198746274,-0.6105721742972088,-0.11960291524138328,-0.14565417326896715,1.5968344449979148],\"type\":\"box\"},{\"boxpoints\":false,\"line\":{\"width\":1.3},\"marker\":{\"color\":\"rgba(128, 0, 128, 1.0)\"},\"name\":\"D\",\"orientation\":\"v\",\"y\":[0.6192282002215885,0.7516634413897418,2.6291119930596283,-1.112229452178899,-1.218471223876959,0.3898577417045848,0.5050744413729968,1.5311029453343552,-1.7920281996444196,-0.8445128044351861,-0.6744958296736583,-2.228362195462207,0.37372523500853666,1.7887856543417633,0.2587332442071377,-1.2169599946828844,0.5892027747522933,-0.6410020739161971,0.2885432402606802,-0.03454125696368498,1.392047624735117,1.6330404342582534,-0.36982777062599115,-1.1044943935988925,0.17707233168320471,-0.7673975208664824,0.7308513958474311,1.2882129613239683,1.9276937238391547,-2.1845092910608113,0.6444536924263001,0.6665937444037361,-0.8377732695050673,1.0422617474084055,-1.2045521445781036,1.2678720943236752,-1.013087924793577,-0.1728395528302726,-0.3944252398071723,0.7193352674390059,-1.2321564012964976,-0.1986564692551516,0.6545959593733198,-2.1588463704159886,-0.7596719367631934,-0.4400423221706656,0.7065313829415042,-1.4504908223014932,-0.6561349387559162,1.22579257684457,-1.1368222351264505,0.7709081448107813,-0.05352141996538078,0.39204665978888587,-0.46811805709216725,-1.6616082378127675,1.1070200754640982,-0.6430701883327777,-0.5891948682777047,-0.23926298071788035,-0.4132449764707921,0.15139128080495068,-0.37366953005573944,-1.1574430045537683,-1.509218582881698,-1.2383335260629713,-1.2045140221112487,-0.538679102868873,0.40991392914883973,-0.7420839755730767,0.21513021517206274,-0.8661508144937152,-1.1112533780479816,0.8730759371895707,-3.3593262177645866,-1.4132467106977238,-1.944666953122912,0.6337870945293379,0.6940810642203904,1.3580794427153289,0.5497729622602447,-1.9994087343690035,-0.40559548223827147,-0.47692207719097135,0.14200909497017727,0.31571664112410847,-0.028135427586822446,0.0075806977970474705,0.08098974764692758,1.1506250505901732,-0.3415571987660383,-0.5079535580892626,0.15588531275565187,0.7861985971095445,-0.12056561649644168,0.7944933671890922,-0.956726236656994,1.6326065998840578,-0.8866144337378922,1.3755041411436952],\"type\":\"box\"}],                        {\"legend\":{\"bgcolor\":\"#F5F6F9\",\"font\":{\"color\":\"#4D5663\"}},\"paper_bgcolor\":\"#F5F6F9\",\"plot_bgcolor\":\"#F5F6F9\",\"template\":{\"data\":{\"barpolar\":[{\"marker\":{\"line\":{\"color\":\"#E5ECF6\",\"width\":0.5},\"pattern\":{\"fillmode\":\"overlay\",\"size\":10,\"solidity\":0.2}},\"type\":\"barpolar\"}],\"bar\":[{\"error_x\":{\"color\":\"#2a3f5f\"},\"error_y\":{\"color\":\"#2a3f5f\"},\"marker\":{\"line\":{\"color\":\"#E5ECF6\",\"width\":0.5},\"pattern\":{\"fillmode\":\"overlay\",\"size\":10,\"solidity\":0.2}},\"type\":\"bar\"}],\"carpet\":[{\"aaxis\":{\"endlinecolor\":\"#2a3f5f\",\"gridcolor\":\"white\",\"linecolor\":\"white\",\"minorgridcolor\":\"white\",\"startlinecolor\":\"#2a3f5f\"},\"baxis\":{\"endlinecolor\":\"#2a3f5f\",\"gridcolor\":\"white\",\"linecolor\":\"white\",\"minorgridcolor\":\"white\",\"startlinecolor\":\"#2a3f5f\"},\"type\":\"carpet\"}],\"choropleth\":[{\"colorbar\":{\"outlinewidth\":0,\"ticks\":\"\"},\"type\":\"choropleth\"}],\"contourcarpet\":[{\"colorbar\":{\"outlinewidth\":0,\"ticks\":\"\"},\"type\":\"contourcarpet\"}],\"contour\":[{\"colorbar\":{\"outlinewidth\":0,\"ticks\":\"\"},\"colorscale\":[[0.0,\"#0d0887\"],[0.1111111111111111,\"#46039f\"],[0.2222222222222222,\"#7201a8\"],[0.3333333333333333,\"#9c179e\"],[0.4444444444444444,\"#bd3786\"],[0.5555555555555556,\"#d8576b\"],[0.6666666666666666,\"#ed7953\"],[0.7777777777777778,\"#fb9f3a\"],[0.8888888888888888,\"#fdca26\"],[1.0,\"#f0f921\"]],\"type\":\"contour\"}],\"heatmapgl\":[{\"colorbar\":{\"outlinewidth\":0,\"ticks\":\"\"},\"colorscale\":[[0.0,\"#0d0887\"],[0.1111111111111111,\"#46039f\"],[0.2222222222222222,\"#7201a8\"],[0.3333333333333333,\"#9c179e\"],[0.4444444444444444,\"#bd3786\"],[0.5555555555555556,\"#d8576b\"],[0.6666666666666666,\"#ed7953\"],[0.7777777777777778,\"#fb9f3a\"],[0.8888888888888888,\"#fdca26\"],[1.0,\"#f0f921\"]],\"type\":\"heatmapgl\"}],\"heatmap\":[{\"colorbar\":{\"outlinewidth\":0,\"ticks\":\"\"},\"colorscale\":[[0.0,\"#0d0887\"],[0.1111111111111111,\"#46039f\"],[0.2222222222222222,\"#7201a8\"],[0.3333333333333333,\"#9c179e\"],[0.4444444444444444,\"#bd3786\"],[0.5555555555555556,\"#d8576b\"],[0.6666666666666666,\"#ed7953\"],[0.7777777777777778,\"#fb9f3a\"],[0.8888888888888888,\"#fdca26\"],[1.0,\"#f0f921\"]],\"type\":\"heatmap\"}],\"histogram2dcontour\":[{\"colorbar\":{\"outlinewidth\":0,\"ticks\":\"\"},\"colorscale\":[[0.0,\"#0d0887\"],[0.1111111111111111,\"#46039f\"],[0.2222222222222222,\"#7201a8\"],[0.3333333333333333,\"#9c179e\"],[0.4444444444444444,\"#bd3786\"],[0.5555555555555556,\"#d8576b\"],[0.6666666666666666,\"#ed7953\"],[0.7777777777777778,\"#fb9f3a\"],[0.8888888888888888,\"#fdca26\"],[1.0,\"#f0f921\"]],\"type\":\"histogram2dcontour\"}],\"histogram2d\":[{\"colorbar\":{\"outlinewidth\":0,\"ticks\":\"\"},\"colorscale\":[[0.0,\"#0d0887\"],[0.1111111111111111,\"#46039f\"],[0.2222222222222222,\"#7201a8\"],[0.3333333333333333,\"#9c179e\"],[0.4444444444444444,\"#bd3786\"],[0.5555555555555556,\"#d8576b\"],[0.6666666666666666,\"#ed7953\"],[0.7777777777777778,\"#fb9f3a\"],[0.8888888888888888,\"#fdca26\"],[1.0,\"#f0f921\"]],\"type\":\"histogram2d\"}],\"histogram\":[{\"marker\":{\"pattern\":{\"fillmode\":\"overlay\",\"size\":10,\"solidity\":0.2}},\"type\":\"histogram\"}],\"mesh3d\":[{\"colorbar\":{\"outlinewidth\":0,\"ticks\":\"\"},\"type\":\"mesh3d\"}],\"parcoords\":[{\"line\":{\"colorbar\":{\"outlinewidth\":0,\"ticks\":\"\"}},\"type\":\"parcoords\"}],\"pie\":[{\"automargin\":true,\"type\":\"pie\"}],\"scatter3d\":[{\"line\":{\"colorbar\":{\"outlinewidth\":0,\"ticks\":\"\"}},\"marker\":{\"colorbar\":{\"outlinewidth\":0,\"ticks\":\"\"}},\"type\":\"scatter3d\"}],\"scattercarpet\":[{\"marker\":{\"colorbar\":{\"outlinewidth\":0,\"ticks\":\"\"}},\"type\":\"scattercarpet\"}],\"scattergeo\":[{\"marker\":{\"colorbar\":{\"outlinewidth\":0,\"ticks\":\"\"}},\"type\":\"scattergeo\"}],\"scattergl\":[{\"marker\":{\"colorbar\":{\"outlinewidth\":0,\"ticks\":\"\"}},\"type\":\"scattergl\"}],\"scattermapbox\":[{\"marker\":{\"colorbar\":{\"outlinewidth\":0,\"ticks\":\"\"}},\"type\":\"scattermapbox\"}],\"scatterpolargl\":[{\"marker\":{\"colorbar\":{\"outlinewidth\":0,\"ticks\":\"\"}},\"type\":\"scatterpolargl\"}],\"scatterpolar\":[{\"marker\":{\"colorbar\":{\"outlinewidth\":0,\"ticks\":\"\"}},\"type\":\"scatterpolar\"}],\"scatter\":[{\"marker\":{\"colorbar\":{\"outlinewidth\":0,\"ticks\":\"\"}},\"type\":\"scatter\"}],\"scatterternary\":[{\"marker\":{\"colorbar\":{\"outlinewidth\":0,\"ticks\":\"\"}},\"type\":\"scatterternary\"}],\"surface\":[{\"colorbar\":{\"outlinewidth\":0,\"ticks\":\"\"},\"colorscale\":[[0.0,\"#0d0887\"],[0.1111111111111111,\"#46039f\"],[0.2222222222222222,\"#7201a8\"],[0.3333333333333333,\"#9c179e\"],[0.4444444444444444,\"#bd3786\"],[0.5555555555555556,\"#d8576b\"],[0.6666666666666666,\"#ed7953\"],[0.7777777777777778,\"#fb9f3a\"],[0.8888888888888888,\"#fdca26\"],[1.0,\"#f0f921\"]],\"type\":\"surface\"}],\"table\":[{\"cells\":{\"fill\":{\"color\":\"#EBF0F8\"},\"line\":{\"color\":\"white\"}},\"header\":{\"fill\":{\"color\":\"#C8D4E3\"},\"line\":{\"color\":\"white\"}},\"type\":\"table\"}]},\"layout\":{\"annotationdefaults\":{\"arrowcolor\":\"#2a3f5f\",\"arrowhead\":0,\"arrowwidth\":1},\"autotypenumbers\":\"strict\",\"coloraxis\":{\"colorbar\":{\"outlinewidth\":0,\"ticks\":\"\"}},\"colorscale\":{\"diverging\":[[0,\"#8e0152\"],[0.1,\"#c51b7d\"],[0.2,\"#de77ae\"],[0.3,\"#f1b6da\"],[0.4,\"#fde0ef\"],[0.5,\"#f7f7f7\"],[0.6,\"#e6f5d0\"],[0.7,\"#b8e186\"],[0.8,\"#7fbc41\"],[0.9,\"#4d9221\"],[1,\"#276419\"]],\"sequential\":[[0.0,\"#0d0887\"],[0.1111111111111111,\"#46039f\"],[0.2222222222222222,\"#7201a8\"],[0.3333333333333333,\"#9c179e\"],[0.4444444444444444,\"#bd3786\"],[0.5555555555555556,\"#d8576b\"],[0.6666666666666666,\"#ed7953\"],[0.7777777777777778,\"#fb9f3a\"],[0.8888888888888888,\"#fdca26\"],[1.0,\"#f0f921\"]],\"sequentialminus\":[[0.0,\"#0d0887\"],[0.1111111111111111,\"#46039f\"],[0.2222222222222222,\"#7201a8\"],[0.3333333333333333,\"#9c179e\"],[0.4444444444444444,\"#bd3786\"],[0.5555555555555556,\"#d8576b\"],[0.6666666666666666,\"#ed7953\"],[0.7777777777777778,\"#fb9f3a\"],[0.8888888888888888,\"#fdca26\"],[1.0,\"#f0f921\"]]},\"colorway\":[\"#636efa\",\"#EF553B\",\"#00cc96\",\"#ab63fa\",\"#FFA15A\",\"#19d3f3\",\"#FF6692\",\"#B6E880\",\"#FF97FF\",\"#FECB52\"],\"font\":{\"color\":\"#2a3f5f\"},\"geo\":{\"bgcolor\":\"white\",\"lakecolor\":\"white\",\"landcolor\":\"#E5ECF6\",\"showlakes\":true,\"showland\":true,\"subunitcolor\":\"white\"},\"hoverlabel\":{\"align\":\"left\"},\"hovermode\":\"closest\",\"mapbox\":{\"style\":\"light\"},\"paper_bgcolor\":\"white\",\"plot_bgcolor\":\"#E5ECF6\",\"polar\":{\"angularaxis\":{\"gridcolor\":\"white\",\"linecolor\":\"white\",\"ticks\":\"\"},\"bgcolor\":\"#E5ECF6\",\"radialaxis\":{\"gridcolor\":\"white\",\"linecolor\":\"white\",\"ticks\":\"\"}},\"scene\":{\"xaxis\":{\"backgroundcolor\":\"#E5ECF6\",\"gridcolor\":\"white\",\"gridwidth\":2,\"linecolor\":\"white\",\"showbackground\":true,\"ticks\":\"\",\"zerolinecolor\":\"white\"},\"yaxis\":{\"backgroundcolor\":\"#E5ECF6\",\"gridcolor\":\"white\",\"gridwidth\":2,\"linecolor\":\"white\",\"showbackground\":true,\"ticks\":\"\",\"zerolinecolor\":\"white\"},\"zaxis\":{\"backgroundcolor\":\"#E5ECF6\",\"gridcolor\":\"white\",\"gridwidth\":2,\"linecolor\":\"white\",\"showbackground\":true,\"ticks\":\"\",\"zerolinecolor\":\"white\"}},\"shapedefaults\":{\"line\":{\"color\":\"#2a3f5f\"}},\"ternary\":{\"aaxis\":{\"gridcolor\":\"white\",\"linecolor\":\"white\",\"ticks\":\"\"},\"baxis\":{\"gridcolor\":\"white\",\"linecolor\":\"white\",\"ticks\":\"\"},\"bgcolor\":\"#E5ECF6\",\"caxis\":{\"gridcolor\":\"white\",\"linecolor\":\"white\",\"ticks\":\"\"}},\"title\":{\"x\":0.05},\"xaxis\":{\"automargin\":true,\"gridcolor\":\"white\",\"linecolor\":\"white\",\"ticks\":\"\",\"title\":{\"standoff\":15},\"zerolinecolor\":\"white\",\"zerolinewidth\":2},\"yaxis\":{\"automargin\":true,\"gridcolor\":\"white\",\"linecolor\":\"white\",\"ticks\":\"\",\"title\":{\"standoff\":15},\"zerolinecolor\":\"white\",\"zerolinewidth\":2}}},\"title\":{\"font\":{\"color\":\"#4D5663\"}},\"xaxis\":{\"gridcolor\":\"#E1E5ED\",\"showgrid\":true,\"tickfont\":{\"color\":\"#4D5663\"},\"title\":{\"font\":{\"color\":\"#4D5663\"},\"text\":\"\"},\"zerolinecolor\":\"#E1E5ED\"},\"yaxis\":{\"gridcolor\":\"#E1E5ED\",\"showgrid\":true,\"tickfont\":{\"color\":\"#4D5663\"},\"title\":{\"font\":{\"color\":\"#4D5663\"},\"text\":\"\"},\"zerolinecolor\":\"#E1E5ED\"}},                        {\"showLink\": true, \"linkText\": \"Export to plot.ly\", \"plotlyServerURL\": \"https://plot.ly\", \"responsive\": true}                    ).then(function(){\n",
       "                            \n",
       "var gd = document.getElementById('2b92ec91-ee14-425a-89a9-62b5f96ae6d4');\n",
       "var x = new MutationObserver(function (mutations, observer) {{\n",
       "        var display = window.getComputedStyle(gd).display;\n",
       "        if (!display || display === 'none') {{\n",
       "            console.log([gd, 'removed!']);\n",
       "            Plotly.purge(gd);\n",
       "            observer.disconnect();\n",
       "        }}\n",
       "}});\n",
       "\n",
       "// Listen for the removal of the full notebook cells\n",
       "var notebookContainer = gd.closest('#notebook-container');\n",
       "if (notebookContainer) {{\n",
       "    x.observe(notebookContainer, {childList: true});\n",
       "}}\n",
       "\n",
       "// Listen for the clearing of the current output cell\n",
       "var outputEl = gd.closest('.output');\n",
       "if (outputEl) {{\n",
       "    x.observe(outputEl, {childList: true});\n",
       "}}\n",
       "\n",
       "                        })                };                });            </script>        </div>"
      ]
     },
     "metadata": {},
     "output_type": "display_data"
    }
   ],
   "source": [
    "df.iplot(kind='box')"
   ]
  },
  {
   "cell_type": "markdown",
   "metadata": {},
   "source": [
    "## 3d Surface"
   ]
  },
  {
   "cell_type": "code",
   "execution_count": 16,
   "metadata": {},
   "outputs": [
    {
     "data": {
      "application/vnd.plotly.v1+json": {
       "config": {
        "linkText": "Export to plot.ly",
        "plotlyServerURL": "https://plot.ly",
        "showLink": true
       },
       "data": [
        {
         "colorscale": [
          [
           0,
           "rgb(165,0,38)"
          ],
          [
           0.1,
           "rgb(215,48,39)"
          ],
          [
           0.2,
           "rgb(244,109,67)"
          ],
          [
           0.3,
           "rgb(253,174,97)"
          ],
          [
           0.4,
           "rgb(254,224,144)"
          ],
          [
           0.5,
           "rgb(255,255,191)"
          ],
          [
           0.6,
           "rgb(224,243,248)"
          ],
          [
           0.7,
           "rgb(171,217,233)"
          ],
          [
           0.8,
           "rgb(116,173,209)"
          ],
          [
           0.9,
           "rgb(69,117,180)"
          ],
          [
           1,
           "rgb(49,54,149)"
          ]
         ],
         "type": "surface",
         "x": [
          0,
          1,
          2,
          3,
          4
         ],
         "y": [
          "x",
          "y",
          "z"
         ],
         "z": [
          [
           1,
           2,
           3,
           4,
           5
          ],
          [
           10,
           20,
           30,
           20,
           10
          ],
          [
           5,
           4,
           3,
           2,
           1
          ]
         ]
        }
       ],
       "layout": {
        "legend": {
         "bgcolor": "#F5F6F9",
         "font": {
          "color": "#4D5663"
         }
        },
        "paper_bgcolor": "#F5F6F9",
        "plot_bgcolor": "#F5F6F9",
        "template": {
         "data": {
          "bar": [
           {
            "error_x": {
             "color": "#2a3f5f"
            },
            "error_y": {
             "color": "#2a3f5f"
            },
            "marker": {
             "line": {
              "color": "#E5ECF6",
              "width": 0.5
             },
             "pattern": {
              "fillmode": "overlay",
              "size": 10,
              "solidity": 0.2
             }
            },
            "type": "bar"
           }
          ],
          "barpolar": [
           {
            "marker": {
             "line": {
              "color": "#E5ECF6",
              "width": 0.5
             },
             "pattern": {
              "fillmode": "overlay",
              "size": 10,
              "solidity": 0.2
             }
            },
            "type": "barpolar"
           }
          ],
          "carpet": [
           {
            "aaxis": {
             "endlinecolor": "#2a3f5f",
             "gridcolor": "white",
             "linecolor": "white",
             "minorgridcolor": "white",
             "startlinecolor": "#2a3f5f"
            },
            "baxis": {
             "endlinecolor": "#2a3f5f",
             "gridcolor": "white",
             "linecolor": "white",
             "minorgridcolor": "white",
             "startlinecolor": "#2a3f5f"
            },
            "type": "carpet"
           }
          ],
          "choropleth": [
           {
            "colorbar": {
             "outlinewidth": 0,
             "ticks": ""
            },
            "type": "choropleth"
           }
          ],
          "contour": [
           {
            "colorbar": {
             "outlinewidth": 0,
             "ticks": ""
            },
            "colorscale": [
             [
              0,
              "#0d0887"
             ],
             [
              0.1111111111111111,
              "#46039f"
             ],
             [
              0.2222222222222222,
              "#7201a8"
             ],
             [
              0.3333333333333333,
              "#9c179e"
             ],
             [
              0.4444444444444444,
              "#bd3786"
             ],
             [
              0.5555555555555556,
              "#d8576b"
             ],
             [
              0.6666666666666666,
              "#ed7953"
             ],
             [
              0.7777777777777778,
              "#fb9f3a"
             ],
             [
              0.8888888888888888,
              "#fdca26"
             ],
             [
              1,
              "#f0f921"
             ]
            ],
            "type": "contour"
           }
          ],
          "contourcarpet": [
           {
            "colorbar": {
             "outlinewidth": 0,
             "ticks": ""
            },
            "type": "contourcarpet"
           }
          ],
          "heatmap": [
           {
            "colorbar": {
             "outlinewidth": 0,
             "ticks": ""
            },
            "colorscale": [
             [
              0,
              "#0d0887"
             ],
             [
              0.1111111111111111,
              "#46039f"
             ],
             [
              0.2222222222222222,
              "#7201a8"
             ],
             [
              0.3333333333333333,
              "#9c179e"
             ],
             [
              0.4444444444444444,
              "#bd3786"
             ],
             [
              0.5555555555555556,
              "#d8576b"
             ],
             [
              0.6666666666666666,
              "#ed7953"
             ],
             [
              0.7777777777777778,
              "#fb9f3a"
             ],
             [
              0.8888888888888888,
              "#fdca26"
             ],
             [
              1,
              "#f0f921"
             ]
            ],
            "type": "heatmap"
           }
          ],
          "heatmapgl": [
           {
            "colorbar": {
             "outlinewidth": 0,
             "ticks": ""
            },
            "colorscale": [
             [
              0,
              "#0d0887"
             ],
             [
              0.1111111111111111,
              "#46039f"
             ],
             [
              0.2222222222222222,
              "#7201a8"
             ],
             [
              0.3333333333333333,
              "#9c179e"
             ],
             [
              0.4444444444444444,
              "#bd3786"
             ],
             [
              0.5555555555555556,
              "#d8576b"
             ],
             [
              0.6666666666666666,
              "#ed7953"
             ],
             [
              0.7777777777777778,
              "#fb9f3a"
             ],
             [
              0.8888888888888888,
              "#fdca26"
             ],
             [
              1,
              "#f0f921"
             ]
            ],
            "type": "heatmapgl"
           }
          ],
          "histogram": [
           {
            "marker": {
             "pattern": {
              "fillmode": "overlay",
              "size": 10,
              "solidity": 0.2
             }
            },
            "type": "histogram"
           }
          ],
          "histogram2d": [
           {
            "colorbar": {
             "outlinewidth": 0,
             "ticks": ""
            },
            "colorscale": [
             [
              0,
              "#0d0887"
             ],
             [
              0.1111111111111111,
              "#46039f"
             ],
             [
              0.2222222222222222,
              "#7201a8"
             ],
             [
              0.3333333333333333,
              "#9c179e"
             ],
             [
              0.4444444444444444,
              "#bd3786"
             ],
             [
              0.5555555555555556,
              "#d8576b"
             ],
             [
              0.6666666666666666,
              "#ed7953"
             ],
             [
              0.7777777777777778,
              "#fb9f3a"
             ],
             [
              0.8888888888888888,
              "#fdca26"
             ],
             [
              1,
              "#f0f921"
             ]
            ],
            "type": "histogram2d"
           }
          ],
          "histogram2dcontour": [
           {
            "colorbar": {
             "outlinewidth": 0,
             "ticks": ""
            },
            "colorscale": [
             [
              0,
              "#0d0887"
             ],
             [
              0.1111111111111111,
              "#46039f"
             ],
             [
              0.2222222222222222,
              "#7201a8"
             ],
             [
              0.3333333333333333,
              "#9c179e"
             ],
             [
              0.4444444444444444,
              "#bd3786"
             ],
             [
              0.5555555555555556,
              "#d8576b"
             ],
             [
              0.6666666666666666,
              "#ed7953"
             ],
             [
              0.7777777777777778,
              "#fb9f3a"
             ],
             [
              0.8888888888888888,
              "#fdca26"
             ],
             [
              1,
              "#f0f921"
             ]
            ],
            "type": "histogram2dcontour"
           }
          ],
          "mesh3d": [
           {
            "colorbar": {
             "outlinewidth": 0,
             "ticks": ""
            },
            "type": "mesh3d"
           }
          ],
          "parcoords": [
           {
            "line": {
             "colorbar": {
              "outlinewidth": 0,
              "ticks": ""
             }
            },
            "type": "parcoords"
           }
          ],
          "pie": [
           {
            "automargin": true,
            "type": "pie"
           }
          ],
          "scatter": [
           {
            "marker": {
             "colorbar": {
              "outlinewidth": 0,
              "ticks": ""
             }
            },
            "type": "scatter"
           }
          ],
          "scatter3d": [
           {
            "line": {
             "colorbar": {
              "outlinewidth": 0,
              "ticks": ""
             }
            },
            "marker": {
             "colorbar": {
              "outlinewidth": 0,
              "ticks": ""
             }
            },
            "type": "scatter3d"
           }
          ],
          "scattercarpet": [
           {
            "marker": {
             "colorbar": {
              "outlinewidth": 0,
              "ticks": ""
             }
            },
            "type": "scattercarpet"
           }
          ],
          "scattergeo": [
           {
            "marker": {
             "colorbar": {
              "outlinewidth": 0,
              "ticks": ""
             }
            },
            "type": "scattergeo"
           }
          ],
          "scattergl": [
           {
            "marker": {
             "colorbar": {
              "outlinewidth": 0,
              "ticks": ""
             }
            },
            "type": "scattergl"
           }
          ],
          "scattermapbox": [
           {
            "marker": {
             "colorbar": {
              "outlinewidth": 0,
              "ticks": ""
             }
            },
            "type": "scattermapbox"
           }
          ],
          "scatterpolar": [
           {
            "marker": {
             "colorbar": {
              "outlinewidth": 0,
              "ticks": ""
             }
            },
            "type": "scatterpolar"
           }
          ],
          "scatterpolargl": [
           {
            "marker": {
             "colorbar": {
              "outlinewidth": 0,
              "ticks": ""
             }
            },
            "type": "scatterpolargl"
           }
          ],
          "scatterternary": [
           {
            "marker": {
             "colorbar": {
              "outlinewidth": 0,
              "ticks": ""
             }
            },
            "type": "scatterternary"
           }
          ],
          "surface": [
           {
            "colorbar": {
             "outlinewidth": 0,
             "ticks": ""
            },
            "colorscale": [
             [
              0,
              "#0d0887"
             ],
             [
              0.1111111111111111,
              "#46039f"
             ],
             [
              0.2222222222222222,
              "#7201a8"
             ],
             [
              0.3333333333333333,
              "#9c179e"
             ],
             [
              0.4444444444444444,
              "#bd3786"
             ],
             [
              0.5555555555555556,
              "#d8576b"
             ],
             [
              0.6666666666666666,
              "#ed7953"
             ],
             [
              0.7777777777777778,
              "#fb9f3a"
             ],
             [
              0.8888888888888888,
              "#fdca26"
             ],
             [
              1,
              "#f0f921"
             ]
            ],
            "type": "surface"
           }
          ],
          "table": [
           {
            "cells": {
             "fill": {
              "color": "#EBF0F8"
             },
             "line": {
              "color": "white"
             }
            },
            "header": {
             "fill": {
              "color": "#C8D4E3"
             },
             "line": {
              "color": "white"
             }
            },
            "type": "table"
           }
          ]
         },
         "layout": {
          "annotationdefaults": {
           "arrowcolor": "#2a3f5f",
           "arrowhead": 0,
           "arrowwidth": 1
          },
          "autotypenumbers": "strict",
          "coloraxis": {
           "colorbar": {
            "outlinewidth": 0,
            "ticks": ""
           }
          },
          "colorscale": {
           "diverging": [
            [
             0,
             "#8e0152"
            ],
            [
             0.1,
             "#c51b7d"
            ],
            [
             0.2,
             "#de77ae"
            ],
            [
             0.3,
             "#f1b6da"
            ],
            [
             0.4,
             "#fde0ef"
            ],
            [
             0.5,
             "#f7f7f7"
            ],
            [
             0.6,
             "#e6f5d0"
            ],
            [
             0.7,
             "#b8e186"
            ],
            [
             0.8,
             "#7fbc41"
            ],
            [
             0.9,
             "#4d9221"
            ],
            [
             1,
             "#276419"
            ]
           ],
           "sequential": [
            [
             0,
             "#0d0887"
            ],
            [
             0.1111111111111111,
             "#46039f"
            ],
            [
             0.2222222222222222,
             "#7201a8"
            ],
            [
             0.3333333333333333,
             "#9c179e"
            ],
            [
             0.4444444444444444,
             "#bd3786"
            ],
            [
             0.5555555555555556,
             "#d8576b"
            ],
            [
             0.6666666666666666,
             "#ed7953"
            ],
            [
             0.7777777777777778,
             "#fb9f3a"
            ],
            [
             0.8888888888888888,
             "#fdca26"
            ],
            [
             1,
             "#f0f921"
            ]
           ],
           "sequentialminus": [
            [
             0,
             "#0d0887"
            ],
            [
             0.1111111111111111,
             "#46039f"
            ],
            [
             0.2222222222222222,
             "#7201a8"
            ],
            [
             0.3333333333333333,
             "#9c179e"
            ],
            [
             0.4444444444444444,
             "#bd3786"
            ],
            [
             0.5555555555555556,
             "#d8576b"
            ],
            [
             0.6666666666666666,
             "#ed7953"
            ],
            [
             0.7777777777777778,
             "#fb9f3a"
            ],
            [
             0.8888888888888888,
             "#fdca26"
            ],
            [
             1,
             "#f0f921"
            ]
           ]
          },
          "colorway": [
           "#636efa",
           "#EF553B",
           "#00cc96",
           "#ab63fa",
           "#FFA15A",
           "#19d3f3",
           "#FF6692",
           "#B6E880",
           "#FF97FF",
           "#FECB52"
          ],
          "font": {
           "color": "#2a3f5f"
          },
          "geo": {
           "bgcolor": "white",
           "lakecolor": "white",
           "landcolor": "#E5ECF6",
           "showlakes": true,
           "showland": true,
           "subunitcolor": "white"
          },
          "hoverlabel": {
           "align": "left"
          },
          "hovermode": "closest",
          "mapbox": {
           "style": "light"
          },
          "paper_bgcolor": "white",
          "plot_bgcolor": "#E5ECF6",
          "polar": {
           "angularaxis": {
            "gridcolor": "white",
            "linecolor": "white",
            "ticks": ""
           },
           "bgcolor": "#E5ECF6",
           "radialaxis": {
            "gridcolor": "white",
            "linecolor": "white",
            "ticks": ""
           }
          },
          "scene": {
           "xaxis": {
            "backgroundcolor": "#E5ECF6",
            "gridcolor": "white",
            "gridwidth": 2,
            "linecolor": "white",
            "showbackground": true,
            "ticks": "",
            "zerolinecolor": "white"
           },
           "yaxis": {
            "backgroundcolor": "#E5ECF6",
            "gridcolor": "white",
            "gridwidth": 2,
            "linecolor": "white",
            "showbackground": true,
            "ticks": "",
            "zerolinecolor": "white"
           },
           "zaxis": {
            "backgroundcolor": "#E5ECF6",
            "gridcolor": "white",
            "gridwidth": 2,
            "linecolor": "white",
            "showbackground": true,
            "ticks": "",
            "zerolinecolor": "white"
           }
          },
          "shapedefaults": {
           "line": {
            "color": "#2a3f5f"
           }
          },
          "ternary": {
           "aaxis": {
            "gridcolor": "white",
            "linecolor": "white",
            "ticks": ""
           },
           "baxis": {
            "gridcolor": "white",
            "linecolor": "white",
            "ticks": ""
           },
           "bgcolor": "#E5ECF6",
           "caxis": {
            "gridcolor": "white",
            "linecolor": "white",
            "ticks": ""
           }
          },
          "title": {
           "x": 0.05
          },
          "xaxis": {
           "automargin": true,
           "gridcolor": "white",
           "linecolor": "white",
           "ticks": "",
           "title": {
            "standoff": 15
           },
           "zerolinecolor": "white",
           "zerolinewidth": 2
          },
          "yaxis": {
           "automargin": true,
           "gridcolor": "white",
           "linecolor": "white",
           "ticks": "",
           "title": {
            "standoff": 15
           },
           "zerolinecolor": "white",
           "zerolinewidth": 2
          }
         }
        },
        "title": {
         "font": {
          "color": "#4D5663"
         }
        },
        "xaxis": {
         "gridcolor": "#E1E5ED",
         "showgrid": true,
         "tickfont": {
          "color": "#4D5663"
         },
         "title": {
          "font": {
           "color": "#4D5663"
          },
          "text": ""
         },
         "zerolinecolor": "#E1E5ED"
        },
        "yaxis": {
         "gridcolor": "#E1E5ED",
         "showgrid": true,
         "tickfont": {
          "color": "#4D5663"
         },
         "title": {
          "font": {
           "color": "#4D5663"
          },
          "text": ""
         },
         "zerolinecolor": "#E1E5ED"
        }
       }
      },
      "text/html": [
       "<div>                            <div id=\"0d93e239-934d-4454-9e77-bcf70042387d\" class=\"plotly-graph-div\" style=\"height:525px; width:100%;\"></div>            <script type=\"text/javascript\">                require([\"plotly\"], function(Plotly) {                    window.PLOTLYENV=window.PLOTLYENV || {};\n",
       "                    window.PLOTLYENV.BASE_URL='https://plot.ly';                                    if (document.getElementById(\"0d93e239-934d-4454-9e77-bcf70042387d\")) {                    Plotly.newPlot(                        \"0d93e239-934d-4454-9e77-bcf70042387d\",                        [{\"colorscale\":[[0.0,\"rgb(165,0,38)\"],[0.1,\"rgb(215,48,39)\"],[0.2,\"rgb(244,109,67)\"],[0.3,\"rgb(253,174,97)\"],[0.4,\"rgb(254,224,144)\"],[0.5,\"rgb(255,255,191)\"],[0.6,\"rgb(224,243,248)\"],[0.7,\"rgb(171,217,233)\"],[0.8,\"rgb(116,173,209)\"],[0.9,\"rgb(69,117,180)\"],[1.0,\"rgb(49,54,149)\"]],\"x\":[0,1,2,3,4],\"y\":[\"x\",\"y\",\"z\"],\"z\":[[1,2,3,4,5],[10,20,30,20,10],[5,4,3,2,1]],\"type\":\"surface\"}],                        {\"legend\":{\"bgcolor\":\"#F5F6F9\",\"font\":{\"color\":\"#4D5663\"}},\"paper_bgcolor\":\"#F5F6F9\",\"plot_bgcolor\":\"#F5F6F9\",\"template\":{\"data\":{\"barpolar\":[{\"marker\":{\"line\":{\"color\":\"#E5ECF6\",\"width\":0.5},\"pattern\":{\"fillmode\":\"overlay\",\"size\":10,\"solidity\":0.2}},\"type\":\"barpolar\"}],\"bar\":[{\"error_x\":{\"color\":\"#2a3f5f\"},\"error_y\":{\"color\":\"#2a3f5f\"},\"marker\":{\"line\":{\"color\":\"#E5ECF6\",\"width\":0.5},\"pattern\":{\"fillmode\":\"overlay\",\"size\":10,\"solidity\":0.2}},\"type\":\"bar\"}],\"carpet\":[{\"aaxis\":{\"endlinecolor\":\"#2a3f5f\",\"gridcolor\":\"white\",\"linecolor\":\"white\",\"minorgridcolor\":\"white\",\"startlinecolor\":\"#2a3f5f\"},\"baxis\":{\"endlinecolor\":\"#2a3f5f\",\"gridcolor\":\"white\",\"linecolor\":\"white\",\"minorgridcolor\":\"white\",\"startlinecolor\":\"#2a3f5f\"},\"type\":\"carpet\"}],\"choropleth\":[{\"colorbar\":{\"outlinewidth\":0,\"ticks\":\"\"},\"type\":\"choropleth\"}],\"contourcarpet\":[{\"colorbar\":{\"outlinewidth\":0,\"ticks\":\"\"},\"type\":\"contourcarpet\"}],\"contour\":[{\"colorbar\":{\"outlinewidth\":0,\"ticks\":\"\"},\"colorscale\":[[0.0,\"#0d0887\"],[0.1111111111111111,\"#46039f\"],[0.2222222222222222,\"#7201a8\"],[0.3333333333333333,\"#9c179e\"],[0.4444444444444444,\"#bd3786\"],[0.5555555555555556,\"#d8576b\"],[0.6666666666666666,\"#ed7953\"],[0.7777777777777778,\"#fb9f3a\"],[0.8888888888888888,\"#fdca26\"],[1.0,\"#f0f921\"]],\"type\":\"contour\"}],\"heatmapgl\":[{\"colorbar\":{\"outlinewidth\":0,\"ticks\":\"\"},\"colorscale\":[[0.0,\"#0d0887\"],[0.1111111111111111,\"#46039f\"],[0.2222222222222222,\"#7201a8\"],[0.3333333333333333,\"#9c179e\"],[0.4444444444444444,\"#bd3786\"],[0.5555555555555556,\"#d8576b\"],[0.6666666666666666,\"#ed7953\"],[0.7777777777777778,\"#fb9f3a\"],[0.8888888888888888,\"#fdca26\"],[1.0,\"#f0f921\"]],\"type\":\"heatmapgl\"}],\"heatmap\":[{\"colorbar\":{\"outlinewidth\":0,\"ticks\":\"\"},\"colorscale\":[[0.0,\"#0d0887\"],[0.1111111111111111,\"#46039f\"],[0.2222222222222222,\"#7201a8\"],[0.3333333333333333,\"#9c179e\"],[0.4444444444444444,\"#bd3786\"],[0.5555555555555556,\"#d8576b\"],[0.6666666666666666,\"#ed7953\"],[0.7777777777777778,\"#fb9f3a\"],[0.8888888888888888,\"#fdca26\"],[1.0,\"#f0f921\"]],\"type\":\"heatmap\"}],\"histogram2dcontour\":[{\"colorbar\":{\"outlinewidth\":0,\"ticks\":\"\"},\"colorscale\":[[0.0,\"#0d0887\"],[0.1111111111111111,\"#46039f\"],[0.2222222222222222,\"#7201a8\"],[0.3333333333333333,\"#9c179e\"],[0.4444444444444444,\"#bd3786\"],[0.5555555555555556,\"#d8576b\"],[0.6666666666666666,\"#ed7953\"],[0.7777777777777778,\"#fb9f3a\"],[0.8888888888888888,\"#fdca26\"],[1.0,\"#f0f921\"]],\"type\":\"histogram2dcontour\"}],\"histogram2d\":[{\"colorbar\":{\"outlinewidth\":0,\"ticks\":\"\"},\"colorscale\":[[0.0,\"#0d0887\"],[0.1111111111111111,\"#46039f\"],[0.2222222222222222,\"#7201a8\"],[0.3333333333333333,\"#9c179e\"],[0.4444444444444444,\"#bd3786\"],[0.5555555555555556,\"#d8576b\"],[0.6666666666666666,\"#ed7953\"],[0.7777777777777778,\"#fb9f3a\"],[0.8888888888888888,\"#fdca26\"],[1.0,\"#f0f921\"]],\"type\":\"histogram2d\"}],\"histogram\":[{\"marker\":{\"pattern\":{\"fillmode\":\"overlay\",\"size\":10,\"solidity\":0.2}},\"type\":\"histogram\"}],\"mesh3d\":[{\"colorbar\":{\"outlinewidth\":0,\"ticks\":\"\"},\"type\":\"mesh3d\"}],\"parcoords\":[{\"line\":{\"colorbar\":{\"outlinewidth\":0,\"ticks\":\"\"}},\"type\":\"parcoords\"}],\"pie\":[{\"automargin\":true,\"type\":\"pie\"}],\"scatter3d\":[{\"line\":{\"colorbar\":{\"outlinewidth\":0,\"ticks\":\"\"}},\"marker\":{\"colorbar\":{\"outlinewidth\":0,\"ticks\":\"\"}},\"type\":\"scatter3d\"}],\"scattercarpet\":[{\"marker\":{\"colorbar\":{\"outlinewidth\":0,\"ticks\":\"\"}},\"type\":\"scattercarpet\"}],\"scattergeo\":[{\"marker\":{\"colorbar\":{\"outlinewidth\":0,\"ticks\":\"\"}},\"type\":\"scattergeo\"}],\"scattergl\":[{\"marker\":{\"colorbar\":{\"outlinewidth\":0,\"ticks\":\"\"}},\"type\":\"scattergl\"}],\"scattermapbox\":[{\"marker\":{\"colorbar\":{\"outlinewidth\":0,\"ticks\":\"\"}},\"type\":\"scattermapbox\"}],\"scatterpolargl\":[{\"marker\":{\"colorbar\":{\"outlinewidth\":0,\"ticks\":\"\"}},\"type\":\"scatterpolargl\"}],\"scatterpolar\":[{\"marker\":{\"colorbar\":{\"outlinewidth\":0,\"ticks\":\"\"}},\"type\":\"scatterpolar\"}],\"scatter\":[{\"marker\":{\"colorbar\":{\"outlinewidth\":0,\"ticks\":\"\"}},\"type\":\"scatter\"}],\"scatterternary\":[{\"marker\":{\"colorbar\":{\"outlinewidth\":0,\"ticks\":\"\"}},\"type\":\"scatterternary\"}],\"surface\":[{\"colorbar\":{\"outlinewidth\":0,\"ticks\":\"\"},\"colorscale\":[[0.0,\"#0d0887\"],[0.1111111111111111,\"#46039f\"],[0.2222222222222222,\"#7201a8\"],[0.3333333333333333,\"#9c179e\"],[0.4444444444444444,\"#bd3786\"],[0.5555555555555556,\"#d8576b\"],[0.6666666666666666,\"#ed7953\"],[0.7777777777777778,\"#fb9f3a\"],[0.8888888888888888,\"#fdca26\"],[1.0,\"#f0f921\"]],\"type\":\"surface\"}],\"table\":[{\"cells\":{\"fill\":{\"color\":\"#EBF0F8\"},\"line\":{\"color\":\"white\"}},\"header\":{\"fill\":{\"color\":\"#C8D4E3\"},\"line\":{\"color\":\"white\"}},\"type\":\"table\"}]},\"layout\":{\"annotationdefaults\":{\"arrowcolor\":\"#2a3f5f\",\"arrowhead\":0,\"arrowwidth\":1},\"autotypenumbers\":\"strict\",\"coloraxis\":{\"colorbar\":{\"outlinewidth\":0,\"ticks\":\"\"}},\"colorscale\":{\"diverging\":[[0,\"#8e0152\"],[0.1,\"#c51b7d\"],[0.2,\"#de77ae\"],[0.3,\"#f1b6da\"],[0.4,\"#fde0ef\"],[0.5,\"#f7f7f7\"],[0.6,\"#e6f5d0\"],[0.7,\"#b8e186\"],[0.8,\"#7fbc41\"],[0.9,\"#4d9221\"],[1,\"#276419\"]],\"sequential\":[[0.0,\"#0d0887\"],[0.1111111111111111,\"#46039f\"],[0.2222222222222222,\"#7201a8\"],[0.3333333333333333,\"#9c179e\"],[0.4444444444444444,\"#bd3786\"],[0.5555555555555556,\"#d8576b\"],[0.6666666666666666,\"#ed7953\"],[0.7777777777777778,\"#fb9f3a\"],[0.8888888888888888,\"#fdca26\"],[1.0,\"#f0f921\"]],\"sequentialminus\":[[0.0,\"#0d0887\"],[0.1111111111111111,\"#46039f\"],[0.2222222222222222,\"#7201a8\"],[0.3333333333333333,\"#9c179e\"],[0.4444444444444444,\"#bd3786\"],[0.5555555555555556,\"#d8576b\"],[0.6666666666666666,\"#ed7953\"],[0.7777777777777778,\"#fb9f3a\"],[0.8888888888888888,\"#fdca26\"],[1.0,\"#f0f921\"]]},\"colorway\":[\"#636efa\",\"#EF553B\",\"#00cc96\",\"#ab63fa\",\"#FFA15A\",\"#19d3f3\",\"#FF6692\",\"#B6E880\",\"#FF97FF\",\"#FECB52\"],\"font\":{\"color\":\"#2a3f5f\"},\"geo\":{\"bgcolor\":\"white\",\"lakecolor\":\"white\",\"landcolor\":\"#E5ECF6\",\"showlakes\":true,\"showland\":true,\"subunitcolor\":\"white\"},\"hoverlabel\":{\"align\":\"left\"},\"hovermode\":\"closest\",\"mapbox\":{\"style\":\"light\"},\"paper_bgcolor\":\"white\",\"plot_bgcolor\":\"#E5ECF6\",\"polar\":{\"angularaxis\":{\"gridcolor\":\"white\",\"linecolor\":\"white\",\"ticks\":\"\"},\"bgcolor\":\"#E5ECF6\",\"radialaxis\":{\"gridcolor\":\"white\",\"linecolor\":\"white\",\"ticks\":\"\"}},\"scene\":{\"xaxis\":{\"backgroundcolor\":\"#E5ECF6\",\"gridcolor\":\"white\",\"gridwidth\":2,\"linecolor\":\"white\",\"showbackground\":true,\"ticks\":\"\",\"zerolinecolor\":\"white\"},\"yaxis\":{\"backgroundcolor\":\"#E5ECF6\",\"gridcolor\":\"white\",\"gridwidth\":2,\"linecolor\":\"white\",\"showbackground\":true,\"ticks\":\"\",\"zerolinecolor\":\"white\"},\"zaxis\":{\"backgroundcolor\":\"#E5ECF6\",\"gridcolor\":\"white\",\"gridwidth\":2,\"linecolor\":\"white\",\"showbackground\":true,\"ticks\":\"\",\"zerolinecolor\":\"white\"}},\"shapedefaults\":{\"line\":{\"color\":\"#2a3f5f\"}},\"ternary\":{\"aaxis\":{\"gridcolor\":\"white\",\"linecolor\":\"white\",\"ticks\":\"\"},\"baxis\":{\"gridcolor\":\"white\",\"linecolor\":\"white\",\"ticks\":\"\"},\"bgcolor\":\"#E5ECF6\",\"caxis\":{\"gridcolor\":\"white\",\"linecolor\":\"white\",\"ticks\":\"\"}},\"title\":{\"x\":0.05},\"xaxis\":{\"automargin\":true,\"gridcolor\":\"white\",\"linecolor\":\"white\",\"ticks\":\"\",\"title\":{\"standoff\":15},\"zerolinecolor\":\"white\",\"zerolinewidth\":2},\"yaxis\":{\"automargin\":true,\"gridcolor\":\"white\",\"linecolor\":\"white\",\"ticks\":\"\",\"title\":{\"standoff\":15},\"zerolinecolor\":\"white\",\"zerolinewidth\":2}}},\"title\":{\"font\":{\"color\":\"#4D5663\"}},\"xaxis\":{\"gridcolor\":\"#E1E5ED\",\"showgrid\":true,\"tickfont\":{\"color\":\"#4D5663\"},\"title\":{\"font\":{\"color\":\"#4D5663\"},\"text\":\"\"},\"zerolinecolor\":\"#E1E5ED\"},\"yaxis\":{\"gridcolor\":\"#E1E5ED\",\"showgrid\":true,\"tickfont\":{\"color\":\"#4D5663\"},\"title\":{\"font\":{\"color\":\"#4D5663\"},\"text\":\"\"},\"zerolinecolor\":\"#E1E5ED\"}},                        {\"showLink\": true, \"linkText\": \"Export to plot.ly\", \"plotlyServerURL\": \"https://plot.ly\", \"responsive\": true}                    ).then(function(){\n",
       "                            \n",
       "var gd = document.getElementById('0d93e239-934d-4454-9e77-bcf70042387d');\n",
       "var x = new MutationObserver(function (mutations, observer) {{\n",
       "        var display = window.getComputedStyle(gd).display;\n",
       "        if (!display || display === 'none') {{\n",
       "            console.log([gd, 'removed!']);\n",
       "            Plotly.purge(gd);\n",
       "            observer.disconnect();\n",
       "        }}\n",
       "}});\n",
       "\n",
       "// Listen for the removal of the full notebook cells\n",
       "var notebookContainer = gd.closest('#notebook-container');\n",
       "if (notebookContainer) {{\n",
       "    x.observe(notebookContainer, {childList: true});\n",
       "}}\n",
       "\n",
       "// Listen for the clearing of the current output cell\n",
       "var outputEl = gd.closest('.output');\n",
       "if (outputEl) {{\n",
       "    x.observe(outputEl, {childList: true});\n",
       "}}\n",
       "\n",
       "                        })                };                });            </script>        </div>"
      ]
     },
     "metadata": {},
     "output_type": "display_data"
    }
   ],
   "source": [
    "df3 = pd.DataFrame({'x':[1,2,3,4,5],'y':[10,20,30,20,10],'z':[5,4,3,2,1]})\n",
    "df3.iplot(kind='surface',colorscale='rdylbu')"
   ]
  },
  {
   "cell_type": "markdown",
   "metadata": {},
   "source": [
    "## Spread"
   ]
  },
  {
   "cell_type": "code",
   "execution_count": 17,
   "metadata": {},
   "outputs": [
    {
     "name": "stderr",
     "output_type": "stream",
     "text": [
      "C:\\Users\\aamir.rafi\\Anaconda3\\lib\\site-packages\\cufflinks\\plotlytools.py:849: FutureWarning:\n",
      "\n",
      "The pandas.np module is deprecated and will be removed from pandas in a future version. Import numpy directly instead.\n",
      "\n",
      "C:\\Users\\aamir.rafi\\Anaconda3\\lib\\site-packages\\cufflinks\\plotlytools.py:850: FutureWarning:\n",
      "\n",
      "The pandas.np module is deprecated and will be removed from pandas in a future version. Import numpy directly instead.\n",
      "\n"
     ]
    },
    {
     "data": {
      "application/vnd.plotly.v1+json": {
       "config": {
        "linkText": "Export to plot.ly",
        "plotlyServerURL": "https://plot.ly",
        "showLink": true
       },
       "data": [
        {
         "line": {
          "color": "rgba(255, 153, 51, 1.0)",
          "dash": "solid",
          "shape": "linear",
          "width": 1.3
         },
         "mode": "lines",
         "name": "A",
         "text": "",
         "type": "scatter",
         "x": [
          0,
          1,
          2,
          3,
          4,
          5,
          6,
          7,
          8,
          9,
          10,
          11,
          12,
          13,
          14,
          15,
          16,
          17,
          18,
          19,
          20,
          21,
          22,
          23,
          24,
          25,
          26,
          27,
          28,
          29,
          30,
          31,
          32,
          33,
          34,
          35,
          36,
          37,
          38,
          39,
          40,
          41,
          42,
          43,
          44,
          45,
          46,
          47,
          48,
          49,
          50,
          51,
          52,
          53,
          54,
          55,
          56,
          57,
          58,
          59,
          60,
          61,
          62,
          63,
          64,
          65,
          66,
          67,
          68,
          69,
          70,
          71,
          72,
          73,
          74,
          75,
          76,
          77,
          78,
          79,
          80,
          81,
          82,
          83,
          84,
          85,
          86,
          87,
          88,
          89,
          90,
          91,
          92,
          93,
          94,
          95,
          96,
          97,
          98,
          99
         ],
         "y": [
          -1.4988901786541045,
          -0.001422821726739044,
          -0.2304684055770329,
          0.23997464714259756,
          0.18192721535380907,
          0.19164720456797463,
          0.8934074803005699,
          -0.16678903578641818,
          -1.0084349560508432,
          -0.03497746442877197,
          -0.29407807175981265,
          -0.6006039772725303,
          -1.9183720589496456,
          1.1614531567992483,
          0.7099754557782095,
          0.0597482684433398,
          -0.7208573651997514,
          0.3855346391785886,
          -0.6452196773049834,
          -0.976381166476433,
          0.6594618598235175,
          1.5365704381442875,
          -0.8503296300579475,
          -0.6817453467007452,
          -0.9463322508133754,
          -0.19411061226880635,
          0.7592740048310302,
          -1.1926747622253955,
          1.400547023742745,
          -0.01495067745602767,
          -1.7115247300904346,
          -0.36124821109843847,
          -0.9945764316187472,
          -0.02174742702343883,
          0.4271204474826363,
          2.0458262738449973,
          0.38003902187660327,
          0.12799810814049276,
          -1.114003422680656,
          -0.06648643302860642,
          -0.9862118908244232,
          0.2492347168731393,
          0.17820277695620237,
          -0.7387340723009684,
          -0.31798405254195145,
          0.9524360693241468,
          0.9861659791518401,
          0.7148700640697296,
          -0.22592732878489613,
          2.3080279320676045,
          0.787929315365375,
          -0.48486969233250055,
          0.4027834014210285,
          1.4822702738530436,
          1.3038659671232047,
          -0.6523787149594126,
          -0.020653413306827302,
          1.27795507641576,
          0.9017516859560875,
          0.3656487115665125,
          -0.17128934489835104,
          0.6007005503795194,
          0.3206977385185198,
          -1.6303945368009163,
          0.6030078809689943,
          -0.6207387600421282,
          0.9288566443524915,
          1.003041834488083,
          0.6555148863499219,
          1.8369810188217182,
          -1.1342616020404406,
          -0.03959247097223943,
          0.27889716160290184,
          0.5964316283866732,
          -0.36252227062175946,
          -0.34907991775801606,
          -0.7457953929282686,
          -0.025432745061922953,
          -1.9507489350848062,
          -1.041117167054891,
          0.22955684614254096,
          -0.7594240891624068,
          -0.26728306802932256,
          -0.5574003405662921,
          -0.5552647869514891,
          -0.27986732142818244,
          -0.3176914326608163,
          1.1045692759785846,
          -1.1308518489324335,
          -0.3919640656418023,
          -1.0287786375678944,
          -0.5389389032984023,
          1.5990545052027803,
          -0.9840034230949485,
          0.9466879685336848,
          -0.2562696339386158,
          -0.4170640840563133,
          -0.7355380779682636,
          0.7659323423522455,
          -0.2871147614324862
         ]
        },
        {
         "line": {
          "color": "rgba(55, 128, 191, 1.0)",
          "dash": "solid",
          "shape": "linear",
          "width": 1.3
         },
         "mode": "lines",
         "name": "B",
         "text": "",
         "type": "scatter",
         "x": [
          0,
          1,
          2,
          3,
          4,
          5,
          6,
          7,
          8,
          9,
          10,
          11,
          12,
          13,
          14,
          15,
          16,
          17,
          18,
          19,
          20,
          21,
          22,
          23,
          24,
          25,
          26,
          27,
          28,
          29,
          30,
          31,
          32,
          33,
          34,
          35,
          36,
          37,
          38,
          39,
          40,
          41,
          42,
          43,
          44,
          45,
          46,
          47,
          48,
          49,
          50,
          51,
          52,
          53,
          54,
          55,
          56,
          57,
          58,
          59,
          60,
          61,
          62,
          63,
          64,
          65,
          66,
          67,
          68,
          69,
          70,
          71,
          72,
          73,
          74,
          75,
          76,
          77,
          78,
          79,
          80,
          81,
          82,
          83,
          84,
          85,
          86,
          87,
          88,
          89,
          90,
          91,
          92,
          93,
          94,
          95,
          96,
          97,
          98,
          99
         ],
         "y": [
          0.23526574448227672,
          1.168163947055222,
          0.2603253096157711,
          -1.7094688244238117,
          1.2314559187199188,
          1.6726392784566257,
          1.110882751972855,
          2.4989591704588947,
          -0.21090740427651708,
          0.6710299469446712,
          0.5112763692090437,
          -0.3007727133257675,
          -0.44789669873124577,
          -0.683971266219679,
          -0.035603974521086434,
          0.9453888391325656,
          -0.3642535594012888,
          -0.7333466976832804,
          1.2214417366538486,
          -0.41663209241617577,
          0.6251585915454666,
          0.7118831843227998,
          -0.7328897597367783,
          0.41557603199328913,
          0.09317786774577878,
          0.1935706418538896,
          0.7567493246413372,
          -0.7890825203287073,
          0.470082990361827,
          0.2988970555631342,
          0.5477894960342421,
          -0.839905415734585,
          -2.285938793357377,
          1.1672269099760322,
          0.15066291368605914,
          0.691394580518865,
          1.550852584290744,
          0.2356201953546311,
          -0.5119547775416198,
          -0.17958271427017333,
          2.4751023612296494,
          0.8485209816138845,
          -1.6716169800928415,
          1.4212479055478549,
          1.373356337287798,
          1.1561028656871015,
          -0.1419436980968088,
          0.7187691549260182,
          3.0364205633719425,
          0.734284800443334,
          -0.9813275386456558,
          0.28835595613774406,
          0.2177289571851628,
          -1.5979716350858764,
          1.7533737527925104,
          2.455263171182504,
          -0.998996487354798,
          1.6647065302884583,
          0.13487899639228673,
          -0.9204221983040389,
          -0.5260204719325334,
          0.3729631855801561,
          -1.7881349756837503,
          -0.06024704765386666,
          -0.35343347656634894,
          -0.32862076542402474,
          -0.3296552300795083,
          0.7959402796708153,
          -0.2591835000266135,
          0.9291618039459419,
          2.526294058316706,
          -0.4158483633854793,
          -2.114171050587124,
          -1.5980731814780682,
          3.060158018044401,
          0.8864017834192536,
          -0.7888369809411898,
          -0.22207270455452055,
          0.2919727650947669,
          1.7298690787747741,
          -1.1907371521158825,
          -0.7481014500130333,
          -1.3126581161022361,
          0.556183164685591,
          1.3643829245990822,
          0.23609289097665742,
          -0.783866036842399,
          0.21681356368855853,
          0.5960968696295027,
          -0.04396548150781571,
          -0.8883792916898136,
          -0.2869425360225565,
          0.663551053787133,
          0.7616302112157503,
          0.2615442593539925,
          1.6195140569719841,
          0.04943547707619654,
          0.762492090412884,
          -3.0235275989995,
          -0.6972617199851123
         ]
        },
        {
         "connectgaps": false,
         "fill": "tozeroy",
         "line": {
          "color": "green",
          "dash": "solid",
          "shape": "linear",
          "width": 0.5
         },
         "mode": "lines",
         "name": "Spread",
         "showlegend": false,
         "type": "scatter",
         "x": [
          0,
          1,
          2,
          3,
          4,
          5,
          6,
          7,
          8,
          9,
          10,
          11,
          12,
          13,
          14,
          15,
          16,
          17,
          18,
          19,
          20,
          21,
          22,
          23,
          24,
          25,
          26,
          27,
          28,
          29,
          30,
          31,
          32,
          33,
          34,
          35,
          36,
          37,
          38,
          39,
          40,
          41,
          42,
          43,
          44,
          45,
          46,
          47,
          48,
          49,
          50,
          51,
          52,
          53,
          54,
          55,
          56,
          57,
          58,
          59,
          60,
          61,
          62,
          63,
          64,
          65,
          66,
          67,
          68,
          69,
          70,
          71,
          72,
          73,
          74,
          75,
          76,
          77,
          78,
          79,
          80,
          81,
          82,
          83,
          84,
          85,
          86,
          87,
          88,
          89,
          90,
          91,
          92,
          93,
          94,
          95,
          96,
          97,
          98,
          99
         ],
         "xaxis": "x2",
         "y": [
          "",
          "",
          "",
          1.9494434715664093,
          "",
          "",
          "",
          "",
          "",
          "",
          "",
          "",
          "",
          1.8454244230189274,
          0.745579430299296,
          "",
          "",
          1.118881336861869,
          "",
          "",
          0.03430326827805086,
          0.8246872538214877,
          "",
          "",
          "",
          "",
          0.002524680189693096,
          "",
          0.9304640333809181,
          "",
          "",
          0.4786572046361465,
          1.2913623617386296,
          "",
          0.2764575337965771,
          1.3544316933261322,
          "",
          "",
          "",
          0.11309628124156691,
          "",
          "",
          1.849819757049044,
          "",
          "",
          "",
          1.128109677248649,
          "",
          "",
          1.5737431316242705,
          1.7692568540110307,
          "",
          0.18505444423586567,
          3.0802419089389197,
          "",
          "",
          0.9783430740479706,
          "",
          0.7668726895638007,
          1.2860709098705514,
          0.3547311270341824,
          0.2277373647993633,
          2.1088327142022703,
          "",
          0.9564413575353432,
          "",
          1.2585118744319999,
          0.20710155481726766,
          0.9146983863765354,
          0.9078192148757762,
          "",
          0.37625589241323987,
          2.393068212190026,
          2.1945048098647413,
          "",
          "",
          0.04304158801292124,
          0.1966399594925976,
          "",
          "",
          1.4202939982584235,
          "",
          1.0453750480729136,
          "",
          "",
          "",
          0.4661746041815827,
          0.887755712290026,
          "",
          "",
          "",
          "",
          0.9355034514156473,
          "",
          0.6851437091796923,
          "",
          "",
          "",
          3.7894599413517454,
          0.4101469585526261
         ],
         "yaxis": "y2"
        },
        {
         "connectgaps": false,
         "fill": "tozeroy",
         "line": {
          "color": "red",
          "dash": "solid",
          "shape": "linear",
          "width": 0.5
         },
         "mode": "lines",
         "name": "Spread",
         "showlegend": false,
         "type": "scatter",
         "x": [
          0,
          1,
          2,
          3,
          4,
          5,
          6,
          7,
          8,
          9,
          10,
          11,
          12,
          13,
          14,
          15,
          16,
          17,
          18,
          19,
          20,
          21,
          22,
          23,
          24,
          25,
          26,
          27,
          28,
          29,
          30,
          31,
          32,
          33,
          34,
          35,
          36,
          37,
          38,
          39,
          40,
          41,
          42,
          43,
          44,
          45,
          46,
          47,
          48,
          49,
          50,
          51,
          52,
          53,
          54,
          55,
          56,
          57,
          58,
          59,
          60,
          61,
          62,
          63,
          64,
          65,
          66,
          67,
          68,
          69,
          70,
          71,
          72,
          73,
          74,
          75,
          76,
          77,
          78,
          79,
          80,
          81,
          82,
          83,
          84,
          85,
          86,
          87,
          88,
          89,
          90,
          91,
          92,
          93,
          94,
          95,
          96,
          97,
          98,
          99
         ],
         "xaxis": "x2",
         "y": [
          -1.7341559231363812,
          -1.1695867687819612,
          -0.490793715192804,
          "",
          -1.0495287033661098,
          -1.480992073888651,
          -0.2174752716722851,
          -2.665748206245313,
          -0.7975275517743261,
          -0.7060074113734431,
          -0.8053544409688564,
          -0.29983126394676285,
          -1.4704753602183998,
          "",
          "",
          -0.8856405706892257,
          -0.3566038057984626,
          "",
          -1.866661413958832,
          -0.5597490740602573,
          "",
          "",
          -0.1174398703211692,
          -1.0973213786940343,
          -1.0395101185591542,
          -0.38768125412269594,
          "",
          -0.4035922418966882,
          "",
          -0.31384773301916186,
          -2.2593142261246766,
          "",
          "",
          -1.188974336999471,
          "",
          "",
          -1.1708135624141407,
          -0.10762208721413835,
          -0.6020486451390363,
          "",
          -3.4613142520540725,
          -0.5992862647407451,
          "",
          -2.1599819778488234,
          -1.6913403898297494,
          -0.2036667963629547,
          "",
          -0.0038990908562885895,
          -3.2623478921568387,
          "",
          "",
          -0.7732256484702447,
          "",
          "",
          -0.4495077856693057,
          -3.107641886141917,
          "",
          -0.3867514538726984,
          "",
          "",
          "",
          "",
          "",
          -1.5701474891470497,
          "",
          -0.2921179946181035,
          "",
          "",
          "",
          "",
          -3.6605556603571467,
          "",
          "",
          "",
          -3.4226802886661605,
          -1.2354817011772696,
          "",
          "",
          -2.242721700179573,
          -2.7709862458296652,
          "",
          -0.011322639149373481,
          "",
          -1.1135835052518832,
          -1.9196477115505712,
          -0.5159602124048399,
          "",
          "",
          -1.7269487185619363,
          -0.3479985841339866,
          -0.1403993458780809,
          -0.25199636727584585,
          "",
          -1.7456336343106988,
          "",
          -1.8757836909106,
          -0.46649956113250984,
          -1.4980301683811477,
          "",
          ""
         ],
         "yaxis": "y2"
        }
       ],
       "layout": {
        "hovermode": "x",
        "legend": {
         "bgcolor": "#F5F6F9",
         "font": {
          "color": "#4D5663"
         }
        },
        "paper_bgcolor": "#F5F6F9",
        "plot_bgcolor": "#F5F6F9",
        "template": {
         "data": {
          "bar": [
           {
            "error_x": {
             "color": "#2a3f5f"
            },
            "error_y": {
             "color": "#2a3f5f"
            },
            "marker": {
             "line": {
              "color": "#E5ECF6",
              "width": 0.5
             },
             "pattern": {
              "fillmode": "overlay",
              "size": 10,
              "solidity": 0.2
             }
            },
            "type": "bar"
           }
          ],
          "barpolar": [
           {
            "marker": {
             "line": {
              "color": "#E5ECF6",
              "width": 0.5
             },
             "pattern": {
              "fillmode": "overlay",
              "size": 10,
              "solidity": 0.2
             }
            },
            "type": "barpolar"
           }
          ],
          "carpet": [
           {
            "aaxis": {
             "endlinecolor": "#2a3f5f",
             "gridcolor": "white",
             "linecolor": "white",
             "minorgridcolor": "white",
             "startlinecolor": "#2a3f5f"
            },
            "baxis": {
             "endlinecolor": "#2a3f5f",
             "gridcolor": "white",
             "linecolor": "white",
             "minorgridcolor": "white",
             "startlinecolor": "#2a3f5f"
            },
            "type": "carpet"
           }
          ],
          "choropleth": [
           {
            "colorbar": {
             "outlinewidth": 0,
             "ticks": ""
            },
            "type": "choropleth"
           }
          ],
          "contour": [
           {
            "colorbar": {
             "outlinewidth": 0,
             "ticks": ""
            },
            "colorscale": [
             [
              0,
              "#0d0887"
             ],
             [
              0.1111111111111111,
              "#46039f"
             ],
             [
              0.2222222222222222,
              "#7201a8"
             ],
             [
              0.3333333333333333,
              "#9c179e"
             ],
             [
              0.4444444444444444,
              "#bd3786"
             ],
             [
              0.5555555555555556,
              "#d8576b"
             ],
             [
              0.6666666666666666,
              "#ed7953"
             ],
             [
              0.7777777777777778,
              "#fb9f3a"
             ],
             [
              0.8888888888888888,
              "#fdca26"
             ],
             [
              1,
              "#f0f921"
             ]
            ],
            "type": "contour"
           }
          ],
          "contourcarpet": [
           {
            "colorbar": {
             "outlinewidth": 0,
             "ticks": ""
            },
            "type": "contourcarpet"
           }
          ],
          "heatmap": [
           {
            "colorbar": {
             "outlinewidth": 0,
             "ticks": ""
            },
            "colorscale": [
             [
              0,
              "#0d0887"
             ],
             [
              0.1111111111111111,
              "#46039f"
             ],
             [
              0.2222222222222222,
              "#7201a8"
             ],
             [
              0.3333333333333333,
              "#9c179e"
             ],
             [
              0.4444444444444444,
              "#bd3786"
             ],
             [
              0.5555555555555556,
              "#d8576b"
             ],
             [
              0.6666666666666666,
              "#ed7953"
             ],
             [
              0.7777777777777778,
              "#fb9f3a"
             ],
             [
              0.8888888888888888,
              "#fdca26"
             ],
             [
              1,
              "#f0f921"
             ]
            ],
            "type": "heatmap"
           }
          ],
          "heatmapgl": [
           {
            "colorbar": {
             "outlinewidth": 0,
             "ticks": ""
            },
            "colorscale": [
             [
              0,
              "#0d0887"
             ],
             [
              0.1111111111111111,
              "#46039f"
             ],
             [
              0.2222222222222222,
              "#7201a8"
             ],
             [
              0.3333333333333333,
              "#9c179e"
             ],
             [
              0.4444444444444444,
              "#bd3786"
             ],
             [
              0.5555555555555556,
              "#d8576b"
             ],
             [
              0.6666666666666666,
              "#ed7953"
             ],
             [
              0.7777777777777778,
              "#fb9f3a"
             ],
             [
              0.8888888888888888,
              "#fdca26"
             ],
             [
              1,
              "#f0f921"
             ]
            ],
            "type": "heatmapgl"
           }
          ],
          "histogram": [
           {
            "marker": {
             "pattern": {
              "fillmode": "overlay",
              "size": 10,
              "solidity": 0.2
             }
            },
            "type": "histogram"
           }
          ],
          "histogram2d": [
           {
            "colorbar": {
             "outlinewidth": 0,
             "ticks": ""
            },
            "colorscale": [
             [
              0,
              "#0d0887"
             ],
             [
              0.1111111111111111,
              "#46039f"
             ],
             [
              0.2222222222222222,
              "#7201a8"
             ],
             [
              0.3333333333333333,
              "#9c179e"
             ],
             [
              0.4444444444444444,
              "#bd3786"
             ],
             [
              0.5555555555555556,
              "#d8576b"
             ],
             [
              0.6666666666666666,
              "#ed7953"
             ],
             [
              0.7777777777777778,
              "#fb9f3a"
             ],
             [
              0.8888888888888888,
              "#fdca26"
             ],
             [
              1,
              "#f0f921"
             ]
            ],
            "type": "histogram2d"
           }
          ],
          "histogram2dcontour": [
           {
            "colorbar": {
             "outlinewidth": 0,
             "ticks": ""
            },
            "colorscale": [
             [
              0,
              "#0d0887"
             ],
             [
              0.1111111111111111,
              "#46039f"
             ],
             [
              0.2222222222222222,
              "#7201a8"
             ],
             [
              0.3333333333333333,
              "#9c179e"
             ],
             [
              0.4444444444444444,
              "#bd3786"
             ],
             [
              0.5555555555555556,
              "#d8576b"
             ],
             [
              0.6666666666666666,
              "#ed7953"
             ],
             [
              0.7777777777777778,
              "#fb9f3a"
             ],
             [
              0.8888888888888888,
              "#fdca26"
             ],
             [
              1,
              "#f0f921"
             ]
            ],
            "type": "histogram2dcontour"
           }
          ],
          "mesh3d": [
           {
            "colorbar": {
             "outlinewidth": 0,
             "ticks": ""
            },
            "type": "mesh3d"
           }
          ],
          "parcoords": [
           {
            "line": {
             "colorbar": {
              "outlinewidth": 0,
              "ticks": ""
             }
            },
            "type": "parcoords"
           }
          ],
          "pie": [
           {
            "automargin": true,
            "type": "pie"
           }
          ],
          "scatter": [
           {
            "marker": {
             "colorbar": {
              "outlinewidth": 0,
              "ticks": ""
             }
            },
            "type": "scatter"
           }
          ],
          "scatter3d": [
           {
            "line": {
             "colorbar": {
              "outlinewidth": 0,
              "ticks": ""
             }
            },
            "marker": {
             "colorbar": {
              "outlinewidth": 0,
              "ticks": ""
             }
            },
            "type": "scatter3d"
           }
          ],
          "scattercarpet": [
           {
            "marker": {
             "colorbar": {
              "outlinewidth": 0,
              "ticks": ""
             }
            },
            "type": "scattercarpet"
           }
          ],
          "scattergeo": [
           {
            "marker": {
             "colorbar": {
              "outlinewidth": 0,
              "ticks": ""
             }
            },
            "type": "scattergeo"
           }
          ],
          "scattergl": [
           {
            "marker": {
             "colorbar": {
              "outlinewidth": 0,
              "ticks": ""
             }
            },
            "type": "scattergl"
           }
          ],
          "scattermapbox": [
           {
            "marker": {
             "colorbar": {
              "outlinewidth": 0,
              "ticks": ""
             }
            },
            "type": "scattermapbox"
           }
          ],
          "scatterpolar": [
           {
            "marker": {
             "colorbar": {
              "outlinewidth": 0,
              "ticks": ""
             }
            },
            "type": "scatterpolar"
           }
          ],
          "scatterpolargl": [
           {
            "marker": {
             "colorbar": {
              "outlinewidth": 0,
              "ticks": ""
             }
            },
            "type": "scatterpolargl"
           }
          ],
          "scatterternary": [
           {
            "marker": {
             "colorbar": {
              "outlinewidth": 0,
              "ticks": ""
             }
            },
            "type": "scatterternary"
           }
          ],
          "surface": [
           {
            "colorbar": {
             "outlinewidth": 0,
             "ticks": ""
            },
            "colorscale": [
             [
              0,
              "#0d0887"
             ],
             [
              0.1111111111111111,
              "#46039f"
             ],
             [
              0.2222222222222222,
              "#7201a8"
             ],
             [
              0.3333333333333333,
              "#9c179e"
             ],
             [
              0.4444444444444444,
              "#bd3786"
             ],
             [
              0.5555555555555556,
              "#d8576b"
             ],
             [
              0.6666666666666666,
              "#ed7953"
             ],
             [
              0.7777777777777778,
              "#fb9f3a"
             ],
             [
              0.8888888888888888,
              "#fdca26"
             ],
             [
              1,
              "#f0f921"
             ]
            ],
            "type": "surface"
           }
          ],
          "table": [
           {
            "cells": {
             "fill": {
              "color": "#EBF0F8"
             },
             "line": {
              "color": "white"
             }
            },
            "header": {
             "fill": {
              "color": "#C8D4E3"
             },
             "line": {
              "color": "white"
             }
            },
            "type": "table"
           }
          ]
         },
         "layout": {
          "annotationdefaults": {
           "arrowcolor": "#2a3f5f",
           "arrowhead": 0,
           "arrowwidth": 1
          },
          "autotypenumbers": "strict",
          "coloraxis": {
           "colorbar": {
            "outlinewidth": 0,
            "ticks": ""
           }
          },
          "colorscale": {
           "diverging": [
            [
             0,
             "#8e0152"
            ],
            [
             0.1,
             "#c51b7d"
            ],
            [
             0.2,
             "#de77ae"
            ],
            [
             0.3,
             "#f1b6da"
            ],
            [
             0.4,
             "#fde0ef"
            ],
            [
             0.5,
             "#f7f7f7"
            ],
            [
             0.6,
             "#e6f5d0"
            ],
            [
             0.7,
             "#b8e186"
            ],
            [
             0.8,
             "#7fbc41"
            ],
            [
             0.9,
             "#4d9221"
            ],
            [
             1,
             "#276419"
            ]
           ],
           "sequential": [
            [
             0,
             "#0d0887"
            ],
            [
             0.1111111111111111,
             "#46039f"
            ],
            [
             0.2222222222222222,
             "#7201a8"
            ],
            [
             0.3333333333333333,
             "#9c179e"
            ],
            [
             0.4444444444444444,
             "#bd3786"
            ],
            [
             0.5555555555555556,
             "#d8576b"
            ],
            [
             0.6666666666666666,
             "#ed7953"
            ],
            [
             0.7777777777777778,
             "#fb9f3a"
            ],
            [
             0.8888888888888888,
             "#fdca26"
            ],
            [
             1,
             "#f0f921"
            ]
           ],
           "sequentialminus": [
            [
             0,
             "#0d0887"
            ],
            [
             0.1111111111111111,
             "#46039f"
            ],
            [
             0.2222222222222222,
             "#7201a8"
            ],
            [
             0.3333333333333333,
             "#9c179e"
            ],
            [
             0.4444444444444444,
             "#bd3786"
            ],
            [
             0.5555555555555556,
             "#d8576b"
            ],
            [
             0.6666666666666666,
             "#ed7953"
            ],
            [
             0.7777777777777778,
             "#fb9f3a"
            ],
            [
             0.8888888888888888,
             "#fdca26"
            ],
            [
             1,
             "#f0f921"
            ]
           ]
          },
          "colorway": [
           "#636efa",
           "#EF553B",
           "#00cc96",
           "#ab63fa",
           "#FFA15A",
           "#19d3f3",
           "#FF6692",
           "#B6E880",
           "#FF97FF",
           "#FECB52"
          ],
          "font": {
           "color": "#2a3f5f"
          },
          "geo": {
           "bgcolor": "white",
           "lakecolor": "white",
           "landcolor": "#E5ECF6",
           "showlakes": true,
           "showland": true,
           "subunitcolor": "white"
          },
          "hoverlabel": {
           "align": "left"
          },
          "hovermode": "closest",
          "mapbox": {
           "style": "light"
          },
          "paper_bgcolor": "white",
          "plot_bgcolor": "#E5ECF6",
          "polar": {
           "angularaxis": {
            "gridcolor": "white",
            "linecolor": "white",
            "ticks": ""
           },
           "bgcolor": "#E5ECF6",
           "radialaxis": {
            "gridcolor": "white",
            "linecolor": "white",
            "ticks": ""
           }
          },
          "scene": {
           "xaxis": {
            "backgroundcolor": "#E5ECF6",
            "gridcolor": "white",
            "gridwidth": 2,
            "linecolor": "white",
            "showbackground": true,
            "ticks": "",
            "zerolinecolor": "white"
           },
           "yaxis": {
            "backgroundcolor": "#E5ECF6",
            "gridcolor": "white",
            "gridwidth": 2,
            "linecolor": "white",
            "showbackground": true,
            "ticks": "",
            "zerolinecolor": "white"
           },
           "zaxis": {
            "backgroundcolor": "#E5ECF6",
            "gridcolor": "white",
            "gridwidth": 2,
            "linecolor": "white",
            "showbackground": true,
            "ticks": "",
            "zerolinecolor": "white"
           }
          },
          "shapedefaults": {
           "line": {
            "color": "#2a3f5f"
           }
          },
          "ternary": {
           "aaxis": {
            "gridcolor": "white",
            "linecolor": "white",
            "ticks": ""
           },
           "baxis": {
            "gridcolor": "white",
            "linecolor": "white",
            "ticks": ""
           },
           "bgcolor": "#E5ECF6",
           "caxis": {
            "gridcolor": "white",
            "linecolor": "white",
            "ticks": ""
           }
          },
          "title": {
           "x": 0.05
          },
          "xaxis": {
           "automargin": true,
           "gridcolor": "white",
           "linecolor": "white",
           "ticks": "",
           "title": {
            "standoff": 15
           },
           "zerolinecolor": "white",
           "zerolinewidth": 2
          },
          "yaxis": {
           "automargin": true,
           "gridcolor": "white",
           "linecolor": "white",
           "ticks": "",
           "title": {
            "standoff": 15
           },
           "zerolinecolor": "white",
           "zerolinewidth": 2
          }
         }
        },
        "title": {
         "font": {
          "color": "#4D5663"
         }
        },
        "xaxis": {
         "gridcolor": "#E1E5ED",
         "showgrid": true,
         "tickfont": {
          "color": "#4D5663"
         },
         "title": {
          "font": {
           "color": "#4D5663"
          },
          "text": ""
         },
         "zerolinecolor": "#E1E5ED"
        },
        "xaxis2": {
         "anchor": "y2",
         "gridcolor": "#E1E5ED",
         "showgrid": true,
         "showticklabels": false,
         "tickfont": {
          "color": "#4D5663"
         },
         "title": {
          "font": {
           "color": "#4D5663"
          },
          "text": ""
         },
         "zerolinecolor": "#E1E5ED"
        },
        "yaxis": {
         "domain": [
          0.3,
          1
         ],
         "gridcolor": "#E1E5ED",
         "showgrid": true,
         "tickfont": {
          "color": "#4D5663"
         },
         "title": {
          "font": {
           "color": "#4D5663"
          },
          "text": ""
         },
         "zerolinecolor": "#E1E5ED"
        },
        "yaxis2": {
         "domain": [
          0,
          0.25
         ],
         "gridcolor": "#E1E5ED",
         "showgrid": true,
         "tickfont": {
          "color": "#4D5663"
         },
         "title": {
          "font": {
           "color": "#4D5663"
          },
          "text": "Spread"
         },
         "zerolinecolor": "#E1E5ED"
        }
       }
      },
      "text/html": [
       "<div>                            <div id=\"a2359a52-d242-4638-b878-1bc027b50347\" class=\"plotly-graph-div\" style=\"height:525px; width:100%;\"></div>            <script type=\"text/javascript\">                require([\"plotly\"], function(Plotly) {                    window.PLOTLYENV=window.PLOTLYENV || {};\n",
       "                    window.PLOTLYENV.BASE_URL='https://plot.ly';                                    if (document.getElementById(\"a2359a52-d242-4638-b878-1bc027b50347\")) {                    Plotly.newPlot(                        \"a2359a52-d242-4638-b878-1bc027b50347\",                        [{\"line\":{\"color\":\"rgba(255, 153, 51, 1.0)\",\"dash\":\"solid\",\"shape\":\"linear\",\"width\":1.3},\"mode\":\"lines\",\"name\":\"A\",\"text\":\"\",\"x\":[0,1,2,3,4,5,6,7,8,9,10,11,12,13,14,15,16,17,18,19,20,21,22,23,24,25,26,27,28,29,30,31,32,33,34,35,36,37,38,39,40,41,42,43,44,45,46,47,48,49,50,51,52,53,54,55,56,57,58,59,60,61,62,63,64,65,66,67,68,69,70,71,72,73,74,75,76,77,78,79,80,81,82,83,84,85,86,87,88,89,90,91,92,93,94,95,96,97,98,99],\"y\":[-1.4988901786541045,-0.001422821726739044,-0.2304684055770329,0.23997464714259756,0.18192721535380907,0.19164720456797463,0.8934074803005699,-0.16678903578641818,-1.0084349560508432,-0.03497746442877197,-0.29407807175981265,-0.6006039772725303,-1.9183720589496456,1.1614531567992483,0.7099754557782095,0.0597482684433398,-0.7208573651997514,0.3855346391785886,-0.6452196773049834,-0.976381166476433,0.6594618598235175,1.5365704381442875,-0.8503296300579475,-0.6817453467007452,-0.9463322508133754,-0.19411061226880635,0.7592740048310302,-1.1926747622253955,1.400547023742745,-0.01495067745602767,-1.7115247300904346,-0.36124821109843847,-0.9945764316187472,-0.02174742702343883,0.4271204474826363,2.0458262738449973,0.38003902187660327,0.12799810814049276,-1.114003422680656,-0.06648643302860642,-0.9862118908244232,0.2492347168731393,0.17820277695620237,-0.7387340723009684,-0.31798405254195145,0.9524360693241468,0.9861659791518401,0.7148700640697296,-0.22592732878489613,2.3080279320676045,0.787929315365375,-0.48486969233250055,0.4027834014210285,1.4822702738530436,1.3038659671232047,-0.6523787149594126,-0.020653413306827302,1.27795507641576,0.9017516859560875,0.3656487115665125,-0.17128934489835104,0.6007005503795194,0.3206977385185198,-1.6303945368009163,0.6030078809689943,-0.6207387600421282,0.9288566443524915,1.003041834488083,0.6555148863499219,1.8369810188217182,-1.1342616020404406,-0.03959247097223943,0.27889716160290184,0.5964316283866732,-0.36252227062175946,-0.34907991775801606,-0.7457953929282686,-0.025432745061922953,-1.9507489350848062,-1.041117167054891,0.22955684614254096,-0.7594240891624068,-0.26728306802932256,-0.5574003405662921,-0.5552647869514891,-0.27986732142818244,-0.3176914326608163,1.1045692759785846,-1.1308518489324335,-0.3919640656418023,-1.0287786375678944,-0.5389389032984023,1.5990545052027803,-0.9840034230949485,0.9466879685336848,-0.2562696339386158,-0.4170640840563133,-0.7355380779682636,0.7659323423522455,-0.2871147614324862],\"type\":\"scatter\"},{\"line\":{\"color\":\"rgba(55, 128, 191, 1.0)\",\"dash\":\"solid\",\"shape\":\"linear\",\"width\":1.3},\"mode\":\"lines\",\"name\":\"B\",\"text\":\"\",\"x\":[0,1,2,3,4,5,6,7,8,9,10,11,12,13,14,15,16,17,18,19,20,21,22,23,24,25,26,27,28,29,30,31,32,33,34,35,36,37,38,39,40,41,42,43,44,45,46,47,48,49,50,51,52,53,54,55,56,57,58,59,60,61,62,63,64,65,66,67,68,69,70,71,72,73,74,75,76,77,78,79,80,81,82,83,84,85,86,87,88,89,90,91,92,93,94,95,96,97,98,99],\"y\":[0.23526574448227672,1.168163947055222,0.2603253096157711,-1.7094688244238117,1.2314559187199188,1.6726392784566257,1.110882751972855,2.4989591704588947,-0.21090740427651708,0.6710299469446712,0.5112763692090437,-0.3007727133257675,-0.44789669873124577,-0.683971266219679,-0.035603974521086434,0.9453888391325656,-0.3642535594012888,-0.7333466976832804,1.2214417366538486,-0.41663209241617577,0.6251585915454666,0.7118831843227998,-0.7328897597367783,0.41557603199328913,0.09317786774577878,0.1935706418538896,0.7567493246413372,-0.7890825203287073,0.470082990361827,0.2988970555631342,0.5477894960342421,-0.839905415734585,-2.285938793357377,1.1672269099760322,0.15066291368605914,0.691394580518865,1.550852584290744,0.2356201953546311,-0.5119547775416198,-0.17958271427017333,2.4751023612296494,0.8485209816138845,-1.6716169800928415,1.4212479055478549,1.373356337287798,1.1561028656871015,-0.1419436980968088,0.7187691549260182,3.0364205633719425,0.734284800443334,-0.9813275386456558,0.28835595613774406,0.2177289571851628,-1.5979716350858764,1.7533737527925104,2.455263171182504,-0.998996487354798,1.6647065302884583,0.13487899639228673,-0.9204221983040389,-0.5260204719325334,0.3729631855801561,-1.7881349756837503,-0.06024704765386666,-0.35343347656634894,-0.32862076542402474,-0.3296552300795083,0.7959402796708153,-0.2591835000266135,0.9291618039459419,2.526294058316706,-0.4158483633854793,-2.114171050587124,-1.5980731814780682,3.060158018044401,0.8864017834192536,-0.7888369809411898,-0.22207270455452055,0.2919727650947669,1.7298690787747741,-1.1907371521158825,-0.7481014500130333,-1.3126581161022361,0.556183164685591,1.3643829245990822,0.23609289097665742,-0.783866036842399,0.21681356368855853,0.5960968696295027,-0.04396548150781571,-0.8883792916898136,-0.2869425360225565,0.663551053787133,0.7616302112157503,0.2615442593539925,1.6195140569719841,0.04943547707619654,0.762492090412884,-3.0235275989995,-0.6972617199851123],\"type\":\"scatter\"},{\"connectgaps\":false,\"fill\":\"tozeroy\",\"line\":{\"color\":\"green\",\"dash\":\"solid\",\"shape\":\"linear\",\"width\":0.5},\"mode\":\"lines\",\"name\":\"Spread\",\"showlegend\":false,\"x\":[0,1,2,3,4,5,6,7,8,9,10,11,12,13,14,15,16,17,18,19,20,21,22,23,24,25,26,27,28,29,30,31,32,33,34,35,36,37,38,39,40,41,42,43,44,45,46,47,48,49,50,51,52,53,54,55,56,57,58,59,60,61,62,63,64,65,66,67,68,69,70,71,72,73,74,75,76,77,78,79,80,81,82,83,84,85,86,87,88,89,90,91,92,93,94,95,96,97,98,99],\"xaxis\":\"x2\",\"y\":[\"\",\"\",\"\",1.9494434715664093,\"\",\"\",\"\",\"\",\"\",\"\",\"\",\"\",\"\",1.8454244230189274,0.745579430299296,\"\",\"\",1.118881336861869,\"\",\"\",0.03430326827805086,0.8246872538214877,\"\",\"\",\"\",\"\",0.002524680189693096,\"\",0.9304640333809181,\"\",\"\",0.4786572046361465,1.2913623617386296,\"\",0.2764575337965771,1.3544316933261322,\"\",\"\",\"\",0.11309628124156691,\"\",\"\",1.849819757049044,\"\",\"\",\"\",1.128109677248649,\"\",\"\",1.5737431316242705,1.7692568540110307,\"\",0.18505444423586567,3.0802419089389197,\"\",\"\",0.9783430740479706,\"\",0.7668726895638007,1.2860709098705514,0.3547311270341824,0.2277373647993633,2.1088327142022703,\"\",0.9564413575353432,\"\",1.2585118744319999,0.20710155481726766,0.9146983863765354,0.9078192148757762,\"\",0.37625589241323987,2.393068212190026,2.1945048098647413,\"\",\"\",0.04304158801292124,0.1966399594925976,\"\",\"\",1.4202939982584235,\"\",1.0453750480729136,\"\",\"\",\"\",0.4661746041815827,0.887755712290026,\"\",\"\",\"\",\"\",0.9355034514156473,\"\",0.6851437091796923,\"\",\"\",\"\",3.7894599413517454,0.4101469585526261],\"yaxis\":\"y2\",\"type\":\"scatter\"},{\"connectgaps\":false,\"fill\":\"tozeroy\",\"line\":{\"color\":\"red\",\"dash\":\"solid\",\"shape\":\"linear\",\"width\":0.5},\"mode\":\"lines\",\"name\":\"Spread\",\"showlegend\":false,\"x\":[0,1,2,3,4,5,6,7,8,9,10,11,12,13,14,15,16,17,18,19,20,21,22,23,24,25,26,27,28,29,30,31,32,33,34,35,36,37,38,39,40,41,42,43,44,45,46,47,48,49,50,51,52,53,54,55,56,57,58,59,60,61,62,63,64,65,66,67,68,69,70,71,72,73,74,75,76,77,78,79,80,81,82,83,84,85,86,87,88,89,90,91,92,93,94,95,96,97,98,99],\"xaxis\":\"x2\",\"y\":[-1.7341559231363812,-1.1695867687819612,-0.490793715192804,\"\",-1.0495287033661098,-1.480992073888651,-0.2174752716722851,-2.665748206245313,-0.7975275517743261,-0.7060074113734431,-0.8053544409688564,-0.29983126394676285,-1.4704753602183998,\"\",\"\",-0.8856405706892257,-0.3566038057984626,\"\",-1.866661413958832,-0.5597490740602573,\"\",\"\",-0.1174398703211692,-1.0973213786940343,-1.0395101185591542,-0.38768125412269594,\"\",-0.4035922418966882,\"\",-0.31384773301916186,-2.2593142261246766,\"\",\"\",-1.188974336999471,\"\",\"\",-1.1708135624141407,-0.10762208721413835,-0.6020486451390363,\"\",-3.4613142520540725,-0.5992862647407451,\"\",-2.1599819778488234,-1.6913403898297494,-0.2036667963629547,\"\",-0.0038990908562885895,-3.2623478921568387,\"\",\"\",-0.7732256484702447,\"\",\"\",-0.4495077856693057,-3.107641886141917,\"\",-0.3867514538726984,\"\",\"\",\"\",\"\",\"\",-1.5701474891470497,\"\",-0.2921179946181035,\"\",\"\",\"\",\"\",-3.6605556603571467,\"\",\"\",\"\",-3.4226802886661605,-1.2354817011772696,\"\",\"\",-2.242721700179573,-2.7709862458296652,\"\",-0.011322639149373481,\"\",-1.1135835052518832,-1.9196477115505712,-0.5159602124048399,\"\",\"\",-1.7269487185619363,-0.3479985841339866,-0.1403993458780809,-0.25199636727584585,\"\",-1.7456336343106988,\"\",-1.8757836909106,-0.46649956113250984,-1.4980301683811477,\"\",\"\"],\"yaxis\":\"y2\",\"type\":\"scatter\"}],                        {\"hovermode\":\"x\",\"legend\":{\"bgcolor\":\"#F5F6F9\",\"font\":{\"color\":\"#4D5663\"}},\"paper_bgcolor\":\"#F5F6F9\",\"plot_bgcolor\":\"#F5F6F9\",\"template\":{\"data\":{\"barpolar\":[{\"marker\":{\"line\":{\"color\":\"#E5ECF6\",\"width\":0.5},\"pattern\":{\"fillmode\":\"overlay\",\"size\":10,\"solidity\":0.2}},\"type\":\"barpolar\"}],\"bar\":[{\"error_x\":{\"color\":\"#2a3f5f\"},\"error_y\":{\"color\":\"#2a3f5f\"},\"marker\":{\"line\":{\"color\":\"#E5ECF6\",\"width\":0.5},\"pattern\":{\"fillmode\":\"overlay\",\"size\":10,\"solidity\":0.2}},\"type\":\"bar\"}],\"carpet\":[{\"aaxis\":{\"endlinecolor\":\"#2a3f5f\",\"gridcolor\":\"white\",\"linecolor\":\"white\",\"minorgridcolor\":\"white\",\"startlinecolor\":\"#2a3f5f\"},\"baxis\":{\"endlinecolor\":\"#2a3f5f\",\"gridcolor\":\"white\",\"linecolor\":\"white\",\"minorgridcolor\":\"white\",\"startlinecolor\":\"#2a3f5f\"},\"type\":\"carpet\"}],\"choropleth\":[{\"colorbar\":{\"outlinewidth\":0,\"ticks\":\"\"},\"type\":\"choropleth\"}],\"contourcarpet\":[{\"colorbar\":{\"outlinewidth\":0,\"ticks\":\"\"},\"type\":\"contourcarpet\"}],\"contour\":[{\"colorbar\":{\"outlinewidth\":0,\"ticks\":\"\"},\"colorscale\":[[0.0,\"#0d0887\"],[0.1111111111111111,\"#46039f\"],[0.2222222222222222,\"#7201a8\"],[0.3333333333333333,\"#9c179e\"],[0.4444444444444444,\"#bd3786\"],[0.5555555555555556,\"#d8576b\"],[0.6666666666666666,\"#ed7953\"],[0.7777777777777778,\"#fb9f3a\"],[0.8888888888888888,\"#fdca26\"],[1.0,\"#f0f921\"]],\"type\":\"contour\"}],\"heatmapgl\":[{\"colorbar\":{\"outlinewidth\":0,\"ticks\":\"\"},\"colorscale\":[[0.0,\"#0d0887\"],[0.1111111111111111,\"#46039f\"],[0.2222222222222222,\"#7201a8\"],[0.3333333333333333,\"#9c179e\"],[0.4444444444444444,\"#bd3786\"],[0.5555555555555556,\"#d8576b\"],[0.6666666666666666,\"#ed7953\"],[0.7777777777777778,\"#fb9f3a\"],[0.8888888888888888,\"#fdca26\"],[1.0,\"#f0f921\"]],\"type\":\"heatmapgl\"}],\"heatmap\":[{\"colorbar\":{\"outlinewidth\":0,\"ticks\":\"\"},\"colorscale\":[[0.0,\"#0d0887\"],[0.1111111111111111,\"#46039f\"],[0.2222222222222222,\"#7201a8\"],[0.3333333333333333,\"#9c179e\"],[0.4444444444444444,\"#bd3786\"],[0.5555555555555556,\"#d8576b\"],[0.6666666666666666,\"#ed7953\"],[0.7777777777777778,\"#fb9f3a\"],[0.8888888888888888,\"#fdca26\"],[1.0,\"#f0f921\"]],\"type\":\"heatmap\"}],\"histogram2dcontour\":[{\"colorbar\":{\"outlinewidth\":0,\"ticks\":\"\"},\"colorscale\":[[0.0,\"#0d0887\"],[0.1111111111111111,\"#46039f\"],[0.2222222222222222,\"#7201a8\"],[0.3333333333333333,\"#9c179e\"],[0.4444444444444444,\"#bd3786\"],[0.5555555555555556,\"#d8576b\"],[0.6666666666666666,\"#ed7953\"],[0.7777777777777778,\"#fb9f3a\"],[0.8888888888888888,\"#fdca26\"],[1.0,\"#f0f921\"]],\"type\":\"histogram2dcontour\"}],\"histogram2d\":[{\"colorbar\":{\"outlinewidth\":0,\"ticks\":\"\"},\"colorscale\":[[0.0,\"#0d0887\"],[0.1111111111111111,\"#46039f\"],[0.2222222222222222,\"#7201a8\"],[0.3333333333333333,\"#9c179e\"],[0.4444444444444444,\"#bd3786\"],[0.5555555555555556,\"#d8576b\"],[0.6666666666666666,\"#ed7953\"],[0.7777777777777778,\"#fb9f3a\"],[0.8888888888888888,\"#fdca26\"],[1.0,\"#f0f921\"]],\"type\":\"histogram2d\"}],\"histogram\":[{\"marker\":{\"pattern\":{\"fillmode\":\"overlay\",\"size\":10,\"solidity\":0.2}},\"type\":\"histogram\"}],\"mesh3d\":[{\"colorbar\":{\"outlinewidth\":0,\"ticks\":\"\"},\"type\":\"mesh3d\"}],\"parcoords\":[{\"line\":{\"colorbar\":{\"outlinewidth\":0,\"ticks\":\"\"}},\"type\":\"parcoords\"}],\"pie\":[{\"automargin\":true,\"type\":\"pie\"}],\"scatter3d\":[{\"line\":{\"colorbar\":{\"outlinewidth\":0,\"ticks\":\"\"}},\"marker\":{\"colorbar\":{\"outlinewidth\":0,\"ticks\":\"\"}},\"type\":\"scatter3d\"}],\"scattercarpet\":[{\"marker\":{\"colorbar\":{\"outlinewidth\":0,\"ticks\":\"\"}},\"type\":\"scattercarpet\"}],\"scattergeo\":[{\"marker\":{\"colorbar\":{\"outlinewidth\":0,\"ticks\":\"\"}},\"type\":\"scattergeo\"}],\"scattergl\":[{\"marker\":{\"colorbar\":{\"outlinewidth\":0,\"ticks\":\"\"}},\"type\":\"scattergl\"}],\"scattermapbox\":[{\"marker\":{\"colorbar\":{\"outlinewidth\":0,\"ticks\":\"\"}},\"type\":\"scattermapbox\"}],\"scatterpolargl\":[{\"marker\":{\"colorbar\":{\"outlinewidth\":0,\"ticks\":\"\"}},\"type\":\"scatterpolargl\"}],\"scatterpolar\":[{\"marker\":{\"colorbar\":{\"outlinewidth\":0,\"ticks\":\"\"}},\"type\":\"scatterpolar\"}],\"scatter\":[{\"marker\":{\"colorbar\":{\"outlinewidth\":0,\"ticks\":\"\"}},\"type\":\"scatter\"}],\"scatterternary\":[{\"marker\":{\"colorbar\":{\"outlinewidth\":0,\"ticks\":\"\"}},\"type\":\"scatterternary\"}],\"surface\":[{\"colorbar\":{\"outlinewidth\":0,\"ticks\":\"\"},\"colorscale\":[[0.0,\"#0d0887\"],[0.1111111111111111,\"#46039f\"],[0.2222222222222222,\"#7201a8\"],[0.3333333333333333,\"#9c179e\"],[0.4444444444444444,\"#bd3786\"],[0.5555555555555556,\"#d8576b\"],[0.6666666666666666,\"#ed7953\"],[0.7777777777777778,\"#fb9f3a\"],[0.8888888888888888,\"#fdca26\"],[1.0,\"#f0f921\"]],\"type\":\"surface\"}],\"table\":[{\"cells\":{\"fill\":{\"color\":\"#EBF0F8\"},\"line\":{\"color\":\"white\"}},\"header\":{\"fill\":{\"color\":\"#C8D4E3\"},\"line\":{\"color\":\"white\"}},\"type\":\"table\"}]},\"layout\":{\"annotationdefaults\":{\"arrowcolor\":\"#2a3f5f\",\"arrowhead\":0,\"arrowwidth\":1},\"autotypenumbers\":\"strict\",\"coloraxis\":{\"colorbar\":{\"outlinewidth\":0,\"ticks\":\"\"}},\"colorscale\":{\"diverging\":[[0,\"#8e0152\"],[0.1,\"#c51b7d\"],[0.2,\"#de77ae\"],[0.3,\"#f1b6da\"],[0.4,\"#fde0ef\"],[0.5,\"#f7f7f7\"],[0.6,\"#e6f5d0\"],[0.7,\"#b8e186\"],[0.8,\"#7fbc41\"],[0.9,\"#4d9221\"],[1,\"#276419\"]],\"sequential\":[[0.0,\"#0d0887\"],[0.1111111111111111,\"#46039f\"],[0.2222222222222222,\"#7201a8\"],[0.3333333333333333,\"#9c179e\"],[0.4444444444444444,\"#bd3786\"],[0.5555555555555556,\"#d8576b\"],[0.6666666666666666,\"#ed7953\"],[0.7777777777777778,\"#fb9f3a\"],[0.8888888888888888,\"#fdca26\"],[1.0,\"#f0f921\"]],\"sequentialminus\":[[0.0,\"#0d0887\"],[0.1111111111111111,\"#46039f\"],[0.2222222222222222,\"#7201a8\"],[0.3333333333333333,\"#9c179e\"],[0.4444444444444444,\"#bd3786\"],[0.5555555555555556,\"#d8576b\"],[0.6666666666666666,\"#ed7953\"],[0.7777777777777778,\"#fb9f3a\"],[0.8888888888888888,\"#fdca26\"],[1.0,\"#f0f921\"]]},\"colorway\":[\"#636efa\",\"#EF553B\",\"#00cc96\",\"#ab63fa\",\"#FFA15A\",\"#19d3f3\",\"#FF6692\",\"#B6E880\",\"#FF97FF\",\"#FECB52\"],\"font\":{\"color\":\"#2a3f5f\"},\"geo\":{\"bgcolor\":\"white\",\"lakecolor\":\"white\",\"landcolor\":\"#E5ECF6\",\"showlakes\":true,\"showland\":true,\"subunitcolor\":\"white\"},\"hoverlabel\":{\"align\":\"left\"},\"hovermode\":\"closest\",\"mapbox\":{\"style\":\"light\"},\"paper_bgcolor\":\"white\",\"plot_bgcolor\":\"#E5ECF6\",\"polar\":{\"angularaxis\":{\"gridcolor\":\"white\",\"linecolor\":\"white\",\"ticks\":\"\"},\"bgcolor\":\"#E5ECF6\",\"radialaxis\":{\"gridcolor\":\"white\",\"linecolor\":\"white\",\"ticks\":\"\"}},\"scene\":{\"xaxis\":{\"backgroundcolor\":\"#E5ECF6\",\"gridcolor\":\"white\",\"gridwidth\":2,\"linecolor\":\"white\",\"showbackground\":true,\"ticks\":\"\",\"zerolinecolor\":\"white\"},\"yaxis\":{\"backgroundcolor\":\"#E5ECF6\",\"gridcolor\":\"white\",\"gridwidth\":2,\"linecolor\":\"white\",\"showbackground\":true,\"ticks\":\"\",\"zerolinecolor\":\"white\"},\"zaxis\":{\"backgroundcolor\":\"#E5ECF6\",\"gridcolor\":\"white\",\"gridwidth\":2,\"linecolor\":\"white\",\"showbackground\":true,\"ticks\":\"\",\"zerolinecolor\":\"white\"}},\"shapedefaults\":{\"line\":{\"color\":\"#2a3f5f\"}},\"ternary\":{\"aaxis\":{\"gridcolor\":\"white\",\"linecolor\":\"white\",\"ticks\":\"\"},\"baxis\":{\"gridcolor\":\"white\",\"linecolor\":\"white\",\"ticks\":\"\"},\"bgcolor\":\"#E5ECF6\",\"caxis\":{\"gridcolor\":\"white\",\"linecolor\":\"white\",\"ticks\":\"\"}},\"title\":{\"x\":0.05},\"xaxis\":{\"automargin\":true,\"gridcolor\":\"white\",\"linecolor\":\"white\",\"ticks\":\"\",\"title\":{\"standoff\":15},\"zerolinecolor\":\"white\",\"zerolinewidth\":2},\"yaxis\":{\"automargin\":true,\"gridcolor\":\"white\",\"linecolor\":\"white\",\"ticks\":\"\",\"title\":{\"standoff\":15},\"zerolinecolor\":\"white\",\"zerolinewidth\":2}}},\"title\":{\"font\":{\"color\":\"#4D5663\"}},\"xaxis\":{\"gridcolor\":\"#E1E5ED\",\"showgrid\":true,\"tickfont\":{\"color\":\"#4D5663\"},\"title\":{\"font\":{\"color\":\"#4D5663\"},\"text\":\"\"},\"zerolinecolor\":\"#E1E5ED\"},\"yaxis\":{\"domain\":[0.3,1],\"gridcolor\":\"#E1E5ED\",\"showgrid\":true,\"tickfont\":{\"color\":\"#4D5663\"},\"title\":{\"font\":{\"color\":\"#4D5663\"},\"text\":\"\"},\"zerolinecolor\":\"#E1E5ED\"},\"yaxis2\":{\"domain\":[0,0.25],\"gridcolor\":\"#E1E5ED\",\"showgrid\":true,\"tickfont\":{\"color\":\"#4D5663\"},\"title\":{\"font\":{\"color\":\"#4D5663\"},\"text\":\"Spread\"},\"zerolinecolor\":\"#E1E5ED\"},\"xaxis2\":{\"anchor\":\"y2\",\"gridcolor\":\"#E1E5ED\",\"showgrid\":true,\"showticklabels\":false,\"tickfont\":{\"color\":\"#4D5663\"},\"title\":{\"font\":{\"color\":\"#4D5663\"},\"text\":\"\"},\"zerolinecolor\":\"#E1E5ED\"}},                        {\"showLink\": true, \"linkText\": \"Export to plot.ly\", \"plotlyServerURL\": \"https://plot.ly\", \"responsive\": true}                    ).then(function(){\n",
       "                            \n",
       "var gd = document.getElementById('a2359a52-d242-4638-b878-1bc027b50347');\n",
       "var x = new MutationObserver(function (mutations, observer) {{\n",
       "        var display = window.getComputedStyle(gd).display;\n",
       "        if (!display || display === 'none') {{\n",
       "            console.log([gd, 'removed!']);\n",
       "            Plotly.purge(gd);\n",
       "            observer.disconnect();\n",
       "        }}\n",
       "}});\n",
       "\n",
       "// Listen for the removal of the full notebook cells\n",
       "var notebookContainer = gd.closest('#notebook-container');\n",
       "if (notebookContainer) {{\n",
       "    x.observe(notebookContainer, {childList: true});\n",
       "}}\n",
       "\n",
       "// Listen for the clearing of the current output cell\n",
       "var outputEl = gd.closest('.output');\n",
       "if (outputEl) {{\n",
       "    x.observe(outputEl, {childList: true});\n",
       "}}\n",
       "\n",
       "                        })                };                });            </script>        </div>"
      ]
     },
     "metadata": {},
     "output_type": "display_data"
    }
   ],
   "source": [
    "df[['A','B']].iplot(kind='spread')"
   ]
  },
  {
   "cell_type": "markdown",
   "metadata": {},
   "source": [
    "## histogram"
   ]
  },
  {
   "cell_type": "code",
   "execution_count": 18,
   "metadata": {},
   "outputs": [
    {
     "data": {
      "application/vnd.plotly.v1+json": {
       "config": {
        "linkText": "Export to plot.ly",
        "plotlyServerURL": "https://plot.ly",
        "showLink": true
       },
       "data": [
        {
         "histfunc": "count",
         "histnorm": "",
         "marker": {
          "color": "rgba(255, 153, 51, 1.0)",
          "line": {
           "color": "#4D5663",
           "width": 1.3
          }
         },
         "name": "A",
         "nbinsx": 25,
         "opacity": 0.8,
         "orientation": "v",
         "type": "histogram",
         "x": [
          -1.4988901786541045,
          -0.001422821726739044,
          -0.2304684055770329,
          0.23997464714259756,
          0.18192721535380907,
          0.19164720456797463,
          0.8934074803005699,
          -0.16678903578641818,
          -1.0084349560508432,
          -0.03497746442877197,
          -0.29407807175981265,
          -0.6006039772725303,
          -1.9183720589496456,
          1.1614531567992483,
          0.7099754557782095,
          0.0597482684433398,
          -0.7208573651997514,
          0.3855346391785886,
          -0.6452196773049834,
          -0.976381166476433,
          0.6594618598235175,
          1.5365704381442875,
          -0.8503296300579475,
          -0.6817453467007452,
          -0.9463322508133754,
          -0.19411061226880635,
          0.7592740048310302,
          -1.1926747622253955,
          1.400547023742745,
          -0.01495067745602767,
          -1.7115247300904346,
          -0.36124821109843847,
          -0.9945764316187472,
          -0.02174742702343883,
          0.4271204474826363,
          2.0458262738449973,
          0.38003902187660327,
          0.12799810814049276,
          -1.114003422680656,
          -0.06648643302860642,
          -0.9862118908244232,
          0.2492347168731393,
          0.17820277695620237,
          -0.7387340723009684,
          -0.31798405254195145,
          0.9524360693241468,
          0.9861659791518401,
          0.7148700640697296,
          -0.22592732878489613,
          2.3080279320676045,
          0.787929315365375,
          -0.48486969233250055,
          0.4027834014210285,
          1.4822702738530436,
          1.3038659671232047,
          -0.6523787149594126,
          -0.020653413306827302,
          1.27795507641576,
          0.9017516859560875,
          0.3656487115665125,
          -0.17128934489835104,
          0.6007005503795194,
          0.3206977385185198,
          -1.6303945368009163,
          0.6030078809689943,
          -0.6207387600421282,
          0.9288566443524915,
          1.003041834488083,
          0.6555148863499219,
          1.8369810188217182,
          -1.1342616020404406,
          -0.03959247097223943,
          0.27889716160290184,
          0.5964316283866732,
          -0.36252227062175946,
          -0.34907991775801606,
          -0.7457953929282686,
          -0.025432745061922953,
          -1.9507489350848062,
          -1.041117167054891,
          0.22955684614254096,
          -0.7594240891624068,
          -0.26728306802932256,
          -0.5574003405662921,
          -0.5552647869514891,
          -0.27986732142818244,
          -0.3176914326608163,
          1.1045692759785846,
          -1.1308518489324335,
          -0.3919640656418023,
          -1.0287786375678944,
          -0.5389389032984023,
          1.5990545052027803,
          -0.9840034230949485,
          0.9466879685336848,
          -0.2562696339386158,
          -0.4170640840563133,
          -0.7355380779682636,
          0.7659323423522455,
          -0.2871147614324862
         ]
        }
       ],
       "layout": {
        "barmode": "overlay",
        "legend": {
         "bgcolor": "#F5F6F9",
         "font": {
          "color": "#4D5663"
         }
        },
        "paper_bgcolor": "#F5F6F9",
        "plot_bgcolor": "#F5F6F9",
        "template": {
         "data": {
          "bar": [
           {
            "error_x": {
             "color": "#2a3f5f"
            },
            "error_y": {
             "color": "#2a3f5f"
            },
            "marker": {
             "line": {
              "color": "#E5ECF6",
              "width": 0.5
             },
             "pattern": {
              "fillmode": "overlay",
              "size": 10,
              "solidity": 0.2
             }
            },
            "type": "bar"
           }
          ],
          "barpolar": [
           {
            "marker": {
             "line": {
              "color": "#E5ECF6",
              "width": 0.5
             },
             "pattern": {
              "fillmode": "overlay",
              "size": 10,
              "solidity": 0.2
             }
            },
            "type": "barpolar"
           }
          ],
          "carpet": [
           {
            "aaxis": {
             "endlinecolor": "#2a3f5f",
             "gridcolor": "white",
             "linecolor": "white",
             "minorgridcolor": "white",
             "startlinecolor": "#2a3f5f"
            },
            "baxis": {
             "endlinecolor": "#2a3f5f",
             "gridcolor": "white",
             "linecolor": "white",
             "minorgridcolor": "white",
             "startlinecolor": "#2a3f5f"
            },
            "type": "carpet"
           }
          ],
          "choropleth": [
           {
            "colorbar": {
             "outlinewidth": 0,
             "ticks": ""
            },
            "type": "choropleth"
           }
          ],
          "contour": [
           {
            "colorbar": {
             "outlinewidth": 0,
             "ticks": ""
            },
            "colorscale": [
             [
              0,
              "#0d0887"
             ],
             [
              0.1111111111111111,
              "#46039f"
             ],
             [
              0.2222222222222222,
              "#7201a8"
             ],
             [
              0.3333333333333333,
              "#9c179e"
             ],
             [
              0.4444444444444444,
              "#bd3786"
             ],
             [
              0.5555555555555556,
              "#d8576b"
             ],
             [
              0.6666666666666666,
              "#ed7953"
             ],
             [
              0.7777777777777778,
              "#fb9f3a"
             ],
             [
              0.8888888888888888,
              "#fdca26"
             ],
             [
              1,
              "#f0f921"
             ]
            ],
            "type": "contour"
           }
          ],
          "contourcarpet": [
           {
            "colorbar": {
             "outlinewidth": 0,
             "ticks": ""
            },
            "type": "contourcarpet"
           }
          ],
          "heatmap": [
           {
            "colorbar": {
             "outlinewidth": 0,
             "ticks": ""
            },
            "colorscale": [
             [
              0,
              "#0d0887"
             ],
             [
              0.1111111111111111,
              "#46039f"
             ],
             [
              0.2222222222222222,
              "#7201a8"
             ],
             [
              0.3333333333333333,
              "#9c179e"
             ],
             [
              0.4444444444444444,
              "#bd3786"
             ],
             [
              0.5555555555555556,
              "#d8576b"
             ],
             [
              0.6666666666666666,
              "#ed7953"
             ],
             [
              0.7777777777777778,
              "#fb9f3a"
             ],
             [
              0.8888888888888888,
              "#fdca26"
             ],
             [
              1,
              "#f0f921"
             ]
            ],
            "type": "heatmap"
           }
          ],
          "heatmapgl": [
           {
            "colorbar": {
             "outlinewidth": 0,
             "ticks": ""
            },
            "colorscale": [
             [
              0,
              "#0d0887"
             ],
             [
              0.1111111111111111,
              "#46039f"
             ],
             [
              0.2222222222222222,
              "#7201a8"
             ],
             [
              0.3333333333333333,
              "#9c179e"
             ],
             [
              0.4444444444444444,
              "#bd3786"
             ],
             [
              0.5555555555555556,
              "#d8576b"
             ],
             [
              0.6666666666666666,
              "#ed7953"
             ],
             [
              0.7777777777777778,
              "#fb9f3a"
             ],
             [
              0.8888888888888888,
              "#fdca26"
             ],
             [
              1,
              "#f0f921"
             ]
            ],
            "type": "heatmapgl"
           }
          ],
          "histogram": [
           {
            "marker": {
             "pattern": {
              "fillmode": "overlay",
              "size": 10,
              "solidity": 0.2
             }
            },
            "type": "histogram"
           }
          ],
          "histogram2d": [
           {
            "colorbar": {
             "outlinewidth": 0,
             "ticks": ""
            },
            "colorscale": [
             [
              0,
              "#0d0887"
             ],
             [
              0.1111111111111111,
              "#46039f"
             ],
             [
              0.2222222222222222,
              "#7201a8"
             ],
             [
              0.3333333333333333,
              "#9c179e"
             ],
             [
              0.4444444444444444,
              "#bd3786"
             ],
             [
              0.5555555555555556,
              "#d8576b"
             ],
             [
              0.6666666666666666,
              "#ed7953"
             ],
             [
              0.7777777777777778,
              "#fb9f3a"
             ],
             [
              0.8888888888888888,
              "#fdca26"
             ],
             [
              1,
              "#f0f921"
             ]
            ],
            "type": "histogram2d"
           }
          ],
          "histogram2dcontour": [
           {
            "colorbar": {
             "outlinewidth": 0,
             "ticks": ""
            },
            "colorscale": [
             [
              0,
              "#0d0887"
             ],
             [
              0.1111111111111111,
              "#46039f"
             ],
             [
              0.2222222222222222,
              "#7201a8"
             ],
             [
              0.3333333333333333,
              "#9c179e"
             ],
             [
              0.4444444444444444,
              "#bd3786"
             ],
             [
              0.5555555555555556,
              "#d8576b"
             ],
             [
              0.6666666666666666,
              "#ed7953"
             ],
             [
              0.7777777777777778,
              "#fb9f3a"
             ],
             [
              0.8888888888888888,
              "#fdca26"
             ],
             [
              1,
              "#f0f921"
             ]
            ],
            "type": "histogram2dcontour"
           }
          ],
          "mesh3d": [
           {
            "colorbar": {
             "outlinewidth": 0,
             "ticks": ""
            },
            "type": "mesh3d"
           }
          ],
          "parcoords": [
           {
            "line": {
             "colorbar": {
              "outlinewidth": 0,
              "ticks": ""
             }
            },
            "type": "parcoords"
           }
          ],
          "pie": [
           {
            "automargin": true,
            "type": "pie"
           }
          ],
          "scatter": [
           {
            "marker": {
             "colorbar": {
              "outlinewidth": 0,
              "ticks": ""
             }
            },
            "type": "scatter"
           }
          ],
          "scatter3d": [
           {
            "line": {
             "colorbar": {
              "outlinewidth": 0,
              "ticks": ""
             }
            },
            "marker": {
             "colorbar": {
              "outlinewidth": 0,
              "ticks": ""
             }
            },
            "type": "scatter3d"
           }
          ],
          "scattercarpet": [
           {
            "marker": {
             "colorbar": {
              "outlinewidth": 0,
              "ticks": ""
             }
            },
            "type": "scattercarpet"
           }
          ],
          "scattergeo": [
           {
            "marker": {
             "colorbar": {
              "outlinewidth": 0,
              "ticks": ""
             }
            },
            "type": "scattergeo"
           }
          ],
          "scattergl": [
           {
            "marker": {
             "colorbar": {
              "outlinewidth": 0,
              "ticks": ""
             }
            },
            "type": "scattergl"
           }
          ],
          "scattermapbox": [
           {
            "marker": {
             "colorbar": {
              "outlinewidth": 0,
              "ticks": ""
             }
            },
            "type": "scattermapbox"
           }
          ],
          "scatterpolar": [
           {
            "marker": {
             "colorbar": {
              "outlinewidth": 0,
              "ticks": ""
             }
            },
            "type": "scatterpolar"
           }
          ],
          "scatterpolargl": [
           {
            "marker": {
             "colorbar": {
              "outlinewidth": 0,
              "ticks": ""
             }
            },
            "type": "scatterpolargl"
           }
          ],
          "scatterternary": [
           {
            "marker": {
             "colorbar": {
              "outlinewidth": 0,
              "ticks": ""
             }
            },
            "type": "scatterternary"
           }
          ],
          "surface": [
           {
            "colorbar": {
             "outlinewidth": 0,
             "ticks": ""
            },
            "colorscale": [
             [
              0,
              "#0d0887"
             ],
             [
              0.1111111111111111,
              "#46039f"
             ],
             [
              0.2222222222222222,
              "#7201a8"
             ],
             [
              0.3333333333333333,
              "#9c179e"
             ],
             [
              0.4444444444444444,
              "#bd3786"
             ],
             [
              0.5555555555555556,
              "#d8576b"
             ],
             [
              0.6666666666666666,
              "#ed7953"
             ],
             [
              0.7777777777777778,
              "#fb9f3a"
             ],
             [
              0.8888888888888888,
              "#fdca26"
             ],
             [
              1,
              "#f0f921"
             ]
            ],
            "type": "surface"
           }
          ],
          "table": [
           {
            "cells": {
             "fill": {
              "color": "#EBF0F8"
             },
             "line": {
              "color": "white"
             }
            },
            "header": {
             "fill": {
              "color": "#C8D4E3"
             },
             "line": {
              "color": "white"
             }
            },
            "type": "table"
           }
          ]
         },
         "layout": {
          "annotationdefaults": {
           "arrowcolor": "#2a3f5f",
           "arrowhead": 0,
           "arrowwidth": 1
          },
          "autotypenumbers": "strict",
          "coloraxis": {
           "colorbar": {
            "outlinewidth": 0,
            "ticks": ""
           }
          },
          "colorscale": {
           "diverging": [
            [
             0,
             "#8e0152"
            ],
            [
             0.1,
             "#c51b7d"
            ],
            [
             0.2,
             "#de77ae"
            ],
            [
             0.3,
             "#f1b6da"
            ],
            [
             0.4,
             "#fde0ef"
            ],
            [
             0.5,
             "#f7f7f7"
            ],
            [
             0.6,
             "#e6f5d0"
            ],
            [
             0.7,
             "#b8e186"
            ],
            [
             0.8,
             "#7fbc41"
            ],
            [
             0.9,
             "#4d9221"
            ],
            [
             1,
             "#276419"
            ]
           ],
           "sequential": [
            [
             0,
             "#0d0887"
            ],
            [
             0.1111111111111111,
             "#46039f"
            ],
            [
             0.2222222222222222,
             "#7201a8"
            ],
            [
             0.3333333333333333,
             "#9c179e"
            ],
            [
             0.4444444444444444,
             "#bd3786"
            ],
            [
             0.5555555555555556,
             "#d8576b"
            ],
            [
             0.6666666666666666,
             "#ed7953"
            ],
            [
             0.7777777777777778,
             "#fb9f3a"
            ],
            [
             0.8888888888888888,
             "#fdca26"
            ],
            [
             1,
             "#f0f921"
            ]
           ],
           "sequentialminus": [
            [
             0,
             "#0d0887"
            ],
            [
             0.1111111111111111,
             "#46039f"
            ],
            [
             0.2222222222222222,
             "#7201a8"
            ],
            [
             0.3333333333333333,
             "#9c179e"
            ],
            [
             0.4444444444444444,
             "#bd3786"
            ],
            [
             0.5555555555555556,
             "#d8576b"
            ],
            [
             0.6666666666666666,
             "#ed7953"
            ],
            [
             0.7777777777777778,
             "#fb9f3a"
            ],
            [
             0.8888888888888888,
             "#fdca26"
            ],
            [
             1,
             "#f0f921"
            ]
           ]
          },
          "colorway": [
           "#636efa",
           "#EF553B",
           "#00cc96",
           "#ab63fa",
           "#FFA15A",
           "#19d3f3",
           "#FF6692",
           "#B6E880",
           "#FF97FF",
           "#FECB52"
          ],
          "font": {
           "color": "#2a3f5f"
          },
          "geo": {
           "bgcolor": "white",
           "lakecolor": "white",
           "landcolor": "#E5ECF6",
           "showlakes": true,
           "showland": true,
           "subunitcolor": "white"
          },
          "hoverlabel": {
           "align": "left"
          },
          "hovermode": "closest",
          "mapbox": {
           "style": "light"
          },
          "paper_bgcolor": "white",
          "plot_bgcolor": "#E5ECF6",
          "polar": {
           "angularaxis": {
            "gridcolor": "white",
            "linecolor": "white",
            "ticks": ""
           },
           "bgcolor": "#E5ECF6",
           "radialaxis": {
            "gridcolor": "white",
            "linecolor": "white",
            "ticks": ""
           }
          },
          "scene": {
           "xaxis": {
            "backgroundcolor": "#E5ECF6",
            "gridcolor": "white",
            "gridwidth": 2,
            "linecolor": "white",
            "showbackground": true,
            "ticks": "",
            "zerolinecolor": "white"
           },
           "yaxis": {
            "backgroundcolor": "#E5ECF6",
            "gridcolor": "white",
            "gridwidth": 2,
            "linecolor": "white",
            "showbackground": true,
            "ticks": "",
            "zerolinecolor": "white"
           },
           "zaxis": {
            "backgroundcolor": "#E5ECF6",
            "gridcolor": "white",
            "gridwidth": 2,
            "linecolor": "white",
            "showbackground": true,
            "ticks": "",
            "zerolinecolor": "white"
           }
          },
          "shapedefaults": {
           "line": {
            "color": "#2a3f5f"
           }
          },
          "ternary": {
           "aaxis": {
            "gridcolor": "white",
            "linecolor": "white",
            "ticks": ""
           },
           "baxis": {
            "gridcolor": "white",
            "linecolor": "white",
            "ticks": ""
           },
           "bgcolor": "#E5ECF6",
           "caxis": {
            "gridcolor": "white",
            "linecolor": "white",
            "ticks": ""
           }
          },
          "title": {
           "x": 0.05
          },
          "xaxis": {
           "automargin": true,
           "gridcolor": "white",
           "linecolor": "white",
           "ticks": "",
           "title": {
            "standoff": 15
           },
           "zerolinecolor": "white",
           "zerolinewidth": 2
          },
          "yaxis": {
           "automargin": true,
           "gridcolor": "white",
           "linecolor": "white",
           "ticks": "",
           "title": {
            "standoff": 15
           },
           "zerolinecolor": "white",
           "zerolinewidth": 2
          }
         }
        },
        "title": {
         "font": {
          "color": "#4D5663"
         }
        },
        "xaxis": {
         "gridcolor": "#E1E5ED",
         "showgrid": true,
         "tickfont": {
          "color": "#4D5663"
         },
         "title": {
          "font": {
           "color": "#4D5663"
          },
          "text": ""
         },
         "zerolinecolor": "#E1E5ED"
        },
        "yaxis": {
         "gridcolor": "#E1E5ED",
         "showgrid": true,
         "tickfont": {
          "color": "#4D5663"
         },
         "title": {
          "font": {
           "color": "#4D5663"
          },
          "text": ""
         },
         "zerolinecolor": "#E1E5ED"
        }
       }
      },
      "text/html": [
       "<div>                            <div id=\"39b4389a-bc5b-46b4-acd6-3607b5f52c37\" class=\"plotly-graph-div\" style=\"height:525px; width:100%;\"></div>            <script type=\"text/javascript\">                require([\"plotly\"], function(Plotly) {                    window.PLOTLYENV=window.PLOTLYENV || {};\n",
       "                    window.PLOTLYENV.BASE_URL='https://plot.ly';                                    if (document.getElementById(\"39b4389a-bc5b-46b4-acd6-3607b5f52c37\")) {                    Plotly.newPlot(                        \"39b4389a-bc5b-46b4-acd6-3607b5f52c37\",                        [{\"histfunc\":\"count\",\"histnorm\":\"\",\"marker\":{\"color\":\"rgba(255, 153, 51, 1.0)\",\"line\":{\"color\":\"#4D5663\",\"width\":1.3}},\"name\":\"A\",\"nbinsx\":25,\"opacity\":0.8,\"orientation\":\"v\",\"x\":[-1.4988901786541045,-0.001422821726739044,-0.2304684055770329,0.23997464714259756,0.18192721535380907,0.19164720456797463,0.8934074803005699,-0.16678903578641818,-1.0084349560508432,-0.03497746442877197,-0.29407807175981265,-0.6006039772725303,-1.9183720589496456,1.1614531567992483,0.7099754557782095,0.0597482684433398,-0.7208573651997514,0.3855346391785886,-0.6452196773049834,-0.976381166476433,0.6594618598235175,1.5365704381442875,-0.8503296300579475,-0.6817453467007452,-0.9463322508133754,-0.19411061226880635,0.7592740048310302,-1.1926747622253955,1.400547023742745,-0.01495067745602767,-1.7115247300904346,-0.36124821109843847,-0.9945764316187472,-0.02174742702343883,0.4271204474826363,2.0458262738449973,0.38003902187660327,0.12799810814049276,-1.114003422680656,-0.06648643302860642,-0.9862118908244232,0.2492347168731393,0.17820277695620237,-0.7387340723009684,-0.31798405254195145,0.9524360693241468,0.9861659791518401,0.7148700640697296,-0.22592732878489613,2.3080279320676045,0.787929315365375,-0.48486969233250055,0.4027834014210285,1.4822702738530436,1.3038659671232047,-0.6523787149594126,-0.020653413306827302,1.27795507641576,0.9017516859560875,0.3656487115665125,-0.17128934489835104,0.6007005503795194,0.3206977385185198,-1.6303945368009163,0.6030078809689943,-0.6207387600421282,0.9288566443524915,1.003041834488083,0.6555148863499219,1.8369810188217182,-1.1342616020404406,-0.03959247097223943,0.27889716160290184,0.5964316283866732,-0.36252227062175946,-0.34907991775801606,-0.7457953929282686,-0.025432745061922953,-1.9507489350848062,-1.041117167054891,0.22955684614254096,-0.7594240891624068,-0.26728306802932256,-0.5574003405662921,-0.5552647869514891,-0.27986732142818244,-0.3176914326608163,1.1045692759785846,-1.1308518489324335,-0.3919640656418023,-1.0287786375678944,-0.5389389032984023,1.5990545052027803,-0.9840034230949485,0.9466879685336848,-0.2562696339386158,-0.4170640840563133,-0.7355380779682636,0.7659323423522455,-0.2871147614324862],\"type\":\"histogram\"}],                        {\"barmode\":\"overlay\",\"legend\":{\"bgcolor\":\"#F5F6F9\",\"font\":{\"color\":\"#4D5663\"}},\"paper_bgcolor\":\"#F5F6F9\",\"plot_bgcolor\":\"#F5F6F9\",\"template\":{\"data\":{\"barpolar\":[{\"marker\":{\"line\":{\"color\":\"#E5ECF6\",\"width\":0.5},\"pattern\":{\"fillmode\":\"overlay\",\"size\":10,\"solidity\":0.2}},\"type\":\"barpolar\"}],\"bar\":[{\"error_x\":{\"color\":\"#2a3f5f\"},\"error_y\":{\"color\":\"#2a3f5f\"},\"marker\":{\"line\":{\"color\":\"#E5ECF6\",\"width\":0.5},\"pattern\":{\"fillmode\":\"overlay\",\"size\":10,\"solidity\":0.2}},\"type\":\"bar\"}],\"carpet\":[{\"aaxis\":{\"endlinecolor\":\"#2a3f5f\",\"gridcolor\":\"white\",\"linecolor\":\"white\",\"minorgridcolor\":\"white\",\"startlinecolor\":\"#2a3f5f\"},\"baxis\":{\"endlinecolor\":\"#2a3f5f\",\"gridcolor\":\"white\",\"linecolor\":\"white\",\"minorgridcolor\":\"white\",\"startlinecolor\":\"#2a3f5f\"},\"type\":\"carpet\"}],\"choropleth\":[{\"colorbar\":{\"outlinewidth\":0,\"ticks\":\"\"},\"type\":\"choropleth\"}],\"contourcarpet\":[{\"colorbar\":{\"outlinewidth\":0,\"ticks\":\"\"},\"type\":\"contourcarpet\"}],\"contour\":[{\"colorbar\":{\"outlinewidth\":0,\"ticks\":\"\"},\"colorscale\":[[0.0,\"#0d0887\"],[0.1111111111111111,\"#46039f\"],[0.2222222222222222,\"#7201a8\"],[0.3333333333333333,\"#9c179e\"],[0.4444444444444444,\"#bd3786\"],[0.5555555555555556,\"#d8576b\"],[0.6666666666666666,\"#ed7953\"],[0.7777777777777778,\"#fb9f3a\"],[0.8888888888888888,\"#fdca26\"],[1.0,\"#f0f921\"]],\"type\":\"contour\"}],\"heatmapgl\":[{\"colorbar\":{\"outlinewidth\":0,\"ticks\":\"\"},\"colorscale\":[[0.0,\"#0d0887\"],[0.1111111111111111,\"#46039f\"],[0.2222222222222222,\"#7201a8\"],[0.3333333333333333,\"#9c179e\"],[0.4444444444444444,\"#bd3786\"],[0.5555555555555556,\"#d8576b\"],[0.6666666666666666,\"#ed7953\"],[0.7777777777777778,\"#fb9f3a\"],[0.8888888888888888,\"#fdca26\"],[1.0,\"#f0f921\"]],\"type\":\"heatmapgl\"}],\"heatmap\":[{\"colorbar\":{\"outlinewidth\":0,\"ticks\":\"\"},\"colorscale\":[[0.0,\"#0d0887\"],[0.1111111111111111,\"#46039f\"],[0.2222222222222222,\"#7201a8\"],[0.3333333333333333,\"#9c179e\"],[0.4444444444444444,\"#bd3786\"],[0.5555555555555556,\"#d8576b\"],[0.6666666666666666,\"#ed7953\"],[0.7777777777777778,\"#fb9f3a\"],[0.8888888888888888,\"#fdca26\"],[1.0,\"#f0f921\"]],\"type\":\"heatmap\"}],\"histogram2dcontour\":[{\"colorbar\":{\"outlinewidth\":0,\"ticks\":\"\"},\"colorscale\":[[0.0,\"#0d0887\"],[0.1111111111111111,\"#46039f\"],[0.2222222222222222,\"#7201a8\"],[0.3333333333333333,\"#9c179e\"],[0.4444444444444444,\"#bd3786\"],[0.5555555555555556,\"#d8576b\"],[0.6666666666666666,\"#ed7953\"],[0.7777777777777778,\"#fb9f3a\"],[0.8888888888888888,\"#fdca26\"],[1.0,\"#f0f921\"]],\"type\":\"histogram2dcontour\"}],\"histogram2d\":[{\"colorbar\":{\"outlinewidth\":0,\"ticks\":\"\"},\"colorscale\":[[0.0,\"#0d0887\"],[0.1111111111111111,\"#46039f\"],[0.2222222222222222,\"#7201a8\"],[0.3333333333333333,\"#9c179e\"],[0.4444444444444444,\"#bd3786\"],[0.5555555555555556,\"#d8576b\"],[0.6666666666666666,\"#ed7953\"],[0.7777777777777778,\"#fb9f3a\"],[0.8888888888888888,\"#fdca26\"],[1.0,\"#f0f921\"]],\"type\":\"histogram2d\"}],\"histogram\":[{\"marker\":{\"pattern\":{\"fillmode\":\"overlay\",\"size\":10,\"solidity\":0.2}},\"type\":\"histogram\"}],\"mesh3d\":[{\"colorbar\":{\"outlinewidth\":0,\"ticks\":\"\"},\"type\":\"mesh3d\"}],\"parcoords\":[{\"line\":{\"colorbar\":{\"outlinewidth\":0,\"ticks\":\"\"}},\"type\":\"parcoords\"}],\"pie\":[{\"automargin\":true,\"type\":\"pie\"}],\"scatter3d\":[{\"line\":{\"colorbar\":{\"outlinewidth\":0,\"ticks\":\"\"}},\"marker\":{\"colorbar\":{\"outlinewidth\":0,\"ticks\":\"\"}},\"type\":\"scatter3d\"}],\"scattercarpet\":[{\"marker\":{\"colorbar\":{\"outlinewidth\":0,\"ticks\":\"\"}},\"type\":\"scattercarpet\"}],\"scattergeo\":[{\"marker\":{\"colorbar\":{\"outlinewidth\":0,\"ticks\":\"\"}},\"type\":\"scattergeo\"}],\"scattergl\":[{\"marker\":{\"colorbar\":{\"outlinewidth\":0,\"ticks\":\"\"}},\"type\":\"scattergl\"}],\"scattermapbox\":[{\"marker\":{\"colorbar\":{\"outlinewidth\":0,\"ticks\":\"\"}},\"type\":\"scattermapbox\"}],\"scatterpolargl\":[{\"marker\":{\"colorbar\":{\"outlinewidth\":0,\"ticks\":\"\"}},\"type\":\"scatterpolargl\"}],\"scatterpolar\":[{\"marker\":{\"colorbar\":{\"outlinewidth\":0,\"ticks\":\"\"}},\"type\":\"scatterpolar\"}],\"scatter\":[{\"marker\":{\"colorbar\":{\"outlinewidth\":0,\"ticks\":\"\"}},\"type\":\"scatter\"}],\"scatterternary\":[{\"marker\":{\"colorbar\":{\"outlinewidth\":0,\"ticks\":\"\"}},\"type\":\"scatterternary\"}],\"surface\":[{\"colorbar\":{\"outlinewidth\":0,\"ticks\":\"\"},\"colorscale\":[[0.0,\"#0d0887\"],[0.1111111111111111,\"#46039f\"],[0.2222222222222222,\"#7201a8\"],[0.3333333333333333,\"#9c179e\"],[0.4444444444444444,\"#bd3786\"],[0.5555555555555556,\"#d8576b\"],[0.6666666666666666,\"#ed7953\"],[0.7777777777777778,\"#fb9f3a\"],[0.8888888888888888,\"#fdca26\"],[1.0,\"#f0f921\"]],\"type\":\"surface\"}],\"table\":[{\"cells\":{\"fill\":{\"color\":\"#EBF0F8\"},\"line\":{\"color\":\"white\"}},\"header\":{\"fill\":{\"color\":\"#C8D4E3\"},\"line\":{\"color\":\"white\"}},\"type\":\"table\"}]},\"layout\":{\"annotationdefaults\":{\"arrowcolor\":\"#2a3f5f\",\"arrowhead\":0,\"arrowwidth\":1},\"autotypenumbers\":\"strict\",\"coloraxis\":{\"colorbar\":{\"outlinewidth\":0,\"ticks\":\"\"}},\"colorscale\":{\"diverging\":[[0,\"#8e0152\"],[0.1,\"#c51b7d\"],[0.2,\"#de77ae\"],[0.3,\"#f1b6da\"],[0.4,\"#fde0ef\"],[0.5,\"#f7f7f7\"],[0.6,\"#e6f5d0\"],[0.7,\"#b8e186\"],[0.8,\"#7fbc41\"],[0.9,\"#4d9221\"],[1,\"#276419\"]],\"sequential\":[[0.0,\"#0d0887\"],[0.1111111111111111,\"#46039f\"],[0.2222222222222222,\"#7201a8\"],[0.3333333333333333,\"#9c179e\"],[0.4444444444444444,\"#bd3786\"],[0.5555555555555556,\"#d8576b\"],[0.6666666666666666,\"#ed7953\"],[0.7777777777777778,\"#fb9f3a\"],[0.8888888888888888,\"#fdca26\"],[1.0,\"#f0f921\"]],\"sequentialminus\":[[0.0,\"#0d0887\"],[0.1111111111111111,\"#46039f\"],[0.2222222222222222,\"#7201a8\"],[0.3333333333333333,\"#9c179e\"],[0.4444444444444444,\"#bd3786\"],[0.5555555555555556,\"#d8576b\"],[0.6666666666666666,\"#ed7953\"],[0.7777777777777778,\"#fb9f3a\"],[0.8888888888888888,\"#fdca26\"],[1.0,\"#f0f921\"]]},\"colorway\":[\"#636efa\",\"#EF553B\",\"#00cc96\",\"#ab63fa\",\"#FFA15A\",\"#19d3f3\",\"#FF6692\",\"#B6E880\",\"#FF97FF\",\"#FECB52\"],\"font\":{\"color\":\"#2a3f5f\"},\"geo\":{\"bgcolor\":\"white\",\"lakecolor\":\"white\",\"landcolor\":\"#E5ECF6\",\"showlakes\":true,\"showland\":true,\"subunitcolor\":\"white\"},\"hoverlabel\":{\"align\":\"left\"},\"hovermode\":\"closest\",\"mapbox\":{\"style\":\"light\"},\"paper_bgcolor\":\"white\",\"plot_bgcolor\":\"#E5ECF6\",\"polar\":{\"angularaxis\":{\"gridcolor\":\"white\",\"linecolor\":\"white\",\"ticks\":\"\"},\"bgcolor\":\"#E5ECF6\",\"radialaxis\":{\"gridcolor\":\"white\",\"linecolor\":\"white\",\"ticks\":\"\"}},\"scene\":{\"xaxis\":{\"backgroundcolor\":\"#E5ECF6\",\"gridcolor\":\"white\",\"gridwidth\":2,\"linecolor\":\"white\",\"showbackground\":true,\"ticks\":\"\",\"zerolinecolor\":\"white\"},\"yaxis\":{\"backgroundcolor\":\"#E5ECF6\",\"gridcolor\":\"white\",\"gridwidth\":2,\"linecolor\":\"white\",\"showbackground\":true,\"ticks\":\"\",\"zerolinecolor\":\"white\"},\"zaxis\":{\"backgroundcolor\":\"#E5ECF6\",\"gridcolor\":\"white\",\"gridwidth\":2,\"linecolor\":\"white\",\"showbackground\":true,\"ticks\":\"\",\"zerolinecolor\":\"white\"}},\"shapedefaults\":{\"line\":{\"color\":\"#2a3f5f\"}},\"ternary\":{\"aaxis\":{\"gridcolor\":\"white\",\"linecolor\":\"white\",\"ticks\":\"\"},\"baxis\":{\"gridcolor\":\"white\",\"linecolor\":\"white\",\"ticks\":\"\"},\"bgcolor\":\"#E5ECF6\",\"caxis\":{\"gridcolor\":\"white\",\"linecolor\":\"white\",\"ticks\":\"\"}},\"title\":{\"x\":0.05},\"xaxis\":{\"automargin\":true,\"gridcolor\":\"white\",\"linecolor\":\"white\",\"ticks\":\"\",\"title\":{\"standoff\":15},\"zerolinecolor\":\"white\",\"zerolinewidth\":2},\"yaxis\":{\"automargin\":true,\"gridcolor\":\"white\",\"linecolor\":\"white\",\"ticks\":\"\",\"title\":{\"standoff\":15},\"zerolinecolor\":\"white\",\"zerolinewidth\":2}}},\"title\":{\"font\":{\"color\":\"#4D5663\"}},\"xaxis\":{\"gridcolor\":\"#E1E5ED\",\"showgrid\":true,\"tickfont\":{\"color\":\"#4D5663\"},\"title\":{\"font\":{\"color\":\"#4D5663\"},\"text\":\"\"},\"zerolinecolor\":\"#E1E5ED\"},\"yaxis\":{\"gridcolor\":\"#E1E5ED\",\"showgrid\":true,\"tickfont\":{\"color\":\"#4D5663\"},\"title\":{\"font\":{\"color\":\"#4D5663\"},\"text\":\"\"},\"zerolinecolor\":\"#E1E5ED\"}},                        {\"showLink\": true, \"linkText\": \"Export to plot.ly\", \"plotlyServerURL\": \"https://plot.ly\", \"responsive\": true}                    ).then(function(){\n",
       "                            \n",
       "var gd = document.getElementById('39b4389a-bc5b-46b4-acd6-3607b5f52c37');\n",
       "var x = new MutationObserver(function (mutations, observer) {{\n",
       "        var display = window.getComputedStyle(gd).display;\n",
       "        if (!display || display === 'none') {{\n",
       "            console.log([gd, 'removed!']);\n",
       "            Plotly.purge(gd);\n",
       "            observer.disconnect();\n",
       "        }}\n",
       "}});\n",
       "\n",
       "// Listen for the removal of the full notebook cells\n",
       "var notebookContainer = gd.closest('#notebook-container');\n",
       "if (notebookContainer) {{\n",
       "    x.observe(notebookContainer, {childList: true});\n",
       "}}\n",
       "\n",
       "// Listen for the clearing of the current output cell\n",
       "var outputEl = gd.closest('.output');\n",
       "if (outputEl) {{\n",
       "    x.observe(outputEl, {childList: true});\n",
       "}}\n",
       "\n",
       "                        })                };                });            </script>        </div>"
      ]
     },
     "metadata": {},
     "output_type": "display_data"
    }
   ],
   "source": [
    "df['A'].iplot(kind='hist',bins=25)"
   ]
  },
  {
   "cell_type": "code",
   "execution_count": 21,
   "metadata": {},
   "outputs": [
    {
     "data": {
      "application/vnd.plotly.v1+json": {
       "config": {
        "linkText": "Export to plot.ly",
        "plotlyServerURL": "https://plot.ly",
        "showLink": true
       },
       "data": [
        {
         "marker": {
          "color": [
           "orange",
           "orange",
           "orange",
           "orange",
           "orange",
           "orange",
           "orange",
           "orange",
           "orange",
           "orange",
           "orange",
           "orange",
           "orange",
           "orange",
           "orange",
           "orange",
           "orange",
           "orange",
           "orange",
           "orange",
           "orange",
           "orange",
           "orange",
           "orange",
           "orange",
           "orange",
           "orange",
           "orange",
           "orange",
           "orange",
           "orange",
           "orange",
           "orange",
           "orange",
           "orange",
           "orange",
           "orange",
           "orange",
           "orange",
           "orange",
           "orange",
           "orange",
           "orange",
           "orange",
           "orange",
           "orange",
           "orange",
           "orange",
           "orange",
           "orange",
           "orange",
           "orange",
           "orange",
           "orange",
           "orange",
           "orange",
           "orange",
           "orange",
           "orange",
           "orange",
           "orange",
           "orange",
           "orange",
           "orange",
           "orange",
           "orange",
           "orange",
           "orange",
           "orange",
           "orange",
           "orange",
           "orange",
           "orange",
           "orange",
           "orange",
           "orange",
           "orange",
           "orange",
           "orange",
           "orange",
           "orange",
           "orange",
           "orange",
           "orange",
           "orange",
           "orange",
           "orange",
           "orange",
           "orange",
           "orange",
           "orange",
           "orange",
           "orange",
           "orange",
           "orange",
           "orange",
           "orange",
           "orange",
           "orange",
           "orange"
          ],
          "line": {
           "width": 1.3
          },
          "size": [
           52,
           63,
           74,
           81,
           41,
           60,
           66,
           43,
           67,
           48,
           64,
           71,
           31,
           65,
           85,
           44,
           52,
           66,
           61,
           65,
           76,
           88,
           73,
           69,
           76,
           66,
           41,
           73,
           37,
           94,
           65,
           43,
           66,
           76,
           42,
           43,
           70,
           62,
           67,
           35,
           77,
           65,
           50,
           41,
           79,
           76,
           67,
           82,
           78,
           55,
           57,
           56,
           57,
           30,
           47,
           47,
           71,
           63,
           65,
           42,
           12,
           50,
           91,
           82,
           88,
           78,
           72,
           57,
           63,
           32,
           84,
           58,
           81,
           35,
           74,
           78,
           71,
           81,
           81,
           73,
           37,
           75,
           76,
           112,
           34,
           75,
           53,
           58,
           80,
           60,
           44,
           30,
           78,
           54,
           72,
           82,
           53,
           60,
           60,
           87
          ],
          "symbol": "circle"
         },
         "mode": "markers",
         "text": "",
         "type": "scatter",
         "x": [
          -1.4988901786541045,
          -0.001422821726739044,
          -0.2304684055770329,
          0.23997464714259756,
          0.18192721535380907,
          0.19164720456797463,
          0.8934074803005699,
          -0.16678903578641818,
          -1.0084349560508432,
          -0.03497746442877197,
          -0.29407807175981265,
          -0.6006039772725303,
          -1.9183720589496456,
          1.1614531567992483,
          0.7099754557782095,
          0.0597482684433398,
          -0.7208573651997514,
          0.3855346391785886,
          -0.6452196773049834,
          -0.976381166476433,
          0.6594618598235175,
          1.5365704381442875,
          -0.8503296300579475,
          -0.6817453467007452,
          -0.9463322508133754,
          -0.19411061226880635,
          0.7592740048310302,
          -1.1926747622253955,
          1.400547023742745,
          -0.01495067745602767,
          -1.7115247300904346,
          -0.36124821109843847,
          -0.9945764316187472,
          -0.02174742702343883,
          0.4271204474826363,
          2.0458262738449973,
          0.38003902187660327,
          0.12799810814049276,
          -1.114003422680656,
          -0.06648643302860642,
          -0.9862118908244232,
          0.2492347168731393,
          0.17820277695620237,
          -0.7387340723009684,
          -0.31798405254195145,
          0.9524360693241468,
          0.9861659791518401,
          0.7148700640697296,
          -0.22592732878489613,
          2.3080279320676045,
          0.787929315365375,
          -0.48486969233250055,
          0.4027834014210285,
          1.4822702738530436,
          1.3038659671232047,
          -0.6523787149594126,
          -0.020653413306827302,
          1.27795507641576,
          0.9017516859560875,
          0.3656487115665125,
          -0.17128934489835104,
          0.6007005503795194,
          0.3206977385185198,
          -1.6303945368009163,
          0.6030078809689943,
          -0.6207387600421282,
          0.9288566443524915,
          1.003041834488083,
          0.6555148863499219,
          1.8369810188217182,
          -1.1342616020404406,
          -0.03959247097223943,
          0.27889716160290184,
          0.5964316283866732,
          -0.36252227062175946,
          -0.34907991775801606,
          -0.7457953929282686,
          -0.025432745061922953,
          -1.9507489350848062,
          -1.041117167054891,
          0.22955684614254096,
          -0.7594240891624068,
          -0.26728306802932256,
          -0.5574003405662921,
          -0.5552647869514891,
          -0.27986732142818244,
          -0.3176914326608163,
          1.1045692759785846,
          -1.1308518489324335,
          -0.3919640656418023,
          -1.0287786375678944,
          -0.5389389032984023,
          1.5990545052027803,
          -0.9840034230949485,
          0.9466879685336848,
          -0.2562696339386158,
          -0.4170640840563133,
          -0.7355380779682636,
          0.7659323423522455,
          -0.2871147614324862
         ],
         "y": [
          0.23526574448227672,
          1.168163947055222,
          0.2603253096157711,
          -1.7094688244238117,
          1.2314559187199188,
          1.6726392784566257,
          1.110882751972855,
          2.4989591704588947,
          -0.21090740427651708,
          0.6710299469446712,
          0.5112763692090437,
          -0.3007727133257675,
          -0.44789669873124577,
          -0.683971266219679,
          -0.035603974521086434,
          0.9453888391325656,
          -0.3642535594012888,
          -0.7333466976832804,
          1.2214417366538486,
          -0.41663209241617577,
          0.6251585915454666,
          0.7118831843227998,
          -0.7328897597367783,
          0.41557603199328913,
          0.09317786774577878,
          0.1935706418538896,
          0.7567493246413372,
          -0.7890825203287073,
          0.470082990361827,
          0.2988970555631342,
          0.5477894960342421,
          -0.839905415734585,
          -2.285938793357377,
          1.1672269099760322,
          0.15066291368605914,
          0.691394580518865,
          1.550852584290744,
          0.2356201953546311,
          -0.5119547775416198,
          -0.17958271427017333,
          2.4751023612296494,
          0.8485209816138845,
          -1.6716169800928415,
          1.4212479055478549,
          1.373356337287798,
          1.1561028656871015,
          -0.1419436980968088,
          0.7187691549260182,
          3.0364205633719425,
          0.734284800443334,
          -0.9813275386456558,
          0.28835595613774406,
          0.2177289571851628,
          -1.5979716350858764,
          1.7533737527925104,
          2.455263171182504,
          -0.998996487354798,
          1.6647065302884583,
          0.13487899639228673,
          -0.9204221983040389,
          -0.5260204719325334,
          0.3729631855801561,
          -1.7881349756837503,
          -0.06024704765386666,
          -0.35343347656634894,
          -0.32862076542402474,
          -0.3296552300795083,
          0.7959402796708153,
          -0.2591835000266135,
          0.9291618039459419,
          2.526294058316706,
          -0.4158483633854793,
          -2.114171050587124,
          -1.5980731814780682,
          3.060158018044401,
          0.8864017834192536,
          -0.7888369809411898,
          -0.22207270455452055,
          0.2919727650947669,
          1.7298690787747741,
          -1.1907371521158825,
          -0.7481014500130333,
          -1.3126581161022361,
          0.556183164685591,
          1.3643829245990822,
          0.23609289097665742,
          -0.783866036842399,
          0.21681356368855853,
          0.5960968696295027,
          -0.04396548150781571,
          -0.8883792916898136,
          -0.2869425360225565,
          0.663551053787133,
          0.7616302112157503,
          0.2615442593539925,
          1.6195140569719841,
          0.04943547707619654,
          0.762492090412884,
          -3.0235275989995,
          -0.6972617199851123
         ]
        }
       ],
       "layout": {
        "legend": {
         "bgcolor": "#F5F6F9",
         "font": {
          "color": "#4D5663"
         }
        },
        "paper_bgcolor": "#F5F6F9",
        "plot_bgcolor": "#F5F6F9",
        "template": {
         "data": {
          "bar": [
           {
            "error_x": {
             "color": "#2a3f5f"
            },
            "error_y": {
             "color": "#2a3f5f"
            },
            "marker": {
             "line": {
              "color": "#E5ECF6",
              "width": 0.5
             },
             "pattern": {
              "fillmode": "overlay",
              "size": 10,
              "solidity": 0.2
             }
            },
            "type": "bar"
           }
          ],
          "barpolar": [
           {
            "marker": {
             "line": {
              "color": "#E5ECF6",
              "width": 0.5
             },
             "pattern": {
              "fillmode": "overlay",
              "size": 10,
              "solidity": 0.2
             }
            },
            "type": "barpolar"
           }
          ],
          "carpet": [
           {
            "aaxis": {
             "endlinecolor": "#2a3f5f",
             "gridcolor": "white",
             "linecolor": "white",
             "minorgridcolor": "white",
             "startlinecolor": "#2a3f5f"
            },
            "baxis": {
             "endlinecolor": "#2a3f5f",
             "gridcolor": "white",
             "linecolor": "white",
             "minorgridcolor": "white",
             "startlinecolor": "#2a3f5f"
            },
            "type": "carpet"
           }
          ],
          "choropleth": [
           {
            "colorbar": {
             "outlinewidth": 0,
             "ticks": ""
            },
            "type": "choropleth"
           }
          ],
          "contour": [
           {
            "colorbar": {
             "outlinewidth": 0,
             "ticks": ""
            },
            "colorscale": [
             [
              0,
              "#0d0887"
             ],
             [
              0.1111111111111111,
              "#46039f"
             ],
             [
              0.2222222222222222,
              "#7201a8"
             ],
             [
              0.3333333333333333,
              "#9c179e"
             ],
             [
              0.4444444444444444,
              "#bd3786"
             ],
             [
              0.5555555555555556,
              "#d8576b"
             ],
             [
              0.6666666666666666,
              "#ed7953"
             ],
             [
              0.7777777777777778,
              "#fb9f3a"
             ],
             [
              0.8888888888888888,
              "#fdca26"
             ],
             [
              1,
              "#f0f921"
             ]
            ],
            "type": "contour"
           }
          ],
          "contourcarpet": [
           {
            "colorbar": {
             "outlinewidth": 0,
             "ticks": ""
            },
            "type": "contourcarpet"
           }
          ],
          "heatmap": [
           {
            "colorbar": {
             "outlinewidth": 0,
             "ticks": ""
            },
            "colorscale": [
             [
              0,
              "#0d0887"
             ],
             [
              0.1111111111111111,
              "#46039f"
             ],
             [
              0.2222222222222222,
              "#7201a8"
             ],
             [
              0.3333333333333333,
              "#9c179e"
             ],
             [
              0.4444444444444444,
              "#bd3786"
             ],
             [
              0.5555555555555556,
              "#d8576b"
             ],
             [
              0.6666666666666666,
              "#ed7953"
             ],
             [
              0.7777777777777778,
              "#fb9f3a"
             ],
             [
              0.8888888888888888,
              "#fdca26"
             ],
             [
              1,
              "#f0f921"
             ]
            ],
            "type": "heatmap"
           }
          ],
          "heatmapgl": [
           {
            "colorbar": {
             "outlinewidth": 0,
             "ticks": ""
            },
            "colorscale": [
             [
              0,
              "#0d0887"
             ],
             [
              0.1111111111111111,
              "#46039f"
             ],
             [
              0.2222222222222222,
              "#7201a8"
             ],
             [
              0.3333333333333333,
              "#9c179e"
             ],
             [
              0.4444444444444444,
              "#bd3786"
             ],
             [
              0.5555555555555556,
              "#d8576b"
             ],
             [
              0.6666666666666666,
              "#ed7953"
             ],
             [
              0.7777777777777778,
              "#fb9f3a"
             ],
             [
              0.8888888888888888,
              "#fdca26"
             ],
             [
              1,
              "#f0f921"
             ]
            ],
            "type": "heatmapgl"
           }
          ],
          "histogram": [
           {
            "marker": {
             "pattern": {
              "fillmode": "overlay",
              "size": 10,
              "solidity": 0.2
             }
            },
            "type": "histogram"
           }
          ],
          "histogram2d": [
           {
            "colorbar": {
             "outlinewidth": 0,
             "ticks": ""
            },
            "colorscale": [
             [
              0,
              "#0d0887"
             ],
             [
              0.1111111111111111,
              "#46039f"
             ],
             [
              0.2222222222222222,
              "#7201a8"
             ],
             [
              0.3333333333333333,
              "#9c179e"
             ],
             [
              0.4444444444444444,
              "#bd3786"
             ],
             [
              0.5555555555555556,
              "#d8576b"
             ],
             [
              0.6666666666666666,
              "#ed7953"
             ],
             [
              0.7777777777777778,
              "#fb9f3a"
             ],
             [
              0.8888888888888888,
              "#fdca26"
             ],
             [
              1,
              "#f0f921"
             ]
            ],
            "type": "histogram2d"
           }
          ],
          "histogram2dcontour": [
           {
            "colorbar": {
             "outlinewidth": 0,
             "ticks": ""
            },
            "colorscale": [
             [
              0,
              "#0d0887"
             ],
             [
              0.1111111111111111,
              "#46039f"
             ],
             [
              0.2222222222222222,
              "#7201a8"
             ],
             [
              0.3333333333333333,
              "#9c179e"
             ],
             [
              0.4444444444444444,
              "#bd3786"
             ],
             [
              0.5555555555555556,
              "#d8576b"
             ],
             [
              0.6666666666666666,
              "#ed7953"
             ],
             [
              0.7777777777777778,
              "#fb9f3a"
             ],
             [
              0.8888888888888888,
              "#fdca26"
             ],
             [
              1,
              "#f0f921"
             ]
            ],
            "type": "histogram2dcontour"
           }
          ],
          "mesh3d": [
           {
            "colorbar": {
             "outlinewidth": 0,
             "ticks": ""
            },
            "type": "mesh3d"
           }
          ],
          "parcoords": [
           {
            "line": {
             "colorbar": {
              "outlinewidth": 0,
              "ticks": ""
             }
            },
            "type": "parcoords"
           }
          ],
          "pie": [
           {
            "automargin": true,
            "type": "pie"
           }
          ],
          "scatter": [
           {
            "marker": {
             "colorbar": {
              "outlinewidth": 0,
              "ticks": ""
             }
            },
            "type": "scatter"
           }
          ],
          "scatter3d": [
           {
            "line": {
             "colorbar": {
              "outlinewidth": 0,
              "ticks": ""
             }
            },
            "marker": {
             "colorbar": {
              "outlinewidth": 0,
              "ticks": ""
             }
            },
            "type": "scatter3d"
           }
          ],
          "scattercarpet": [
           {
            "marker": {
             "colorbar": {
              "outlinewidth": 0,
              "ticks": ""
             }
            },
            "type": "scattercarpet"
           }
          ],
          "scattergeo": [
           {
            "marker": {
             "colorbar": {
              "outlinewidth": 0,
              "ticks": ""
             }
            },
            "type": "scattergeo"
           }
          ],
          "scattergl": [
           {
            "marker": {
             "colorbar": {
              "outlinewidth": 0,
              "ticks": ""
             }
            },
            "type": "scattergl"
           }
          ],
          "scattermapbox": [
           {
            "marker": {
             "colorbar": {
              "outlinewidth": 0,
              "ticks": ""
             }
            },
            "type": "scattermapbox"
           }
          ],
          "scatterpolar": [
           {
            "marker": {
             "colorbar": {
              "outlinewidth": 0,
              "ticks": ""
             }
            },
            "type": "scatterpolar"
           }
          ],
          "scatterpolargl": [
           {
            "marker": {
             "colorbar": {
              "outlinewidth": 0,
              "ticks": ""
             }
            },
            "type": "scatterpolargl"
           }
          ],
          "scatterternary": [
           {
            "marker": {
             "colorbar": {
              "outlinewidth": 0,
              "ticks": ""
             }
            },
            "type": "scatterternary"
           }
          ],
          "surface": [
           {
            "colorbar": {
             "outlinewidth": 0,
             "ticks": ""
            },
            "colorscale": [
             [
              0,
              "#0d0887"
             ],
             [
              0.1111111111111111,
              "#46039f"
             ],
             [
              0.2222222222222222,
              "#7201a8"
             ],
             [
              0.3333333333333333,
              "#9c179e"
             ],
             [
              0.4444444444444444,
              "#bd3786"
             ],
             [
              0.5555555555555556,
              "#d8576b"
             ],
             [
              0.6666666666666666,
              "#ed7953"
             ],
             [
              0.7777777777777778,
              "#fb9f3a"
             ],
             [
              0.8888888888888888,
              "#fdca26"
             ],
             [
              1,
              "#f0f921"
             ]
            ],
            "type": "surface"
           }
          ],
          "table": [
           {
            "cells": {
             "fill": {
              "color": "#EBF0F8"
             },
             "line": {
              "color": "white"
             }
            },
            "header": {
             "fill": {
              "color": "#C8D4E3"
             },
             "line": {
              "color": "white"
             }
            },
            "type": "table"
           }
          ]
         },
         "layout": {
          "annotationdefaults": {
           "arrowcolor": "#2a3f5f",
           "arrowhead": 0,
           "arrowwidth": 1
          },
          "autotypenumbers": "strict",
          "coloraxis": {
           "colorbar": {
            "outlinewidth": 0,
            "ticks": ""
           }
          },
          "colorscale": {
           "diverging": [
            [
             0,
             "#8e0152"
            ],
            [
             0.1,
             "#c51b7d"
            ],
            [
             0.2,
             "#de77ae"
            ],
            [
             0.3,
             "#f1b6da"
            ],
            [
             0.4,
             "#fde0ef"
            ],
            [
             0.5,
             "#f7f7f7"
            ],
            [
             0.6,
             "#e6f5d0"
            ],
            [
             0.7,
             "#b8e186"
            ],
            [
             0.8,
             "#7fbc41"
            ],
            [
             0.9,
             "#4d9221"
            ],
            [
             1,
             "#276419"
            ]
           ],
           "sequential": [
            [
             0,
             "#0d0887"
            ],
            [
             0.1111111111111111,
             "#46039f"
            ],
            [
             0.2222222222222222,
             "#7201a8"
            ],
            [
             0.3333333333333333,
             "#9c179e"
            ],
            [
             0.4444444444444444,
             "#bd3786"
            ],
            [
             0.5555555555555556,
             "#d8576b"
            ],
            [
             0.6666666666666666,
             "#ed7953"
            ],
            [
             0.7777777777777778,
             "#fb9f3a"
            ],
            [
             0.8888888888888888,
             "#fdca26"
            ],
            [
             1,
             "#f0f921"
            ]
           ],
           "sequentialminus": [
            [
             0,
             "#0d0887"
            ],
            [
             0.1111111111111111,
             "#46039f"
            ],
            [
             0.2222222222222222,
             "#7201a8"
            ],
            [
             0.3333333333333333,
             "#9c179e"
            ],
            [
             0.4444444444444444,
             "#bd3786"
            ],
            [
             0.5555555555555556,
             "#d8576b"
            ],
            [
             0.6666666666666666,
             "#ed7953"
            ],
            [
             0.7777777777777778,
             "#fb9f3a"
            ],
            [
             0.8888888888888888,
             "#fdca26"
            ],
            [
             1,
             "#f0f921"
            ]
           ]
          },
          "colorway": [
           "#636efa",
           "#EF553B",
           "#00cc96",
           "#ab63fa",
           "#FFA15A",
           "#19d3f3",
           "#FF6692",
           "#B6E880",
           "#FF97FF",
           "#FECB52"
          ],
          "font": {
           "color": "#2a3f5f"
          },
          "geo": {
           "bgcolor": "white",
           "lakecolor": "white",
           "landcolor": "#E5ECF6",
           "showlakes": true,
           "showland": true,
           "subunitcolor": "white"
          },
          "hoverlabel": {
           "align": "left"
          },
          "hovermode": "closest",
          "mapbox": {
           "style": "light"
          },
          "paper_bgcolor": "white",
          "plot_bgcolor": "#E5ECF6",
          "polar": {
           "angularaxis": {
            "gridcolor": "white",
            "linecolor": "white",
            "ticks": ""
           },
           "bgcolor": "#E5ECF6",
           "radialaxis": {
            "gridcolor": "white",
            "linecolor": "white",
            "ticks": ""
           }
          },
          "scene": {
           "xaxis": {
            "backgroundcolor": "#E5ECF6",
            "gridcolor": "white",
            "gridwidth": 2,
            "linecolor": "white",
            "showbackground": true,
            "ticks": "",
            "zerolinecolor": "white"
           },
           "yaxis": {
            "backgroundcolor": "#E5ECF6",
            "gridcolor": "white",
            "gridwidth": 2,
            "linecolor": "white",
            "showbackground": true,
            "ticks": "",
            "zerolinecolor": "white"
           },
           "zaxis": {
            "backgroundcolor": "#E5ECF6",
            "gridcolor": "white",
            "gridwidth": 2,
            "linecolor": "white",
            "showbackground": true,
            "ticks": "",
            "zerolinecolor": "white"
           }
          },
          "shapedefaults": {
           "line": {
            "color": "#2a3f5f"
           }
          },
          "ternary": {
           "aaxis": {
            "gridcolor": "white",
            "linecolor": "white",
            "ticks": ""
           },
           "baxis": {
            "gridcolor": "white",
            "linecolor": "white",
            "ticks": ""
           },
           "bgcolor": "#E5ECF6",
           "caxis": {
            "gridcolor": "white",
            "linecolor": "white",
            "ticks": ""
           }
          },
          "title": {
           "x": 0.05
          },
          "xaxis": {
           "automargin": true,
           "gridcolor": "white",
           "linecolor": "white",
           "ticks": "",
           "title": {
            "standoff": 15
           },
           "zerolinecolor": "white",
           "zerolinewidth": 2
          },
          "yaxis": {
           "automargin": true,
           "gridcolor": "white",
           "linecolor": "white",
           "ticks": "",
           "title": {
            "standoff": 15
           },
           "zerolinecolor": "white",
           "zerolinewidth": 2
          }
         }
        },
        "title": {
         "font": {
          "color": "#4D5663"
         }
        },
        "xaxis": {
         "gridcolor": "#E1E5ED",
         "showgrid": true,
         "tickfont": {
          "color": "#4D5663"
         },
         "title": {
          "font": {
           "color": "#4D5663"
          },
          "text": ""
         },
         "zerolinecolor": "#E1E5ED"
        },
        "yaxis": {
         "gridcolor": "#E1E5ED",
         "showgrid": true,
         "tickfont": {
          "color": "#4D5663"
         },
         "title": {
          "font": {
           "color": "#4D5663"
          },
          "text": ""
         },
         "zerolinecolor": "#E1E5ED"
        }
       }
      },
      "text/html": [
       "<div>                            <div id=\"06f8defd-60a2-42a1-9ed2-7362e68123cd\" class=\"plotly-graph-div\" style=\"height:525px; width:100%;\"></div>            <script type=\"text/javascript\">                require([\"plotly\"], function(Plotly) {                    window.PLOTLYENV=window.PLOTLYENV || {};\n",
       "                    window.PLOTLYENV.BASE_URL='https://plot.ly';                                    if (document.getElementById(\"06f8defd-60a2-42a1-9ed2-7362e68123cd\")) {                    Plotly.newPlot(                        \"06f8defd-60a2-42a1-9ed2-7362e68123cd\",                        [{\"marker\":{\"color\":[\"orange\",\"orange\",\"orange\",\"orange\",\"orange\",\"orange\",\"orange\",\"orange\",\"orange\",\"orange\",\"orange\",\"orange\",\"orange\",\"orange\",\"orange\",\"orange\",\"orange\",\"orange\",\"orange\",\"orange\",\"orange\",\"orange\",\"orange\",\"orange\",\"orange\",\"orange\",\"orange\",\"orange\",\"orange\",\"orange\",\"orange\",\"orange\",\"orange\",\"orange\",\"orange\",\"orange\",\"orange\",\"orange\",\"orange\",\"orange\",\"orange\",\"orange\",\"orange\",\"orange\",\"orange\",\"orange\",\"orange\",\"orange\",\"orange\",\"orange\",\"orange\",\"orange\",\"orange\",\"orange\",\"orange\",\"orange\",\"orange\",\"orange\",\"orange\",\"orange\",\"orange\",\"orange\",\"orange\",\"orange\",\"orange\",\"orange\",\"orange\",\"orange\",\"orange\",\"orange\",\"orange\",\"orange\",\"orange\",\"orange\",\"orange\",\"orange\",\"orange\",\"orange\",\"orange\",\"orange\",\"orange\",\"orange\",\"orange\",\"orange\",\"orange\",\"orange\",\"orange\",\"orange\",\"orange\",\"orange\",\"orange\",\"orange\",\"orange\",\"orange\",\"orange\",\"orange\",\"orange\",\"orange\",\"orange\",\"orange\"],\"line\":{\"width\":1.3},\"size\":[52,63,74,81,41,60,66,43,67,48,64,71,31,65,85,44,52,66,61,65,76,88,73,69,76,66,41,73,37,94,65,43,66,76,42,43,70,62,67,35,77,65,50,41,79,76,67,82,78,55,57,56,57,30,47,47,71,63,65,42,12,50,91,82,88,78,72,57,63,32,84,58,81,35,74,78,71,81,81,73,37,75,76,112,34,75,53,58,80,60,44,30,78,54,72,82,53,60,60,87],\"symbol\":\"circle\"},\"mode\":\"markers\",\"text\":\"\",\"x\":[-1.4988901786541045,-0.001422821726739044,-0.2304684055770329,0.23997464714259756,0.18192721535380907,0.19164720456797463,0.8934074803005699,-0.16678903578641818,-1.0084349560508432,-0.03497746442877197,-0.29407807175981265,-0.6006039772725303,-1.9183720589496456,1.1614531567992483,0.7099754557782095,0.0597482684433398,-0.7208573651997514,0.3855346391785886,-0.6452196773049834,-0.976381166476433,0.6594618598235175,1.5365704381442875,-0.8503296300579475,-0.6817453467007452,-0.9463322508133754,-0.19411061226880635,0.7592740048310302,-1.1926747622253955,1.400547023742745,-0.01495067745602767,-1.7115247300904346,-0.36124821109843847,-0.9945764316187472,-0.02174742702343883,0.4271204474826363,2.0458262738449973,0.38003902187660327,0.12799810814049276,-1.114003422680656,-0.06648643302860642,-0.9862118908244232,0.2492347168731393,0.17820277695620237,-0.7387340723009684,-0.31798405254195145,0.9524360693241468,0.9861659791518401,0.7148700640697296,-0.22592732878489613,2.3080279320676045,0.787929315365375,-0.48486969233250055,0.4027834014210285,1.4822702738530436,1.3038659671232047,-0.6523787149594126,-0.020653413306827302,1.27795507641576,0.9017516859560875,0.3656487115665125,-0.17128934489835104,0.6007005503795194,0.3206977385185198,-1.6303945368009163,0.6030078809689943,-0.6207387600421282,0.9288566443524915,1.003041834488083,0.6555148863499219,1.8369810188217182,-1.1342616020404406,-0.03959247097223943,0.27889716160290184,0.5964316283866732,-0.36252227062175946,-0.34907991775801606,-0.7457953929282686,-0.025432745061922953,-1.9507489350848062,-1.041117167054891,0.22955684614254096,-0.7594240891624068,-0.26728306802932256,-0.5574003405662921,-0.5552647869514891,-0.27986732142818244,-0.3176914326608163,1.1045692759785846,-1.1308518489324335,-0.3919640656418023,-1.0287786375678944,-0.5389389032984023,1.5990545052027803,-0.9840034230949485,0.9466879685336848,-0.2562696339386158,-0.4170640840563133,-0.7355380779682636,0.7659323423522455,-0.2871147614324862],\"y\":[0.23526574448227672,1.168163947055222,0.2603253096157711,-1.7094688244238117,1.2314559187199188,1.6726392784566257,1.110882751972855,2.4989591704588947,-0.21090740427651708,0.6710299469446712,0.5112763692090437,-0.3007727133257675,-0.44789669873124577,-0.683971266219679,-0.035603974521086434,0.9453888391325656,-0.3642535594012888,-0.7333466976832804,1.2214417366538486,-0.41663209241617577,0.6251585915454666,0.7118831843227998,-0.7328897597367783,0.41557603199328913,0.09317786774577878,0.1935706418538896,0.7567493246413372,-0.7890825203287073,0.470082990361827,0.2988970555631342,0.5477894960342421,-0.839905415734585,-2.285938793357377,1.1672269099760322,0.15066291368605914,0.691394580518865,1.550852584290744,0.2356201953546311,-0.5119547775416198,-0.17958271427017333,2.4751023612296494,0.8485209816138845,-1.6716169800928415,1.4212479055478549,1.373356337287798,1.1561028656871015,-0.1419436980968088,0.7187691549260182,3.0364205633719425,0.734284800443334,-0.9813275386456558,0.28835595613774406,0.2177289571851628,-1.5979716350858764,1.7533737527925104,2.455263171182504,-0.998996487354798,1.6647065302884583,0.13487899639228673,-0.9204221983040389,-0.5260204719325334,0.3729631855801561,-1.7881349756837503,-0.06024704765386666,-0.35343347656634894,-0.32862076542402474,-0.3296552300795083,0.7959402796708153,-0.2591835000266135,0.9291618039459419,2.526294058316706,-0.4158483633854793,-2.114171050587124,-1.5980731814780682,3.060158018044401,0.8864017834192536,-0.7888369809411898,-0.22207270455452055,0.2919727650947669,1.7298690787747741,-1.1907371521158825,-0.7481014500130333,-1.3126581161022361,0.556183164685591,1.3643829245990822,0.23609289097665742,-0.783866036842399,0.21681356368855853,0.5960968696295027,-0.04396548150781571,-0.8883792916898136,-0.2869425360225565,0.663551053787133,0.7616302112157503,0.2615442593539925,1.6195140569719841,0.04943547707619654,0.762492090412884,-3.0235275989995,-0.6972617199851123],\"type\":\"scatter\"}],                        {\"legend\":{\"bgcolor\":\"#F5F6F9\",\"font\":{\"color\":\"#4D5663\"}},\"paper_bgcolor\":\"#F5F6F9\",\"plot_bgcolor\":\"#F5F6F9\",\"template\":{\"data\":{\"barpolar\":[{\"marker\":{\"line\":{\"color\":\"#E5ECF6\",\"width\":0.5},\"pattern\":{\"fillmode\":\"overlay\",\"size\":10,\"solidity\":0.2}},\"type\":\"barpolar\"}],\"bar\":[{\"error_x\":{\"color\":\"#2a3f5f\"},\"error_y\":{\"color\":\"#2a3f5f\"},\"marker\":{\"line\":{\"color\":\"#E5ECF6\",\"width\":0.5},\"pattern\":{\"fillmode\":\"overlay\",\"size\":10,\"solidity\":0.2}},\"type\":\"bar\"}],\"carpet\":[{\"aaxis\":{\"endlinecolor\":\"#2a3f5f\",\"gridcolor\":\"white\",\"linecolor\":\"white\",\"minorgridcolor\":\"white\",\"startlinecolor\":\"#2a3f5f\"},\"baxis\":{\"endlinecolor\":\"#2a3f5f\",\"gridcolor\":\"white\",\"linecolor\":\"white\",\"minorgridcolor\":\"white\",\"startlinecolor\":\"#2a3f5f\"},\"type\":\"carpet\"}],\"choropleth\":[{\"colorbar\":{\"outlinewidth\":0,\"ticks\":\"\"},\"type\":\"choropleth\"}],\"contourcarpet\":[{\"colorbar\":{\"outlinewidth\":0,\"ticks\":\"\"},\"type\":\"contourcarpet\"}],\"contour\":[{\"colorbar\":{\"outlinewidth\":0,\"ticks\":\"\"},\"colorscale\":[[0.0,\"#0d0887\"],[0.1111111111111111,\"#46039f\"],[0.2222222222222222,\"#7201a8\"],[0.3333333333333333,\"#9c179e\"],[0.4444444444444444,\"#bd3786\"],[0.5555555555555556,\"#d8576b\"],[0.6666666666666666,\"#ed7953\"],[0.7777777777777778,\"#fb9f3a\"],[0.8888888888888888,\"#fdca26\"],[1.0,\"#f0f921\"]],\"type\":\"contour\"}],\"heatmapgl\":[{\"colorbar\":{\"outlinewidth\":0,\"ticks\":\"\"},\"colorscale\":[[0.0,\"#0d0887\"],[0.1111111111111111,\"#46039f\"],[0.2222222222222222,\"#7201a8\"],[0.3333333333333333,\"#9c179e\"],[0.4444444444444444,\"#bd3786\"],[0.5555555555555556,\"#d8576b\"],[0.6666666666666666,\"#ed7953\"],[0.7777777777777778,\"#fb9f3a\"],[0.8888888888888888,\"#fdca26\"],[1.0,\"#f0f921\"]],\"type\":\"heatmapgl\"}],\"heatmap\":[{\"colorbar\":{\"outlinewidth\":0,\"ticks\":\"\"},\"colorscale\":[[0.0,\"#0d0887\"],[0.1111111111111111,\"#46039f\"],[0.2222222222222222,\"#7201a8\"],[0.3333333333333333,\"#9c179e\"],[0.4444444444444444,\"#bd3786\"],[0.5555555555555556,\"#d8576b\"],[0.6666666666666666,\"#ed7953\"],[0.7777777777777778,\"#fb9f3a\"],[0.8888888888888888,\"#fdca26\"],[1.0,\"#f0f921\"]],\"type\":\"heatmap\"}],\"histogram2dcontour\":[{\"colorbar\":{\"outlinewidth\":0,\"ticks\":\"\"},\"colorscale\":[[0.0,\"#0d0887\"],[0.1111111111111111,\"#46039f\"],[0.2222222222222222,\"#7201a8\"],[0.3333333333333333,\"#9c179e\"],[0.4444444444444444,\"#bd3786\"],[0.5555555555555556,\"#d8576b\"],[0.6666666666666666,\"#ed7953\"],[0.7777777777777778,\"#fb9f3a\"],[0.8888888888888888,\"#fdca26\"],[1.0,\"#f0f921\"]],\"type\":\"histogram2dcontour\"}],\"histogram2d\":[{\"colorbar\":{\"outlinewidth\":0,\"ticks\":\"\"},\"colorscale\":[[0.0,\"#0d0887\"],[0.1111111111111111,\"#46039f\"],[0.2222222222222222,\"#7201a8\"],[0.3333333333333333,\"#9c179e\"],[0.4444444444444444,\"#bd3786\"],[0.5555555555555556,\"#d8576b\"],[0.6666666666666666,\"#ed7953\"],[0.7777777777777778,\"#fb9f3a\"],[0.8888888888888888,\"#fdca26\"],[1.0,\"#f0f921\"]],\"type\":\"histogram2d\"}],\"histogram\":[{\"marker\":{\"pattern\":{\"fillmode\":\"overlay\",\"size\":10,\"solidity\":0.2}},\"type\":\"histogram\"}],\"mesh3d\":[{\"colorbar\":{\"outlinewidth\":0,\"ticks\":\"\"},\"type\":\"mesh3d\"}],\"parcoords\":[{\"line\":{\"colorbar\":{\"outlinewidth\":0,\"ticks\":\"\"}},\"type\":\"parcoords\"}],\"pie\":[{\"automargin\":true,\"type\":\"pie\"}],\"scatter3d\":[{\"line\":{\"colorbar\":{\"outlinewidth\":0,\"ticks\":\"\"}},\"marker\":{\"colorbar\":{\"outlinewidth\":0,\"ticks\":\"\"}},\"type\":\"scatter3d\"}],\"scattercarpet\":[{\"marker\":{\"colorbar\":{\"outlinewidth\":0,\"ticks\":\"\"}},\"type\":\"scattercarpet\"}],\"scattergeo\":[{\"marker\":{\"colorbar\":{\"outlinewidth\":0,\"ticks\":\"\"}},\"type\":\"scattergeo\"}],\"scattergl\":[{\"marker\":{\"colorbar\":{\"outlinewidth\":0,\"ticks\":\"\"}},\"type\":\"scattergl\"}],\"scattermapbox\":[{\"marker\":{\"colorbar\":{\"outlinewidth\":0,\"ticks\":\"\"}},\"type\":\"scattermapbox\"}],\"scatterpolargl\":[{\"marker\":{\"colorbar\":{\"outlinewidth\":0,\"ticks\":\"\"}},\"type\":\"scatterpolargl\"}],\"scatterpolar\":[{\"marker\":{\"colorbar\":{\"outlinewidth\":0,\"ticks\":\"\"}},\"type\":\"scatterpolar\"}],\"scatter\":[{\"marker\":{\"colorbar\":{\"outlinewidth\":0,\"ticks\":\"\"}},\"type\":\"scatter\"}],\"scatterternary\":[{\"marker\":{\"colorbar\":{\"outlinewidth\":0,\"ticks\":\"\"}},\"type\":\"scatterternary\"}],\"surface\":[{\"colorbar\":{\"outlinewidth\":0,\"ticks\":\"\"},\"colorscale\":[[0.0,\"#0d0887\"],[0.1111111111111111,\"#46039f\"],[0.2222222222222222,\"#7201a8\"],[0.3333333333333333,\"#9c179e\"],[0.4444444444444444,\"#bd3786\"],[0.5555555555555556,\"#d8576b\"],[0.6666666666666666,\"#ed7953\"],[0.7777777777777778,\"#fb9f3a\"],[0.8888888888888888,\"#fdca26\"],[1.0,\"#f0f921\"]],\"type\":\"surface\"}],\"table\":[{\"cells\":{\"fill\":{\"color\":\"#EBF0F8\"},\"line\":{\"color\":\"white\"}},\"header\":{\"fill\":{\"color\":\"#C8D4E3\"},\"line\":{\"color\":\"white\"}},\"type\":\"table\"}]},\"layout\":{\"annotationdefaults\":{\"arrowcolor\":\"#2a3f5f\",\"arrowhead\":0,\"arrowwidth\":1},\"autotypenumbers\":\"strict\",\"coloraxis\":{\"colorbar\":{\"outlinewidth\":0,\"ticks\":\"\"}},\"colorscale\":{\"diverging\":[[0,\"#8e0152\"],[0.1,\"#c51b7d\"],[0.2,\"#de77ae\"],[0.3,\"#f1b6da\"],[0.4,\"#fde0ef\"],[0.5,\"#f7f7f7\"],[0.6,\"#e6f5d0\"],[0.7,\"#b8e186\"],[0.8,\"#7fbc41\"],[0.9,\"#4d9221\"],[1,\"#276419\"]],\"sequential\":[[0.0,\"#0d0887\"],[0.1111111111111111,\"#46039f\"],[0.2222222222222222,\"#7201a8\"],[0.3333333333333333,\"#9c179e\"],[0.4444444444444444,\"#bd3786\"],[0.5555555555555556,\"#d8576b\"],[0.6666666666666666,\"#ed7953\"],[0.7777777777777778,\"#fb9f3a\"],[0.8888888888888888,\"#fdca26\"],[1.0,\"#f0f921\"]],\"sequentialminus\":[[0.0,\"#0d0887\"],[0.1111111111111111,\"#46039f\"],[0.2222222222222222,\"#7201a8\"],[0.3333333333333333,\"#9c179e\"],[0.4444444444444444,\"#bd3786\"],[0.5555555555555556,\"#d8576b\"],[0.6666666666666666,\"#ed7953\"],[0.7777777777777778,\"#fb9f3a\"],[0.8888888888888888,\"#fdca26\"],[1.0,\"#f0f921\"]]},\"colorway\":[\"#636efa\",\"#EF553B\",\"#00cc96\",\"#ab63fa\",\"#FFA15A\",\"#19d3f3\",\"#FF6692\",\"#B6E880\",\"#FF97FF\",\"#FECB52\"],\"font\":{\"color\":\"#2a3f5f\"},\"geo\":{\"bgcolor\":\"white\",\"lakecolor\":\"white\",\"landcolor\":\"#E5ECF6\",\"showlakes\":true,\"showland\":true,\"subunitcolor\":\"white\"},\"hoverlabel\":{\"align\":\"left\"},\"hovermode\":\"closest\",\"mapbox\":{\"style\":\"light\"},\"paper_bgcolor\":\"white\",\"plot_bgcolor\":\"#E5ECF6\",\"polar\":{\"angularaxis\":{\"gridcolor\":\"white\",\"linecolor\":\"white\",\"ticks\":\"\"},\"bgcolor\":\"#E5ECF6\",\"radialaxis\":{\"gridcolor\":\"white\",\"linecolor\":\"white\",\"ticks\":\"\"}},\"scene\":{\"xaxis\":{\"backgroundcolor\":\"#E5ECF6\",\"gridcolor\":\"white\",\"gridwidth\":2,\"linecolor\":\"white\",\"showbackground\":true,\"ticks\":\"\",\"zerolinecolor\":\"white\"},\"yaxis\":{\"backgroundcolor\":\"#E5ECF6\",\"gridcolor\":\"white\",\"gridwidth\":2,\"linecolor\":\"white\",\"showbackground\":true,\"ticks\":\"\",\"zerolinecolor\":\"white\"},\"zaxis\":{\"backgroundcolor\":\"#E5ECF6\",\"gridcolor\":\"white\",\"gridwidth\":2,\"linecolor\":\"white\",\"showbackground\":true,\"ticks\":\"\",\"zerolinecolor\":\"white\"}},\"shapedefaults\":{\"line\":{\"color\":\"#2a3f5f\"}},\"ternary\":{\"aaxis\":{\"gridcolor\":\"white\",\"linecolor\":\"white\",\"ticks\":\"\"},\"baxis\":{\"gridcolor\":\"white\",\"linecolor\":\"white\",\"ticks\":\"\"},\"bgcolor\":\"#E5ECF6\",\"caxis\":{\"gridcolor\":\"white\",\"linecolor\":\"white\",\"ticks\":\"\"}},\"title\":{\"x\":0.05},\"xaxis\":{\"automargin\":true,\"gridcolor\":\"white\",\"linecolor\":\"white\",\"ticks\":\"\",\"title\":{\"standoff\":15},\"zerolinecolor\":\"white\",\"zerolinewidth\":2},\"yaxis\":{\"automargin\":true,\"gridcolor\":\"white\",\"linecolor\":\"white\",\"ticks\":\"\",\"title\":{\"standoff\":15},\"zerolinecolor\":\"white\",\"zerolinewidth\":2}}},\"title\":{\"font\":{\"color\":\"#4D5663\"}},\"xaxis\":{\"gridcolor\":\"#E1E5ED\",\"showgrid\":true,\"tickfont\":{\"color\":\"#4D5663\"},\"title\":{\"font\":{\"color\":\"#4D5663\"},\"text\":\"\"},\"zerolinecolor\":\"#E1E5ED\"},\"yaxis\":{\"gridcolor\":\"#E1E5ED\",\"showgrid\":true,\"tickfont\":{\"color\":\"#4D5663\"},\"title\":{\"font\":{\"color\":\"#4D5663\"},\"text\":\"\"},\"zerolinecolor\":\"#E1E5ED\"}},                        {\"showLink\": true, \"linkText\": \"Export to plot.ly\", \"plotlyServerURL\": \"https://plot.ly\", \"responsive\": true}                    ).then(function(){\n",
       "                            \n",
       "var gd = document.getElementById('06f8defd-60a2-42a1-9ed2-7362e68123cd');\n",
       "var x = new MutationObserver(function (mutations, observer) {{\n",
       "        var display = window.getComputedStyle(gd).display;\n",
       "        if (!display || display === 'none') {{\n",
       "            console.log([gd, 'removed!']);\n",
       "            Plotly.purge(gd);\n",
       "            observer.disconnect();\n",
       "        }}\n",
       "}});\n",
       "\n",
       "// Listen for the removal of the full notebook cells\n",
       "var notebookContainer = gd.closest('#notebook-container');\n",
       "if (notebookContainer) {{\n",
       "    x.observe(notebookContainer, {childList: true});\n",
       "}}\n",
       "\n",
       "// Listen for the clearing of the current output cell\n",
       "var outputEl = gd.closest('.output');\n",
       "if (outputEl) {{\n",
       "    x.observe(outputEl, {childList: true});\n",
       "}}\n",
       "\n",
       "                        })                };                });            </script>        </div>"
      ]
     },
     "metadata": {},
     "output_type": "display_data"
    }
   ],
   "source": [
    "df.iplot(kind='bubble',x='A',y='B',size='C',colors='orange')"
   ]
  },
  {
   "cell_type": "markdown",
   "metadata": {},
   "source": [
    "## scatter_matrix()\n",
    "\n",
    "Similar to sns.pairplot()"
   ]
  },
  {
   "cell_type": "code",
   "execution_count": 22,
   "metadata": {},
   "outputs": [
    {
     "data": {
      "application/vnd.plotly.v1+json": {
       "config": {
        "linkText": "Export to plot.ly",
        "plotlyServerURL": "https://plot.ly",
        "showLink": true
       },
       "data": [
        {
         "histfunc": "count",
         "histnorm": "",
         "marker": {
          "color": "rgba(255, 153, 51, 1.0)",
          "line": {
           "color": "#4D5663",
           "width": 1.3
          }
         },
         "name": "A",
         "nbinsx": 10,
         "opacity": 0.8,
         "orientation": "v",
         "type": "histogram",
         "x": [
          -1.4988901786541045,
          -0.001422821726739044,
          -0.2304684055770329,
          0.23997464714259756,
          0.18192721535380907,
          0.19164720456797463,
          0.8934074803005699,
          -0.16678903578641818,
          -1.0084349560508432,
          -0.03497746442877197,
          -0.29407807175981265,
          -0.6006039772725303,
          -1.9183720589496456,
          1.1614531567992483,
          0.7099754557782095,
          0.0597482684433398,
          -0.7208573651997514,
          0.3855346391785886,
          -0.6452196773049834,
          -0.976381166476433,
          0.6594618598235175,
          1.5365704381442875,
          -0.8503296300579475,
          -0.6817453467007452,
          -0.9463322508133754,
          -0.19411061226880635,
          0.7592740048310302,
          -1.1926747622253955,
          1.400547023742745,
          -0.01495067745602767,
          -1.7115247300904346,
          -0.36124821109843847,
          -0.9945764316187472,
          -0.02174742702343883,
          0.4271204474826363,
          2.0458262738449973,
          0.38003902187660327,
          0.12799810814049276,
          -1.114003422680656,
          -0.06648643302860642,
          -0.9862118908244232,
          0.2492347168731393,
          0.17820277695620237,
          -0.7387340723009684,
          -0.31798405254195145,
          0.9524360693241468,
          0.9861659791518401,
          0.7148700640697296,
          -0.22592732878489613,
          2.3080279320676045,
          0.787929315365375,
          -0.48486969233250055,
          0.4027834014210285,
          1.4822702738530436,
          1.3038659671232047,
          -0.6523787149594126,
          -0.020653413306827302,
          1.27795507641576,
          0.9017516859560875,
          0.3656487115665125,
          -0.17128934489835104,
          0.6007005503795194,
          0.3206977385185198,
          -1.6303945368009163,
          0.6030078809689943,
          -0.6207387600421282,
          0.9288566443524915,
          1.003041834488083,
          0.6555148863499219,
          1.8369810188217182,
          -1.1342616020404406,
          -0.03959247097223943,
          0.27889716160290184,
          0.5964316283866732,
          -0.36252227062175946,
          -0.34907991775801606,
          -0.7457953929282686,
          -0.025432745061922953,
          -1.9507489350848062,
          -1.041117167054891,
          0.22955684614254096,
          -0.7594240891624068,
          -0.26728306802932256,
          -0.5574003405662921,
          -0.5552647869514891,
          -0.27986732142818244,
          -0.3176914326608163,
          1.1045692759785846,
          -1.1308518489324335,
          -0.3919640656418023,
          -1.0287786375678944,
          -0.5389389032984023,
          1.5990545052027803,
          -0.9840034230949485,
          0.9466879685336848,
          -0.2562696339386158,
          -0.4170640840563133,
          -0.7355380779682636,
          0.7659323423522455,
          -0.2871147614324862
         ],
         "xaxis": "x",
         "yaxis": "y"
        },
        {
         "line": {
          "color": "rgba(128, 128, 128, 1.0)",
          "dash": "solid",
          "shape": "linear",
          "width": 1.3
         },
         "marker": {
          "size": 2,
          "symbol": "circle"
         },
         "mode": "markers",
         "name": "A",
         "text": "",
         "type": "scatter",
         "x": [
          0.23526574448227672,
          1.168163947055222,
          0.2603253096157711,
          -1.7094688244238117,
          1.2314559187199188,
          1.6726392784566257,
          1.110882751972855,
          2.4989591704588947,
          -0.21090740427651708,
          0.6710299469446712,
          0.5112763692090437,
          -0.3007727133257675,
          -0.44789669873124577,
          -0.683971266219679,
          -0.035603974521086434,
          0.9453888391325656,
          -0.3642535594012888,
          -0.7333466976832804,
          1.2214417366538486,
          -0.41663209241617577,
          0.6251585915454666,
          0.7118831843227998,
          -0.7328897597367783,
          0.41557603199328913,
          0.09317786774577878,
          0.1935706418538896,
          0.7567493246413372,
          -0.7890825203287073,
          0.470082990361827,
          0.2988970555631342,
          0.5477894960342421,
          -0.839905415734585,
          -2.285938793357377,
          1.1672269099760322,
          0.15066291368605914,
          0.691394580518865,
          1.550852584290744,
          0.2356201953546311,
          -0.5119547775416198,
          -0.17958271427017333,
          2.4751023612296494,
          0.8485209816138845,
          -1.6716169800928415,
          1.4212479055478549,
          1.373356337287798,
          1.1561028656871015,
          -0.1419436980968088,
          0.7187691549260182,
          3.0364205633719425,
          0.734284800443334,
          -0.9813275386456558,
          0.28835595613774406,
          0.2177289571851628,
          -1.5979716350858764,
          1.7533737527925104,
          2.455263171182504,
          -0.998996487354798,
          1.6647065302884583,
          0.13487899639228673,
          -0.9204221983040389,
          -0.5260204719325334,
          0.3729631855801561,
          -1.7881349756837503,
          -0.06024704765386666,
          -0.35343347656634894,
          -0.32862076542402474,
          -0.3296552300795083,
          0.7959402796708153,
          -0.2591835000266135,
          0.9291618039459419,
          2.526294058316706,
          -0.4158483633854793,
          -2.114171050587124,
          -1.5980731814780682,
          3.060158018044401,
          0.8864017834192536,
          -0.7888369809411898,
          -0.22207270455452055,
          0.2919727650947669,
          1.7298690787747741,
          -1.1907371521158825,
          -0.7481014500130333,
          -1.3126581161022361,
          0.556183164685591,
          1.3643829245990822,
          0.23609289097665742,
          -0.783866036842399,
          0.21681356368855853,
          0.5960968696295027,
          -0.04396548150781571,
          -0.8883792916898136,
          -0.2869425360225565,
          0.663551053787133,
          0.7616302112157503,
          0.2615442593539925,
          1.6195140569719841,
          0.04943547707619654,
          0.762492090412884,
          -3.0235275989995,
          -0.6972617199851123
         ],
         "xaxis": "x2",
         "y": [
          -1.4988901786541045,
          -0.001422821726739044,
          -0.2304684055770329,
          0.23997464714259756,
          0.18192721535380907,
          0.19164720456797463,
          0.8934074803005699,
          -0.16678903578641818,
          -1.0084349560508432,
          -0.03497746442877197,
          -0.29407807175981265,
          -0.6006039772725303,
          -1.9183720589496456,
          1.1614531567992483,
          0.7099754557782095,
          0.0597482684433398,
          -0.7208573651997514,
          0.3855346391785886,
          -0.6452196773049834,
          -0.976381166476433,
          0.6594618598235175,
          1.5365704381442875,
          -0.8503296300579475,
          -0.6817453467007452,
          -0.9463322508133754,
          -0.19411061226880635,
          0.7592740048310302,
          -1.1926747622253955,
          1.400547023742745,
          -0.01495067745602767,
          -1.7115247300904346,
          -0.36124821109843847,
          -0.9945764316187472,
          -0.02174742702343883,
          0.4271204474826363,
          2.0458262738449973,
          0.38003902187660327,
          0.12799810814049276,
          -1.114003422680656,
          -0.06648643302860642,
          -0.9862118908244232,
          0.2492347168731393,
          0.17820277695620237,
          -0.7387340723009684,
          -0.31798405254195145,
          0.9524360693241468,
          0.9861659791518401,
          0.7148700640697296,
          -0.22592732878489613,
          2.3080279320676045,
          0.787929315365375,
          -0.48486969233250055,
          0.4027834014210285,
          1.4822702738530436,
          1.3038659671232047,
          -0.6523787149594126,
          -0.020653413306827302,
          1.27795507641576,
          0.9017516859560875,
          0.3656487115665125,
          -0.17128934489835104,
          0.6007005503795194,
          0.3206977385185198,
          -1.6303945368009163,
          0.6030078809689943,
          -0.6207387600421282,
          0.9288566443524915,
          1.003041834488083,
          0.6555148863499219,
          1.8369810188217182,
          -1.1342616020404406,
          -0.03959247097223943,
          0.27889716160290184,
          0.5964316283866732,
          -0.36252227062175946,
          -0.34907991775801606,
          -0.7457953929282686,
          -0.025432745061922953,
          -1.9507489350848062,
          -1.041117167054891,
          0.22955684614254096,
          -0.7594240891624068,
          -0.26728306802932256,
          -0.5574003405662921,
          -0.5552647869514891,
          -0.27986732142818244,
          -0.3176914326608163,
          1.1045692759785846,
          -1.1308518489324335,
          -0.3919640656418023,
          -1.0287786375678944,
          -0.5389389032984023,
          1.5990545052027803,
          -0.9840034230949485,
          0.9466879685336848,
          -0.2562696339386158,
          -0.4170640840563133,
          -0.7355380779682636,
          0.7659323423522455,
          -0.2871147614324862
         ],
         "yaxis": "y2"
        },
        {
         "line": {
          "color": "rgba(128, 128, 128, 1.0)",
          "dash": "solid",
          "shape": "linear",
          "width": 1.3
         },
         "marker": {
          "size": 2,
          "symbol": "circle"
         },
         "mode": "markers",
         "name": "A",
         "text": "",
         "type": "scatter",
         "x": [
          -0.6721054830618163,
          0.04155124736259395,
          0.7692227448681659,
          1.2018543046190742,
          -1.3895799534825057,
          -0.13986742515460016,
          0.20680584971717506,
          -1.2375755209975055,
          0.2748276280206249,
          -0.9321398412097541,
          0.13094629693961418,
          0.5486985863756676,
          -1.9886073067653744,
          0.1377455666610931,
          1.453981498965094,
          -1.1636735569946803,
          -0.6381256018220831,
          0.24016156194284022,
          -0.10703017970101508,
          0.16433225410440552,
          0.8531079898217108,
          1.6121552354073403,
          0.6752632364620416,
          0.42470164228165075,
          0.8419872410410988,
          0.2027351375903432,
          -1.3398091831197878,
          0.6980975776663457,
          -1.5977507860270195,
          2.0156066648331064,
          0.1894203169898418,
          -1.262191998452755,
          0.2421426433968026,
          0.8894250373970279,
          -1.2747913284971648,
          -1.2214202094176518,
          0.492344745944777,
          -0.0005811540557410889,
          0.2651774197952579,
          -1.7138206058548793,
          0.9358135995670254,
          0.13575129717698095,
          -0.766123378667851,
          -1.3900404553640864,
          1.0520155069593347,
          0.8881391602820637,
          0.3228724111252909,
          1.2640701130622274,
          1.0123932381650467,
          -0.48498439499425805,
          -0.3695252941463228,
          -0.4177107301373769,
          -0.3632625423585063,
          -2.0473737075168965,
          -0.969514659884145,
          -1.009087218129252,
          0.5557092264085043,
          0.04324906215682579,
          0.1580912743653798,
          -1.2735162466467338,
          -3.2427099683814293,
          -0.7940960806105345,
          1.8485957694095079,
          1.240587131176431,
          1.607574353631272,
          0.9673253953080366,
          0.6194483749879988,
          -0.3326426058262767,
          0.06435808504729362,
          -1.9251762616167312,
          1.3987969071993855,
          -0.25397463387421776,
          1.1682073059162448,
          -1.7644476573328416,
          0.7327323173813448,
          0.9947355849774328,
          0.5453518341795917,
          1.19080558599387,
          1.2093897545788723,
          0.6706625192394372,
          -1.6457577450899186,
          0.7985572506119272,
          0.844699713555325,
          3.1313601284169064,
          -1.8121698719347574,
          0.8210069022416058,
          -0.6197824971970205,
          -0.26608675431992823,
          1.0968910955996245,
          -0.15649991655276047,
          -1.1543940361329577,
          -2.041746319215282,
          1.004924176818934,
          -0.5377172116680294,
          0.6024246724870307,
          1.2352666198746274,
          -0.6105721742972088,
          -0.11960291524138328,
          -0.14565417326896715,
          1.5968344449979148
         ],
         "xaxis": "x3",
         "y": [
          -1.4988901786541045,
          -0.001422821726739044,
          -0.2304684055770329,
          0.23997464714259756,
          0.18192721535380907,
          0.19164720456797463,
          0.8934074803005699,
          -0.16678903578641818,
          -1.0084349560508432,
          -0.03497746442877197,
          -0.29407807175981265,
          -0.6006039772725303,
          -1.9183720589496456,
          1.1614531567992483,
          0.7099754557782095,
          0.0597482684433398,
          -0.7208573651997514,
          0.3855346391785886,
          -0.6452196773049834,
          -0.976381166476433,
          0.6594618598235175,
          1.5365704381442875,
          -0.8503296300579475,
          -0.6817453467007452,
          -0.9463322508133754,
          -0.19411061226880635,
          0.7592740048310302,
          -1.1926747622253955,
          1.400547023742745,
          -0.01495067745602767,
          -1.7115247300904346,
          -0.36124821109843847,
          -0.9945764316187472,
          -0.02174742702343883,
          0.4271204474826363,
          2.0458262738449973,
          0.38003902187660327,
          0.12799810814049276,
          -1.114003422680656,
          -0.06648643302860642,
          -0.9862118908244232,
          0.2492347168731393,
          0.17820277695620237,
          -0.7387340723009684,
          -0.31798405254195145,
          0.9524360693241468,
          0.9861659791518401,
          0.7148700640697296,
          -0.22592732878489613,
          2.3080279320676045,
          0.787929315365375,
          -0.48486969233250055,
          0.4027834014210285,
          1.4822702738530436,
          1.3038659671232047,
          -0.6523787149594126,
          -0.020653413306827302,
          1.27795507641576,
          0.9017516859560875,
          0.3656487115665125,
          -0.17128934489835104,
          0.6007005503795194,
          0.3206977385185198,
          -1.6303945368009163,
          0.6030078809689943,
          -0.6207387600421282,
          0.9288566443524915,
          1.003041834488083,
          0.6555148863499219,
          1.8369810188217182,
          -1.1342616020404406,
          -0.03959247097223943,
          0.27889716160290184,
          0.5964316283866732,
          -0.36252227062175946,
          -0.34907991775801606,
          -0.7457953929282686,
          -0.025432745061922953,
          -1.9507489350848062,
          -1.041117167054891,
          0.22955684614254096,
          -0.7594240891624068,
          -0.26728306802932256,
          -0.5574003405662921,
          -0.5552647869514891,
          -0.27986732142818244,
          -0.3176914326608163,
          1.1045692759785846,
          -1.1308518489324335,
          -0.3919640656418023,
          -1.0287786375678944,
          -0.5389389032984023,
          1.5990545052027803,
          -0.9840034230949485,
          0.9466879685336848,
          -0.2562696339386158,
          -0.4170640840563133,
          -0.7355380779682636,
          0.7659323423522455,
          -0.2871147614324862
         ],
         "yaxis": "y3"
        },
        {
         "line": {
          "color": "rgba(128, 128, 128, 1.0)",
          "dash": "solid",
          "shape": "linear",
          "width": 1.3
         },
         "marker": {
          "size": 2,
          "symbol": "circle"
         },
         "mode": "markers",
         "name": "A",
         "text": "",
         "type": "scatter",
         "x": [
          0.6192282002215885,
          0.7516634413897418,
          2.6291119930596283,
          -1.112229452178899,
          -1.218471223876959,
          0.3898577417045848,
          0.5050744413729968,
          1.5311029453343552,
          -1.7920281996444196,
          -0.8445128044351861,
          -0.6744958296736583,
          -2.228362195462207,
          0.37372523500853666,
          1.7887856543417633,
          0.2587332442071377,
          -1.2169599946828844,
          0.5892027747522933,
          -0.6410020739161971,
          0.2885432402606802,
          -0.03454125696368498,
          1.392047624735117,
          1.6330404342582534,
          -0.36982777062599115,
          -1.1044943935988925,
          0.17707233168320471,
          -0.7673975208664824,
          0.7308513958474311,
          1.2882129613239683,
          1.9276937238391547,
          -2.1845092910608113,
          0.6444536924263001,
          0.6665937444037361,
          -0.8377732695050673,
          1.0422617474084055,
          -1.2045521445781036,
          1.2678720943236752,
          -1.013087924793577,
          -0.1728395528302726,
          -0.3944252398071723,
          0.7193352674390059,
          -1.2321564012964976,
          -0.1986564692551516,
          0.6545959593733198,
          -2.1588463704159886,
          -0.7596719367631934,
          -0.4400423221706656,
          0.7065313829415042,
          -1.4504908223014932,
          -0.6561349387559162,
          1.22579257684457,
          -1.1368222351264505,
          0.7709081448107813,
          -0.05352141996538078,
          0.39204665978888587,
          -0.46811805709216725,
          -1.6616082378127675,
          1.1070200754640982,
          -0.6430701883327777,
          -0.5891948682777047,
          -0.23926298071788035,
          -0.4132449764707921,
          0.15139128080495068,
          -0.37366953005573944,
          -1.1574430045537683,
          -1.509218582881698,
          -1.2383335260629713,
          -1.2045140221112487,
          -0.538679102868873,
          0.40991392914883973,
          -0.7420839755730767,
          0.21513021517206274,
          -0.8661508144937152,
          -1.1112533780479816,
          0.8730759371895707,
          -3.3593262177645866,
          -1.4132467106977238,
          -1.944666953122912,
          0.6337870945293379,
          0.6940810642203904,
          1.3580794427153289,
          0.5497729622602447,
          -1.9994087343690035,
          -0.40559548223827147,
          -0.47692207719097135,
          0.14200909497017727,
          0.31571664112410847,
          -0.028135427586822446,
          0.0075806977970474705,
          0.08098974764692758,
          1.1506250505901732,
          -0.3415571987660383,
          -0.5079535580892626,
          0.15588531275565187,
          0.7861985971095445,
          -0.12056561649644168,
          0.7944933671890922,
          -0.956726236656994,
          1.6326065998840578,
          -0.8866144337378922,
          1.3755041411436952
         ],
         "xaxis": "x4",
         "y": [
          -1.4988901786541045,
          -0.001422821726739044,
          -0.2304684055770329,
          0.23997464714259756,
          0.18192721535380907,
          0.19164720456797463,
          0.8934074803005699,
          -0.16678903578641818,
          -1.0084349560508432,
          -0.03497746442877197,
          -0.29407807175981265,
          -0.6006039772725303,
          -1.9183720589496456,
          1.1614531567992483,
          0.7099754557782095,
          0.0597482684433398,
          -0.7208573651997514,
          0.3855346391785886,
          -0.6452196773049834,
          -0.976381166476433,
          0.6594618598235175,
          1.5365704381442875,
          -0.8503296300579475,
          -0.6817453467007452,
          -0.9463322508133754,
          -0.19411061226880635,
          0.7592740048310302,
          -1.1926747622253955,
          1.400547023742745,
          -0.01495067745602767,
          -1.7115247300904346,
          -0.36124821109843847,
          -0.9945764316187472,
          -0.02174742702343883,
          0.4271204474826363,
          2.0458262738449973,
          0.38003902187660327,
          0.12799810814049276,
          -1.114003422680656,
          -0.06648643302860642,
          -0.9862118908244232,
          0.2492347168731393,
          0.17820277695620237,
          -0.7387340723009684,
          -0.31798405254195145,
          0.9524360693241468,
          0.9861659791518401,
          0.7148700640697296,
          -0.22592732878489613,
          2.3080279320676045,
          0.787929315365375,
          -0.48486969233250055,
          0.4027834014210285,
          1.4822702738530436,
          1.3038659671232047,
          -0.6523787149594126,
          -0.020653413306827302,
          1.27795507641576,
          0.9017516859560875,
          0.3656487115665125,
          -0.17128934489835104,
          0.6007005503795194,
          0.3206977385185198,
          -1.6303945368009163,
          0.6030078809689943,
          -0.6207387600421282,
          0.9288566443524915,
          1.003041834488083,
          0.6555148863499219,
          1.8369810188217182,
          -1.1342616020404406,
          -0.03959247097223943,
          0.27889716160290184,
          0.5964316283866732,
          -0.36252227062175946,
          -0.34907991775801606,
          -0.7457953929282686,
          -0.025432745061922953,
          -1.9507489350848062,
          -1.041117167054891,
          0.22955684614254096,
          -0.7594240891624068,
          -0.26728306802932256,
          -0.5574003405662921,
          -0.5552647869514891,
          -0.27986732142818244,
          -0.3176914326608163,
          1.1045692759785846,
          -1.1308518489324335,
          -0.3919640656418023,
          -1.0287786375678944,
          -0.5389389032984023,
          1.5990545052027803,
          -0.9840034230949485,
          0.9466879685336848,
          -0.2562696339386158,
          -0.4170640840563133,
          -0.7355380779682636,
          0.7659323423522455,
          -0.2871147614324862
         ],
         "yaxis": "y4"
        },
        {
         "line": {
          "color": "rgba(128, 128, 128, 1.0)",
          "dash": "solid",
          "shape": "linear",
          "width": 1.3
         },
         "marker": {
          "size": 2,
          "symbol": "circle"
         },
         "mode": "markers",
         "name": "B",
         "text": "",
         "type": "scatter",
         "x": [
          -1.4988901786541045,
          -0.001422821726739044,
          -0.2304684055770329,
          0.23997464714259756,
          0.18192721535380907,
          0.19164720456797463,
          0.8934074803005699,
          -0.16678903578641818,
          -1.0084349560508432,
          -0.03497746442877197,
          -0.29407807175981265,
          -0.6006039772725303,
          -1.9183720589496456,
          1.1614531567992483,
          0.7099754557782095,
          0.0597482684433398,
          -0.7208573651997514,
          0.3855346391785886,
          -0.6452196773049834,
          -0.976381166476433,
          0.6594618598235175,
          1.5365704381442875,
          -0.8503296300579475,
          -0.6817453467007452,
          -0.9463322508133754,
          -0.19411061226880635,
          0.7592740048310302,
          -1.1926747622253955,
          1.400547023742745,
          -0.01495067745602767,
          -1.7115247300904346,
          -0.36124821109843847,
          -0.9945764316187472,
          -0.02174742702343883,
          0.4271204474826363,
          2.0458262738449973,
          0.38003902187660327,
          0.12799810814049276,
          -1.114003422680656,
          -0.06648643302860642,
          -0.9862118908244232,
          0.2492347168731393,
          0.17820277695620237,
          -0.7387340723009684,
          -0.31798405254195145,
          0.9524360693241468,
          0.9861659791518401,
          0.7148700640697296,
          -0.22592732878489613,
          2.3080279320676045,
          0.787929315365375,
          -0.48486969233250055,
          0.4027834014210285,
          1.4822702738530436,
          1.3038659671232047,
          -0.6523787149594126,
          -0.020653413306827302,
          1.27795507641576,
          0.9017516859560875,
          0.3656487115665125,
          -0.17128934489835104,
          0.6007005503795194,
          0.3206977385185198,
          -1.6303945368009163,
          0.6030078809689943,
          -0.6207387600421282,
          0.9288566443524915,
          1.003041834488083,
          0.6555148863499219,
          1.8369810188217182,
          -1.1342616020404406,
          -0.03959247097223943,
          0.27889716160290184,
          0.5964316283866732,
          -0.36252227062175946,
          -0.34907991775801606,
          -0.7457953929282686,
          -0.025432745061922953,
          -1.9507489350848062,
          -1.041117167054891,
          0.22955684614254096,
          -0.7594240891624068,
          -0.26728306802932256,
          -0.5574003405662921,
          -0.5552647869514891,
          -0.27986732142818244,
          -0.3176914326608163,
          1.1045692759785846,
          -1.1308518489324335,
          -0.3919640656418023,
          -1.0287786375678944,
          -0.5389389032984023,
          1.5990545052027803,
          -0.9840034230949485,
          0.9466879685336848,
          -0.2562696339386158,
          -0.4170640840563133,
          -0.7355380779682636,
          0.7659323423522455,
          -0.2871147614324862
         ],
         "xaxis": "x5",
         "y": [
          0.23526574448227672,
          1.168163947055222,
          0.2603253096157711,
          -1.7094688244238117,
          1.2314559187199188,
          1.6726392784566257,
          1.110882751972855,
          2.4989591704588947,
          -0.21090740427651708,
          0.6710299469446712,
          0.5112763692090437,
          -0.3007727133257675,
          -0.44789669873124577,
          -0.683971266219679,
          -0.035603974521086434,
          0.9453888391325656,
          -0.3642535594012888,
          -0.7333466976832804,
          1.2214417366538486,
          -0.41663209241617577,
          0.6251585915454666,
          0.7118831843227998,
          -0.7328897597367783,
          0.41557603199328913,
          0.09317786774577878,
          0.1935706418538896,
          0.7567493246413372,
          -0.7890825203287073,
          0.470082990361827,
          0.2988970555631342,
          0.5477894960342421,
          -0.839905415734585,
          -2.285938793357377,
          1.1672269099760322,
          0.15066291368605914,
          0.691394580518865,
          1.550852584290744,
          0.2356201953546311,
          -0.5119547775416198,
          -0.17958271427017333,
          2.4751023612296494,
          0.8485209816138845,
          -1.6716169800928415,
          1.4212479055478549,
          1.373356337287798,
          1.1561028656871015,
          -0.1419436980968088,
          0.7187691549260182,
          3.0364205633719425,
          0.734284800443334,
          -0.9813275386456558,
          0.28835595613774406,
          0.2177289571851628,
          -1.5979716350858764,
          1.7533737527925104,
          2.455263171182504,
          -0.998996487354798,
          1.6647065302884583,
          0.13487899639228673,
          -0.9204221983040389,
          -0.5260204719325334,
          0.3729631855801561,
          -1.7881349756837503,
          -0.06024704765386666,
          -0.35343347656634894,
          -0.32862076542402474,
          -0.3296552300795083,
          0.7959402796708153,
          -0.2591835000266135,
          0.9291618039459419,
          2.526294058316706,
          -0.4158483633854793,
          -2.114171050587124,
          -1.5980731814780682,
          3.060158018044401,
          0.8864017834192536,
          -0.7888369809411898,
          -0.22207270455452055,
          0.2919727650947669,
          1.7298690787747741,
          -1.1907371521158825,
          -0.7481014500130333,
          -1.3126581161022361,
          0.556183164685591,
          1.3643829245990822,
          0.23609289097665742,
          -0.783866036842399,
          0.21681356368855853,
          0.5960968696295027,
          -0.04396548150781571,
          -0.8883792916898136,
          -0.2869425360225565,
          0.663551053787133,
          0.7616302112157503,
          0.2615442593539925,
          1.6195140569719841,
          0.04943547707619654,
          0.762492090412884,
          -3.0235275989995,
          -0.6972617199851123
         ],
         "yaxis": "y5"
        },
        {
         "histfunc": "count",
         "histnorm": "",
         "marker": {
          "color": "rgba(55, 128, 191, 1.0)",
          "line": {
           "color": "#4D5663",
           "width": 1.3
          }
         },
         "name": "B",
         "nbinsx": 10,
         "opacity": 0.8,
         "orientation": "v",
         "type": "histogram",
         "x": [
          0.23526574448227672,
          1.168163947055222,
          0.2603253096157711,
          -1.7094688244238117,
          1.2314559187199188,
          1.6726392784566257,
          1.110882751972855,
          2.4989591704588947,
          -0.21090740427651708,
          0.6710299469446712,
          0.5112763692090437,
          -0.3007727133257675,
          -0.44789669873124577,
          -0.683971266219679,
          -0.035603974521086434,
          0.9453888391325656,
          -0.3642535594012888,
          -0.7333466976832804,
          1.2214417366538486,
          -0.41663209241617577,
          0.6251585915454666,
          0.7118831843227998,
          -0.7328897597367783,
          0.41557603199328913,
          0.09317786774577878,
          0.1935706418538896,
          0.7567493246413372,
          -0.7890825203287073,
          0.470082990361827,
          0.2988970555631342,
          0.5477894960342421,
          -0.839905415734585,
          -2.285938793357377,
          1.1672269099760322,
          0.15066291368605914,
          0.691394580518865,
          1.550852584290744,
          0.2356201953546311,
          -0.5119547775416198,
          -0.17958271427017333,
          2.4751023612296494,
          0.8485209816138845,
          -1.6716169800928415,
          1.4212479055478549,
          1.373356337287798,
          1.1561028656871015,
          -0.1419436980968088,
          0.7187691549260182,
          3.0364205633719425,
          0.734284800443334,
          -0.9813275386456558,
          0.28835595613774406,
          0.2177289571851628,
          -1.5979716350858764,
          1.7533737527925104,
          2.455263171182504,
          -0.998996487354798,
          1.6647065302884583,
          0.13487899639228673,
          -0.9204221983040389,
          -0.5260204719325334,
          0.3729631855801561,
          -1.7881349756837503,
          -0.06024704765386666,
          -0.35343347656634894,
          -0.32862076542402474,
          -0.3296552300795083,
          0.7959402796708153,
          -0.2591835000266135,
          0.9291618039459419,
          2.526294058316706,
          -0.4158483633854793,
          -2.114171050587124,
          -1.5980731814780682,
          3.060158018044401,
          0.8864017834192536,
          -0.7888369809411898,
          -0.22207270455452055,
          0.2919727650947669,
          1.7298690787747741,
          -1.1907371521158825,
          -0.7481014500130333,
          -1.3126581161022361,
          0.556183164685591,
          1.3643829245990822,
          0.23609289097665742,
          -0.783866036842399,
          0.21681356368855853,
          0.5960968696295027,
          -0.04396548150781571,
          -0.8883792916898136,
          -0.2869425360225565,
          0.663551053787133,
          0.7616302112157503,
          0.2615442593539925,
          1.6195140569719841,
          0.04943547707619654,
          0.762492090412884,
          -3.0235275989995,
          -0.6972617199851123
         ],
         "xaxis": "x6",
         "yaxis": "y6"
        },
        {
         "line": {
          "color": "rgba(128, 128, 128, 1.0)",
          "dash": "solid",
          "shape": "linear",
          "width": 1.3
         },
         "marker": {
          "size": 2,
          "symbol": "circle"
         },
         "mode": "markers",
         "name": "B",
         "text": "",
         "type": "scatter",
         "x": [
          -0.6721054830618163,
          0.04155124736259395,
          0.7692227448681659,
          1.2018543046190742,
          -1.3895799534825057,
          -0.13986742515460016,
          0.20680584971717506,
          -1.2375755209975055,
          0.2748276280206249,
          -0.9321398412097541,
          0.13094629693961418,
          0.5486985863756676,
          -1.9886073067653744,
          0.1377455666610931,
          1.453981498965094,
          -1.1636735569946803,
          -0.6381256018220831,
          0.24016156194284022,
          -0.10703017970101508,
          0.16433225410440552,
          0.8531079898217108,
          1.6121552354073403,
          0.6752632364620416,
          0.42470164228165075,
          0.8419872410410988,
          0.2027351375903432,
          -1.3398091831197878,
          0.6980975776663457,
          -1.5977507860270195,
          2.0156066648331064,
          0.1894203169898418,
          -1.262191998452755,
          0.2421426433968026,
          0.8894250373970279,
          -1.2747913284971648,
          -1.2214202094176518,
          0.492344745944777,
          -0.0005811540557410889,
          0.2651774197952579,
          -1.7138206058548793,
          0.9358135995670254,
          0.13575129717698095,
          -0.766123378667851,
          -1.3900404553640864,
          1.0520155069593347,
          0.8881391602820637,
          0.3228724111252909,
          1.2640701130622274,
          1.0123932381650467,
          -0.48498439499425805,
          -0.3695252941463228,
          -0.4177107301373769,
          -0.3632625423585063,
          -2.0473737075168965,
          -0.969514659884145,
          -1.009087218129252,
          0.5557092264085043,
          0.04324906215682579,
          0.1580912743653798,
          -1.2735162466467338,
          -3.2427099683814293,
          -0.7940960806105345,
          1.8485957694095079,
          1.240587131176431,
          1.607574353631272,
          0.9673253953080366,
          0.6194483749879988,
          -0.3326426058262767,
          0.06435808504729362,
          -1.9251762616167312,
          1.3987969071993855,
          -0.25397463387421776,
          1.1682073059162448,
          -1.7644476573328416,
          0.7327323173813448,
          0.9947355849774328,
          0.5453518341795917,
          1.19080558599387,
          1.2093897545788723,
          0.6706625192394372,
          -1.6457577450899186,
          0.7985572506119272,
          0.844699713555325,
          3.1313601284169064,
          -1.8121698719347574,
          0.8210069022416058,
          -0.6197824971970205,
          -0.26608675431992823,
          1.0968910955996245,
          -0.15649991655276047,
          -1.1543940361329577,
          -2.041746319215282,
          1.004924176818934,
          -0.5377172116680294,
          0.6024246724870307,
          1.2352666198746274,
          -0.6105721742972088,
          -0.11960291524138328,
          -0.14565417326896715,
          1.5968344449979148
         ],
         "xaxis": "x7",
         "y": [
          0.23526574448227672,
          1.168163947055222,
          0.2603253096157711,
          -1.7094688244238117,
          1.2314559187199188,
          1.6726392784566257,
          1.110882751972855,
          2.4989591704588947,
          -0.21090740427651708,
          0.6710299469446712,
          0.5112763692090437,
          -0.3007727133257675,
          -0.44789669873124577,
          -0.683971266219679,
          -0.035603974521086434,
          0.9453888391325656,
          -0.3642535594012888,
          -0.7333466976832804,
          1.2214417366538486,
          -0.41663209241617577,
          0.6251585915454666,
          0.7118831843227998,
          -0.7328897597367783,
          0.41557603199328913,
          0.09317786774577878,
          0.1935706418538896,
          0.7567493246413372,
          -0.7890825203287073,
          0.470082990361827,
          0.2988970555631342,
          0.5477894960342421,
          -0.839905415734585,
          -2.285938793357377,
          1.1672269099760322,
          0.15066291368605914,
          0.691394580518865,
          1.550852584290744,
          0.2356201953546311,
          -0.5119547775416198,
          -0.17958271427017333,
          2.4751023612296494,
          0.8485209816138845,
          -1.6716169800928415,
          1.4212479055478549,
          1.373356337287798,
          1.1561028656871015,
          -0.1419436980968088,
          0.7187691549260182,
          3.0364205633719425,
          0.734284800443334,
          -0.9813275386456558,
          0.28835595613774406,
          0.2177289571851628,
          -1.5979716350858764,
          1.7533737527925104,
          2.455263171182504,
          -0.998996487354798,
          1.6647065302884583,
          0.13487899639228673,
          -0.9204221983040389,
          -0.5260204719325334,
          0.3729631855801561,
          -1.7881349756837503,
          -0.06024704765386666,
          -0.35343347656634894,
          -0.32862076542402474,
          -0.3296552300795083,
          0.7959402796708153,
          -0.2591835000266135,
          0.9291618039459419,
          2.526294058316706,
          -0.4158483633854793,
          -2.114171050587124,
          -1.5980731814780682,
          3.060158018044401,
          0.8864017834192536,
          -0.7888369809411898,
          -0.22207270455452055,
          0.2919727650947669,
          1.7298690787747741,
          -1.1907371521158825,
          -0.7481014500130333,
          -1.3126581161022361,
          0.556183164685591,
          1.3643829245990822,
          0.23609289097665742,
          -0.783866036842399,
          0.21681356368855853,
          0.5960968696295027,
          -0.04396548150781571,
          -0.8883792916898136,
          -0.2869425360225565,
          0.663551053787133,
          0.7616302112157503,
          0.2615442593539925,
          1.6195140569719841,
          0.04943547707619654,
          0.762492090412884,
          -3.0235275989995,
          -0.6972617199851123
         ],
         "yaxis": "y7"
        },
        {
         "line": {
          "color": "rgba(128, 128, 128, 1.0)",
          "dash": "solid",
          "shape": "linear",
          "width": 1.3
         },
         "marker": {
          "size": 2,
          "symbol": "circle"
         },
         "mode": "markers",
         "name": "B",
         "text": "",
         "type": "scatter",
         "x": [
          0.6192282002215885,
          0.7516634413897418,
          2.6291119930596283,
          -1.112229452178899,
          -1.218471223876959,
          0.3898577417045848,
          0.5050744413729968,
          1.5311029453343552,
          -1.7920281996444196,
          -0.8445128044351861,
          -0.6744958296736583,
          -2.228362195462207,
          0.37372523500853666,
          1.7887856543417633,
          0.2587332442071377,
          -1.2169599946828844,
          0.5892027747522933,
          -0.6410020739161971,
          0.2885432402606802,
          -0.03454125696368498,
          1.392047624735117,
          1.6330404342582534,
          -0.36982777062599115,
          -1.1044943935988925,
          0.17707233168320471,
          -0.7673975208664824,
          0.7308513958474311,
          1.2882129613239683,
          1.9276937238391547,
          -2.1845092910608113,
          0.6444536924263001,
          0.6665937444037361,
          -0.8377732695050673,
          1.0422617474084055,
          -1.2045521445781036,
          1.2678720943236752,
          -1.013087924793577,
          -0.1728395528302726,
          -0.3944252398071723,
          0.7193352674390059,
          -1.2321564012964976,
          -0.1986564692551516,
          0.6545959593733198,
          -2.1588463704159886,
          -0.7596719367631934,
          -0.4400423221706656,
          0.7065313829415042,
          -1.4504908223014932,
          -0.6561349387559162,
          1.22579257684457,
          -1.1368222351264505,
          0.7709081448107813,
          -0.05352141996538078,
          0.39204665978888587,
          -0.46811805709216725,
          -1.6616082378127675,
          1.1070200754640982,
          -0.6430701883327777,
          -0.5891948682777047,
          -0.23926298071788035,
          -0.4132449764707921,
          0.15139128080495068,
          -0.37366953005573944,
          -1.1574430045537683,
          -1.509218582881698,
          -1.2383335260629713,
          -1.2045140221112487,
          -0.538679102868873,
          0.40991392914883973,
          -0.7420839755730767,
          0.21513021517206274,
          -0.8661508144937152,
          -1.1112533780479816,
          0.8730759371895707,
          -3.3593262177645866,
          -1.4132467106977238,
          -1.944666953122912,
          0.6337870945293379,
          0.6940810642203904,
          1.3580794427153289,
          0.5497729622602447,
          -1.9994087343690035,
          -0.40559548223827147,
          -0.47692207719097135,
          0.14200909497017727,
          0.31571664112410847,
          -0.028135427586822446,
          0.0075806977970474705,
          0.08098974764692758,
          1.1506250505901732,
          -0.3415571987660383,
          -0.5079535580892626,
          0.15588531275565187,
          0.7861985971095445,
          -0.12056561649644168,
          0.7944933671890922,
          -0.956726236656994,
          1.6326065998840578,
          -0.8866144337378922,
          1.3755041411436952
         ],
         "xaxis": "x8",
         "y": [
          0.23526574448227672,
          1.168163947055222,
          0.2603253096157711,
          -1.7094688244238117,
          1.2314559187199188,
          1.6726392784566257,
          1.110882751972855,
          2.4989591704588947,
          -0.21090740427651708,
          0.6710299469446712,
          0.5112763692090437,
          -0.3007727133257675,
          -0.44789669873124577,
          -0.683971266219679,
          -0.035603974521086434,
          0.9453888391325656,
          -0.3642535594012888,
          -0.7333466976832804,
          1.2214417366538486,
          -0.41663209241617577,
          0.6251585915454666,
          0.7118831843227998,
          -0.7328897597367783,
          0.41557603199328913,
          0.09317786774577878,
          0.1935706418538896,
          0.7567493246413372,
          -0.7890825203287073,
          0.470082990361827,
          0.2988970555631342,
          0.5477894960342421,
          -0.839905415734585,
          -2.285938793357377,
          1.1672269099760322,
          0.15066291368605914,
          0.691394580518865,
          1.550852584290744,
          0.2356201953546311,
          -0.5119547775416198,
          -0.17958271427017333,
          2.4751023612296494,
          0.8485209816138845,
          -1.6716169800928415,
          1.4212479055478549,
          1.373356337287798,
          1.1561028656871015,
          -0.1419436980968088,
          0.7187691549260182,
          3.0364205633719425,
          0.734284800443334,
          -0.9813275386456558,
          0.28835595613774406,
          0.2177289571851628,
          -1.5979716350858764,
          1.7533737527925104,
          2.455263171182504,
          -0.998996487354798,
          1.6647065302884583,
          0.13487899639228673,
          -0.9204221983040389,
          -0.5260204719325334,
          0.3729631855801561,
          -1.7881349756837503,
          -0.06024704765386666,
          -0.35343347656634894,
          -0.32862076542402474,
          -0.3296552300795083,
          0.7959402796708153,
          -0.2591835000266135,
          0.9291618039459419,
          2.526294058316706,
          -0.4158483633854793,
          -2.114171050587124,
          -1.5980731814780682,
          3.060158018044401,
          0.8864017834192536,
          -0.7888369809411898,
          -0.22207270455452055,
          0.2919727650947669,
          1.7298690787747741,
          -1.1907371521158825,
          -0.7481014500130333,
          -1.3126581161022361,
          0.556183164685591,
          1.3643829245990822,
          0.23609289097665742,
          -0.783866036842399,
          0.21681356368855853,
          0.5960968696295027,
          -0.04396548150781571,
          -0.8883792916898136,
          -0.2869425360225565,
          0.663551053787133,
          0.7616302112157503,
          0.2615442593539925,
          1.6195140569719841,
          0.04943547707619654,
          0.762492090412884,
          -3.0235275989995,
          -0.6972617199851123
         ],
         "yaxis": "y8"
        },
        {
         "line": {
          "color": "rgba(128, 128, 128, 1.0)",
          "dash": "solid",
          "shape": "linear",
          "width": 1.3
         },
         "marker": {
          "size": 2,
          "symbol": "circle"
         },
         "mode": "markers",
         "name": "C",
         "text": "",
         "type": "scatter",
         "x": [
          -1.4988901786541045,
          -0.001422821726739044,
          -0.2304684055770329,
          0.23997464714259756,
          0.18192721535380907,
          0.19164720456797463,
          0.8934074803005699,
          -0.16678903578641818,
          -1.0084349560508432,
          -0.03497746442877197,
          -0.29407807175981265,
          -0.6006039772725303,
          -1.9183720589496456,
          1.1614531567992483,
          0.7099754557782095,
          0.0597482684433398,
          -0.7208573651997514,
          0.3855346391785886,
          -0.6452196773049834,
          -0.976381166476433,
          0.6594618598235175,
          1.5365704381442875,
          -0.8503296300579475,
          -0.6817453467007452,
          -0.9463322508133754,
          -0.19411061226880635,
          0.7592740048310302,
          -1.1926747622253955,
          1.400547023742745,
          -0.01495067745602767,
          -1.7115247300904346,
          -0.36124821109843847,
          -0.9945764316187472,
          -0.02174742702343883,
          0.4271204474826363,
          2.0458262738449973,
          0.38003902187660327,
          0.12799810814049276,
          -1.114003422680656,
          -0.06648643302860642,
          -0.9862118908244232,
          0.2492347168731393,
          0.17820277695620237,
          -0.7387340723009684,
          -0.31798405254195145,
          0.9524360693241468,
          0.9861659791518401,
          0.7148700640697296,
          -0.22592732878489613,
          2.3080279320676045,
          0.787929315365375,
          -0.48486969233250055,
          0.4027834014210285,
          1.4822702738530436,
          1.3038659671232047,
          -0.6523787149594126,
          -0.020653413306827302,
          1.27795507641576,
          0.9017516859560875,
          0.3656487115665125,
          -0.17128934489835104,
          0.6007005503795194,
          0.3206977385185198,
          -1.6303945368009163,
          0.6030078809689943,
          -0.6207387600421282,
          0.9288566443524915,
          1.003041834488083,
          0.6555148863499219,
          1.8369810188217182,
          -1.1342616020404406,
          -0.03959247097223943,
          0.27889716160290184,
          0.5964316283866732,
          -0.36252227062175946,
          -0.34907991775801606,
          -0.7457953929282686,
          -0.025432745061922953,
          -1.9507489350848062,
          -1.041117167054891,
          0.22955684614254096,
          -0.7594240891624068,
          -0.26728306802932256,
          -0.5574003405662921,
          -0.5552647869514891,
          -0.27986732142818244,
          -0.3176914326608163,
          1.1045692759785846,
          -1.1308518489324335,
          -0.3919640656418023,
          -1.0287786375678944,
          -0.5389389032984023,
          1.5990545052027803,
          -0.9840034230949485,
          0.9466879685336848,
          -0.2562696339386158,
          -0.4170640840563133,
          -0.7355380779682636,
          0.7659323423522455,
          -0.2871147614324862
         ],
         "xaxis": "x9",
         "y": [
          -0.6721054830618163,
          0.04155124736259395,
          0.7692227448681659,
          1.2018543046190742,
          -1.3895799534825057,
          -0.13986742515460016,
          0.20680584971717506,
          -1.2375755209975055,
          0.2748276280206249,
          -0.9321398412097541,
          0.13094629693961418,
          0.5486985863756676,
          -1.9886073067653744,
          0.1377455666610931,
          1.453981498965094,
          -1.1636735569946803,
          -0.6381256018220831,
          0.24016156194284022,
          -0.10703017970101508,
          0.16433225410440552,
          0.8531079898217108,
          1.6121552354073403,
          0.6752632364620416,
          0.42470164228165075,
          0.8419872410410988,
          0.2027351375903432,
          -1.3398091831197878,
          0.6980975776663457,
          -1.5977507860270195,
          2.0156066648331064,
          0.1894203169898418,
          -1.262191998452755,
          0.2421426433968026,
          0.8894250373970279,
          -1.2747913284971648,
          -1.2214202094176518,
          0.492344745944777,
          -0.0005811540557410889,
          0.2651774197952579,
          -1.7138206058548793,
          0.9358135995670254,
          0.13575129717698095,
          -0.766123378667851,
          -1.3900404553640864,
          1.0520155069593347,
          0.8881391602820637,
          0.3228724111252909,
          1.2640701130622274,
          1.0123932381650467,
          -0.48498439499425805,
          -0.3695252941463228,
          -0.4177107301373769,
          -0.3632625423585063,
          -2.0473737075168965,
          -0.969514659884145,
          -1.009087218129252,
          0.5557092264085043,
          0.04324906215682579,
          0.1580912743653798,
          -1.2735162466467338,
          -3.2427099683814293,
          -0.7940960806105345,
          1.8485957694095079,
          1.240587131176431,
          1.607574353631272,
          0.9673253953080366,
          0.6194483749879988,
          -0.3326426058262767,
          0.06435808504729362,
          -1.9251762616167312,
          1.3987969071993855,
          -0.25397463387421776,
          1.1682073059162448,
          -1.7644476573328416,
          0.7327323173813448,
          0.9947355849774328,
          0.5453518341795917,
          1.19080558599387,
          1.2093897545788723,
          0.6706625192394372,
          -1.6457577450899186,
          0.7985572506119272,
          0.844699713555325,
          3.1313601284169064,
          -1.8121698719347574,
          0.8210069022416058,
          -0.6197824971970205,
          -0.26608675431992823,
          1.0968910955996245,
          -0.15649991655276047,
          -1.1543940361329577,
          -2.041746319215282,
          1.004924176818934,
          -0.5377172116680294,
          0.6024246724870307,
          1.2352666198746274,
          -0.6105721742972088,
          -0.11960291524138328,
          -0.14565417326896715,
          1.5968344449979148
         ],
         "yaxis": "y9"
        },
        {
         "line": {
          "color": "rgba(128, 128, 128, 1.0)",
          "dash": "solid",
          "shape": "linear",
          "width": 1.3
         },
         "marker": {
          "size": 2,
          "symbol": "circle"
         },
         "mode": "markers",
         "name": "C",
         "text": "",
         "type": "scatter",
         "x": [
          0.23526574448227672,
          1.168163947055222,
          0.2603253096157711,
          -1.7094688244238117,
          1.2314559187199188,
          1.6726392784566257,
          1.110882751972855,
          2.4989591704588947,
          -0.21090740427651708,
          0.6710299469446712,
          0.5112763692090437,
          -0.3007727133257675,
          -0.44789669873124577,
          -0.683971266219679,
          -0.035603974521086434,
          0.9453888391325656,
          -0.3642535594012888,
          -0.7333466976832804,
          1.2214417366538486,
          -0.41663209241617577,
          0.6251585915454666,
          0.7118831843227998,
          -0.7328897597367783,
          0.41557603199328913,
          0.09317786774577878,
          0.1935706418538896,
          0.7567493246413372,
          -0.7890825203287073,
          0.470082990361827,
          0.2988970555631342,
          0.5477894960342421,
          -0.839905415734585,
          -2.285938793357377,
          1.1672269099760322,
          0.15066291368605914,
          0.691394580518865,
          1.550852584290744,
          0.2356201953546311,
          -0.5119547775416198,
          -0.17958271427017333,
          2.4751023612296494,
          0.8485209816138845,
          -1.6716169800928415,
          1.4212479055478549,
          1.373356337287798,
          1.1561028656871015,
          -0.1419436980968088,
          0.7187691549260182,
          3.0364205633719425,
          0.734284800443334,
          -0.9813275386456558,
          0.28835595613774406,
          0.2177289571851628,
          -1.5979716350858764,
          1.7533737527925104,
          2.455263171182504,
          -0.998996487354798,
          1.6647065302884583,
          0.13487899639228673,
          -0.9204221983040389,
          -0.5260204719325334,
          0.3729631855801561,
          -1.7881349756837503,
          -0.06024704765386666,
          -0.35343347656634894,
          -0.32862076542402474,
          -0.3296552300795083,
          0.7959402796708153,
          -0.2591835000266135,
          0.9291618039459419,
          2.526294058316706,
          -0.4158483633854793,
          -2.114171050587124,
          -1.5980731814780682,
          3.060158018044401,
          0.8864017834192536,
          -0.7888369809411898,
          -0.22207270455452055,
          0.2919727650947669,
          1.7298690787747741,
          -1.1907371521158825,
          -0.7481014500130333,
          -1.3126581161022361,
          0.556183164685591,
          1.3643829245990822,
          0.23609289097665742,
          -0.783866036842399,
          0.21681356368855853,
          0.5960968696295027,
          -0.04396548150781571,
          -0.8883792916898136,
          -0.2869425360225565,
          0.663551053787133,
          0.7616302112157503,
          0.2615442593539925,
          1.6195140569719841,
          0.04943547707619654,
          0.762492090412884,
          -3.0235275989995,
          -0.6972617199851123
         ],
         "xaxis": "x10",
         "y": [
          -0.6721054830618163,
          0.04155124736259395,
          0.7692227448681659,
          1.2018543046190742,
          -1.3895799534825057,
          -0.13986742515460016,
          0.20680584971717506,
          -1.2375755209975055,
          0.2748276280206249,
          -0.9321398412097541,
          0.13094629693961418,
          0.5486985863756676,
          -1.9886073067653744,
          0.1377455666610931,
          1.453981498965094,
          -1.1636735569946803,
          -0.6381256018220831,
          0.24016156194284022,
          -0.10703017970101508,
          0.16433225410440552,
          0.8531079898217108,
          1.6121552354073403,
          0.6752632364620416,
          0.42470164228165075,
          0.8419872410410988,
          0.2027351375903432,
          -1.3398091831197878,
          0.6980975776663457,
          -1.5977507860270195,
          2.0156066648331064,
          0.1894203169898418,
          -1.262191998452755,
          0.2421426433968026,
          0.8894250373970279,
          -1.2747913284971648,
          -1.2214202094176518,
          0.492344745944777,
          -0.0005811540557410889,
          0.2651774197952579,
          -1.7138206058548793,
          0.9358135995670254,
          0.13575129717698095,
          -0.766123378667851,
          -1.3900404553640864,
          1.0520155069593347,
          0.8881391602820637,
          0.3228724111252909,
          1.2640701130622274,
          1.0123932381650467,
          -0.48498439499425805,
          -0.3695252941463228,
          -0.4177107301373769,
          -0.3632625423585063,
          -2.0473737075168965,
          -0.969514659884145,
          -1.009087218129252,
          0.5557092264085043,
          0.04324906215682579,
          0.1580912743653798,
          -1.2735162466467338,
          -3.2427099683814293,
          -0.7940960806105345,
          1.8485957694095079,
          1.240587131176431,
          1.607574353631272,
          0.9673253953080366,
          0.6194483749879988,
          -0.3326426058262767,
          0.06435808504729362,
          -1.9251762616167312,
          1.3987969071993855,
          -0.25397463387421776,
          1.1682073059162448,
          -1.7644476573328416,
          0.7327323173813448,
          0.9947355849774328,
          0.5453518341795917,
          1.19080558599387,
          1.2093897545788723,
          0.6706625192394372,
          -1.6457577450899186,
          0.7985572506119272,
          0.844699713555325,
          3.1313601284169064,
          -1.8121698719347574,
          0.8210069022416058,
          -0.6197824971970205,
          -0.26608675431992823,
          1.0968910955996245,
          -0.15649991655276047,
          -1.1543940361329577,
          -2.041746319215282,
          1.004924176818934,
          -0.5377172116680294,
          0.6024246724870307,
          1.2352666198746274,
          -0.6105721742972088,
          -0.11960291524138328,
          -0.14565417326896715,
          1.5968344449979148
         ],
         "yaxis": "y10"
        },
        {
         "histfunc": "count",
         "histnorm": "",
         "marker": {
          "color": "rgba(50, 171, 96, 1.0)",
          "line": {
           "color": "#4D5663",
           "width": 1.3
          }
         },
         "name": "C",
         "nbinsx": 10,
         "opacity": 0.8,
         "orientation": "v",
         "type": "histogram",
         "x": [
          -0.6721054830618163,
          0.04155124736259395,
          0.7692227448681659,
          1.2018543046190742,
          -1.3895799534825057,
          -0.13986742515460016,
          0.20680584971717506,
          -1.2375755209975055,
          0.2748276280206249,
          -0.9321398412097541,
          0.13094629693961418,
          0.5486985863756676,
          -1.9886073067653744,
          0.1377455666610931,
          1.453981498965094,
          -1.1636735569946803,
          -0.6381256018220831,
          0.24016156194284022,
          -0.10703017970101508,
          0.16433225410440552,
          0.8531079898217108,
          1.6121552354073403,
          0.6752632364620416,
          0.42470164228165075,
          0.8419872410410988,
          0.2027351375903432,
          -1.3398091831197878,
          0.6980975776663457,
          -1.5977507860270195,
          2.0156066648331064,
          0.1894203169898418,
          -1.262191998452755,
          0.2421426433968026,
          0.8894250373970279,
          -1.2747913284971648,
          -1.2214202094176518,
          0.492344745944777,
          -0.0005811540557410889,
          0.2651774197952579,
          -1.7138206058548793,
          0.9358135995670254,
          0.13575129717698095,
          -0.766123378667851,
          -1.3900404553640864,
          1.0520155069593347,
          0.8881391602820637,
          0.3228724111252909,
          1.2640701130622274,
          1.0123932381650467,
          -0.48498439499425805,
          -0.3695252941463228,
          -0.4177107301373769,
          -0.3632625423585063,
          -2.0473737075168965,
          -0.969514659884145,
          -1.009087218129252,
          0.5557092264085043,
          0.04324906215682579,
          0.1580912743653798,
          -1.2735162466467338,
          -3.2427099683814293,
          -0.7940960806105345,
          1.8485957694095079,
          1.240587131176431,
          1.607574353631272,
          0.9673253953080366,
          0.6194483749879988,
          -0.3326426058262767,
          0.06435808504729362,
          -1.9251762616167312,
          1.3987969071993855,
          -0.25397463387421776,
          1.1682073059162448,
          -1.7644476573328416,
          0.7327323173813448,
          0.9947355849774328,
          0.5453518341795917,
          1.19080558599387,
          1.2093897545788723,
          0.6706625192394372,
          -1.6457577450899186,
          0.7985572506119272,
          0.844699713555325,
          3.1313601284169064,
          -1.8121698719347574,
          0.8210069022416058,
          -0.6197824971970205,
          -0.26608675431992823,
          1.0968910955996245,
          -0.15649991655276047,
          -1.1543940361329577,
          -2.041746319215282,
          1.004924176818934,
          -0.5377172116680294,
          0.6024246724870307,
          1.2352666198746274,
          -0.6105721742972088,
          -0.11960291524138328,
          -0.14565417326896715,
          1.5968344449979148
         ],
         "xaxis": "x11",
         "yaxis": "y11"
        },
        {
         "line": {
          "color": "rgba(128, 128, 128, 1.0)",
          "dash": "solid",
          "shape": "linear",
          "width": 1.3
         },
         "marker": {
          "size": 2,
          "symbol": "circle"
         },
         "mode": "markers",
         "name": "C",
         "text": "",
         "type": "scatter",
         "x": [
          0.6192282002215885,
          0.7516634413897418,
          2.6291119930596283,
          -1.112229452178899,
          -1.218471223876959,
          0.3898577417045848,
          0.5050744413729968,
          1.5311029453343552,
          -1.7920281996444196,
          -0.8445128044351861,
          -0.6744958296736583,
          -2.228362195462207,
          0.37372523500853666,
          1.7887856543417633,
          0.2587332442071377,
          -1.2169599946828844,
          0.5892027747522933,
          -0.6410020739161971,
          0.2885432402606802,
          -0.03454125696368498,
          1.392047624735117,
          1.6330404342582534,
          -0.36982777062599115,
          -1.1044943935988925,
          0.17707233168320471,
          -0.7673975208664824,
          0.7308513958474311,
          1.2882129613239683,
          1.9276937238391547,
          -2.1845092910608113,
          0.6444536924263001,
          0.6665937444037361,
          -0.8377732695050673,
          1.0422617474084055,
          -1.2045521445781036,
          1.2678720943236752,
          -1.013087924793577,
          -0.1728395528302726,
          -0.3944252398071723,
          0.7193352674390059,
          -1.2321564012964976,
          -0.1986564692551516,
          0.6545959593733198,
          -2.1588463704159886,
          -0.7596719367631934,
          -0.4400423221706656,
          0.7065313829415042,
          -1.4504908223014932,
          -0.6561349387559162,
          1.22579257684457,
          -1.1368222351264505,
          0.7709081448107813,
          -0.05352141996538078,
          0.39204665978888587,
          -0.46811805709216725,
          -1.6616082378127675,
          1.1070200754640982,
          -0.6430701883327777,
          -0.5891948682777047,
          -0.23926298071788035,
          -0.4132449764707921,
          0.15139128080495068,
          -0.37366953005573944,
          -1.1574430045537683,
          -1.509218582881698,
          -1.2383335260629713,
          -1.2045140221112487,
          -0.538679102868873,
          0.40991392914883973,
          -0.7420839755730767,
          0.21513021517206274,
          -0.8661508144937152,
          -1.1112533780479816,
          0.8730759371895707,
          -3.3593262177645866,
          -1.4132467106977238,
          -1.944666953122912,
          0.6337870945293379,
          0.6940810642203904,
          1.3580794427153289,
          0.5497729622602447,
          -1.9994087343690035,
          -0.40559548223827147,
          -0.47692207719097135,
          0.14200909497017727,
          0.31571664112410847,
          -0.028135427586822446,
          0.0075806977970474705,
          0.08098974764692758,
          1.1506250505901732,
          -0.3415571987660383,
          -0.5079535580892626,
          0.15588531275565187,
          0.7861985971095445,
          -0.12056561649644168,
          0.7944933671890922,
          -0.956726236656994,
          1.6326065998840578,
          -0.8866144337378922,
          1.3755041411436952
         ],
         "xaxis": "x12",
         "y": [
          -0.6721054830618163,
          0.04155124736259395,
          0.7692227448681659,
          1.2018543046190742,
          -1.3895799534825057,
          -0.13986742515460016,
          0.20680584971717506,
          -1.2375755209975055,
          0.2748276280206249,
          -0.9321398412097541,
          0.13094629693961418,
          0.5486985863756676,
          -1.9886073067653744,
          0.1377455666610931,
          1.453981498965094,
          -1.1636735569946803,
          -0.6381256018220831,
          0.24016156194284022,
          -0.10703017970101508,
          0.16433225410440552,
          0.8531079898217108,
          1.6121552354073403,
          0.6752632364620416,
          0.42470164228165075,
          0.8419872410410988,
          0.2027351375903432,
          -1.3398091831197878,
          0.6980975776663457,
          -1.5977507860270195,
          2.0156066648331064,
          0.1894203169898418,
          -1.262191998452755,
          0.2421426433968026,
          0.8894250373970279,
          -1.2747913284971648,
          -1.2214202094176518,
          0.492344745944777,
          -0.0005811540557410889,
          0.2651774197952579,
          -1.7138206058548793,
          0.9358135995670254,
          0.13575129717698095,
          -0.766123378667851,
          -1.3900404553640864,
          1.0520155069593347,
          0.8881391602820637,
          0.3228724111252909,
          1.2640701130622274,
          1.0123932381650467,
          -0.48498439499425805,
          -0.3695252941463228,
          -0.4177107301373769,
          -0.3632625423585063,
          -2.0473737075168965,
          -0.969514659884145,
          -1.009087218129252,
          0.5557092264085043,
          0.04324906215682579,
          0.1580912743653798,
          -1.2735162466467338,
          -3.2427099683814293,
          -0.7940960806105345,
          1.8485957694095079,
          1.240587131176431,
          1.607574353631272,
          0.9673253953080366,
          0.6194483749879988,
          -0.3326426058262767,
          0.06435808504729362,
          -1.9251762616167312,
          1.3987969071993855,
          -0.25397463387421776,
          1.1682073059162448,
          -1.7644476573328416,
          0.7327323173813448,
          0.9947355849774328,
          0.5453518341795917,
          1.19080558599387,
          1.2093897545788723,
          0.6706625192394372,
          -1.6457577450899186,
          0.7985572506119272,
          0.844699713555325,
          3.1313601284169064,
          -1.8121698719347574,
          0.8210069022416058,
          -0.6197824971970205,
          -0.26608675431992823,
          1.0968910955996245,
          -0.15649991655276047,
          -1.1543940361329577,
          -2.041746319215282,
          1.004924176818934,
          -0.5377172116680294,
          0.6024246724870307,
          1.2352666198746274,
          -0.6105721742972088,
          -0.11960291524138328,
          -0.14565417326896715,
          1.5968344449979148
         ],
         "yaxis": "y12"
        },
        {
         "line": {
          "color": "rgba(128, 128, 128, 1.0)",
          "dash": "solid",
          "shape": "linear",
          "width": 1.3
         },
         "marker": {
          "size": 2,
          "symbol": "circle"
         },
         "mode": "markers",
         "name": "D",
         "text": "",
         "type": "scatter",
         "x": [
          -1.4988901786541045,
          -0.001422821726739044,
          -0.2304684055770329,
          0.23997464714259756,
          0.18192721535380907,
          0.19164720456797463,
          0.8934074803005699,
          -0.16678903578641818,
          -1.0084349560508432,
          -0.03497746442877197,
          -0.29407807175981265,
          -0.6006039772725303,
          -1.9183720589496456,
          1.1614531567992483,
          0.7099754557782095,
          0.0597482684433398,
          -0.7208573651997514,
          0.3855346391785886,
          -0.6452196773049834,
          -0.976381166476433,
          0.6594618598235175,
          1.5365704381442875,
          -0.8503296300579475,
          -0.6817453467007452,
          -0.9463322508133754,
          -0.19411061226880635,
          0.7592740048310302,
          -1.1926747622253955,
          1.400547023742745,
          -0.01495067745602767,
          -1.7115247300904346,
          -0.36124821109843847,
          -0.9945764316187472,
          -0.02174742702343883,
          0.4271204474826363,
          2.0458262738449973,
          0.38003902187660327,
          0.12799810814049276,
          -1.114003422680656,
          -0.06648643302860642,
          -0.9862118908244232,
          0.2492347168731393,
          0.17820277695620237,
          -0.7387340723009684,
          -0.31798405254195145,
          0.9524360693241468,
          0.9861659791518401,
          0.7148700640697296,
          -0.22592732878489613,
          2.3080279320676045,
          0.787929315365375,
          -0.48486969233250055,
          0.4027834014210285,
          1.4822702738530436,
          1.3038659671232047,
          -0.6523787149594126,
          -0.020653413306827302,
          1.27795507641576,
          0.9017516859560875,
          0.3656487115665125,
          -0.17128934489835104,
          0.6007005503795194,
          0.3206977385185198,
          -1.6303945368009163,
          0.6030078809689943,
          -0.6207387600421282,
          0.9288566443524915,
          1.003041834488083,
          0.6555148863499219,
          1.8369810188217182,
          -1.1342616020404406,
          -0.03959247097223943,
          0.27889716160290184,
          0.5964316283866732,
          -0.36252227062175946,
          -0.34907991775801606,
          -0.7457953929282686,
          -0.025432745061922953,
          -1.9507489350848062,
          -1.041117167054891,
          0.22955684614254096,
          -0.7594240891624068,
          -0.26728306802932256,
          -0.5574003405662921,
          -0.5552647869514891,
          -0.27986732142818244,
          -0.3176914326608163,
          1.1045692759785846,
          -1.1308518489324335,
          -0.3919640656418023,
          -1.0287786375678944,
          -0.5389389032984023,
          1.5990545052027803,
          -0.9840034230949485,
          0.9466879685336848,
          -0.2562696339386158,
          -0.4170640840563133,
          -0.7355380779682636,
          0.7659323423522455,
          -0.2871147614324862
         ],
         "xaxis": "x13",
         "y": [
          0.6192282002215885,
          0.7516634413897418,
          2.6291119930596283,
          -1.112229452178899,
          -1.218471223876959,
          0.3898577417045848,
          0.5050744413729968,
          1.5311029453343552,
          -1.7920281996444196,
          -0.8445128044351861,
          -0.6744958296736583,
          -2.228362195462207,
          0.37372523500853666,
          1.7887856543417633,
          0.2587332442071377,
          -1.2169599946828844,
          0.5892027747522933,
          -0.6410020739161971,
          0.2885432402606802,
          -0.03454125696368498,
          1.392047624735117,
          1.6330404342582534,
          -0.36982777062599115,
          -1.1044943935988925,
          0.17707233168320471,
          -0.7673975208664824,
          0.7308513958474311,
          1.2882129613239683,
          1.9276937238391547,
          -2.1845092910608113,
          0.6444536924263001,
          0.6665937444037361,
          -0.8377732695050673,
          1.0422617474084055,
          -1.2045521445781036,
          1.2678720943236752,
          -1.013087924793577,
          -0.1728395528302726,
          -0.3944252398071723,
          0.7193352674390059,
          -1.2321564012964976,
          -0.1986564692551516,
          0.6545959593733198,
          -2.1588463704159886,
          -0.7596719367631934,
          -0.4400423221706656,
          0.7065313829415042,
          -1.4504908223014932,
          -0.6561349387559162,
          1.22579257684457,
          -1.1368222351264505,
          0.7709081448107813,
          -0.05352141996538078,
          0.39204665978888587,
          -0.46811805709216725,
          -1.6616082378127675,
          1.1070200754640982,
          -0.6430701883327777,
          -0.5891948682777047,
          -0.23926298071788035,
          -0.4132449764707921,
          0.15139128080495068,
          -0.37366953005573944,
          -1.1574430045537683,
          -1.509218582881698,
          -1.2383335260629713,
          -1.2045140221112487,
          -0.538679102868873,
          0.40991392914883973,
          -0.7420839755730767,
          0.21513021517206274,
          -0.8661508144937152,
          -1.1112533780479816,
          0.8730759371895707,
          -3.3593262177645866,
          -1.4132467106977238,
          -1.944666953122912,
          0.6337870945293379,
          0.6940810642203904,
          1.3580794427153289,
          0.5497729622602447,
          -1.9994087343690035,
          -0.40559548223827147,
          -0.47692207719097135,
          0.14200909497017727,
          0.31571664112410847,
          -0.028135427586822446,
          0.0075806977970474705,
          0.08098974764692758,
          1.1506250505901732,
          -0.3415571987660383,
          -0.5079535580892626,
          0.15588531275565187,
          0.7861985971095445,
          -0.12056561649644168,
          0.7944933671890922,
          -0.956726236656994,
          1.6326065998840578,
          -0.8866144337378922,
          1.3755041411436952
         ],
         "yaxis": "y13"
        },
        {
         "line": {
          "color": "rgba(128, 128, 128, 1.0)",
          "dash": "solid",
          "shape": "linear",
          "width": 1.3
         },
         "marker": {
          "size": 2,
          "symbol": "circle"
         },
         "mode": "markers",
         "name": "D",
         "text": "",
         "type": "scatter",
         "x": [
          0.23526574448227672,
          1.168163947055222,
          0.2603253096157711,
          -1.7094688244238117,
          1.2314559187199188,
          1.6726392784566257,
          1.110882751972855,
          2.4989591704588947,
          -0.21090740427651708,
          0.6710299469446712,
          0.5112763692090437,
          -0.3007727133257675,
          -0.44789669873124577,
          -0.683971266219679,
          -0.035603974521086434,
          0.9453888391325656,
          -0.3642535594012888,
          -0.7333466976832804,
          1.2214417366538486,
          -0.41663209241617577,
          0.6251585915454666,
          0.7118831843227998,
          -0.7328897597367783,
          0.41557603199328913,
          0.09317786774577878,
          0.1935706418538896,
          0.7567493246413372,
          -0.7890825203287073,
          0.470082990361827,
          0.2988970555631342,
          0.5477894960342421,
          -0.839905415734585,
          -2.285938793357377,
          1.1672269099760322,
          0.15066291368605914,
          0.691394580518865,
          1.550852584290744,
          0.2356201953546311,
          -0.5119547775416198,
          -0.17958271427017333,
          2.4751023612296494,
          0.8485209816138845,
          -1.6716169800928415,
          1.4212479055478549,
          1.373356337287798,
          1.1561028656871015,
          -0.1419436980968088,
          0.7187691549260182,
          3.0364205633719425,
          0.734284800443334,
          -0.9813275386456558,
          0.28835595613774406,
          0.2177289571851628,
          -1.5979716350858764,
          1.7533737527925104,
          2.455263171182504,
          -0.998996487354798,
          1.6647065302884583,
          0.13487899639228673,
          -0.9204221983040389,
          -0.5260204719325334,
          0.3729631855801561,
          -1.7881349756837503,
          -0.06024704765386666,
          -0.35343347656634894,
          -0.32862076542402474,
          -0.3296552300795083,
          0.7959402796708153,
          -0.2591835000266135,
          0.9291618039459419,
          2.526294058316706,
          -0.4158483633854793,
          -2.114171050587124,
          -1.5980731814780682,
          3.060158018044401,
          0.8864017834192536,
          -0.7888369809411898,
          -0.22207270455452055,
          0.2919727650947669,
          1.7298690787747741,
          -1.1907371521158825,
          -0.7481014500130333,
          -1.3126581161022361,
          0.556183164685591,
          1.3643829245990822,
          0.23609289097665742,
          -0.783866036842399,
          0.21681356368855853,
          0.5960968696295027,
          -0.04396548150781571,
          -0.8883792916898136,
          -0.2869425360225565,
          0.663551053787133,
          0.7616302112157503,
          0.2615442593539925,
          1.6195140569719841,
          0.04943547707619654,
          0.762492090412884,
          -3.0235275989995,
          -0.6972617199851123
         ],
         "xaxis": "x14",
         "y": [
          0.6192282002215885,
          0.7516634413897418,
          2.6291119930596283,
          -1.112229452178899,
          -1.218471223876959,
          0.3898577417045848,
          0.5050744413729968,
          1.5311029453343552,
          -1.7920281996444196,
          -0.8445128044351861,
          -0.6744958296736583,
          -2.228362195462207,
          0.37372523500853666,
          1.7887856543417633,
          0.2587332442071377,
          -1.2169599946828844,
          0.5892027747522933,
          -0.6410020739161971,
          0.2885432402606802,
          -0.03454125696368498,
          1.392047624735117,
          1.6330404342582534,
          -0.36982777062599115,
          -1.1044943935988925,
          0.17707233168320471,
          -0.7673975208664824,
          0.7308513958474311,
          1.2882129613239683,
          1.9276937238391547,
          -2.1845092910608113,
          0.6444536924263001,
          0.6665937444037361,
          -0.8377732695050673,
          1.0422617474084055,
          -1.2045521445781036,
          1.2678720943236752,
          -1.013087924793577,
          -0.1728395528302726,
          -0.3944252398071723,
          0.7193352674390059,
          -1.2321564012964976,
          -0.1986564692551516,
          0.6545959593733198,
          -2.1588463704159886,
          -0.7596719367631934,
          -0.4400423221706656,
          0.7065313829415042,
          -1.4504908223014932,
          -0.6561349387559162,
          1.22579257684457,
          -1.1368222351264505,
          0.7709081448107813,
          -0.05352141996538078,
          0.39204665978888587,
          -0.46811805709216725,
          -1.6616082378127675,
          1.1070200754640982,
          -0.6430701883327777,
          -0.5891948682777047,
          -0.23926298071788035,
          -0.4132449764707921,
          0.15139128080495068,
          -0.37366953005573944,
          -1.1574430045537683,
          -1.509218582881698,
          -1.2383335260629713,
          -1.2045140221112487,
          -0.538679102868873,
          0.40991392914883973,
          -0.7420839755730767,
          0.21513021517206274,
          -0.8661508144937152,
          -1.1112533780479816,
          0.8730759371895707,
          -3.3593262177645866,
          -1.4132467106977238,
          -1.944666953122912,
          0.6337870945293379,
          0.6940810642203904,
          1.3580794427153289,
          0.5497729622602447,
          -1.9994087343690035,
          -0.40559548223827147,
          -0.47692207719097135,
          0.14200909497017727,
          0.31571664112410847,
          -0.028135427586822446,
          0.0075806977970474705,
          0.08098974764692758,
          1.1506250505901732,
          -0.3415571987660383,
          -0.5079535580892626,
          0.15588531275565187,
          0.7861985971095445,
          -0.12056561649644168,
          0.7944933671890922,
          -0.956726236656994,
          1.6326065998840578,
          -0.8866144337378922,
          1.3755041411436952
         ],
         "yaxis": "y14"
        },
        {
         "line": {
          "color": "rgba(128, 128, 128, 1.0)",
          "dash": "solid",
          "shape": "linear",
          "width": 1.3
         },
         "marker": {
          "size": 2,
          "symbol": "circle"
         },
         "mode": "markers",
         "name": "D",
         "text": "",
         "type": "scatter",
         "x": [
          -0.6721054830618163,
          0.04155124736259395,
          0.7692227448681659,
          1.2018543046190742,
          -1.3895799534825057,
          -0.13986742515460016,
          0.20680584971717506,
          -1.2375755209975055,
          0.2748276280206249,
          -0.9321398412097541,
          0.13094629693961418,
          0.5486985863756676,
          -1.9886073067653744,
          0.1377455666610931,
          1.453981498965094,
          -1.1636735569946803,
          -0.6381256018220831,
          0.24016156194284022,
          -0.10703017970101508,
          0.16433225410440552,
          0.8531079898217108,
          1.6121552354073403,
          0.6752632364620416,
          0.42470164228165075,
          0.8419872410410988,
          0.2027351375903432,
          -1.3398091831197878,
          0.6980975776663457,
          -1.5977507860270195,
          2.0156066648331064,
          0.1894203169898418,
          -1.262191998452755,
          0.2421426433968026,
          0.8894250373970279,
          -1.2747913284971648,
          -1.2214202094176518,
          0.492344745944777,
          -0.0005811540557410889,
          0.2651774197952579,
          -1.7138206058548793,
          0.9358135995670254,
          0.13575129717698095,
          -0.766123378667851,
          -1.3900404553640864,
          1.0520155069593347,
          0.8881391602820637,
          0.3228724111252909,
          1.2640701130622274,
          1.0123932381650467,
          -0.48498439499425805,
          -0.3695252941463228,
          -0.4177107301373769,
          -0.3632625423585063,
          -2.0473737075168965,
          -0.969514659884145,
          -1.009087218129252,
          0.5557092264085043,
          0.04324906215682579,
          0.1580912743653798,
          -1.2735162466467338,
          -3.2427099683814293,
          -0.7940960806105345,
          1.8485957694095079,
          1.240587131176431,
          1.607574353631272,
          0.9673253953080366,
          0.6194483749879988,
          -0.3326426058262767,
          0.06435808504729362,
          -1.9251762616167312,
          1.3987969071993855,
          -0.25397463387421776,
          1.1682073059162448,
          -1.7644476573328416,
          0.7327323173813448,
          0.9947355849774328,
          0.5453518341795917,
          1.19080558599387,
          1.2093897545788723,
          0.6706625192394372,
          -1.6457577450899186,
          0.7985572506119272,
          0.844699713555325,
          3.1313601284169064,
          -1.8121698719347574,
          0.8210069022416058,
          -0.6197824971970205,
          -0.26608675431992823,
          1.0968910955996245,
          -0.15649991655276047,
          -1.1543940361329577,
          -2.041746319215282,
          1.004924176818934,
          -0.5377172116680294,
          0.6024246724870307,
          1.2352666198746274,
          -0.6105721742972088,
          -0.11960291524138328,
          -0.14565417326896715,
          1.5968344449979148
         ],
         "xaxis": "x15",
         "y": [
          0.6192282002215885,
          0.7516634413897418,
          2.6291119930596283,
          -1.112229452178899,
          -1.218471223876959,
          0.3898577417045848,
          0.5050744413729968,
          1.5311029453343552,
          -1.7920281996444196,
          -0.8445128044351861,
          -0.6744958296736583,
          -2.228362195462207,
          0.37372523500853666,
          1.7887856543417633,
          0.2587332442071377,
          -1.2169599946828844,
          0.5892027747522933,
          -0.6410020739161971,
          0.2885432402606802,
          -0.03454125696368498,
          1.392047624735117,
          1.6330404342582534,
          -0.36982777062599115,
          -1.1044943935988925,
          0.17707233168320471,
          -0.7673975208664824,
          0.7308513958474311,
          1.2882129613239683,
          1.9276937238391547,
          -2.1845092910608113,
          0.6444536924263001,
          0.6665937444037361,
          -0.8377732695050673,
          1.0422617474084055,
          -1.2045521445781036,
          1.2678720943236752,
          -1.013087924793577,
          -0.1728395528302726,
          -0.3944252398071723,
          0.7193352674390059,
          -1.2321564012964976,
          -0.1986564692551516,
          0.6545959593733198,
          -2.1588463704159886,
          -0.7596719367631934,
          -0.4400423221706656,
          0.7065313829415042,
          -1.4504908223014932,
          -0.6561349387559162,
          1.22579257684457,
          -1.1368222351264505,
          0.7709081448107813,
          -0.05352141996538078,
          0.39204665978888587,
          -0.46811805709216725,
          -1.6616082378127675,
          1.1070200754640982,
          -0.6430701883327777,
          -0.5891948682777047,
          -0.23926298071788035,
          -0.4132449764707921,
          0.15139128080495068,
          -0.37366953005573944,
          -1.1574430045537683,
          -1.509218582881698,
          -1.2383335260629713,
          -1.2045140221112487,
          -0.538679102868873,
          0.40991392914883973,
          -0.7420839755730767,
          0.21513021517206274,
          -0.8661508144937152,
          -1.1112533780479816,
          0.8730759371895707,
          -3.3593262177645866,
          -1.4132467106977238,
          -1.944666953122912,
          0.6337870945293379,
          0.6940810642203904,
          1.3580794427153289,
          0.5497729622602447,
          -1.9994087343690035,
          -0.40559548223827147,
          -0.47692207719097135,
          0.14200909497017727,
          0.31571664112410847,
          -0.028135427586822446,
          0.0075806977970474705,
          0.08098974764692758,
          1.1506250505901732,
          -0.3415571987660383,
          -0.5079535580892626,
          0.15588531275565187,
          0.7861985971095445,
          -0.12056561649644168,
          0.7944933671890922,
          -0.956726236656994,
          1.6326065998840578,
          -0.8866144337378922,
          1.3755041411436952
         ],
         "yaxis": "y15"
        },
        {
         "histfunc": "count",
         "histnorm": "",
         "marker": {
          "color": "rgba(128, 0, 128, 1.0)",
          "line": {
           "color": "#4D5663",
           "width": 1.3
          }
         },
         "name": "D",
         "nbinsx": 10,
         "opacity": 0.8,
         "orientation": "v",
         "type": "histogram",
         "x": [
          0.6192282002215885,
          0.7516634413897418,
          2.6291119930596283,
          -1.112229452178899,
          -1.218471223876959,
          0.3898577417045848,
          0.5050744413729968,
          1.5311029453343552,
          -1.7920281996444196,
          -0.8445128044351861,
          -0.6744958296736583,
          -2.228362195462207,
          0.37372523500853666,
          1.7887856543417633,
          0.2587332442071377,
          -1.2169599946828844,
          0.5892027747522933,
          -0.6410020739161971,
          0.2885432402606802,
          -0.03454125696368498,
          1.392047624735117,
          1.6330404342582534,
          -0.36982777062599115,
          -1.1044943935988925,
          0.17707233168320471,
          -0.7673975208664824,
          0.7308513958474311,
          1.2882129613239683,
          1.9276937238391547,
          -2.1845092910608113,
          0.6444536924263001,
          0.6665937444037361,
          -0.8377732695050673,
          1.0422617474084055,
          -1.2045521445781036,
          1.2678720943236752,
          -1.013087924793577,
          -0.1728395528302726,
          -0.3944252398071723,
          0.7193352674390059,
          -1.2321564012964976,
          -0.1986564692551516,
          0.6545959593733198,
          -2.1588463704159886,
          -0.7596719367631934,
          -0.4400423221706656,
          0.7065313829415042,
          -1.4504908223014932,
          -0.6561349387559162,
          1.22579257684457,
          -1.1368222351264505,
          0.7709081448107813,
          -0.05352141996538078,
          0.39204665978888587,
          -0.46811805709216725,
          -1.6616082378127675,
          1.1070200754640982,
          -0.6430701883327777,
          -0.5891948682777047,
          -0.23926298071788035,
          -0.4132449764707921,
          0.15139128080495068,
          -0.37366953005573944,
          -1.1574430045537683,
          -1.509218582881698,
          -1.2383335260629713,
          -1.2045140221112487,
          -0.538679102868873,
          0.40991392914883973,
          -0.7420839755730767,
          0.21513021517206274,
          -0.8661508144937152,
          -1.1112533780479816,
          0.8730759371895707,
          -3.3593262177645866,
          -1.4132467106977238,
          -1.944666953122912,
          0.6337870945293379,
          0.6940810642203904,
          1.3580794427153289,
          0.5497729622602447,
          -1.9994087343690035,
          -0.40559548223827147,
          -0.47692207719097135,
          0.14200909497017727,
          0.31571664112410847,
          -0.028135427586822446,
          0.0075806977970474705,
          0.08098974764692758,
          1.1506250505901732,
          -0.3415571987660383,
          -0.5079535580892626,
          0.15588531275565187,
          0.7861985971095445,
          -0.12056561649644168,
          0.7944933671890922,
          -0.956726236656994,
          1.6326065998840578,
          -0.8866144337378922,
          1.3755041411436952
         ],
         "xaxis": "x16",
         "yaxis": "y16"
        }
       ],
       "layout": {
        "bargap": 0.02,
        "legend": {
         "bgcolor": "#F5F6F9",
         "font": {
          "color": "#4D5663"
         }
        },
        "paper_bgcolor": "#F5F6F9",
        "plot_bgcolor": "#F5F6F9",
        "showlegend": false,
        "template": {
         "data": {
          "bar": [
           {
            "error_x": {
             "color": "#2a3f5f"
            },
            "error_y": {
             "color": "#2a3f5f"
            },
            "marker": {
             "line": {
              "color": "#E5ECF6",
              "width": 0.5
             },
             "pattern": {
              "fillmode": "overlay",
              "size": 10,
              "solidity": 0.2
             }
            },
            "type": "bar"
           }
          ],
          "barpolar": [
           {
            "marker": {
             "line": {
              "color": "#E5ECF6",
              "width": 0.5
             },
             "pattern": {
              "fillmode": "overlay",
              "size": 10,
              "solidity": 0.2
             }
            },
            "type": "barpolar"
           }
          ],
          "carpet": [
           {
            "aaxis": {
             "endlinecolor": "#2a3f5f",
             "gridcolor": "white",
             "linecolor": "white",
             "minorgridcolor": "white",
             "startlinecolor": "#2a3f5f"
            },
            "baxis": {
             "endlinecolor": "#2a3f5f",
             "gridcolor": "white",
             "linecolor": "white",
             "minorgridcolor": "white",
             "startlinecolor": "#2a3f5f"
            },
            "type": "carpet"
           }
          ],
          "choropleth": [
           {
            "colorbar": {
             "outlinewidth": 0,
             "ticks": ""
            },
            "type": "choropleth"
           }
          ],
          "contour": [
           {
            "colorbar": {
             "outlinewidth": 0,
             "ticks": ""
            },
            "colorscale": [
             [
              0,
              "#0d0887"
             ],
             [
              0.1111111111111111,
              "#46039f"
             ],
             [
              0.2222222222222222,
              "#7201a8"
             ],
             [
              0.3333333333333333,
              "#9c179e"
             ],
             [
              0.4444444444444444,
              "#bd3786"
             ],
             [
              0.5555555555555556,
              "#d8576b"
             ],
             [
              0.6666666666666666,
              "#ed7953"
             ],
             [
              0.7777777777777778,
              "#fb9f3a"
             ],
             [
              0.8888888888888888,
              "#fdca26"
             ],
             [
              1,
              "#f0f921"
             ]
            ],
            "type": "contour"
           }
          ],
          "contourcarpet": [
           {
            "colorbar": {
             "outlinewidth": 0,
             "ticks": ""
            },
            "type": "contourcarpet"
           }
          ],
          "heatmap": [
           {
            "colorbar": {
             "outlinewidth": 0,
             "ticks": ""
            },
            "colorscale": [
             [
              0,
              "#0d0887"
             ],
             [
              0.1111111111111111,
              "#46039f"
             ],
             [
              0.2222222222222222,
              "#7201a8"
             ],
             [
              0.3333333333333333,
              "#9c179e"
             ],
             [
              0.4444444444444444,
              "#bd3786"
             ],
             [
              0.5555555555555556,
              "#d8576b"
             ],
             [
              0.6666666666666666,
              "#ed7953"
             ],
             [
              0.7777777777777778,
              "#fb9f3a"
             ],
             [
              0.8888888888888888,
              "#fdca26"
             ],
             [
              1,
              "#f0f921"
             ]
            ],
            "type": "heatmap"
           }
          ],
          "heatmapgl": [
           {
            "colorbar": {
             "outlinewidth": 0,
             "ticks": ""
            },
            "colorscale": [
             [
              0,
              "#0d0887"
             ],
             [
              0.1111111111111111,
              "#46039f"
             ],
             [
              0.2222222222222222,
              "#7201a8"
             ],
             [
              0.3333333333333333,
              "#9c179e"
             ],
             [
              0.4444444444444444,
              "#bd3786"
             ],
             [
              0.5555555555555556,
              "#d8576b"
             ],
             [
              0.6666666666666666,
              "#ed7953"
             ],
             [
              0.7777777777777778,
              "#fb9f3a"
             ],
             [
              0.8888888888888888,
              "#fdca26"
             ],
             [
              1,
              "#f0f921"
             ]
            ],
            "type": "heatmapgl"
           }
          ],
          "histogram": [
           {
            "marker": {
             "pattern": {
              "fillmode": "overlay",
              "size": 10,
              "solidity": 0.2
             }
            },
            "type": "histogram"
           }
          ],
          "histogram2d": [
           {
            "colorbar": {
             "outlinewidth": 0,
             "ticks": ""
            },
            "colorscale": [
             [
              0,
              "#0d0887"
             ],
             [
              0.1111111111111111,
              "#46039f"
             ],
             [
              0.2222222222222222,
              "#7201a8"
             ],
             [
              0.3333333333333333,
              "#9c179e"
             ],
             [
              0.4444444444444444,
              "#bd3786"
             ],
             [
              0.5555555555555556,
              "#d8576b"
             ],
             [
              0.6666666666666666,
              "#ed7953"
             ],
             [
              0.7777777777777778,
              "#fb9f3a"
             ],
             [
              0.8888888888888888,
              "#fdca26"
             ],
             [
              1,
              "#f0f921"
             ]
            ],
            "type": "histogram2d"
           }
          ],
          "histogram2dcontour": [
           {
            "colorbar": {
             "outlinewidth": 0,
             "ticks": ""
            },
            "colorscale": [
             [
              0,
              "#0d0887"
             ],
             [
              0.1111111111111111,
              "#46039f"
             ],
             [
              0.2222222222222222,
              "#7201a8"
             ],
             [
              0.3333333333333333,
              "#9c179e"
             ],
             [
              0.4444444444444444,
              "#bd3786"
             ],
             [
              0.5555555555555556,
              "#d8576b"
             ],
             [
              0.6666666666666666,
              "#ed7953"
             ],
             [
              0.7777777777777778,
              "#fb9f3a"
             ],
             [
              0.8888888888888888,
              "#fdca26"
             ],
             [
              1,
              "#f0f921"
             ]
            ],
            "type": "histogram2dcontour"
           }
          ],
          "mesh3d": [
           {
            "colorbar": {
             "outlinewidth": 0,
             "ticks": ""
            },
            "type": "mesh3d"
           }
          ],
          "parcoords": [
           {
            "line": {
             "colorbar": {
              "outlinewidth": 0,
              "ticks": ""
             }
            },
            "type": "parcoords"
           }
          ],
          "pie": [
           {
            "automargin": true,
            "type": "pie"
           }
          ],
          "scatter": [
           {
            "marker": {
             "colorbar": {
              "outlinewidth": 0,
              "ticks": ""
             }
            },
            "type": "scatter"
           }
          ],
          "scatter3d": [
           {
            "line": {
             "colorbar": {
              "outlinewidth": 0,
              "ticks": ""
             }
            },
            "marker": {
             "colorbar": {
              "outlinewidth": 0,
              "ticks": ""
             }
            },
            "type": "scatter3d"
           }
          ],
          "scattercarpet": [
           {
            "marker": {
             "colorbar": {
              "outlinewidth": 0,
              "ticks": ""
             }
            },
            "type": "scattercarpet"
           }
          ],
          "scattergeo": [
           {
            "marker": {
             "colorbar": {
              "outlinewidth": 0,
              "ticks": ""
             }
            },
            "type": "scattergeo"
           }
          ],
          "scattergl": [
           {
            "marker": {
             "colorbar": {
              "outlinewidth": 0,
              "ticks": ""
             }
            },
            "type": "scattergl"
           }
          ],
          "scattermapbox": [
           {
            "marker": {
             "colorbar": {
              "outlinewidth": 0,
              "ticks": ""
             }
            },
            "type": "scattermapbox"
           }
          ],
          "scatterpolar": [
           {
            "marker": {
             "colorbar": {
              "outlinewidth": 0,
              "ticks": ""
             }
            },
            "type": "scatterpolar"
           }
          ],
          "scatterpolargl": [
           {
            "marker": {
             "colorbar": {
              "outlinewidth": 0,
              "ticks": ""
             }
            },
            "type": "scatterpolargl"
           }
          ],
          "scatterternary": [
           {
            "marker": {
             "colorbar": {
              "outlinewidth": 0,
              "ticks": ""
             }
            },
            "type": "scatterternary"
           }
          ],
          "surface": [
           {
            "colorbar": {
             "outlinewidth": 0,
             "ticks": ""
            },
            "colorscale": [
             [
              0,
              "#0d0887"
             ],
             [
              0.1111111111111111,
              "#46039f"
             ],
             [
              0.2222222222222222,
              "#7201a8"
             ],
             [
              0.3333333333333333,
              "#9c179e"
             ],
             [
              0.4444444444444444,
              "#bd3786"
             ],
             [
              0.5555555555555556,
              "#d8576b"
             ],
             [
              0.6666666666666666,
              "#ed7953"
             ],
             [
              0.7777777777777778,
              "#fb9f3a"
             ],
             [
              0.8888888888888888,
              "#fdca26"
             ],
             [
              1,
              "#f0f921"
             ]
            ],
            "type": "surface"
           }
          ],
          "table": [
           {
            "cells": {
             "fill": {
              "color": "#EBF0F8"
             },
             "line": {
              "color": "white"
             }
            },
            "header": {
             "fill": {
              "color": "#C8D4E3"
             },
             "line": {
              "color": "white"
             }
            },
            "type": "table"
           }
          ]
         },
         "layout": {
          "annotationdefaults": {
           "arrowcolor": "#2a3f5f",
           "arrowhead": 0,
           "arrowwidth": 1
          },
          "autotypenumbers": "strict",
          "coloraxis": {
           "colorbar": {
            "outlinewidth": 0,
            "ticks": ""
           }
          },
          "colorscale": {
           "diverging": [
            [
             0,
             "#8e0152"
            ],
            [
             0.1,
             "#c51b7d"
            ],
            [
             0.2,
             "#de77ae"
            ],
            [
             0.3,
             "#f1b6da"
            ],
            [
             0.4,
             "#fde0ef"
            ],
            [
             0.5,
             "#f7f7f7"
            ],
            [
             0.6,
             "#e6f5d0"
            ],
            [
             0.7,
             "#b8e186"
            ],
            [
             0.8,
             "#7fbc41"
            ],
            [
             0.9,
             "#4d9221"
            ],
            [
             1,
             "#276419"
            ]
           ],
           "sequential": [
            [
             0,
             "#0d0887"
            ],
            [
             0.1111111111111111,
             "#46039f"
            ],
            [
             0.2222222222222222,
             "#7201a8"
            ],
            [
             0.3333333333333333,
             "#9c179e"
            ],
            [
             0.4444444444444444,
             "#bd3786"
            ],
            [
             0.5555555555555556,
             "#d8576b"
            ],
            [
             0.6666666666666666,
             "#ed7953"
            ],
            [
             0.7777777777777778,
             "#fb9f3a"
            ],
            [
             0.8888888888888888,
             "#fdca26"
            ],
            [
             1,
             "#f0f921"
            ]
           ],
           "sequentialminus": [
            [
             0,
             "#0d0887"
            ],
            [
             0.1111111111111111,
             "#46039f"
            ],
            [
             0.2222222222222222,
             "#7201a8"
            ],
            [
             0.3333333333333333,
             "#9c179e"
            ],
            [
             0.4444444444444444,
             "#bd3786"
            ],
            [
             0.5555555555555556,
             "#d8576b"
            ],
            [
             0.6666666666666666,
             "#ed7953"
            ],
            [
             0.7777777777777778,
             "#fb9f3a"
            ],
            [
             0.8888888888888888,
             "#fdca26"
            ],
            [
             1,
             "#f0f921"
            ]
           ]
          },
          "colorway": [
           "#636efa",
           "#EF553B",
           "#00cc96",
           "#ab63fa",
           "#FFA15A",
           "#19d3f3",
           "#FF6692",
           "#B6E880",
           "#FF97FF",
           "#FECB52"
          ],
          "font": {
           "color": "#2a3f5f"
          },
          "geo": {
           "bgcolor": "white",
           "lakecolor": "white",
           "landcolor": "#E5ECF6",
           "showlakes": true,
           "showland": true,
           "subunitcolor": "white"
          },
          "hoverlabel": {
           "align": "left"
          },
          "hovermode": "closest",
          "mapbox": {
           "style": "light"
          },
          "paper_bgcolor": "white",
          "plot_bgcolor": "#E5ECF6",
          "polar": {
           "angularaxis": {
            "gridcolor": "white",
            "linecolor": "white",
            "ticks": ""
           },
           "bgcolor": "#E5ECF6",
           "radialaxis": {
            "gridcolor": "white",
            "linecolor": "white",
            "ticks": ""
           }
          },
          "scene": {
           "xaxis": {
            "backgroundcolor": "#E5ECF6",
            "gridcolor": "white",
            "gridwidth": 2,
            "linecolor": "white",
            "showbackground": true,
            "ticks": "",
            "zerolinecolor": "white"
           },
           "yaxis": {
            "backgroundcolor": "#E5ECF6",
            "gridcolor": "white",
            "gridwidth": 2,
            "linecolor": "white",
            "showbackground": true,
            "ticks": "",
            "zerolinecolor": "white"
           },
           "zaxis": {
            "backgroundcolor": "#E5ECF6",
            "gridcolor": "white",
            "gridwidth": 2,
            "linecolor": "white",
            "showbackground": true,
            "ticks": "",
            "zerolinecolor": "white"
           }
          },
          "shapedefaults": {
           "line": {
            "color": "#2a3f5f"
           }
          },
          "ternary": {
           "aaxis": {
            "gridcolor": "white",
            "linecolor": "white",
            "ticks": ""
           },
           "baxis": {
            "gridcolor": "white",
            "linecolor": "white",
            "ticks": ""
           },
           "bgcolor": "#E5ECF6",
           "caxis": {
            "gridcolor": "white",
            "linecolor": "white",
            "ticks": ""
           }
          },
          "title": {
           "x": 0.05
          },
          "xaxis": {
           "automargin": true,
           "gridcolor": "white",
           "linecolor": "white",
           "ticks": "",
           "title": {
            "standoff": 15
           },
           "zerolinecolor": "white",
           "zerolinewidth": 2
          },
          "yaxis": {
           "automargin": true,
           "gridcolor": "white",
           "linecolor": "white",
           "ticks": "",
           "title": {
            "standoff": 15
           },
           "zerolinecolor": "white",
           "zerolinewidth": 2
          }
         }
        },
        "title": {
         "font": {
          "color": "#4D5663"
         }
        },
        "xaxis": {
         "anchor": "y",
         "domain": [
          0,
          0.2125
         ],
         "gridcolor": "#E1E5ED",
         "showgrid": false,
         "tickfont": {
          "color": "#4D5663"
         },
         "title": {
          "font": {
           "color": "#4D5663"
          },
          "text": ""
         },
         "zerolinecolor": "#E1E5ED"
        },
        "xaxis10": {
         "anchor": "y10",
         "domain": [
          0.2625,
          0.475
         ],
         "gridcolor": "#E1E5ED",
         "showgrid": false,
         "tickfont": {
          "color": "#4D5663"
         },
         "title": {
          "font": {
           "color": "#4D5663"
          },
          "text": ""
         },
         "zerolinecolor": "#E1E5ED"
        },
        "xaxis11": {
         "anchor": "y11",
         "domain": [
          0.525,
          0.7375
         ],
         "gridcolor": "#E1E5ED",
         "showgrid": false,
         "tickfont": {
          "color": "#4D5663"
         },
         "title": {
          "font": {
           "color": "#4D5663"
          },
          "text": ""
         },
         "zerolinecolor": "#E1E5ED"
        },
        "xaxis12": {
         "anchor": "y12",
         "domain": [
          0.7875,
          1
         ],
         "gridcolor": "#E1E5ED",
         "showgrid": false,
         "tickfont": {
          "color": "#4D5663"
         },
         "title": {
          "font": {
           "color": "#4D5663"
          },
          "text": ""
         },
         "zerolinecolor": "#E1E5ED"
        },
        "xaxis13": {
         "anchor": "y13",
         "domain": [
          0,
          0.2125
         ],
         "gridcolor": "#E1E5ED",
         "showgrid": false,
         "tickfont": {
          "color": "#4D5663"
         },
         "title": {
          "font": {
           "color": "#4D5663"
          },
          "text": ""
         },
         "zerolinecolor": "#E1E5ED"
        },
        "xaxis14": {
         "anchor": "y14",
         "domain": [
          0.2625,
          0.475
         ],
         "gridcolor": "#E1E5ED",
         "showgrid": false,
         "tickfont": {
          "color": "#4D5663"
         },
         "title": {
          "font": {
           "color": "#4D5663"
          },
          "text": ""
         },
         "zerolinecolor": "#E1E5ED"
        },
        "xaxis15": {
         "anchor": "y15",
         "domain": [
          0.525,
          0.7375
         ],
         "gridcolor": "#E1E5ED",
         "showgrid": false,
         "tickfont": {
          "color": "#4D5663"
         },
         "title": {
          "font": {
           "color": "#4D5663"
          },
          "text": ""
         },
         "zerolinecolor": "#E1E5ED"
        },
        "xaxis16": {
         "anchor": "y16",
         "domain": [
          0.7875,
          1
         ],
         "gridcolor": "#E1E5ED",
         "showgrid": false,
         "tickfont": {
          "color": "#4D5663"
         },
         "title": {
          "font": {
           "color": "#4D5663"
          },
          "text": ""
         },
         "zerolinecolor": "#E1E5ED"
        },
        "xaxis2": {
         "anchor": "y2",
         "domain": [
          0.2625,
          0.475
         ],
         "gridcolor": "#E1E5ED",
         "showgrid": false,
         "tickfont": {
          "color": "#4D5663"
         },
         "title": {
          "font": {
           "color": "#4D5663"
          },
          "text": ""
         },
         "zerolinecolor": "#E1E5ED"
        },
        "xaxis3": {
         "anchor": "y3",
         "domain": [
          0.525,
          0.7375
         ],
         "gridcolor": "#E1E5ED",
         "showgrid": false,
         "tickfont": {
          "color": "#4D5663"
         },
         "title": {
          "font": {
           "color": "#4D5663"
          },
          "text": ""
         },
         "zerolinecolor": "#E1E5ED"
        },
        "xaxis4": {
         "anchor": "y4",
         "domain": [
          0.7875,
          1
         ],
         "gridcolor": "#E1E5ED",
         "showgrid": false,
         "tickfont": {
          "color": "#4D5663"
         },
         "title": {
          "font": {
           "color": "#4D5663"
          },
          "text": ""
         },
         "zerolinecolor": "#E1E5ED"
        },
        "xaxis5": {
         "anchor": "y5",
         "domain": [
          0,
          0.2125
         ],
         "gridcolor": "#E1E5ED",
         "showgrid": false,
         "tickfont": {
          "color": "#4D5663"
         },
         "title": {
          "font": {
           "color": "#4D5663"
          },
          "text": ""
         },
         "zerolinecolor": "#E1E5ED"
        },
        "xaxis6": {
         "anchor": "y6",
         "domain": [
          0.2625,
          0.475
         ],
         "gridcolor": "#E1E5ED",
         "showgrid": false,
         "tickfont": {
          "color": "#4D5663"
         },
         "title": {
          "font": {
           "color": "#4D5663"
          },
          "text": ""
         },
         "zerolinecolor": "#E1E5ED"
        },
        "xaxis7": {
         "anchor": "y7",
         "domain": [
          0.525,
          0.7375
         ],
         "gridcolor": "#E1E5ED",
         "showgrid": false,
         "tickfont": {
          "color": "#4D5663"
         },
         "title": {
          "font": {
           "color": "#4D5663"
          },
          "text": ""
         },
         "zerolinecolor": "#E1E5ED"
        },
        "xaxis8": {
         "anchor": "y8",
         "domain": [
          0.7875,
          1
         ],
         "gridcolor": "#E1E5ED",
         "showgrid": false,
         "tickfont": {
          "color": "#4D5663"
         },
         "title": {
          "font": {
           "color": "#4D5663"
          },
          "text": ""
         },
         "zerolinecolor": "#E1E5ED"
        },
        "xaxis9": {
         "anchor": "y9",
         "domain": [
          0,
          0.2125
         ],
         "gridcolor": "#E1E5ED",
         "showgrid": false,
         "tickfont": {
          "color": "#4D5663"
         },
         "title": {
          "font": {
           "color": "#4D5663"
          },
          "text": ""
         },
         "zerolinecolor": "#E1E5ED"
        },
        "yaxis": {
         "anchor": "x",
         "domain": [
          0.8025,
          1
         ],
         "gridcolor": "#E1E5ED",
         "showgrid": false,
         "tickfont": {
          "color": "#4D5663"
         },
         "title": {
          "font": {
           "color": "#4D5663"
          },
          "text": ""
         },
         "zerolinecolor": "#E1E5ED"
        },
        "yaxis10": {
         "anchor": "x10",
         "domain": [
          0.2675,
          0.465
         ],
         "gridcolor": "#E1E5ED",
         "showgrid": false,
         "tickfont": {
          "color": "#4D5663"
         },
         "title": {
          "font": {
           "color": "#4D5663"
          },
          "text": ""
         },
         "zerolinecolor": "#E1E5ED"
        },
        "yaxis11": {
         "anchor": "x11",
         "domain": [
          0.2675,
          0.465
         ],
         "gridcolor": "#E1E5ED",
         "showgrid": false,
         "tickfont": {
          "color": "#4D5663"
         },
         "title": {
          "font": {
           "color": "#4D5663"
          },
          "text": ""
         },
         "zerolinecolor": "#E1E5ED"
        },
        "yaxis12": {
         "anchor": "x12",
         "domain": [
          0.2675,
          0.465
         ],
         "gridcolor": "#E1E5ED",
         "showgrid": false,
         "tickfont": {
          "color": "#4D5663"
         },
         "title": {
          "font": {
           "color": "#4D5663"
          },
          "text": ""
         },
         "zerolinecolor": "#E1E5ED"
        },
        "yaxis13": {
         "anchor": "x13",
         "domain": [
          0,
          0.1975
         ],
         "gridcolor": "#E1E5ED",
         "showgrid": false,
         "tickfont": {
          "color": "#4D5663"
         },
         "title": {
          "font": {
           "color": "#4D5663"
          },
          "text": ""
         },
         "zerolinecolor": "#E1E5ED"
        },
        "yaxis14": {
         "anchor": "x14",
         "domain": [
          0,
          0.1975
         ],
         "gridcolor": "#E1E5ED",
         "showgrid": false,
         "tickfont": {
          "color": "#4D5663"
         },
         "title": {
          "font": {
           "color": "#4D5663"
          },
          "text": ""
         },
         "zerolinecolor": "#E1E5ED"
        },
        "yaxis15": {
         "anchor": "x15",
         "domain": [
          0,
          0.1975
         ],
         "gridcolor": "#E1E5ED",
         "showgrid": false,
         "tickfont": {
          "color": "#4D5663"
         },
         "title": {
          "font": {
           "color": "#4D5663"
          },
          "text": ""
         },
         "zerolinecolor": "#E1E5ED"
        },
        "yaxis16": {
         "anchor": "x16",
         "domain": [
          0,
          0.1975
         ],
         "gridcolor": "#E1E5ED",
         "showgrid": false,
         "tickfont": {
          "color": "#4D5663"
         },
         "title": {
          "font": {
           "color": "#4D5663"
          },
          "text": ""
         },
         "zerolinecolor": "#E1E5ED"
        },
        "yaxis2": {
         "anchor": "x2",
         "domain": [
          0.8025,
          1
         ],
         "gridcolor": "#E1E5ED",
         "showgrid": false,
         "tickfont": {
          "color": "#4D5663"
         },
         "title": {
          "font": {
           "color": "#4D5663"
          },
          "text": ""
         },
         "zerolinecolor": "#E1E5ED"
        },
        "yaxis3": {
         "anchor": "x3",
         "domain": [
          0.8025,
          1
         ],
         "gridcolor": "#E1E5ED",
         "showgrid": false,
         "tickfont": {
          "color": "#4D5663"
         },
         "title": {
          "font": {
           "color": "#4D5663"
          },
          "text": ""
         },
         "zerolinecolor": "#E1E5ED"
        },
        "yaxis4": {
         "anchor": "x4",
         "domain": [
          0.8025,
          1
         ],
         "gridcolor": "#E1E5ED",
         "showgrid": false,
         "tickfont": {
          "color": "#4D5663"
         },
         "title": {
          "font": {
           "color": "#4D5663"
          },
          "text": ""
         },
         "zerolinecolor": "#E1E5ED"
        },
        "yaxis5": {
         "anchor": "x5",
         "domain": [
          0.535,
          0.7325
         ],
         "gridcolor": "#E1E5ED",
         "showgrid": false,
         "tickfont": {
          "color": "#4D5663"
         },
         "title": {
          "font": {
           "color": "#4D5663"
          },
          "text": ""
         },
         "zerolinecolor": "#E1E5ED"
        },
        "yaxis6": {
         "anchor": "x6",
         "domain": [
          0.535,
          0.7325
         ],
         "gridcolor": "#E1E5ED",
         "showgrid": false,
         "tickfont": {
          "color": "#4D5663"
         },
         "title": {
          "font": {
           "color": "#4D5663"
          },
          "text": ""
         },
         "zerolinecolor": "#E1E5ED"
        },
        "yaxis7": {
         "anchor": "x7",
         "domain": [
          0.535,
          0.7325
         ],
         "gridcolor": "#E1E5ED",
         "showgrid": false,
         "tickfont": {
          "color": "#4D5663"
         },
         "title": {
          "font": {
           "color": "#4D5663"
          },
          "text": ""
         },
         "zerolinecolor": "#E1E5ED"
        },
        "yaxis8": {
         "anchor": "x8",
         "domain": [
          0.535,
          0.7325
         ],
         "gridcolor": "#E1E5ED",
         "showgrid": false,
         "tickfont": {
          "color": "#4D5663"
         },
         "title": {
          "font": {
           "color": "#4D5663"
          },
          "text": ""
         },
         "zerolinecolor": "#E1E5ED"
        },
        "yaxis9": {
         "anchor": "x9",
         "domain": [
          0.2675,
          0.465
         ],
         "gridcolor": "#E1E5ED",
         "showgrid": false,
         "tickfont": {
          "color": "#4D5663"
         },
         "title": {
          "font": {
           "color": "#4D5663"
          },
          "text": ""
         },
         "zerolinecolor": "#E1E5ED"
        }
       }
      },
      "text/html": [
       "<div>                            <div id=\"9749eb19-6061-46da-8987-75a57c99b3d4\" class=\"plotly-graph-div\" style=\"height:525px; width:100%;\"></div>            <script type=\"text/javascript\">                require([\"plotly\"], function(Plotly) {                    window.PLOTLYENV=window.PLOTLYENV || {};\n",
       "                    window.PLOTLYENV.BASE_URL='https://plot.ly';                                    if (document.getElementById(\"9749eb19-6061-46da-8987-75a57c99b3d4\")) {                    Plotly.newPlot(                        \"9749eb19-6061-46da-8987-75a57c99b3d4\",                        [{\"histfunc\":\"count\",\"histnorm\":\"\",\"marker\":{\"color\":\"rgba(255, 153, 51, 1.0)\",\"line\":{\"color\":\"#4D5663\",\"width\":1.3}},\"name\":\"A\",\"nbinsx\":10,\"opacity\":0.8,\"orientation\":\"v\",\"x\":[-1.4988901786541045,-0.001422821726739044,-0.2304684055770329,0.23997464714259756,0.18192721535380907,0.19164720456797463,0.8934074803005699,-0.16678903578641818,-1.0084349560508432,-0.03497746442877197,-0.29407807175981265,-0.6006039772725303,-1.9183720589496456,1.1614531567992483,0.7099754557782095,0.0597482684433398,-0.7208573651997514,0.3855346391785886,-0.6452196773049834,-0.976381166476433,0.6594618598235175,1.5365704381442875,-0.8503296300579475,-0.6817453467007452,-0.9463322508133754,-0.19411061226880635,0.7592740048310302,-1.1926747622253955,1.400547023742745,-0.01495067745602767,-1.7115247300904346,-0.36124821109843847,-0.9945764316187472,-0.02174742702343883,0.4271204474826363,2.0458262738449973,0.38003902187660327,0.12799810814049276,-1.114003422680656,-0.06648643302860642,-0.9862118908244232,0.2492347168731393,0.17820277695620237,-0.7387340723009684,-0.31798405254195145,0.9524360693241468,0.9861659791518401,0.7148700640697296,-0.22592732878489613,2.3080279320676045,0.787929315365375,-0.48486969233250055,0.4027834014210285,1.4822702738530436,1.3038659671232047,-0.6523787149594126,-0.020653413306827302,1.27795507641576,0.9017516859560875,0.3656487115665125,-0.17128934489835104,0.6007005503795194,0.3206977385185198,-1.6303945368009163,0.6030078809689943,-0.6207387600421282,0.9288566443524915,1.003041834488083,0.6555148863499219,1.8369810188217182,-1.1342616020404406,-0.03959247097223943,0.27889716160290184,0.5964316283866732,-0.36252227062175946,-0.34907991775801606,-0.7457953929282686,-0.025432745061922953,-1.9507489350848062,-1.041117167054891,0.22955684614254096,-0.7594240891624068,-0.26728306802932256,-0.5574003405662921,-0.5552647869514891,-0.27986732142818244,-0.3176914326608163,1.1045692759785846,-1.1308518489324335,-0.3919640656418023,-1.0287786375678944,-0.5389389032984023,1.5990545052027803,-0.9840034230949485,0.9466879685336848,-0.2562696339386158,-0.4170640840563133,-0.7355380779682636,0.7659323423522455,-0.2871147614324862],\"xaxis\":\"x\",\"yaxis\":\"y\",\"type\":\"histogram\"},{\"line\":{\"color\":\"rgba(128, 128, 128, 1.0)\",\"dash\":\"solid\",\"shape\":\"linear\",\"width\":1.3},\"marker\":{\"size\":2,\"symbol\":\"circle\"},\"mode\":\"markers\",\"name\":\"A\",\"text\":\"\",\"x\":[0.23526574448227672,1.168163947055222,0.2603253096157711,-1.7094688244238117,1.2314559187199188,1.6726392784566257,1.110882751972855,2.4989591704588947,-0.21090740427651708,0.6710299469446712,0.5112763692090437,-0.3007727133257675,-0.44789669873124577,-0.683971266219679,-0.035603974521086434,0.9453888391325656,-0.3642535594012888,-0.7333466976832804,1.2214417366538486,-0.41663209241617577,0.6251585915454666,0.7118831843227998,-0.7328897597367783,0.41557603199328913,0.09317786774577878,0.1935706418538896,0.7567493246413372,-0.7890825203287073,0.470082990361827,0.2988970555631342,0.5477894960342421,-0.839905415734585,-2.285938793357377,1.1672269099760322,0.15066291368605914,0.691394580518865,1.550852584290744,0.2356201953546311,-0.5119547775416198,-0.17958271427017333,2.4751023612296494,0.8485209816138845,-1.6716169800928415,1.4212479055478549,1.373356337287798,1.1561028656871015,-0.1419436980968088,0.7187691549260182,3.0364205633719425,0.734284800443334,-0.9813275386456558,0.28835595613774406,0.2177289571851628,-1.5979716350858764,1.7533737527925104,2.455263171182504,-0.998996487354798,1.6647065302884583,0.13487899639228673,-0.9204221983040389,-0.5260204719325334,0.3729631855801561,-1.7881349756837503,-0.06024704765386666,-0.35343347656634894,-0.32862076542402474,-0.3296552300795083,0.7959402796708153,-0.2591835000266135,0.9291618039459419,2.526294058316706,-0.4158483633854793,-2.114171050587124,-1.5980731814780682,3.060158018044401,0.8864017834192536,-0.7888369809411898,-0.22207270455452055,0.2919727650947669,1.7298690787747741,-1.1907371521158825,-0.7481014500130333,-1.3126581161022361,0.556183164685591,1.3643829245990822,0.23609289097665742,-0.783866036842399,0.21681356368855853,0.5960968696295027,-0.04396548150781571,-0.8883792916898136,-0.2869425360225565,0.663551053787133,0.7616302112157503,0.2615442593539925,1.6195140569719841,0.04943547707619654,0.762492090412884,-3.0235275989995,-0.6972617199851123],\"xaxis\":\"x2\",\"y\":[-1.4988901786541045,-0.001422821726739044,-0.2304684055770329,0.23997464714259756,0.18192721535380907,0.19164720456797463,0.8934074803005699,-0.16678903578641818,-1.0084349560508432,-0.03497746442877197,-0.29407807175981265,-0.6006039772725303,-1.9183720589496456,1.1614531567992483,0.7099754557782095,0.0597482684433398,-0.7208573651997514,0.3855346391785886,-0.6452196773049834,-0.976381166476433,0.6594618598235175,1.5365704381442875,-0.8503296300579475,-0.6817453467007452,-0.9463322508133754,-0.19411061226880635,0.7592740048310302,-1.1926747622253955,1.400547023742745,-0.01495067745602767,-1.7115247300904346,-0.36124821109843847,-0.9945764316187472,-0.02174742702343883,0.4271204474826363,2.0458262738449973,0.38003902187660327,0.12799810814049276,-1.114003422680656,-0.06648643302860642,-0.9862118908244232,0.2492347168731393,0.17820277695620237,-0.7387340723009684,-0.31798405254195145,0.9524360693241468,0.9861659791518401,0.7148700640697296,-0.22592732878489613,2.3080279320676045,0.787929315365375,-0.48486969233250055,0.4027834014210285,1.4822702738530436,1.3038659671232047,-0.6523787149594126,-0.020653413306827302,1.27795507641576,0.9017516859560875,0.3656487115665125,-0.17128934489835104,0.6007005503795194,0.3206977385185198,-1.6303945368009163,0.6030078809689943,-0.6207387600421282,0.9288566443524915,1.003041834488083,0.6555148863499219,1.8369810188217182,-1.1342616020404406,-0.03959247097223943,0.27889716160290184,0.5964316283866732,-0.36252227062175946,-0.34907991775801606,-0.7457953929282686,-0.025432745061922953,-1.9507489350848062,-1.041117167054891,0.22955684614254096,-0.7594240891624068,-0.26728306802932256,-0.5574003405662921,-0.5552647869514891,-0.27986732142818244,-0.3176914326608163,1.1045692759785846,-1.1308518489324335,-0.3919640656418023,-1.0287786375678944,-0.5389389032984023,1.5990545052027803,-0.9840034230949485,0.9466879685336848,-0.2562696339386158,-0.4170640840563133,-0.7355380779682636,0.7659323423522455,-0.2871147614324862],\"yaxis\":\"y2\",\"type\":\"scatter\"},{\"line\":{\"color\":\"rgba(128, 128, 128, 1.0)\",\"dash\":\"solid\",\"shape\":\"linear\",\"width\":1.3},\"marker\":{\"size\":2,\"symbol\":\"circle\"},\"mode\":\"markers\",\"name\":\"A\",\"text\":\"\",\"x\":[-0.6721054830618163,0.04155124736259395,0.7692227448681659,1.2018543046190742,-1.3895799534825057,-0.13986742515460016,0.20680584971717506,-1.2375755209975055,0.2748276280206249,-0.9321398412097541,0.13094629693961418,0.5486985863756676,-1.9886073067653744,0.1377455666610931,1.453981498965094,-1.1636735569946803,-0.6381256018220831,0.24016156194284022,-0.10703017970101508,0.16433225410440552,0.8531079898217108,1.6121552354073403,0.6752632364620416,0.42470164228165075,0.8419872410410988,0.2027351375903432,-1.3398091831197878,0.6980975776663457,-1.5977507860270195,2.0156066648331064,0.1894203169898418,-1.262191998452755,0.2421426433968026,0.8894250373970279,-1.2747913284971648,-1.2214202094176518,0.492344745944777,-0.0005811540557410889,0.2651774197952579,-1.7138206058548793,0.9358135995670254,0.13575129717698095,-0.766123378667851,-1.3900404553640864,1.0520155069593347,0.8881391602820637,0.3228724111252909,1.2640701130622274,1.0123932381650467,-0.48498439499425805,-0.3695252941463228,-0.4177107301373769,-0.3632625423585063,-2.0473737075168965,-0.969514659884145,-1.009087218129252,0.5557092264085043,0.04324906215682579,0.1580912743653798,-1.2735162466467338,-3.2427099683814293,-0.7940960806105345,1.8485957694095079,1.240587131176431,1.607574353631272,0.9673253953080366,0.6194483749879988,-0.3326426058262767,0.06435808504729362,-1.9251762616167312,1.3987969071993855,-0.25397463387421776,1.1682073059162448,-1.7644476573328416,0.7327323173813448,0.9947355849774328,0.5453518341795917,1.19080558599387,1.2093897545788723,0.6706625192394372,-1.6457577450899186,0.7985572506119272,0.844699713555325,3.1313601284169064,-1.8121698719347574,0.8210069022416058,-0.6197824971970205,-0.26608675431992823,1.0968910955996245,-0.15649991655276047,-1.1543940361329577,-2.041746319215282,1.004924176818934,-0.5377172116680294,0.6024246724870307,1.2352666198746274,-0.6105721742972088,-0.11960291524138328,-0.14565417326896715,1.5968344449979148],\"xaxis\":\"x3\",\"y\":[-1.4988901786541045,-0.001422821726739044,-0.2304684055770329,0.23997464714259756,0.18192721535380907,0.19164720456797463,0.8934074803005699,-0.16678903578641818,-1.0084349560508432,-0.03497746442877197,-0.29407807175981265,-0.6006039772725303,-1.9183720589496456,1.1614531567992483,0.7099754557782095,0.0597482684433398,-0.7208573651997514,0.3855346391785886,-0.6452196773049834,-0.976381166476433,0.6594618598235175,1.5365704381442875,-0.8503296300579475,-0.6817453467007452,-0.9463322508133754,-0.19411061226880635,0.7592740048310302,-1.1926747622253955,1.400547023742745,-0.01495067745602767,-1.7115247300904346,-0.36124821109843847,-0.9945764316187472,-0.02174742702343883,0.4271204474826363,2.0458262738449973,0.38003902187660327,0.12799810814049276,-1.114003422680656,-0.06648643302860642,-0.9862118908244232,0.2492347168731393,0.17820277695620237,-0.7387340723009684,-0.31798405254195145,0.9524360693241468,0.9861659791518401,0.7148700640697296,-0.22592732878489613,2.3080279320676045,0.787929315365375,-0.48486969233250055,0.4027834014210285,1.4822702738530436,1.3038659671232047,-0.6523787149594126,-0.020653413306827302,1.27795507641576,0.9017516859560875,0.3656487115665125,-0.17128934489835104,0.6007005503795194,0.3206977385185198,-1.6303945368009163,0.6030078809689943,-0.6207387600421282,0.9288566443524915,1.003041834488083,0.6555148863499219,1.8369810188217182,-1.1342616020404406,-0.03959247097223943,0.27889716160290184,0.5964316283866732,-0.36252227062175946,-0.34907991775801606,-0.7457953929282686,-0.025432745061922953,-1.9507489350848062,-1.041117167054891,0.22955684614254096,-0.7594240891624068,-0.26728306802932256,-0.5574003405662921,-0.5552647869514891,-0.27986732142818244,-0.3176914326608163,1.1045692759785846,-1.1308518489324335,-0.3919640656418023,-1.0287786375678944,-0.5389389032984023,1.5990545052027803,-0.9840034230949485,0.9466879685336848,-0.2562696339386158,-0.4170640840563133,-0.7355380779682636,0.7659323423522455,-0.2871147614324862],\"yaxis\":\"y3\",\"type\":\"scatter\"},{\"line\":{\"color\":\"rgba(128, 128, 128, 1.0)\",\"dash\":\"solid\",\"shape\":\"linear\",\"width\":1.3},\"marker\":{\"size\":2,\"symbol\":\"circle\"},\"mode\":\"markers\",\"name\":\"A\",\"text\":\"\",\"x\":[0.6192282002215885,0.7516634413897418,2.6291119930596283,-1.112229452178899,-1.218471223876959,0.3898577417045848,0.5050744413729968,1.5311029453343552,-1.7920281996444196,-0.8445128044351861,-0.6744958296736583,-2.228362195462207,0.37372523500853666,1.7887856543417633,0.2587332442071377,-1.2169599946828844,0.5892027747522933,-0.6410020739161971,0.2885432402606802,-0.03454125696368498,1.392047624735117,1.6330404342582534,-0.36982777062599115,-1.1044943935988925,0.17707233168320471,-0.7673975208664824,0.7308513958474311,1.2882129613239683,1.9276937238391547,-2.1845092910608113,0.6444536924263001,0.6665937444037361,-0.8377732695050673,1.0422617474084055,-1.2045521445781036,1.2678720943236752,-1.013087924793577,-0.1728395528302726,-0.3944252398071723,0.7193352674390059,-1.2321564012964976,-0.1986564692551516,0.6545959593733198,-2.1588463704159886,-0.7596719367631934,-0.4400423221706656,0.7065313829415042,-1.4504908223014932,-0.6561349387559162,1.22579257684457,-1.1368222351264505,0.7709081448107813,-0.05352141996538078,0.39204665978888587,-0.46811805709216725,-1.6616082378127675,1.1070200754640982,-0.6430701883327777,-0.5891948682777047,-0.23926298071788035,-0.4132449764707921,0.15139128080495068,-0.37366953005573944,-1.1574430045537683,-1.509218582881698,-1.2383335260629713,-1.2045140221112487,-0.538679102868873,0.40991392914883973,-0.7420839755730767,0.21513021517206274,-0.8661508144937152,-1.1112533780479816,0.8730759371895707,-3.3593262177645866,-1.4132467106977238,-1.944666953122912,0.6337870945293379,0.6940810642203904,1.3580794427153289,0.5497729622602447,-1.9994087343690035,-0.40559548223827147,-0.47692207719097135,0.14200909497017727,0.31571664112410847,-0.028135427586822446,0.0075806977970474705,0.08098974764692758,1.1506250505901732,-0.3415571987660383,-0.5079535580892626,0.15588531275565187,0.7861985971095445,-0.12056561649644168,0.7944933671890922,-0.956726236656994,1.6326065998840578,-0.8866144337378922,1.3755041411436952],\"xaxis\":\"x4\",\"y\":[-1.4988901786541045,-0.001422821726739044,-0.2304684055770329,0.23997464714259756,0.18192721535380907,0.19164720456797463,0.8934074803005699,-0.16678903578641818,-1.0084349560508432,-0.03497746442877197,-0.29407807175981265,-0.6006039772725303,-1.9183720589496456,1.1614531567992483,0.7099754557782095,0.0597482684433398,-0.7208573651997514,0.3855346391785886,-0.6452196773049834,-0.976381166476433,0.6594618598235175,1.5365704381442875,-0.8503296300579475,-0.6817453467007452,-0.9463322508133754,-0.19411061226880635,0.7592740048310302,-1.1926747622253955,1.400547023742745,-0.01495067745602767,-1.7115247300904346,-0.36124821109843847,-0.9945764316187472,-0.02174742702343883,0.4271204474826363,2.0458262738449973,0.38003902187660327,0.12799810814049276,-1.114003422680656,-0.06648643302860642,-0.9862118908244232,0.2492347168731393,0.17820277695620237,-0.7387340723009684,-0.31798405254195145,0.9524360693241468,0.9861659791518401,0.7148700640697296,-0.22592732878489613,2.3080279320676045,0.787929315365375,-0.48486969233250055,0.4027834014210285,1.4822702738530436,1.3038659671232047,-0.6523787149594126,-0.020653413306827302,1.27795507641576,0.9017516859560875,0.3656487115665125,-0.17128934489835104,0.6007005503795194,0.3206977385185198,-1.6303945368009163,0.6030078809689943,-0.6207387600421282,0.9288566443524915,1.003041834488083,0.6555148863499219,1.8369810188217182,-1.1342616020404406,-0.03959247097223943,0.27889716160290184,0.5964316283866732,-0.36252227062175946,-0.34907991775801606,-0.7457953929282686,-0.025432745061922953,-1.9507489350848062,-1.041117167054891,0.22955684614254096,-0.7594240891624068,-0.26728306802932256,-0.5574003405662921,-0.5552647869514891,-0.27986732142818244,-0.3176914326608163,1.1045692759785846,-1.1308518489324335,-0.3919640656418023,-1.0287786375678944,-0.5389389032984023,1.5990545052027803,-0.9840034230949485,0.9466879685336848,-0.2562696339386158,-0.4170640840563133,-0.7355380779682636,0.7659323423522455,-0.2871147614324862],\"yaxis\":\"y4\",\"type\":\"scatter\"},{\"line\":{\"color\":\"rgba(128, 128, 128, 1.0)\",\"dash\":\"solid\",\"shape\":\"linear\",\"width\":1.3},\"marker\":{\"size\":2,\"symbol\":\"circle\"},\"mode\":\"markers\",\"name\":\"B\",\"text\":\"\",\"x\":[-1.4988901786541045,-0.001422821726739044,-0.2304684055770329,0.23997464714259756,0.18192721535380907,0.19164720456797463,0.8934074803005699,-0.16678903578641818,-1.0084349560508432,-0.03497746442877197,-0.29407807175981265,-0.6006039772725303,-1.9183720589496456,1.1614531567992483,0.7099754557782095,0.0597482684433398,-0.7208573651997514,0.3855346391785886,-0.6452196773049834,-0.976381166476433,0.6594618598235175,1.5365704381442875,-0.8503296300579475,-0.6817453467007452,-0.9463322508133754,-0.19411061226880635,0.7592740048310302,-1.1926747622253955,1.400547023742745,-0.01495067745602767,-1.7115247300904346,-0.36124821109843847,-0.9945764316187472,-0.02174742702343883,0.4271204474826363,2.0458262738449973,0.38003902187660327,0.12799810814049276,-1.114003422680656,-0.06648643302860642,-0.9862118908244232,0.2492347168731393,0.17820277695620237,-0.7387340723009684,-0.31798405254195145,0.9524360693241468,0.9861659791518401,0.7148700640697296,-0.22592732878489613,2.3080279320676045,0.787929315365375,-0.48486969233250055,0.4027834014210285,1.4822702738530436,1.3038659671232047,-0.6523787149594126,-0.020653413306827302,1.27795507641576,0.9017516859560875,0.3656487115665125,-0.17128934489835104,0.6007005503795194,0.3206977385185198,-1.6303945368009163,0.6030078809689943,-0.6207387600421282,0.9288566443524915,1.003041834488083,0.6555148863499219,1.8369810188217182,-1.1342616020404406,-0.03959247097223943,0.27889716160290184,0.5964316283866732,-0.36252227062175946,-0.34907991775801606,-0.7457953929282686,-0.025432745061922953,-1.9507489350848062,-1.041117167054891,0.22955684614254096,-0.7594240891624068,-0.26728306802932256,-0.5574003405662921,-0.5552647869514891,-0.27986732142818244,-0.3176914326608163,1.1045692759785846,-1.1308518489324335,-0.3919640656418023,-1.0287786375678944,-0.5389389032984023,1.5990545052027803,-0.9840034230949485,0.9466879685336848,-0.2562696339386158,-0.4170640840563133,-0.7355380779682636,0.7659323423522455,-0.2871147614324862],\"xaxis\":\"x5\",\"y\":[0.23526574448227672,1.168163947055222,0.2603253096157711,-1.7094688244238117,1.2314559187199188,1.6726392784566257,1.110882751972855,2.4989591704588947,-0.21090740427651708,0.6710299469446712,0.5112763692090437,-0.3007727133257675,-0.44789669873124577,-0.683971266219679,-0.035603974521086434,0.9453888391325656,-0.3642535594012888,-0.7333466976832804,1.2214417366538486,-0.41663209241617577,0.6251585915454666,0.7118831843227998,-0.7328897597367783,0.41557603199328913,0.09317786774577878,0.1935706418538896,0.7567493246413372,-0.7890825203287073,0.470082990361827,0.2988970555631342,0.5477894960342421,-0.839905415734585,-2.285938793357377,1.1672269099760322,0.15066291368605914,0.691394580518865,1.550852584290744,0.2356201953546311,-0.5119547775416198,-0.17958271427017333,2.4751023612296494,0.8485209816138845,-1.6716169800928415,1.4212479055478549,1.373356337287798,1.1561028656871015,-0.1419436980968088,0.7187691549260182,3.0364205633719425,0.734284800443334,-0.9813275386456558,0.28835595613774406,0.2177289571851628,-1.5979716350858764,1.7533737527925104,2.455263171182504,-0.998996487354798,1.6647065302884583,0.13487899639228673,-0.9204221983040389,-0.5260204719325334,0.3729631855801561,-1.7881349756837503,-0.06024704765386666,-0.35343347656634894,-0.32862076542402474,-0.3296552300795083,0.7959402796708153,-0.2591835000266135,0.9291618039459419,2.526294058316706,-0.4158483633854793,-2.114171050587124,-1.5980731814780682,3.060158018044401,0.8864017834192536,-0.7888369809411898,-0.22207270455452055,0.2919727650947669,1.7298690787747741,-1.1907371521158825,-0.7481014500130333,-1.3126581161022361,0.556183164685591,1.3643829245990822,0.23609289097665742,-0.783866036842399,0.21681356368855853,0.5960968696295027,-0.04396548150781571,-0.8883792916898136,-0.2869425360225565,0.663551053787133,0.7616302112157503,0.2615442593539925,1.6195140569719841,0.04943547707619654,0.762492090412884,-3.0235275989995,-0.6972617199851123],\"yaxis\":\"y5\",\"type\":\"scatter\"},{\"histfunc\":\"count\",\"histnorm\":\"\",\"marker\":{\"color\":\"rgba(55, 128, 191, 1.0)\",\"line\":{\"color\":\"#4D5663\",\"width\":1.3}},\"name\":\"B\",\"nbinsx\":10,\"opacity\":0.8,\"orientation\":\"v\",\"x\":[0.23526574448227672,1.168163947055222,0.2603253096157711,-1.7094688244238117,1.2314559187199188,1.6726392784566257,1.110882751972855,2.4989591704588947,-0.21090740427651708,0.6710299469446712,0.5112763692090437,-0.3007727133257675,-0.44789669873124577,-0.683971266219679,-0.035603974521086434,0.9453888391325656,-0.3642535594012888,-0.7333466976832804,1.2214417366538486,-0.41663209241617577,0.6251585915454666,0.7118831843227998,-0.7328897597367783,0.41557603199328913,0.09317786774577878,0.1935706418538896,0.7567493246413372,-0.7890825203287073,0.470082990361827,0.2988970555631342,0.5477894960342421,-0.839905415734585,-2.285938793357377,1.1672269099760322,0.15066291368605914,0.691394580518865,1.550852584290744,0.2356201953546311,-0.5119547775416198,-0.17958271427017333,2.4751023612296494,0.8485209816138845,-1.6716169800928415,1.4212479055478549,1.373356337287798,1.1561028656871015,-0.1419436980968088,0.7187691549260182,3.0364205633719425,0.734284800443334,-0.9813275386456558,0.28835595613774406,0.2177289571851628,-1.5979716350858764,1.7533737527925104,2.455263171182504,-0.998996487354798,1.6647065302884583,0.13487899639228673,-0.9204221983040389,-0.5260204719325334,0.3729631855801561,-1.7881349756837503,-0.06024704765386666,-0.35343347656634894,-0.32862076542402474,-0.3296552300795083,0.7959402796708153,-0.2591835000266135,0.9291618039459419,2.526294058316706,-0.4158483633854793,-2.114171050587124,-1.5980731814780682,3.060158018044401,0.8864017834192536,-0.7888369809411898,-0.22207270455452055,0.2919727650947669,1.7298690787747741,-1.1907371521158825,-0.7481014500130333,-1.3126581161022361,0.556183164685591,1.3643829245990822,0.23609289097665742,-0.783866036842399,0.21681356368855853,0.5960968696295027,-0.04396548150781571,-0.8883792916898136,-0.2869425360225565,0.663551053787133,0.7616302112157503,0.2615442593539925,1.6195140569719841,0.04943547707619654,0.762492090412884,-3.0235275989995,-0.6972617199851123],\"xaxis\":\"x6\",\"yaxis\":\"y6\",\"type\":\"histogram\"},{\"line\":{\"color\":\"rgba(128, 128, 128, 1.0)\",\"dash\":\"solid\",\"shape\":\"linear\",\"width\":1.3},\"marker\":{\"size\":2,\"symbol\":\"circle\"},\"mode\":\"markers\",\"name\":\"B\",\"text\":\"\",\"x\":[-0.6721054830618163,0.04155124736259395,0.7692227448681659,1.2018543046190742,-1.3895799534825057,-0.13986742515460016,0.20680584971717506,-1.2375755209975055,0.2748276280206249,-0.9321398412097541,0.13094629693961418,0.5486985863756676,-1.9886073067653744,0.1377455666610931,1.453981498965094,-1.1636735569946803,-0.6381256018220831,0.24016156194284022,-0.10703017970101508,0.16433225410440552,0.8531079898217108,1.6121552354073403,0.6752632364620416,0.42470164228165075,0.8419872410410988,0.2027351375903432,-1.3398091831197878,0.6980975776663457,-1.5977507860270195,2.0156066648331064,0.1894203169898418,-1.262191998452755,0.2421426433968026,0.8894250373970279,-1.2747913284971648,-1.2214202094176518,0.492344745944777,-0.0005811540557410889,0.2651774197952579,-1.7138206058548793,0.9358135995670254,0.13575129717698095,-0.766123378667851,-1.3900404553640864,1.0520155069593347,0.8881391602820637,0.3228724111252909,1.2640701130622274,1.0123932381650467,-0.48498439499425805,-0.3695252941463228,-0.4177107301373769,-0.3632625423585063,-2.0473737075168965,-0.969514659884145,-1.009087218129252,0.5557092264085043,0.04324906215682579,0.1580912743653798,-1.2735162466467338,-3.2427099683814293,-0.7940960806105345,1.8485957694095079,1.240587131176431,1.607574353631272,0.9673253953080366,0.6194483749879988,-0.3326426058262767,0.06435808504729362,-1.9251762616167312,1.3987969071993855,-0.25397463387421776,1.1682073059162448,-1.7644476573328416,0.7327323173813448,0.9947355849774328,0.5453518341795917,1.19080558599387,1.2093897545788723,0.6706625192394372,-1.6457577450899186,0.7985572506119272,0.844699713555325,3.1313601284169064,-1.8121698719347574,0.8210069022416058,-0.6197824971970205,-0.26608675431992823,1.0968910955996245,-0.15649991655276047,-1.1543940361329577,-2.041746319215282,1.004924176818934,-0.5377172116680294,0.6024246724870307,1.2352666198746274,-0.6105721742972088,-0.11960291524138328,-0.14565417326896715,1.5968344449979148],\"xaxis\":\"x7\",\"y\":[0.23526574448227672,1.168163947055222,0.2603253096157711,-1.7094688244238117,1.2314559187199188,1.6726392784566257,1.110882751972855,2.4989591704588947,-0.21090740427651708,0.6710299469446712,0.5112763692090437,-0.3007727133257675,-0.44789669873124577,-0.683971266219679,-0.035603974521086434,0.9453888391325656,-0.3642535594012888,-0.7333466976832804,1.2214417366538486,-0.41663209241617577,0.6251585915454666,0.7118831843227998,-0.7328897597367783,0.41557603199328913,0.09317786774577878,0.1935706418538896,0.7567493246413372,-0.7890825203287073,0.470082990361827,0.2988970555631342,0.5477894960342421,-0.839905415734585,-2.285938793357377,1.1672269099760322,0.15066291368605914,0.691394580518865,1.550852584290744,0.2356201953546311,-0.5119547775416198,-0.17958271427017333,2.4751023612296494,0.8485209816138845,-1.6716169800928415,1.4212479055478549,1.373356337287798,1.1561028656871015,-0.1419436980968088,0.7187691549260182,3.0364205633719425,0.734284800443334,-0.9813275386456558,0.28835595613774406,0.2177289571851628,-1.5979716350858764,1.7533737527925104,2.455263171182504,-0.998996487354798,1.6647065302884583,0.13487899639228673,-0.9204221983040389,-0.5260204719325334,0.3729631855801561,-1.7881349756837503,-0.06024704765386666,-0.35343347656634894,-0.32862076542402474,-0.3296552300795083,0.7959402796708153,-0.2591835000266135,0.9291618039459419,2.526294058316706,-0.4158483633854793,-2.114171050587124,-1.5980731814780682,3.060158018044401,0.8864017834192536,-0.7888369809411898,-0.22207270455452055,0.2919727650947669,1.7298690787747741,-1.1907371521158825,-0.7481014500130333,-1.3126581161022361,0.556183164685591,1.3643829245990822,0.23609289097665742,-0.783866036842399,0.21681356368855853,0.5960968696295027,-0.04396548150781571,-0.8883792916898136,-0.2869425360225565,0.663551053787133,0.7616302112157503,0.2615442593539925,1.6195140569719841,0.04943547707619654,0.762492090412884,-3.0235275989995,-0.6972617199851123],\"yaxis\":\"y7\",\"type\":\"scatter\"},{\"line\":{\"color\":\"rgba(128, 128, 128, 1.0)\",\"dash\":\"solid\",\"shape\":\"linear\",\"width\":1.3},\"marker\":{\"size\":2,\"symbol\":\"circle\"},\"mode\":\"markers\",\"name\":\"B\",\"text\":\"\",\"x\":[0.6192282002215885,0.7516634413897418,2.6291119930596283,-1.112229452178899,-1.218471223876959,0.3898577417045848,0.5050744413729968,1.5311029453343552,-1.7920281996444196,-0.8445128044351861,-0.6744958296736583,-2.228362195462207,0.37372523500853666,1.7887856543417633,0.2587332442071377,-1.2169599946828844,0.5892027747522933,-0.6410020739161971,0.2885432402606802,-0.03454125696368498,1.392047624735117,1.6330404342582534,-0.36982777062599115,-1.1044943935988925,0.17707233168320471,-0.7673975208664824,0.7308513958474311,1.2882129613239683,1.9276937238391547,-2.1845092910608113,0.6444536924263001,0.6665937444037361,-0.8377732695050673,1.0422617474084055,-1.2045521445781036,1.2678720943236752,-1.013087924793577,-0.1728395528302726,-0.3944252398071723,0.7193352674390059,-1.2321564012964976,-0.1986564692551516,0.6545959593733198,-2.1588463704159886,-0.7596719367631934,-0.4400423221706656,0.7065313829415042,-1.4504908223014932,-0.6561349387559162,1.22579257684457,-1.1368222351264505,0.7709081448107813,-0.05352141996538078,0.39204665978888587,-0.46811805709216725,-1.6616082378127675,1.1070200754640982,-0.6430701883327777,-0.5891948682777047,-0.23926298071788035,-0.4132449764707921,0.15139128080495068,-0.37366953005573944,-1.1574430045537683,-1.509218582881698,-1.2383335260629713,-1.2045140221112487,-0.538679102868873,0.40991392914883973,-0.7420839755730767,0.21513021517206274,-0.8661508144937152,-1.1112533780479816,0.8730759371895707,-3.3593262177645866,-1.4132467106977238,-1.944666953122912,0.6337870945293379,0.6940810642203904,1.3580794427153289,0.5497729622602447,-1.9994087343690035,-0.40559548223827147,-0.47692207719097135,0.14200909497017727,0.31571664112410847,-0.028135427586822446,0.0075806977970474705,0.08098974764692758,1.1506250505901732,-0.3415571987660383,-0.5079535580892626,0.15588531275565187,0.7861985971095445,-0.12056561649644168,0.7944933671890922,-0.956726236656994,1.6326065998840578,-0.8866144337378922,1.3755041411436952],\"xaxis\":\"x8\",\"y\":[0.23526574448227672,1.168163947055222,0.2603253096157711,-1.7094688244238117,1.2314559187199188,1.6726392784566257,1.110882751972855,2.4989591704588947,-0.21090740427651708,0.6710299469446712,0.5112763692090437,-0.3007727133257675,-0.44789669873124577,-0.683971266219679,-0.035603974521086434,0.9453888391325656,-0.3642535594012888,-0.7333466976832804,1.2214417366538486,-0.41663209241617577,0.6251585915454666,0.7118831843227998,-0.7328897597367783,0.41557603199328913,0.09317786774577878,0.1935706418538896,0.7567493246413372,-0.7890825203287073,0.470082990361827,0.2988970555631342,0.5477894960342421,-0.839905415734585,-2.285938793357377,1.1672269099760322,0.15066291368605914,0.691394580518865,1.550852584290744,0.2356201953546311,-0.5119547775416198,-0.17958271427017333,2.4751023612296494,0.8485209816138845,-1.6716169800928415,1.4212479055478549,1.373356337287798,1.1561028656871015,-0.1419436980968088,0.7187691549260182,3.0364205633719425,0.734284800443334,-0.9813275386456558,0.28835595613774406,0.2177289571851628,-1.5979716350858764,1.7533737527925104,2.455263171182504,-0.998996487354798,1.6647065302884583,0.13487899639228673,-0.9204221983040389,-0.5260204719325334,0.3729631855801561,-1.7881349756837503,-0.06024704765386666,-0.35343347656634894,-0.32862076542402474,-0.3296552300795083,0.7959402796708153,-0.2591835000266135,0.9291618039459419,2.526294058316706,-0.4158483633854793,-2.114171050587124,-1.5980731814780682,3.060158018044401,0.8864017834192536,-0.7888369809411898,-0.22207270455452055,0.2919727650947669,1.7298690787747741,-1.1907371521158825,-0.7481014500130333,-1.3126581161022361,0.556183164685591,1.3643829245990822,0.23609289097665742,-0.783866036842399,0.21681356368855853,0.5960968696295027,-0.04396548150781571,-0.8883792916898136,-0.2869425360225565,0.663551053787133,0.7616302112157503,0.2615442593539925,1.6195140569719841,0.04943547707619654,0.762492090412884,-3.0235275989995,-0.6972617199851123],\"yaxis\":\"y8\",\"type\":\"scatter\"},{\"line\":{\"color\":\"rgba(128, 128, 128, 1.0)\",\"dash\":\"solid\",\"shape\":\"linear\",\"width\":1.3},\"marker\":{\"size\":2,\"symbol\":\"circle\"},\"mode\":\"markers\",\"name\":\"C\",\"text\":\"\",\"x\":[-1.4988901786541045,-0.001422821726739044,-0.2304684055770329,0.23997464714259756,0.18192721535380907,0.19164720456797463,0.8934074803005699,-0.16678903578641818,-1.0084349560508432,-0.03497746442877197,-0.29407807175981265,-0.6006039772725303,-1.9183720589496456,1.1614531567992483,0.7099754557782095,0.0597482684433398,-0.7208573651997514,0.3855346391785886,-0.6452196773049834,-0.976381166476433,0.6594618598235175,1.5365704381442875,-0.8503296300579475,-0.6817453467007452,-0.9463322508133754,-0.19411061226880635,0.7592740048310302,-1.1926747622253955,1.400547023742745,-0.01495067745602767,-1.7115247300904346,-0.36124821109843847,-0.9945764316187472,-0.02174742702343883,0.4271204474826363,2.0458262738449973,0.38003902187660327,0.12799810814049276,-1.114003422680656,-0.06648643302860642,-0.9862118908244232,0.2492347168731393,0.17820277695620237,-0.7387340723009684,-0.31798405254195145,0.9524360693241468,0.9861659791518401,0.7148700640697296,-0.22592732878489613,2.3080279320676045,0.787929315365375,-0.48486969233250055,0.4027834014210285,1.4822702738530436,1.3038659671232047,-0.6523787149594126,-0.020653413306827302,1.27795507641576,0.9017516859560875,0.3656487115665125,-0.17128934489835104,0.6007005503795194,0.3206977385185198,-1.6303945368009163,0.6030078809689943,-0.6207387600421282,0.9288566443524915,1.003041834488083,0.6555148863499219,1.8369810188217182,-1.1342616020404406,-0.03959247097223943,0.27889716160290184,0.5964316283866732,-0.36252227062175946,-0.34907991775801606,-0.7457953929282686,-0.025432745061922953,-1.9507489350848062,-1.041117167054891,0.22955684614254096,-0.7594240891624068,-0.26728306802932256,-0.5574003405662921,-0.5552647869514891,-0.27986732142818244,-0.3176914326608163,1.1045692759785846,-1.1308518489324335,-0.3919640656418023,-1.0287786375678944,-0.5389389032984023,1.5990545052027803,-0.9840034230949485,0.9466879685336848,-0.2562696339386158,-0.4170640840563133,-0.7355380779682636,0.7659323423522455,-0.2871147614324862],\"xaxis\":\"x9\",\"y\":[-0.6721054830618163,0.04155124736259395,0.7692227448681659,1.2018543046190742,-1.3895799534825057,-0.13986742515460016,0.20680584971717506,-1.2375755209975055,0.2748276280206249,-0.9321398412097541,0.13094629693961418,0.5486985863756676,-1.9886073067653744,0.1377455666610931,1.453981498965094,-1.1636735569946803,-0.6381256018220831,0.24016156194284022,-0.10703017970101508,0.16433225410440552,0.8531079898217108,1.6121552354073403,0.6752632364620416,0.42470164228165075,0.8419872410410988,0.2027351375903432,-1.3398091831197878,0.6980975776663457,-1.5977507860270195,2.0156066648331064,0.1894203169898418,-1.262191998452755,0.2421426433968026,0.8894250373970279,-1.2747913284971648,-1.2214202094176518,0.492344745944777,-0.0005811540557410889,0.2651774197952579,-1.7138206058548793,0.9358135995670254,0.13575129717698095,-0.766123378667851,-1.3900404553640864,1.0520155069593347,0.8881391602820637,0.3228724111252909,1.2640701130622274,1.0123932381650467,-0.48498439499425805,-0.3695252941463228,-0.4177107301373769,-0.3632625423585063,-2.0473737075168965,-0.969514659884145,-1.009087218129252,0.5557092264085043,0.04324906215682579,0.1580912743653798,-1.2735162466467338,-3.2427099683814293,-0.7940960806105345,1.8485957694095079,1.240587131176431,1.607574353631272,0.9673253953080366,0.6194483749879988,-0.3326426058262767,0.06435808504729362,-1.9251762616167312,1.3987969071993855,-0.25397463387421776,1.1682073059162448,-1.7644476573328416,0.7327323173813448,0.9947355849774328,0.5453518341795917,1.19080558599387,1.2093897545788723,0.6706625192394372,-1.6457577450899186,0.7985572506119272,0.844699713555325,3.1313601284169064,-1.8121698719347574,0.8210069022416058,-0.6197824971970205,-0.26608675431992823,1.0968910955996245,-0.15649991655276047,-1.1543940361329577,-2.041746319215282,1.004924176818934,-0.5377172116680294,0.6024246724870307,1.2352666198746274,-0.6105721742972088,-0.11960291524138328,-0.14565417326896715,1.5968344449979148],\"yaxis\":\"y9\",\"type\":\"scatter\"},{\"line\":{\"color\":\"rgba(128, 128, 128, 1.0)\",\"dash\":\"solid\",\"shape\":\"linear\",\"width\":1.3},\"marker\":{\"size\":2,\"symbol\":\"circle\"},\"mode\":\"markers\",\"name\":\"C\",\"text\":\"\",\"x\":[0.23526574448227672,1.168163947055222,0.2603253096157711,-1.7094688244238117,1.2314559187199188,1.6726392784566257,1.110882751972855,2.4989591704588947,-0.21090740427651708,0.6710299469446712,0.5112763692090437,-0.3007727133257675,-0.44789669873124577,-0.683971266219679,-0.035603974521086434,0.9453888391325656,-0.3642535594012888,-0.7333466976832804,1.2214417366538486,-0.41663209241617577,0.6251585915454666,0.7118831843227998,-0.7328897597367783,0.41557603199328913,0.09317786774577878,0.1935706418538896,0.7567493246413372,-0.7890825203287073,0.470082990361827,0.2988970555631342,0.5477894960342421,-0.839905415734585,-2.285938793357377,1.1672269099760322,0.15066291368605914,0.691394580518865,1.550852584290744,0.2356201953546311,-0.5119547775416198,-0.17958271427017333,2.4751023612296494,0.8485209816138845,-1.6716169800928415,1.4212479055478549,1.373356337287798,1.1561028656871015,-0.1419436980968088,0.7187691549260182,3.0364205633719425,0.734284800443334,-0.9813275386456558,0.28835595613774406,0.2177289571851628,-1.5979716350858764,1.7533737527925104,2.455263171182504,-0.998996487354798,1.6647065302884583,0.13487899639228673,-0.9204221983040389,-0.5260204719325334,0.3729631855801561,-1.7881349756837503,-0.06024704765386666,-0.35343347656634894,-0.32862076542402474,-0.3296552300795083,0.7959402796708153,-0.2591835000266135,0.9291618039459419,2.526294058316706,-0.4158483633854793,-2.114171050587124,-1.5980731814780682,3.060158018044401,0.8864017834192536,-0.7888369809411898,-0.22207270455452055,0.2919727650947669,1.7298690787747741,-1.1907371521158825,-0.7481014500130333,-1.3126581161022361,0.556183164685591,1.3643829245990822,0.23609289097665742,-0.783866036842399,0.21681356368855853,0.5960968696295027,-0.04396548150781571,-0.8883792916898136,-0.2869425360225565,0.663551053787133,0.7616302112157503,0.2615442593539925,1.6195140569719841,0.04943547707619654,0.762492090412884,-3.0235275989995,-0.6972617199851123],\"xaxis\":\"x10\",\"y\":[-0.6721054830618163,0.04155124736259395,0.7692227448681659,1.2018543046190742,-1.3895799534825057,-0.13986742515460016,0.20680584971717506,-1.2375755209975055,0.2748276280206249,-0.9321398412097541,0.13094629693961418,0.5486985863756676,-1.9886073067653744,0.1377455666610931,1.453981498965094,-1.1636735569946803,-0.6381256018220831,0.24016156194284022,-0.10703017970101508,0.16433225410440552,0.8531079898217108,1.6121552354073403,0.6752632364620416,0.42470164228165075,0.8419872410410988,0.2027351375903432,-1.3398091831197878,0.6980975776663457,-1.5977507860270195,2.0156066648331064,0.1894203169898418,-1.262191998452755,0.2421426433968026,0.8894250373970279,-1.2747913284971648,-1.2214202094176518,0.492344745944777,-0.0005811540557410889,0.2651774197952579,-1.7138206058548793,0.9358135995670254,0.13575129717698095,-0.766123378667851,-1.3900404553640864,1.0520155069593347,0.8881391602820637,0.3228724111252909,1.2640701130622274,1.0123932381650467,-0.48498439499425805,-0.3695252941463228,-0.4177107301373769,-0.3632625423585063,-2.0473737075168965,-0.969514659884145,-1.009087218129252,0.5557092264085043,0.04324906215682579,0.1580912743653798,-1.2735162466467338,-3.2427099683814293,-0.7940960806105345,1.8485957694095079,1.240587131176431,1.607574353631272,0.9673253953080366,0.6194483749879988,-0.3326426058262767,0.06435808504729362,-1.9251762616167312,1.3987969071993855,-0.25397463387421776,1.1682073059162448,-1.7644476573328416,0.7327323173813448,0.9947355849774328,0.5453518341795917,1.19080558599387,1.2093897545788723,0.6706625192394372,-1.6457577450899186,0.7985572506119272,0.844699713555325,3.1313601284169064,-1.8121698719347574,0.8210069022416058,-0.6197824971970205,-0.26608675431992823,1.0968910955996245,-0.15649991655276047,-1.1543940361329577,-2.041746319215282,1.004924176818934,-0.5377172116680294,0.6024246724870307,1.2352666198746274,-0.6105721742972088,-0.11960291524138328,-0.14565417326896715,1.5968344449979148],\"yaxis\":\"y10\",\"type\":\"scatter\"},{\"histfunc\":\"count\",\"histnorm\":\"\",\"marker\":{\"color\":\"rgba(50, 171, 96, 1.0)\",\"line\":{\"color\":\"#4D5663\",\"width\":1.3}},\"name\":\"C\",\"nbinsx\":10,\"opacity\":0.8,\"orientation\":\"v\",\"x\":[-0.6721054830618163,0.04155124736259395,0.7692227448681659,1.2018543046190742,-1.3895799534825057,-0.13986742515460016,0.20680584971717506,-1.2375755209975055,0.2748276280206249,-0.9321398412097541,0.13094629693961418,0.5486985863756676,-1.9886073067653744,0.1377455666610931,1.453981498965094,-1.1636735569946803,-0.6381256018220831,0.24016156194284022,-0.10703017970101508,0.16433225410440552,0.8531079898217108,1.6121552354073403,0.6752632364620416,0.42470164228165075,0.8419872410410988,0.2027351375903432,-1.3398091831197878,0.6980975776663457,-1.5977507860270195,2.0156066648331064,0.1894203169898418,-1.262191998452755,0.2421426433968026,0.8894250373970279,-1.2747913284971648,-1.2214202094176518,0.492344745944777,-0.0005811540557410889,0.2651774197952579,-1.7138206058548793,0.9358135995670254,0.13575129717698095,-0.766123378667851,-1.3900404553640864,1.0520155069593347,0.8881391602820637,0.3228724111252909,1.2640701130622274,1.0123932381650467,-0.48498439499425805,-0.3695252941463228,-0.4177107301373769,-0.3632625423585063,-2.0473737075168965,-0.969514659884145,-1.009087218129252,0.5557092264085043,0.04324906215682579,0.1580912743653798,-1.2735162466467338,-3.2427099683814293,-0.7940960806105345,1.8485957694095079,1.240587131176431,1.607574353631272,0.9673253953080366,0.6194483749879988,-0.3326426058262767,0.06435808504729362,-1.9251762616167312,1.3987969071993855,-0.25397463387421776,1.1682073059162448,-1.7644476573328416,0.7327323173813448,0.9947355849774328,0.5453518341795917,1.19080558599387,1.2093897545788723,0.6706625192394372,-1.6457577450899186,0.7985572506119272,0.844699713555325,3.1313601284169064,-1.8121698719347574,0.8210069022416058,-0.6197824971970205,-0.26608675431992823,1.0968910955996245,-0.15649991655276047,-1.1543940361329577,-2.041746319215282,1.004924176818934,-0.5377172116680294,0.6024246724870307,1.2352666198746274,-0.6105721742972088,-0.11960291524138328,-0.14565417326896715,1.5968344449979148],\"xaxis\":\"x11\",\"yaxis\":\"y11\",\"type\":\"histogram\"},{\"line\":{\"color\":\"rgba(128, 128, 128, 1.0)\",\"dash\":\"solid\",\"shape\":\"linear\",\"width\":1.3},\"marker\":{\"size\":2,\"symbol\":\"circle\"},\"mode\":\"markers\",\"name\":\"C\",\"text\":\"\",\"x\":[0.6192282002215885,0.7516634413897418,2.6291119930596283,-1.112229452178899,-1.218471223876959,0.3898577417045848,0.5050744413729968,1.5311029453343552,-1.7920281996444196,-0.8445128044351861,-0.6744958296736583,-2.228362195462207,0.37372523500853666,1.7887856543417633,0.2587332442071377,-1.2169599946828844,0.5892027747522933,-0.6410020739161971,0.2885432402606802,-0.03454125696368498,1.392047624735117,1.6330404342582534,-0.36982777062599115,-1.1044943935988925,0.17707233168320471,-0.7673975208664824,0.7308513958474311,1.2882129613239683,1.9276937238391547,-2.1845092910608113,0.6444536924263001,0.6665937444037361,-0.8377732695050673,1.0422617474084055,-1.2045521445781036,1.2678720943236752,-1.013087924793577,-0.1728395528302726,-0.3944252398071723,0.7193352674390059,-1.2321564012964976,-0.1986564692551516,0.6545959593733198,-2.1588463704159886,-0.7596719367631934,-0.4400423221706656,0.7065313829415042,-1.4504908223014932,-0.6561349387559162,1.22579257684457,-1.1368222351264505,0.7709081448107813,-0.05352141996538078,0.39204665978888587,-0.46811805709216725,-1.6616082378127675,1.1070200754640982,-0.6430701883327777,-0.5891948682777047,-0.23926298071788035,-0.4132449764707921,0.15139128080495068,-0.37366953005573944,-1.1574430045537683,-1.509218582881698,-1.2383335260629713,-1.2045140221112487,-0.538679102868873,0.40991392914883973,-0.7420839755730767,0.21513021517206274,-0.8661508144937152,-1.1112533780479816,0.8730759371895707,-3.3593262177645866,-1.4132467106977238,-1.944666953122912,0.6337870945293379,0.6940810642203904,1.3580794427153289,0.5497729622602447,-1.9994087343690035,-0.40559548223827147,-0.47692207719097135,0.14200909497017727,0.31571664112410847,-0.028135427586822446,0.0075806977970474705,0.08098974764692758,1.1506250505901732,-0.3415571987660383,-0.5079535580892626,0.15588531275565187,0.7861985971095445,-0.12056561649644168,0.7944933671890922,-0.956726236656994,1.6326065998840578,-0.8866144337378922,1.3755041411436952],\"xaxis\":\"x12\",\"y\":[-0.6721054830618163,0.04155124736259395,0.7692227448681659,1.2018543046190742,-1.3895799534825057,-0.13986742515460016,0.20680584971717506,-1.2375755209975055,0.2748276280206249,-0.9321398412097541,0.13094629693961418,0.5486985863756676,-1.9886073067653744,0.1377455666610931,1.453981498965094,-1.1636735569946803,-0.6381256018220831,0.24016156194284022,-0.10703017970101508,0.16433225410440552,0.8531079898217108,1.6121552354073403,0.6752632364620416,0.42470164228165075,0.8419872410410988,0.2027351375903432,-1.3398091831197878,0.6980975776663457,-1.5977507860270195,2.0156066648331064,0.1894203169898418,-1.262191998452755,0.2421426433968026,0.8894250373970279,-1.2747913284971648,-1.2214202094176518,0.492344745944777,-0.0005811540557410889,0.2651774197952579,-1.7138206058548793,0.9358135995670254,0.13575129717698095,-0.766123378667851,-1.3900404553640864,1.0520155069593347,0.8881391602820637,0.3228724111252909,1.2640701130622274,1.0123932381650467,-0.48498439499425805,-0.3695252941463228,-0.4177107301373769,-0.3632625423585063,-2.0473737075168965,-0.969514659884145,-1.009087218129252,0.5557092264085043,0.04324906215682579,0.1580912743653798,-1.2735162466467338,-3.2427099683814293,-0.7940960806105345,1.8485957694095079,1.240587131176431,1.607574353631272,0.9673253953080366,0.6194483749879988,-0.3326426058262767,0.06435808504729362,-1.9251762616167312,1.3987969071993855,-0.25397463387421776,1.1682073059162448,-1.7644476573328416,0.7327323173813448,0.9947355849774328,0.5453518341795917,1.19080558599387,1.2093897545788723,0.6706625192394372,-1.6457577450899186,0.7985572506119272,0.844699713555325,3.1313601284169064,-1.8121698719347574,0.8210069022416058,-0.6197824971970205,-0.26608675431992823,1.0968910955996245,-0.15649991655276047,-1.1543940361329577,-2.041746319215282,1.004924176818934,-0.5377172116680294,0.6024246724870307,1.2352666198746274,-0.6105721742972088,-0.11960291524138328,-0.14565417326896715,1.5968344449979148],\"yaxis\":\"y12\",\"type\":\"scatter\"},{\"line\":{\"color\":\"rgba(128, 128, 128, 1.0)\",\"dash\":\"solid\",\"shape\":\"linear\",\"width\":1.3},\"marker\":{\"size\":2,\"symbol\":\"circle\"},\"mode\":\"markers\",\"name\":\"D\",\"text\":\"\",\"x\":[-1.4988901786541045,-0.001422821726739044,-0.2304684055770329,0.23997464714259756,0.18192721535380907,0.19164720456797463,0.8934074803005699,-0.16678903578641818,-1.0084349560508432,-0.03497746442877197,-0.29407807175981265,-0.6006039772725303,-1.9183720589496456,1.1614531567992483,0.7099754557782095,0.0597482684433398,-0.7208573651997514,0.3855346391785886,-0.6452196773049834,-0.976381166476433,0.6594618598235175,1.5365704381442875,-0.8503296300579475,-0.6817453467007452,-0.9463322508133754,-0.19411061226880635,0.7592740048310302,-1.1926747622253955,1.400547023742745,-0.01495067745602767,-1.7115247300904346,-0.36124821109843847,-0.9945764316187472,-0.02174742702343883,0.4271204474826363,2.0458262738449973,0.38003902187660327,0.12799810814049276,-1.114003422680656,-0.06648643302860642,-0.9862118908244232,0.2492347168731393,0.17820277695620237,-0.7387340723009684,-0.31798405254195145,0.9524360693241468,0.9861659791518401,0.7148700640697296,-0.22592732878489613,2.3080279320676045,0.787929315365375,-0.48486969233250055,0.4027834014210285,1.4822702738530436,1.3038659671232047,-0.6523787149594126,-0.020653413306827302,1.27795507641576,0.9017516859560875,0.3656487115665125,-0.17128934489835104,0.6007005503795194,0.3206977385185198,-1.6303945368009163,0.6030078809689943,-0.6207387600421282,0.9288566443524915,1.003041834488083,0.6555148863499219,1.8369810188217182,-1.1342616020404406,-0.03959247097223943,0.27889716160290184,0.5964316283866732,-0.36252227062175946,-0.34907991775801606,-0.7457953929282686,-0.025432745061922953,-1.9507489350848062,-1.041117167054891,0.22955684614254096,-0.7594240891624068,-0.26728306802932256,-0.5574003405662921,-0.5552647869514891,-0.27986732142818244,-0.3176914326608163,1.1045692759785846,-1.1308518489324335,-0.3919640656418023,-1.0287786375678944,-0.5389389032984023,1.5990545052027803,-0.9840034230949485,0.9466879685336848,-0.2562696339386158,-0.4170640840563133,-0.7355380779682636,0.7659323423522455,-0.2871147614324862],\"xaxis\":\"x13\",\"y\":[0.6192282002215885,0.7516634413897418,2.6291119930596283,-1.112229452178899,-1.218471223876959,0.3898577417045848,0.5050744413729968,1.5311029453343552,-1.7920281996444196,-0.8445128044351861,-0.6744958296736583,-2.228362195462207,0.37372523500853666,1.7887856543417633,0.2587332442071377,-1.2169599946828844,0.5892027747522933,-0.6410020739161971,0.2885432402606802,-0.03454125696368498,1.392047624735117,1.6330404342582534,-0.36982777062599115,-1.1044943935988925,0.17707233168320471,-0.7673975208664824,0.7308513958474311,1.2882129613239683,1.9276937238391547,-2.1845092910608113,0.6444536924263001,0.6665937444037361,-0.8377732695050673,1.0422617474084055,-1.2045521445781036,1.2678720943236752,-1.013087924793577,-0.1728395528302726,-0.3944252398071723,0.7193352674390059,-1.2321564012964976,-0.1986564692551516,0.6545959593733198,-2.1588463704159886,-0.7596719367631934,-0.4400423221706656,0.7065313829415042,-1.4504908223014932,-0.6561349387559162,1.22579257684457,-1.1368222351264505,0.7709081448107813,-0.05352141996538078,0.39204665978888587,-0.46811805709216725,-1.6616082378127675,1.1070200754640982,-0.6430701883327777,-0.5891948682777047,-0.23926298071788035,-0.4132449764707921,0.15139128080495068,-0.37366953005573944,-1.1574430045537683,-1.509218582881698,-1.2383335260629713,-1.2045140221112487,-0.538679102868873,0.40991392914883973,-0.7420839755730767,0.21513021517206274,-0.8661508144937152,-1.1112533780479816,0.8730759371895707,-3.3593262177645866,-1.4132467106977238,-1.944666953122912,0.6337870945293379,0.6940810642203904,1.3580794427153289,0.5497729622602447,-1.9994087343690035,-0.40559548223827147,-0.47692207719097135,0.14200909497017727,0.31571664112410847,-0.028135427586822446,0.0075806977970474705,0.08098974764692758,1.1506250505901732,-0.3415571987660383,-0.5079535580892626,0.15588531275565187,0.7861985971095445,-0.12056561649644168,0.7944933671890922,-0.956726236656994,1.6326065998840578,-0.8866144337378922,1.3755041411436952],\"yaxis\":\"y13\",\"type\":\"scatter\"},{\"line\":{\"color\":\"rgba(128, 128, 128, 1.0)\",\"dash\":\"solid\",\"shape\":\"linear\",\"width\":1.3},\"marker\":{\"size\":2,\"symbol\":\"circle\"},\"mode\":\"markers\",\"name\":\"D\",\"text\":\"\",\"x\":[0.23526574448227672,1.168163947055222,0.2603253096157711,-1.7094688244238117,1.2314559187199188,1.6726392784566257,1.110882751972855,2.4989591704588947,-0.21090740427651708,0.6710299469446712,0.5112763692090437,-0.3007727133257675,-0.44789669873124577,-0.683971266219679,-0.035603974521086434,0.9453888391325656,-0.3642535594012888,-0.7333466976832804,1.2214417366538486,-0.41663209241617577,0.6251585915454666,0.7118831843227998,-0.7328897597367783,0.41557603199328913,0.09317786774577878,0.1935706418538896,0.7567493246413372,-0.7890825203287073,0.470082990361827,0.2988970555631342,0.5477894960342421,-0.839905415734585,-2.285938793357377,1.1672269099760322,0.15066291368605914,0.691394580518865,1.550852584290744,0.2356201953546311,-0.5119547775416198,-0.17958271427017333,2.4751023612296494,0.8485209816138845,-1.6716169800928415,1.4212479055478549,1.373356337287798,1.1561028656871015,-0.1419436980968088,0.7187691549260182,3.0364205633719425,0.734284800443334,-0.9813275386456558,0.28835595613774406,0.2177289571851628,-1.5979716350858764,1.7533737527925104,2.455263171182504,-0.998996487354798,1.6647065302884583,0.13487899639228673,-0.9204221983040389,-0.5260204719325334,0.3729631855801561,-1.7881349756837503,-0.06024704765386666,-0.35343347656634894,-0.32862076542402474,-0.3296552300795083,0.7959402796708153,-0.2591835000266135,0.9291618039459419,2.526294058316706,-0.4158483633854793,-2.114171050587124,-1.5980731814780682,3.060158018044401,0.8864017834192536,-0.7888369809411898,-0.22207270455452055,0.2919727650947669,1.7298690787747741,-1.1907371521158825,-0.7481014500130333,-1.3126581161022361,0.556183164685591,1.3643829245990822,0.23609289097665742,-0.783866036842399,0.21681356368855853,0.5960968696295027,-0.04396548150781571,-0.8883792916898136,-0.2869425360225565,0.663551053787133,0.7616302112157503,0.2615442593539925,1.6195140569719841,0.04943547707619654,0.762492090412884,-3.0235275989995,-0.6972617199851123],\"xaxis\":\"x14\",\"y\":[0.6192282002215885,0.7516634413897418,2.6291119930596283,-1.112229452178899,-1.218471223876959,0.3898577417045848,0.5050744413729968,1.5311029453343552,-1.7920281996444196,-0.8445128044351861,-0.6744958296736583,-2.228362195462207,0.37372523500853666,1.7887856543417633,0.2587332442071377,-1.2169599946828844,0.5892027747522933,-0.6410020739161971,0.2885432402606802,-0.03454125696368498,1.392047624735117,1.6330404342582534,-0.36982777062599115,-1.1044943935988925,0.17707233168320471,-0.7673975208664824,0.7308513958474311,1.2882129613239683,1.9276937238391547,-2.1845092910608113,0.6444536924263001,0.6665937444037361,-0.8377732695050673,1.0422617474084055,-1.2045521445781036,1.2678720943236752,-1.013087924793577,-0.1728395528302726,-0.3944252398071723,0.7193352674390059,-1.2321564012964976,-0.1986564692551516,0.6545959593733198,-2.1588463704159886,-0.7596719367631934,-0.4400423221706656,0.7065313829415042,-1.4504908223014932,-0.6561349387559162,1.22579257684457,-1.1368222351264505,0.7709081448107813,-0.05352141996538078,0.39204665978888587,-0.46811805709216725,-1.6616082378127675,1.1070200754640982,-0.6430701883327777,-0.5891948682777047,-0.23926298071788035,-0.4132449764707921,0.15139128080495068,-0.37366953005573944,-1.1574430045537683,-1.509218582881698,-1.2383335260629713,-1.2045140221112487,-0.538679102868873,0.40991392914883973,-0.7420839755730767,0.21513021517206274,-0.8661508144937152,-1.1112533780479816,0.8730759371895707,-3.3593262177645866,-1.4132467106977238,-1.944666953122912,0.6337870945293379,0.6940810642203904,1.3580794427153289,0.5497729622602447,-1.9994087343690035,-0.40559548223827147,-0.47692207719097135,0.14200909497017727,0.31571664112410847,-0.028135427586822446,0.0075806977970474705,0.08098974764692758,1.1506250505901732,-0.3415571987660383,-0.5079535580892626,0.15588531275565187,0.7861985971095445,-0.12056561649644168,0.7944933671890922,-0.956726236656994,1.6326065998840578,-0.8866144337378922,1.3755041411436952],\"yaxis\":\"y14\",\"type\":\"scatter\"},{\"line\":{\"color\":\"rgba(128, 128, 128, 1.0)\",\"dash\":\"solid\",\"shape\":\"linear\",\"width\":1.3},\"marker\":{\"size\":2,\"symbol\":\"circle\"},\"mode\":\"markers\",\"name\":\"D\",\"text\":\"\",\"x\":[-0.6721054830618163,0.04155124736259395,0.7692227448681659,1.2018543046190742,-1.3895799534825057,-0.13986742515460016,0.20680584971717506,-1.2375755209975055,0.2748276280206249,-0.9321398412097541,0.13094629693961418,0.5486985863756676,-1.9886073067653744,0.1377455666610931,1.453981498965094,-1.1636735569946803,-0.6381256018220831,0.24016156194284022,-0.10703017970101508,0.16433225410440552,0.8531079898217108,1.6121552354073403,0.6752632364620416,0.42470164228165075,0.8419872410410988,0.2027351375903432,-1.3398091831197878,0.6980975776663457,-1.5977507860270195,2.0156066648331064,0.1894203169898418,-1.262191998452755,0.2421426433968026,0.8894250373970279,-1.2747913284971648,-1.2214202094176518,0.492344745944777,-0.0005811540557410889,0.2651774197952579,-1.7138206058548793,0.9358135995670254,0.13575129717698095,-0.766123378667851,-1.3900404553640864,1.0520155069593347,0.8881391602820637,0.3228724111252909,1.2640701130622274,1.0123932381650467,-0.48498439499425805,-0.3695252941463228,-0.4177107301373769,-0.3632625423585063,-2.0473737075168965,-0.969514659884145,-1.009087218129252,0.5557092264085043,0.04324906215682579,0.1580912743653798,-1.2735162466467338,-3.2427099683814293,-0.7940960806105345,1.8485957694095079,1.240587131176431,1.607574353631272,0.9673253953080366,0.6194483749879988,-0.3326426058262767,0.06435808504729362,-1.9251762616167312,1.3987969071993855,-0.25397463387421776,1.1682073059162448,-1.7644476573328416,0.7327323173813448,0.9947355849774328,0.5453518341795917,1.19080558599387,1.2093897545788723,0.6706625192394372,-1.6457577450899186,0.7985572506119272,0.844699713555325,3.1313601284169064,-1.8121698719347574,0.8210069022416058,-0.6197824971970205,-0.26608675431992823,1.0968910955996245,-0.15649991655276047,-1.1543940361329577,-2.041746319215282,1.004924176818934,-0.5377172116680294,0.6024246724870307,1.2352666198746274,-0.6105721742972088,-0.11960291524138328,-0.14565417326896715,1.5968344449979148],\"xaxis\":\"x15\",\"y\":[0.6192282002215885,0.7516634413897418,2.6291119930596283,-1.112229452178899,-1.218471223876959,0.3898577417045848,0.5050744413729968,1.5311029453343552,-1.7920281996444196,-0.8445128044351861,-0.6744958296736583,-2.228362195462207,0.37372523500853666,1.7887856543417633,0.2587332442071377,-1.2169599946828844,0.5892027747522933,-0.6410020739161971,0.2885432402606802,-0.03454125696368498,1.392047624735117,1.6330404342582534,-0.36982777062599115,-1.1044943935988925,0.17707233168320471,-0.7673975208664824,0.7308513958474311,1.2882129613239683,1.9276937238391547,-2.1845092910608113,0.6444536924263001,0.6665937444037361,-0.8377732695050673,1.0422617474084055,-1.2045521445781036,1.2678720943236752,-1.013087924793577,-0.1728395528302726,-0.3944252398071723,0.7193352674390059,-1.2321564012964976,-0.1986564692551516,0.6545959593733198,-2.1588463704159886,-0.7596719367631934,-0.4400423221706656,0.7065313829415042,-1.4504908223014932,-0.6561349387559162,1.22579257684457,-1.1368222351264505,0.7709081448107813,-0.05352141996538078,0.39204665978888587,-0.46811805709216725,-1.6616082378127675,1.1070200754640982,-0.6430701883327777,-0.5891948682777047,-0.23926298071788035,-0.4132449764707921,0.15139128080495068,-0.37366953005573944,-1.1574430045537683,-1.509218582881698,-1.2383335260629713,-1.2045140221112487,-0.538679102868873,0.40991392914883973,-0.7420839755730767,0.21513021517206274,-0.8661508144937152,-1.1112533780479816,0.8730759371895707,-3.3593262177645866,-1.4132467106977238,-1.944666953122912,0.6337870945293379,0.6940810642203904,1.3580794427153289,0.5497729622602447,-1.9994087343690035,-0.40559548223827147,-0.47692207719097135,0.14200909497017727,0.31571664112410847,-0.028135427586822446,0.0075806977970474705,0.08098974764692758,1.1506250505901732,-0.3415571987660383,-0.5079535580892626,0.15588531275565187,0.7861985971095445,-0.12056561649644168,0.7944933671890922,-0.956726236656994,1.6326065998840578,-0.8866144337378922,1.3755041411436952],\"yaxis\":\"y15\",\"type\":\"scatter\"},{\"histfunc\":\"count\",\"histnorm\":\"\",\"marker\":{\"color\":\"rgba(128, 0, 128, 1.0)\",\"line\":{\"color\":\"#4D5663\",\"width\":1.3}},\"name\":\"D\",\"nbinsx\":10,\"opacity\":0.8,\"orientation\":\"v\",\"x\":[0.6192282002215885,0.7516634413897418,2.6291119930596283,-1.112229452178899,-1.218471223876959,0.3898577417045848,0.5050744413729968,1.5311029453343552,-1.7920281996444196,-0.8445128044351861,-0.6744958296736583,-2.228362195462207,0.37372523500853666,1.7887856543417633,0.2587332442071377,-1.2169599946828844,0.5892027747522933,-0.6410020739161971,0.2885432402606802,-0.03454125696368498,1.392047624735117,1.6330404342582534,-0.36982777062599115,-1.1044943935988925,0.17707233168320471,-0.7673975208664824,0.7308513958474311,1.2882129613239683,1.9276937238391547,-2.1845092910608113,0.6444536924263001,0.6665937444037361,-0.8377732695050673,1.0422617474084055,-1.2045521445781036,1.2678720943236752,-1.013087924793577,-0.1728395528302726,-0.3944252398071723,0.7193352674390059,-1.2321564012964976,-0.1986564692551516,0.6545959593733198,-2.1588463704159886,-0.7596719367631934,-0.4400423221706656,0.7065313829415042,-1.4504908223014932,-0.6561349387559162,1.22579257684457,-1.1368222351264505,0.7709081448107813,-0.05352141996538078,0.39204665978888587,-0.46811805709216725,-1.6616082378127675,1.1070200754640982,-0.6430701883327777,-0.5891948682777047,-0.23926298071788035,-0.4132449764707921,0.15139128080495068,-0.37366953005573944,-1.1574430045537683,-1.509218582881698,-1.2383335260629713,-1.2045140221112487,-0.538679102868873,0.40991392914883973,-0.7420839755730767,0.21513021517206274,-0.8661508144937152,-1.1112533780479816,0.8730759371895707,-3.3593262177645866,-1.4132467106977238,-1.944666953122912,0.6337870945293379,0.6940810642203904,1.3580794427153289,0.5497729622602447,-1.9994087343690035,-0.40559548223827147,-0.47692207719097135,0.14200909497017727,0.31571664112410847,-0.028135427586822446,0.0075806977970474705,0.08098974764692758,1.1506250505901732,-0.3415571987660383,-0.5079535580892626,0.15588531275565187,0.7861985971095445,-0.12056561649644168,0.7944933671890922,-0.956726236656994,1.6326065998840578,-0.8866144337378922,1.3755041411436952],\"xaxis\":\"x16\",\"yaxis\":\"y16\",\"type\":\"histogram\"}],                        {\"bargap\":0.02,\"legend\":{\"bgcolor\":\"#F5F6F9\",\"font\":{\"color\":\"#4D5663\"}},\"paper_bgcolor\":\"#F5F6F9\",\"plot_bgcolor\":\"#F5F6F9\",\"showlegend\":false,\"template\":{\"data\":{\"barpolar\":[{\"marker\":{\"line\":{\"color\":\"#E5ECF6\",\"width\":0.5},\"pattern\":{\"fillmode\":\"overlay\",\"size\":10,\"solidity\":0.2}},\"type\":\"barpolar\"}],\"bar\":[{\"error_x\":{\"color\":\"#2a3f5f\"},\"error_y\":{\"color\":\"#2a3f5f\"},\"marker\":{\"line\":{\"color\":\"#E5ECF6\",\"width\":0.5},\"pattern\":{\"fillmode\":\"overlay\",\"size\":10,\"solidity\":0.2}},\"type\":\"bar\"}],\"carpet\":[{\"aaxis\":{\"endlinecolor\":\"#2a3f5f\",\"gridcolor\":\"white\",\"linecolor\":\"white\",\"minorgridcolor\":\"white\",\"startlinecolor\":\"#2a3f5f\"},\"baxis\":{\"endlinecolor\":\"#2a3f5f\",\"gridcolor\":\"white\",\"linecolor\":\"white\",\"minorgridcolor\":\"white\",\"startlinecolor\":\"#2a3f5f\"},\"type\":\"carpet\"}],\"choropleth\":[{\"colorbar\":{\"outlinewidth\":0,\"ticks\":\"\"},\"type\":\"choropleth\"}],\"contourcarpet\":[{\"colorbar\":{\"outlinewidth\":0,\"ticks\":\"\"},\"type\":\"contourcarpet\"}],\"contour\":[{\"colorbar\":{\"outlinewidth\":0,\"ticks\":\"\"},\"colorscale\":[[0.0,\"#0d0887\"],[0.1111111111111111,\"#46039f\"],[0.2222222222222222,\"#7201a8\"],[0.3333333333333333,\"#9c179e\"],[0.4444444444444444,\"#bd3786\"],[0.5555555555555556,\"#d8576b\"],[0.6666666666666666,\"#ed7953\"],[0.7777777777777778,\"#fb9f3a\"],[0.8888888888888888,\"#fdca26\"],[1.0,\"#f0f921\"]],\"type\":\"contour\"}],\"heatmapgl\":[{\"colorbar\":{\"outlinewidth\":0,\"ticks\":\"\"},\"colorscale\":[[0.0,\"#0d0887\"],[0.1111111111111111,\"#46039f\"],[0.2222222222222222,\"#7201a8\"],[0.3333333333333333,\"#9c179e\"],[0.4444444444444444,\"#bd3786\"],[0.5555555555555556,\"#d8576b\"],[0.6666666666666666,\"#ed7953\"],[0.7777777777777778,\"#fb9f3a\"],[0.8888888888888888,\"#fdca26\"],[1.0,\"#f0f921\"]],\"type\":\"heatmapgl\"}],\"heatmap\":[{\"colorbar\":{\"outlinewidth\":0,\"ticks\":\"\"},\"colorscale\":[[0.0,\"#0d0887\"],[0.1111111111111111,\"#46039f\"],[0.2222222222222222,\"#7201a8\"],[0.3333333333333333,\"#9c179e\"],[0.4444444444444444,\"#bd3786\"],[0.5555555555555556,\"#d8576b\"],[0.6666666666666666,\"#ed7953\"],[0.7777777777777778,\"#fb9f3a\"],[0.8888888888888888,\"#fdca26\"],[1.0,\"#f0f921\"]],\"type\":\"heatmap\"}],\"histogram2dcontour\":[{\"colorbar\":{\"outlinewidth\":0,\"ticks\":\"\"},\"colorscale\":[[0.0,\"#0d0887\"],[0.1111111111111111,\"#46039f\"],[0.2222222222222222,\"#7201a8\"],[0.3333333333333333,\"#9c179e\"],[0.4444444444444444,\"#bd3786\"],[0.5555555555555556,\"#d8576b\"],[0.6666666666666666,\"#ed7953\"],[0.7777777777777778,\"#fb9f3a\"],[0.8888888888888888,\"#fdca26\"],[1.0,\"#f0f921\"]],\"type\":\"histogram2dcontour\"}],\"histogram2d\":[{\"colorbar\":{\"outlinewidth\":0,\"ticks\":\"\"},\"colorscale\":[[0.0,\"#0d0887\"],[0.1111111111111111,\"#46039f\"],[0.2222222222222222,\"#7201a8\"],[0.3333333333333333,\"#9c179e\"],[0.4444444444444444,\"#bd3786\"],[0.5555555555555556,\"#d8576b\"],[0.6666666666666666,\"#ed7953\"],[0.7777777777777778,\"#fb9f3a\"],[0.8888888888888888,\"#fdca26\"],[1.0,\"#f0f921\"]],\"type\":\"histogram2d\"}],\"histogram\":[{\"marker\":{\"pattern\":{\"fillmode\":\"overlay\",\"size\":10,\"solidity\":0.2}},\"type\":\"histogram\"}],\"mesh3d\":[{\"colorbar\":{\"outlinewidth\":0,\"ticks\":\"\"},\"type\":\"mesh3d\"}],\"parcoords\":[{\"line\":{\"colorbar\":{\"outlinewidth\":0,\"ticks\":\"\"}},\"type\":\"parcoords\"}],\"pie\":[{\"automargin\":true,\"type\":\"pie\"}],\"scatter3d\":[{\"line\":{\"colorbar\":{\"outlinewidth\":0,\"ticks\":\"\"}},\"marker\":{\"colorbar\":{\"outlinewidth\":0,\"ticks\":\"\"}},\"type\":\"scatter3d\"}],\"scattercarpet\":[{\"marker\":{\"colorbar\":{\"outlinewidth\":0,\"ticks\":\"\"}},\"type\":\"scattercarpet\"}],\"scattergeo\":[{\"marker\":{\"colorbar\":{\"outlinewidth\":0,\"ticks\":\"\"}},\"type\":\"scattergeo\"}],\"scattergl\":[{\"marker\":{\"colorbar\":{\"outlinewidth\":0,\"ticks\":\"\"}},\"type\":\"scattergl\"}],\"scattermapbox\":[{\"marker\":{\"colorbar\":{\"outlinewidth\":0,\"ticks\":\"\"}},\"type\":\"scattermapbox\"}],\"scatterpolargl\":[{\"marker\":{\"colorbar\":{\"outlinewidth\":0,\"ticks\":\"\"}},\"type\":\"scatterpolargl\"}],\"scatterpolar\":[{\"marker\":{\"colorbar\":{\"outlinewidth\":0,\"ticks\":\"\"}},\"type\":\"scatterpolar\"}],\"scatter\":[{\"marker\":{\"colorbar\":{\"outlinewidth\":0,\"ticks\":\"\"}},\"type\":\"scatter\"}],\"scatterternary\":[{\"marker\":{\"colorbar\":{\"outlinewidth\":0,\"ticks\":\"\"}},\"type\":\"scatterternary\"}],\"surface\":[{\"colorbar\":{\"outlinewidth\":0,\"ticks\":\"\"},\"colorscale\":[[0.0,\"#0d0887\"],[0.1111111111111111,\"#46039f\"],[0.2222222222222222,\"#7201a8\"],[0.3333333333333333,\"#9c179e\"],[0.4444444444444444,\"#bd3786\"],[0.5555555555555556,\"#d8576b\"],[0.6666666666666666,\"#ed7953\"],[0.7777777777777778,\"#fb9f3a\"],[0.8888888888888888,\"#fdca26\"],[1.0,\"#f0f921\"]],\"type\":\"surface\"}],\"table\":[{\"cells\":{\"fill\":{\"color\":\"#EBF0F8\"},\"line\":{\"color\":\"white\"}},\"header\":{\"fill\":{\"color\":\"#C8D4E3\"},\"line\":{\"color\":\"white\"}},\"type\":\"table\"}]},\"layout\":{\"annotationdefaults\":{\"arrowcolor\":\"#2a3f5f\",\"arrowhead\":0,\"arrowwidth\":1},\"autotypenumbers\":\"strict\",\"coloraxis\":{\"colorbar\":{\"outlinewidth\":0,\"ticks\":\"\"}},\"colorscale\":{\"diverging\":[[0,\"#8e0152\"],[0.1,\"#c51b7d\"],[0.2,\"#de77ae\"],[0.3,\"#f1b6da\"],[0.4,\"#fde0ef\"],[0.5,\"#f7f7f7\"],[0.6,\"#e6f5d0\"],[0.7,\"#b8e186\"],[0.8,\"#7fbc41\"],[0.9,\"#4d9221\"],[1,\"#276419\"]],\"sequential\":[[0.0,\"#0d0887\"],[0.1111111111111111,\"#46039f\"],[0.2222222222222222,\"#7201a8\"],[0.3333333333333333,\"#9c179e\"],[0.4444444444444444,\"#bd3786\"],[0.5555555555555556,\"#d8576b\"],[0.6666666666666666,\"#ed7953\"],[0.7777777777777778,\"#fb9f3a\"],[0.8888888888888888,\"#fdca26\"],[1.0,\"#f0f921\"]],\"sequentialminus\":[[0.0,\"#0d0887\"],[0.1111111111111111,\"#46039f\"],[0.2222222222222222,\"#7201a8\"],[0.3333333333333333,\"#9c179e\"],[0.4444444444444444,\"#bd3786\"],[0.5555555555555556,\"#d8576b\"],[0.6666666666666666,\"#ed7953\"],[0.7777777777777778,\"#fb9f3a\"],[0.8888888888888888,\"#fdca26\"],[1.0,\"#f0f921\"]]},\"colorway\":[\"#636efa\",\"#EF553B\",\"#00cc96\",\"#ab63fa\",\"#FFA15A\",\"#19d3f3\",\"#FF6692\",\"#B6E880\",\"#FF97FF\",\"#FECB52\"],\"font\":{\"color\":\"#2a3f5f\"},\"geo\":{\"bgcolor\":\"white\",\"lakecolor\":\"white\",\"landcolor\":\"#E5ECF6\",\"showlakes\":true,\"showland\":true,\"subunitcolor\":\"white\"},\"hoverlabel\":{\"align\":\"left\"},\"hovermode\":\"closest\",\"mapbox\":{\"style\":\"light\"},\"paper_bgcolor\":\"white\",\"plot_bgcolor\":\"#E5ECF6\",\"polar\":{\"angularaxis\":{\"gridcolor\":\"white\",\"linecolor\":\"white\",\"ticks\":\"\"},\"bgcolor\":\"#E5ECF6\",\"radialaxis\":{\"gridcolor\":\"white\",\"linecolor\":\"white\",\"ticks\":\"\"}},\"scene\":{\"xaxis\":{\"backgroundcolor\":\"#E5ECF6\",\"gridcolor\":\"white\",\"gridwidth\":2,\"linecolor\":\"white\",\"showbackground\":true,\"ticks\":\"\",\"zerolinecolor\":\"white\"},\"yaxis\":{\"backgroundcolor\":\"#E5ECF6\",\"gridcolor\":\"white\",\"gridwidth\":2,\"linecolor\":\"white\",\"showbackground\":true,\"ticks\":\"\",\"zerolinecolor\":\"white\"},\"zaxis\":{\"backgroundcolor\":\"#E5ECF6\",\"gridcolor\":\"white\",\"gridwidth\":2,\"linecolor\":\"white\",\"showbackground\":true,\"ticks\":\"\",\"zerolinecolor\":\"white\"}},\"shapedefaults\":{\"line\":{\"color\":\"#2a3f5f\"}},\"ternary\":{\"aaxis\":{\"gridcolor\":\"white\",\"linecolor\":\"white\",\"ticks\":\"\"},\"baxis\":{\"gridcolor\":\"white\",\"linecolor\":\"white\",\"ticks\":\"\"},\"bgcolor\":\"#E5ECF6\",\"caxis\":{\"gridcolor\":\"white\",\"linecolor\":\"white\",\"ticks\":\"\"}},\"title\":{\"x\":0.05},\"xaxis\":{\"automargin\":true,\"gridcolor\":\"white\",\"linecolor\":\"white\",\"ticks\":\"\",\"title\":{\"standoff\":15},\"zerolinecolor\":\"white\",\"zerolinewidth\":2},\"yaxis\":{\"automargin\":true,\"gridcolor\":\"white\",\"linecolor\":\"white\",\"ticks\":\"\",\"title\":{\"standoff\":15},\"zerolinecolor\":\"white\",\"zerolinewidth\":2}}},\"title\":{\"font\":{\"color\":\"#4D5663\"}},\"xaxis\":{\"anchor\":\"y\",\"domain\":[0.0,0.2125],\"gridcolor\":\"#E1E5ED\",\"showgrid\":false,\"tickfont\":{\"color\":\"#4D5663\"},\"title\":{\"font\":{\"color\":\"#4D5663\"},\"text\":\"\"},\"zerolinecolor\":\"#E1E5ED\"},\"yaxis\":{\"anchor\":\"x\",\"domain\":[0.8025,1.0],\"gridcolor\":\"#E1E5ED\",\"showgrid\":false,\"tickfont\":{\"color\":\"#4D5663\"},\"title\":{\"font\":{\"color\":\"#4D5663\"},\"text\":\"\"},\"zerolinecolor\":\"#E1E5ED\"},\"xaxis2\":{\"anchor\":\"y2\",\"domain\":[0.2625,0.475],\"gridcolor\":\"#E1E5ED\",\"showgrid\":false,\"tickfont\":{\"color\":\"#4D5663\"},\"title\":{\"font\":{\"color\":\"#4D5663\"},\"text\":\"\"},\"zerolinecolor\":\"#E1E5ED\"},\"yaxis2\":{\"anchor\":\"x2\",\"domain\":[0.8025,1.0],\"gridcolor\":\"#E1E5ED\",\"showgrid\":false,\"tickfont\":{\"color\":\"#4D5663\"},\"title\":{\"font\":{\"color\":\"#4D5663\"},\"text\":\"\"},\"zerolinecolor\":\"#E1E5ED\"},\"xaxis3\":{\"anchor\":\"y3\",\"domain\":[0.525,0.7375],\"gridcolor\":\"#E1E5ED\",\"showgrid\":false,\"tickfont\":{\"color\":\"#4D5663\"},\"title\":{\"font\":{\"color\":\"#4D5663\"},\"text\":\"\"},\"zerolinecolor\":\"#E1E5ED\"},\"yaxis3\":{\"anchor\":\"x3\",\"domain\":[0.8025,1.0],\"gridcolor\":\"#E1E5ED\",\"showgrid\":false,\"tickfont\":{\"color\":\"#4D5663\"},\"title\":{\"font\":{\"color\":\"#4D5663\"},\"text\":\"\"},\"zerolinecolor\":\"#E1E5ED\"},\"xaxis4\":{\"anchor\":\"y4\",\"domain\":[0.7875,1.0],\"gridcolor\":\"#E1E5ED\",\"showgrid\":false,\"tickfont\":{\"color\":\"#4D5663\"},\"title\":{\"font\":{\"color\":\"#4D5663\"},\"text\":\"\"},\"zerolinecolor\":\"#E1E5ED\"},\"yaxis4\":{\"anchor\":\"x4\",\"domain\":[0.8025,1.0],\"gridcolor\":\"#E1E5ED\",\"showgrid\":false,\"tickfont\":{\"color\":\"#4D5663\"},\"title\":{\"font\":{\"color\":\"#4D5663\"},\"text\":\"\"},\"zerolinecolor\":\"#E1E5ED\"},\"xaxis5\":{\"anchor\":\"y5\",\"domain\":[0.0,0.2125],\"gridcolor\":\"#E1E5ED\",\"showgrid\":false,\"tickfont\":{\"color\":\"#4D5663\"},\"title\":{\"font\":{\"color\":\"#4D5663\"},\"text\":\"\"},\"zerolinecolor\":\"#E1E5ED\"},\"yaxis5\":{\"anchor\":\"x5\",\"domain\":[0.535,0.7325],\"gridcolor\":\"#E1E5ED\",\"showgrid\":false,\"tickfont\":{\"color\":\"#4D5663\"},\"title\":{\"font\":{\"color\":\"#4D5663\"},\"text\":\"\"},\"zerolinecolor\":\"#E1E5ED\"},\"xaxis6\":{\"anchor\":\"y6\",\"domain\":[0.2625,0.475],\"gridcolor\":\"#E1E5ED\",\"showgrid\":false,\"tickfont\":{\"color\":\"#4D5663\"},\"title\":{\"font\":{\"color\":\"#4D5663\"},\"text\":\"\"},\"zerolinecolor\":\"#E1E5ED\"},\"yaxis6\":{\"anchor\":\"x6\",\"domain\":[0.535,0.7325],\"gridcolor\":\"#E1E5ED\",\"showgrid\":false,\"tickfont\":{\"color\":\"#4D5663\"},\"title\":{\"font\":{\"color\":\"#4D5663\"},\"text\":\"\"},\"zerolinecolor\":\"#E1E5ED\"},\"xaxis7\":{\"anchor\":\"y7\",\"domain\":[0.525,0.7375],\"gridcolor\":\"#E1E5ED\",\"showgrid\":false,\"tickfont\":{\"color\":\"#4D5663\"},\"title\":{\"font\":{\"color\":\"#4D5663\"},\"text\":\"\"},\"zerolinecolor\":\"#E1E5ED\"},\"yaxis7\":{\"anchor\":\"x7\",\"domain\":[0.535,0.7325],\"gridcolor\":\"#E1E5ED\",\"showgrid\":false,\"tickfont\":{\"color\":\"#4D5663\"},\"title\":{\"font\":{\"color\":\"#4D5663\"},\"text\":\"\"},\"zerolinecolor\":\"#E1E5ED\"},\"xaxis8\":{\"anchor\":\"y8\",\"domain\":[0.7875,1.0],\"gridcolor\":\"#E1E5ED\",\"showgrid\":false,\"tickfont\":{\"color\":\"#4D5663\"},\"title\":{\"font\":{\"color\":\"#4D5663\"},\"text\":\"\"},\"zerolinecolor\":\"#E1E5ED\"},\"yaxis8\":{\"anchor\":\"x8\",\"domain\":[0.535,0.7325],\"gridcolor\":\"#E1E5ED\",\"showgrid\":false,\"tickfont\":{\"color\":\"#4D5663\"},\"title\":{\"font\":{\"color\":\"#4D5663\"},\"text\":\"\"},\"zerolinecolor\":\"#E1E5ED\"},\"xaxis9\":{\"anchor\":\"y9\",\"domain\":[0.0,0.2125],\"gridcolor\":\"#E1E5ED\",\"showgrid\":false,\"tickfont\":{\"color\":\"#4D5663\"},\"title\":{\"font\":{\"color\":\"#4D5663\"},\"text\":\"\"},\"zerolinecolor\":\"#E1E5ED\"},\"yaxis9\":{\"anchor\":\"x9\",\"domain\":[0.2675,0.465],\"gridcolor\":\"#E1E5ED\",\"showgrid\":false,\"tickfont\":{\"color\":\"#4D5663\"},\"title\":{\"font\":{\"color\":\"#4D5663\"},\"text\":\"\"},\"zerolinecolor\":\"#E1E5ED\"},\"xaxis10\":{\"anchor\":\"y10\",\"domain\":[0.2625,0.475],\"gridcolor\":\"#E1E5ED\",\"showgrid\":false,\"tickfont\":{\"color\":\"#4D5663\"},\"title\":{\"font\":{\"color\":\"#4D5663\"},\"text\":\"\"},\"zerolinecolor\":\"#E1E5ED\"},\"yaxis10\":{\"anchor\":\"x10\",\"domain\":[0.2675,0.465],\"gridcolor\":\"#E1E5ED\",\"showgrid\":false,\"tickfont\":{\"color\":\"#4D5663\"},\"title\":{\"font\":{\"color\":\"#4D5663\"},\"text\":\"\"},\"zerolinecolor\":\"#E1E5ED\"},\"xaxis11\":{\"anchor\":\"y11\",\"domain\":[0.525,0.7375],\"gridcolor\":\"#E1E5ED\",\"showgrid\":false,\"tickfont\":{\"color\":\"#4D5663\"},\"title\":{\"font\":{\"color\":\"#4D5663\"},\"text\":\"\"},\"zerolinecolor\":\"#E1E5ED\"},\"yaxis11\":{\"anchor\":\"x11\",\"domain\":[0.2675,0.465],\"gridcolor\":\"#E1E5ED\",\"showgrid\":false,\"tickfont\":{\"color\":\"#4D5663\"},\"title\":{\"font\":{\"color\":\"#4D5663\"},\"text\":\"\"},\"zerolinecolor\":\"#E1E5ED\"},\"xaxis12\":{\"anchor\":\"y12\",\"domain\":[0.7875,1.0],\"gridcolor\":\"#E1E5ED\",\"showgrid\":false,\"tickfont\":{\"color\":\"#4D5663\"},\"title\":{\"font\":{\"color\":\"#4D5663\"},\"text\":\"\"},\"zerolinecolor\":\"#E1E5ED\"},\"yaxis12\":{\"anchor\":\"x12\",\"domain\":[0.2675,0.465],\"gridcolor\":\"#E1E5ED\",\"showgrid\":false,\"tickfont\":{\"color\":\"#4D5663\"},\"title\":{\"font\":{\"color\":\"#4D5663\"},\"text\":\"\"},\"zerolinecolor\":\"#E1E5ED\"},\"xaxis13\":{\"anchor\":\"y13\",\"domain\":[0.0,0.2125],\"gridcolor\":\"#E1E5ED\",\"showgrid\":false,\"tickfont\":{\"color\":\"#4D5663\"},\"title\":{\"font\":{\"color\":\"#4D5663\"},\"text\":\"\"},\"zerolinecolor\":\"#E1E5ED\"},\"yaxis13\":{\"anchor\":\"x13\",\"domain\":[0.0,0.1975],\"gridcolor\":\"#E1E5ED\",\"showgrid\":false,\"tickfont\":{\"color\":\"#4D5663\"},\"title\":{\"font\":{\"color\":\"#4D5663\"},\"text\":\"\"},\"zerolinecolor\":\"#E1E5ED\"},\"xaxis14\":{\"anchor\":\"y14\",\"domain\":[0.2625,0.475],\"gridcolor\":\"#E1E5ED\",\"showgrid\":false,\"tickfont\":{\"color\":\"#4D5663\"},\"title\":{\"font\":{\"color\":\"#4D5663\"},\"text\":\"\"},\"zerolinecolor\":\"#E1E5ED\"},\"yaxis14\":{\"anchor\":\"x14\",\"domain\":[0.0,0.1975],\"gridcolor\":\"#E1E5ED\",\"showgrid\":false,\"tickfont\":{\"color\":\"#4D5663\"},\"title\":{\"font\":{\"color\":\"#4D5663\"},\"text\":\"\"},\"zerolinecolor\":\"#E1E5ED\"},\"xaxis15\":{\"anchor\":\"y15\",\"domain\":[0.525,0.7375],\"gridcolor\":\"#E1E5ED\",\"showgrid\":false,\"tickfont\":{\"color\":\"#4D5663\"},\"title\":{\"font\":{\"color\":\"#4D5663\"},\"text\":\"\"},\"zerolinecolor\":\"#E1E5ED\"},\"yaxis15\":{\"anchor\":\"x15\",\"domain\":[0.0,0.1975],\"gridcolor\":\"#E1E5ED\",\"showgrid\":false,\"tickfont\":{\"color\":\"#4D5663\"},\"title\":{\"font\":{\"color\":\"#4D5663\"},\"text\":\"\"},\"zerolinecolor\":\"#E1E5ED\"},\"xaxis16\":{\"anchor\":\"y16\",\"domain\":[0.7875,1.0],\"gridcolor\":\"#E1E5ED\",\"showgrid\":false,\"tickfont\":{\"color\":\"#4D5663\"},\"title\":{\"font\":{\"color\":\"#4D5663\"},\"text\":\"\"},\"zerolinecolor\":\"#E1E5ED\"},\"yaxis16\":{\"anchor\":\"x16\",\"domain\":[0.0,0.1975],\"gridcolor\":\"#E1E5ED\",\"showgrid\":false,\"tickfont\":{\"color\":\"#4D5663\"},\"title\":{\"font\":{\"color\":\"#4D5663\"},\"text\":\"\"},\"zerolinecolor\":\"#E1E5ED\"}},                        {\"showLink\": true, \"linkText\": \"Export to plot.ly\", \"plotlyServerURL\": \"https://plot.ly\", \"responsive\": true}                    ).then(function(){\n",
       "                            \n",
       "var gd = document.getElementById('9749eb19-6061-46da-8987-75a57c99b3d4');\n",
       "var x = new MutationObserver(function (mutations, observer) {{\n",
       "        var display = window.getComputedStyle(gd).display;\n",
       "        if (!display || display === 'none') {{\n",
       "            console.log([gd, 'removed!']);\n",
       "            Plotly.purge(gd);\n",
       "            observer.disconnect();\n",
       "        }}\n",
       "}});\n",
       "\n",
       "// Listen for the removal of the full notebook cells\n",
       "var notebookContainer = gd.closest('#notebook-container');\n",
       "if (notebookContainer) {{\n",
       "    x.observe(notebookContainer, {childList: true});\n",
       "}}\n",
       "\n",
       "// Listen for the clearing of the current output cell\n",
       "var outputEl = gd.closest('.output');\n",
       "if (outputEl) {{\n",
       "    x.observe(outputEl, {childList: true});\n",
       "}}\n",
       "\n",
       "                        })                };                });            </script>        </div>"
      ]
     },
     "metadata": {},
     "output_type": "display_data"
    }
   ],
   "source": [
    "df.scatter_matrix()"
   ]
  },
  {
   "cell_type": "markdown",
   "metadata": {
    "collapsed": true
   },
   "source": [
    "# Great Job!"
   ]
  }
 ],
 "metadata": {
  "kernelspec": {
   "display_name": "Python 3 (ipykernel)",
   "language": "python",
   "name": "python3"
  },
  "language_info": {
   "codemirror_mode": {
    "name": "ipython",
    "version": 3
   },
   "file_extension": ".py",
   "mimetype": "text/x-python",
   "name": "python",
   "nbconvert_exporter": "python",
   "pygments_lexer": "ipython3",
   "version": "3.9.12"
  }
 },
 "nbformat": 4,
 "nbformat_minor": 1
}
